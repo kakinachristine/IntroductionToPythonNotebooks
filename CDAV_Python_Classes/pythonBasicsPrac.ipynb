{
 "cells": [
  {
   "cell_type": "markdown",
   "id": "6083ac03",
   "metadata": {},
   "source": [
    "# Python Basic Questions"
   ]
  },
  {
   "cell_type": "code",
   "execution_count": null,
   "id": "a21e7871",
   "metadata": {},
   "outputs": [],
   "source": []
  },
  {
   "cell_type": "markdown",
   "id": "cb398944",
   "metadata": {},
   "source": [
    "## Write a program that takes two numbers as inputs from the user and calculates their sum, difference, product and quotient."
   ]
  },
  {
   "cell_type": "code",
   "execution_count": 4,
   "id": "ced7f100",
   "metadata": {},
   "outputs": [
    {
     "name": "stdout",
     "output_type": "stream",
     "text": [
      "Please enter your first number 200\n",
      "Please enter your second number 300\n",
      "The sum is:  500.0\n",
      "The difference is:  -100.0\n",
      "The product is:  60000.0\n",
      "The quotient is:  0.6666666666666666\n"
     ]
    }
   ],
   "source": [
    "#Take in inputs, two numbers, calculates sum,diff,prod, qou\n",
    "\n",
    "#Define variables\n",
    "num1 = float(input(\"Please enter your first number \"))\n",
    "num2 = float(input(\"Please enter your second number \"))\n",
    "\n",
    "#Calculations\n",
    "add = num1 + num2\n",
    "diff = num1 - num2\n",
    "prod = num1 * num2\n",
    "quo = num1 / num2\n",
    "\n",
    "\n",
    "print (\"The sum is: \", add)\n",
    "print(\"The difference is: \", diff)\n",
    "print(\"The product is: \", prod)\n",
    "print(\"The quotient is: \", quo)\n",
    "\n",
    "\n",
    "\n",
    "\n"
   ]
  },
  {
   "cell_type": "code",
   "execution_count": null,
   "id": "0c1bd350",
   "metadata": {},
   "outputs": [],
   "source": []
  },
  {
   "cell_type": "code",
   "execution_count": null,
   "id": "94109f7a",
   "metadata": {},
   "outputs": [],
   "source": []
  },
  {
   "cell_type": "markdown",
   "id": "33c061d9",
   "metadata": {},
   "source": [
    "## Create a program that calculates the average of three numbers entered by the user."
   ]
  },
  {
   "cell_type": "code",
   "execution_count": 6,
   "id": "bb72d695",
   "metadata": {},
   "outputs": [
    {
     "name": "stdout",
     "output_type": "stream",
     "text": [
      "Please enter first number200\n",
      "Please enter second number300\n",
      "Please enter third number400\n",
      "300.0\n"
     ]
    }
   ],
   "source": [
    "#Define user inputs\n",
    "firstNumber = float(input(\"Please enter first number \"))\n",
    "secondNumber = float(input(\"Please enter second number \"))\n",
    "thirdNumber = float(input(\"Please enter third number \"))\n",
    "\n",
    "# calculate the average\n",
    "average = (firstNumber+secondNumber+thirdNumber)/3\n",
    "print(average)\n"
   ]
  },
  {
   "cell_type": "code",
   "execution_count": null,
   "id": "bdac7e02",
   "metadata": {},
   "outputs": [],
   "source": []
  },
  {
   "cell_type": "code",
   "execution_count": null,
   "id": "1f0f66f3",
   "metadata": {},
   "outputs": [],
   "source": []
  },
  {
   "cell_type": "markdown",
   "id": "284b9274",
   "metadata": {},
   "source": [
    "## Create a program that calculates the perimeter  and area of a rectangle given the length and width are entered by a user."
   ]
  },
  {
   "cell_type": "code",
   "execution_count": null,
   "id": "5e5f38ef",
   "metadata": {},
   "outputs": [],
   "source": []
  },
  {
   "cell_type": "code",
   "execution_count": null,
   "id": "47ecbf1b",
   "metadata": {},
   "outputs": [],
   "source": []
  },
  {
   "cell_type": "markdown",
   "id": "fbb0666a",
   "metadata": {},
   "source": [
    "## Write a program that calculates  the simple interest on a loan . Prompts the user to enter the principle, rate and time."
   ]
  },
  {
   "cell_type": "code",
   "execution_count": null,
   "id": "0fec9b37",
   "metadata": {},
   "outputs": [],
   "source": []
  },
  {
   "cell_type": "code",
   "execution_count": null,
   "id": "c0693fde",
   "metadata": {},
   "outputs": [],
   "source": []
  },
  {
   "cell_type": "markdown",
   "id": "f86e387c",
   "metadata": {},
   "source": [
    "## Write a program that prompts the user to enter radius of a circle and calculates the circumference and area of the circle."
   ]
  },
  {
   "cell_type": "code",
   "execution_count": null,
   "id": "4079bef9",
   "metadata": {},
   "outputs": [],
   "source": []
  },
  {
   "cell_type": "code",
   "execution_count": null,
   "id": "54d74279",
   "metadata": {},
   "outputs": [],
   "source": []
  },
  {
   "cell_type": "code",
   "execution_count": null,
   "id": "7c65fe96",
   "metadata": {},
   "outputs": [],
   "source": []
  },
  {
   "cell_type": "code",
   "execution_count": null,
   "id": "1ab8e0fc",
   "metadata": {},
   "outputs": [],
   "source": []
  }
 ],
 "metadata": {
  "kernelspec": {
   "display_name": "Python 3 (ipykernel)",
   "language": "python",
   "name": "python3"
  },
  "language_info": {
   "codemirror_mode": {
    "name": "ipython",
    "version": 3
   },
   "file_extension": ".py",
   "mimetype": "text/x-python",
   "name": "python",
   "nbconvert_exporter": "python",
   "pygments_lexer": "ipython3",
   "version": "3.10.9"
  }
 },
 "nbformat": 4,
 "nbformat_minor": 5
}
