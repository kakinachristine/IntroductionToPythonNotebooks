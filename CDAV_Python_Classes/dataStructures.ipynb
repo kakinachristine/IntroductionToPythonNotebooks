{
 "cells": [
  {
   "cell_type": "markdown",
   "id": "1db301ec",
   "metadata": {},
   "source": [
    "## Data Structures\n",
    "\n",
    "A **data structure** is a particular way of organizing data in a computer so that it can be used effectively \n",
    "For example we can store a collection of items in a list.\n",
    "\n",
    "In python we have a few  built-in data structures available, for example:\n",
    "\n",
    "   - Lists \n",
    "   - Tuples\n",
    "   - Dictionaries \n",
    "   - Sets \n",
    "    \n",
    "Lists and tuples are ordered sequences of objetcs. They contain any type of objects not just strings.\n",
    "\n",
    "Sets are unordered sequence of object"
   ]
  },
  {
   "cell_type": "code",
   "execution_count": 246,
   "id": "476daa95",
   "metadata": {},
   "outputs": [
    {
     "name": "stdout",
     "output_type": "stream",
     "text": [
      "[1, 2, 3, 4, 'CDAV', 3.0]\n"
     ]
    }
   ],
   "source": [
    "#Ordered\n",
    "list1 = [1,2,3,4,\"CDAV\", 3.0]\n",
    "print(list1)\n",
    "\n",
    "\n"
   ]
  },
  {
   "cell_type": "code",
   "execution_count": 247,
   "id": "f69e1281",
   "metadata": {},
   "outputs": [
    {
     "data": {
      "text/plain": [
       "list"
      ]
     },
     "execution_count": 247,
     "metadata": {},
     "output_type": "execute_result"
    }
   ],
   "source": [
    "type(list1)"
   ]
  },
  {
   "cell_type": "code",
   "execution_count": 248,
   "id": "1d4ed1fb",
   "metadata": {},
   "outputs": [
    {
     "data": {
      "text/plain": [
       "1"
      ]
     },
     "execution_count": 248,
     "metadata": {},
     "output_type": "execute_result"
    }
   ],
   "source": [
    "list1[0]"
   ]
  },
  {
   "cell_type": "code",
   "execution_count": 251,
   "id": "c961110d",
   "metadata": {},
   "outputs": [
    {
     "data": {
      "text/plain": [
       "3.0"
      ]
     },
     "execution_count": 251,
     "metadata": {},
     "output_type": "execute_result"
    }
   ],
   "source": [
    "list1[5]"
   ]
  },
  {
   "cell_type": "code",
   "execution_count": 252,
   "id": "2041b8bc",
   "metadata": {},
   "outputs": [
    {
     "data": {
      "text/plain": [
       "3.0"
      ]
     },
     "execution_count": 252,
     "metadata": {},
     "output_type": "execute_result"
    }
   ],
   "source": [
    "list1[-1]"
   ]
  },
  {
   "cell_type": "code",
   "execution_count": 253,
   "id": "0e16beb8",
   "metadata": {},
   "outputs": [
    {
     "data": {
      "text/plain": [
       "1"
      ]
     },
     "execution_count": 253,
     "metadata": {},
     "output_type": "execute_result"
    }
   ],
   "source": [
    "list1[-6]"
   ]
  },
  {
   "cell_type": "markdown",
   "id": "dbf50307",
   "metadata": {},
   "source": [
    "## Lists \n",
    "Like a string, a list is a sequence of values. In a string, the values are characters; in a list,\n",
    "they can be **any type**. The values in a list are called **elements** or sometimes items.\n",
    "\n",
    "There are several ways to create a new list; the simplest is to enclose the elements in square\n",
    "brackets ([ and ]):\n",
    "\n",
    "    - [10, 20, 30, 40]\n",
    "    - ['Holy Grail', 'Life of Brian', 'The Meaning of Life']\n",
    "    - ['egg', 2, 3.14, [1,2,5,10]]\n",
    "    \n",
    "Other way of creating lists is by using the inbuilt function list([])"
   ]
  },
  {
   "cell_type": "code",
   "execution_count": 5,
   "id": "adba048f",
   "metadata": {},
   "outputs": [
    {
     "name": "stdout",
     "output_type": "stream",
     "text": [
      "['Mon', 'Tue', 'Wed', 'Thur']\n"
     ]
    },
    {
     "data": {
      "text/plain": [
       "list"
      ]
     },
     "execution_count": 5,
     "metadata": {},
     "output_type": "execute_result"
    }
   ],
   "source": [
    "#Waays of writing lists\n",
    "\n",
    "#Using square brackets\n",
    "days = [\"Mon\", \"Tue\",\"Wed\",\"Thur\"]\n",
    " \n",
    "print(days)\n",
    "type(days)"
   ]
  },
  {
   "cell_type": "code",
   "execution_count": 6,
   "id": "0bdabe38",
   "metadata": {},
   "outputs": [
    {
     "name": "stdout",
     "output_type": "stream",
     "text": [
      "['Mon', 'Tue', 'Wed', 'Thur']\n"
     ]
    },
    {
     "data": {
      "text/plain": [
       "list"
      ]
     },
     "execution_count": 6,
     "metadata": {},
     "output_type": "execute_result"
    }
   ],
   "source": [
    "#Using list() in-built function.You also use the square brackets.\n",
    "days1 = list([\"Mon\", \"Tue\",\"Wed\",\"Thur\"]) \n",
    "print(days1)\n",
    "type(days1)"
   ]
  },
  {
   "cell_type": "code",
   "execution_count": null,
   "id": "ee731611",
   "metadata": {},
   "outputs": [],
   "source": []
  },
  {
   "cell_type": "code",
   "execution_count": 2,
   "id": "42f7f8b0",
   "metadata": {},
   "outputs": [
    {
     "data": {
      "text/plain": [
       "list"
      ]
     },
     "execution_count": 2,
     "metadata": {},
     "output_type": "execute_result"
    }
   ],
   "source": []
  },
  {
   "cell_type": "code",
   "execution_count": null,
   "id": "c9a52a4e",
   "metadata": {},
   "outputs": [],
   "source": []
  },
  {
   "cell_type": "code",
   "execution_count": null,
   "id": "dcaedcab",
   "metadata": {},
   "outputs": [],
   "source": []
  },
  {
   "cell_type": "code",
   "execution_count": null,
   "id": "72fc932c",
   "metadata": {},
   "outputs": [],
   "source": []
  },
  {
   "cell_type": "code",
   "execution_count": null,
   "id": "3a13ff74",
   "metadata": {},
   "outputs": [],
   "source": []
  },
  {
   "cell_type": "code",
   "execution_count": null,
   "id": "dc4ed668",
   "metadata": {},
   "outputs": [],
   "source": []
  },
  {
   "cell_type": "code",
   "execution_count": 171,
   "id": "80c3028e",
   "metadata": {},
   "outputs": [],
   "source": [
    "numbers = [10, 20, 30, 40] #list of integers\n",
    "monty = ['Holy Grail', 'Life of Brian', 'The Meaning of Life'] #list of strings\n",
    "random = ['java', 1, [1,2,3,4]] # heterogenous list with different data types."
   ]
  },
  {
   "cell_type": "code",
   "execution_count": 172,
   "id": "50710da1",
   "metadata": {},
   "outputs": [
    {
     "data": {
      "text/plain": [
       "10"
      ]
     },
     "execution_count": 172,
     "metadata": {},
     "output_type": "execute_result"
    }
   ],
   "source": [
    "numbers[0]"
   ]
  },
  {
   "cell_type": "code",
   "execution_count": null,
   "id": "3fc0cbcd",
   "metadata": {},
   "outputs": [],
   "source": []
  },
  {
   "cell_type": "code",
   "execution_count": 3,
   "id": "ec21651d",
   "metadata": {},
   "outputs": [
    {
     "data": {
      "text/plain": [
       "('java', 1)"
      ]
     },
     "execution_count": 3,
     "metadata": {},
     "output_type": "execute_result"
    }
   ],
   "source": [
    "random2 = random[0], random[1]\n",
    "random2"
   ]
  },
  {
   "cell_type": "code",
   "execution_count": null,
   "id": "e9510520",
   "metadata": {},
   "outputs": [],
   "source": []
  },
  {
   "cell_type": "code",
   "execution_count": 173,
   "id": "a9549b7f",
   "metadata": {},
   "outputs": [
    {
     "name": "stdout",
     "output_type": "stream",
     "text": [
      "['Pen', 'Paper', 'Pineapple']\n",
      "['Apple', 'Pen', 'Pineapple']\n"
     ]
    }
   ],
   "source": [
    "words = [\"Pen\", \"Paper\", \"Pineapple\"]\n",
    "print(words)\n",
    "words2 = list([\"Apple\", \"Pen\", \"Pineapple\"])\n",
    "print(words2)"
   ]
  },
  {
   "cell_type": "code",
   "execution_count": null,
   "id": "712505d1",
   "metadata": {},
   "outputs": [],
   "source": []
  },
  {
   "cell_type": "code",
   "execution_count": 174,
   "id": "70580b4c",
   "metadata": {},
   "outputs": [
    {
     "name": "stdout",
     "output_type": "stream",
     "text": [
      "[1, 2, 3, 4, 5]\n"
     ]
    },
    {
     "data": {
      "text/plain": [
       "list"
      ]
     },
     "execution_count": 174,
     "metadata": {},
     "output_type": "execute_result"
    }
   ],
   "source": [
    "n = list([1,2,3,4,5])\n",
    "\n",
    "print(n)\n",
    "\n",
    "type(n)"
   ]
  },
  {
   "cell_type": "code",
   "execution_count": null,
   "id": "b834d7ba",
   "metadata": {},
   "outputs": [],
   "source": []
  },
  {
   "cell_type": "code",
   "execution_count": 175,
   "id": "8c06ba14",
   "metadata": {},
   "outputs": [],
   "source": [
    "monty = ['Holy Grail', 'Life of Brian', 'The Meaning of Life']\n",
    "monty1 = [monty[1],monty[0]] # Creating a new list from a list"
   ]
  },
  {
   "cell_type": "code",
   "execution_count": 176,
   "id": "6f9d2783",
   "metadata": {},
   "outputs": [
    {
     "data": {
      "text/plain": [
       "['Life of Brian', 'Holy Grail']"
      ]
     },
     "execution_count": 176,
     "metadata": {},
     "output_type": "execute_result"
    }
   ],
   "source": [
    "monty1"
   ]
  },
  {
   "cell_type": "code",
   "execution_count": null,
   "id": "e9398db1",
   "metadata": {},
   "outputs": [],
   "source": []
  },
  {
   "cell_type": "code",
   "execution_count": 177,
   "id": "9f927f51",
   "metadata": {},
   "outputs": [],
   "source": [
    "num = [numbers[0],numbers[2]]"
   ]
  },
  {
   "cell_type": "code",
   "execution_count": 178,
   "id": "73fee47d",
   "metadata": {},
   "outputs": [
    {
     "data": {
      "text/plain": [
       "[10, 30]"
      ]
     },
     "execution_count": 178,
     "metadata": {},
     "output_type": "execute_result"
    }
   ],
   "source": [
    "num"
   ]
  },
  {
   "cell_type": "code",
   "execution_count": null,
   "id": "1f77e081",
   "metadata": {},
   "outputs": [],
   "source": []
  },
  {
   "cell_type": "code",
   "execution_count": 179,
   "id": "a3e0f6ff",
   "metadata": {},
   "outputs": [],
   "source": [
    "j = [1,2,3,4,5]\n",
    "k = [j[4],j[1],j[0]]"
   ]
  },
  {
   "cell_type": "code",
   "execution_count": 180,
   "id": "108f77ee",
   "metadata": {},
   "outputs": [
    {
     "name": "stdout",
     "output_type": "stream",
     "text": [
      "[1, 2, 3, 4, 5]\n",
      "[5, 2, 1]\n"
     ]
    }
   ],
   "source": [
    "print(j)\n",
    "print(k)"
   ]
  },
  {
   "cell_type": "code",
   "execution_count": 181,
   "id": "8d3336b0",
   "metadata": {},
   "outputs": [],
   "source": [
    "empty = [] # Empty lists are lists with no elements and can be populated at a later time in your program\n"
   ]
  },
  {
   "cell_type": "code",
   "execution_count": null,
   "id": "22b619aa",
   "metadata": {},
   "outputs": [],
   "source": []
  },
  {
   "cell_type": "code",
   "execution_count": null,
   "id": "128d8227",
   "metadata": {},
   "outputs": [],
   "source": []
  },
  {
   "cell_type": "markdown",
   "id": "61526f99",
   "metadata": {},
   "source": [
    "#### List are mutable \n",
    "Lists can be changed - unlike strings, lists are mutable. When the bracket operator appears on the left side of an assignment, it identifies the element of the list that will be assigned\n",
    "\n",
    "The syntax for accessing the elements of a list is the same as for accessing the **characters\n",
    "of a string**—the bracket operator[]. The expression inside the brackets specifies the index.\n",
    "The indices start at 0. For example:\n",
    "\n",
    "    print(monty[0])"
   ]
  },
  {
   "cell_type": "code",
   "execution_count": 8,
   "id": "07853068",
   "metadata": {},
   "outputs": [
    {
     "data": {
      "text/plain": [
       "'Thur'"
      ]
     },
     "execution_count": 8,
     "metadata": {},
     "output_type": "execute_result"
    }
   ],
   "source": [
    "#Accessing items in a list\n",
    "\n",
    "days = [\"Mon\", \"Tue\",\"Wed\",\"Thur\"]\n",
    "\n",
    "#Indexing. Start counting from 0\n",
    "days[0]\n",
    "\n"
   ]
  },
  {
   "cell_type": "code",
   "execution_count": 10,
   "id": "52fe1302",
   "metadata": {},
   "outputs": [
    {
     "data": {
      "text/plain": [
       "'Thur'"
      ]
     },
     "execution_count": 10,
     "metadata": {},
     "output_type": "execute_result"
    }
   ],
   "source": [
    "days[-1]"
   ]
  },
  {
   "cell_type": "code",
   "execution_count": 13,
   "id": "883c47f6",
   "metadata": {},
   "outputs": [
    {
     "name": "stdout",
     "output_type": "stream",
     "text": [
      "['Sun', 'Tue', 'Wed', 'Thur']\n"
     ]
    }
   ],
   "source": [
    "#Replacing an item in a list\n",
    "days = [\"Mon\", \"Tue\",\"Wed\",\"Thur\"]\n",
    "days[0] = \"Sun\"\n",
    "print(days)"
   ]
  },
  {
   "cell_type": "code",
   "execution_count": 14,
   "id": "7c02d737",
   "metadata": {},
   "outputs": [
    {
     "name": "stdout",
     "output_type": "stream",
     "text": [
      "['Sun', 'Wed', 'Wed', 'Thur']\n"
     ]
    }
   ],
   "source": [
    "days[-3] = \"Wed\"\n",
    "print(days)"
   ]
  },
  {
   "cell_type": "code",
   "execution_count": null,
   "id": "dd486ae6",
   "metadata": {},
   "outputs": [],
   "source": []
  },
  {
   "cell_type": "code",
   "execution_count": null,
   "id": "581353cb",
   "metadata": {},
   "outputs": [],
   "source": []
  },
  {
   "cell_type": "code",
   "execution_count": 182,
   "id": "c94073f2",
   "metadata": {},
   "outputs": [],
   "source": [
    "words = [\"Pen\", \"Paper\", \"Pineapple\"]\n"
   ]
  },
  {
   "cell_type": "code",
   "execution_count": 183,
   "id": "7bdbc425",
   "metadata": {},
   "outputs": [],
   "source": [
    "#Replace an item in a list\n",
    "words[0] =\"Apple\""
   ]
  },
  {
   "cell_type": "code",
   "execution_count": 184,
   "id": "f21d30cc",
   "metadata": {},
   "outputs": [
    {
     "data": {
      "text/plain": [
       "['Apple', 'Paper', 'Pineapple']"
      ]
     },
     "execution_count": 184,
     "metadata": {},
     "output_type": "execute_result"
    }
   ],
   "source": [
    "words"
   ]
  },
  {
   "cell_type": "code",
   "execution_count": null,
   "id": "6e038f3a",
   "metadata": {},
   "outputs": [],
   "source": []
  },
  {
   "cell_type": "code",
   "execution_count": 185,
   "id": "aeb105ea",
   "metadata": {},
   "outputs": [
    {
     "name": "stdout",
     "output_type": "stream",
     "text": [
      "['Apple', 'Paper', 'Mango']\n"
     ]
    }
   ],
   "source": [
    "words[2] = 'Mango'\n",
    "print(words)"
   ]
  },
  {
   "cell_type": "code",
   "execution_count": 186,
   "id": "bc79d8ca",
   "metadata": {},
   "outputs": [],
   "source": [
    "monty[1] = 'Not Life of Brian'"
   ]
  },
  {
   "cell_type": "code",
   "execution_count": 187,
   "id": "25cbb537",
   "metadata": {},
   "outputs": [
    {
     "data": {
      "text/plain": [
       "['Holy Grail', 'Not Life of Brian', 'The Meaning of Life']"
      ]
     },
     "execution_count": 187,
     "metadata": {},
     "output_type": "execute_result"
    }
   ],
   "source": [
    "monty"
   ]
  },
  {
   "cell_type": "code",
   "execution_count": 19,
   "id": "94c66e89",
   "metadata": {},
   "outputs": [
    {
     "name": "stdout",
     "output_type": "stream",
     "text": [
      "Not Life of Brian\n"
     ]
    }
   ],
   "source": [
    "# accessing items in a list\n",
    "print(monty[1]) "
   ]
  },
  {
   "cell_type": "code",
   "execution_count": 20,
   "id": "7cfb3776",
   "metadata": {},
   "outputs": [
    {
     "data": {
      "text/plain": [
       "[2, 4, 6, 8]"
      ]
     },
     "execution_count": 20,
     "metadata": {},
     "output_type": "execute_result"
    }
   ],
   "source": [
    "even_num = [2,4,6,8]\n",
    "even_num"
   ]
  },
  {
   "cell_type": "code",
   "execution_count": 21,
   "id": "b1e86ae1",
   "metadata": {},
   "outputs": [
    {
     "data": {
      "text/plain": [
       "[2, 10, 6, 8]"
      ]
     },
     "execution_count": 21,
     "metadata": {},
     "output_type": "execute_result"
    }
   ],
   "source": [
    "even_num[1] = 10\n",
    "even_num"
   ]
  },
  {
   "cell_type": "code",
   "execution_count": 22,
   "id": "354ab9ee",
   "metadata": {},
   "outputs": [
    {
     "data": {
      "text/plain": [
       "8"
      ]
     },
     "execution_count": 22,
     "metadata": {},
     "output_type": "execute_result"
    }
   ],
   "source": [
    "even_num[3]"
   ]
  },
  {
   "cell_type": "code",
   "execution_count": 23,
   "id": "064e0830",
   "metadata": {},
   "outputs": [
    {
     "data": {
      "text/plain": [
       "8"
      ]
     },
     "execution_count": 23,
     "metadata": {},
     "output_type": "execute_result"
    }
   ],
   "source": [
    "even_num[-1]"
   ]
  },
  {
   "cell_type": "code",
   "execution_count": 24,
   "id": "5f8f4354",
   "metadata": {},
   "outputs": [
    {
     "data": {
      "text/plain": [
       "[10, 20, 30, 40]"
      ]
     },
     "execution_count": 24,
     "metadata": {},
     "output_type": "execute_result"
    }
   ],
   "source": [
    "numbers"
   ]
  },
  {
   "cell_type": "code",
   "execution_count": 25,
   "id": "7b63ff2d",
   "metadata": {},
   "outputs": [],
   "source": [
    "numbers[1] = 70 # lists are mutable"
   ]
  },
  {
   "cell_type": "code",
   "execution_count": 26,
   "id": "1be9a3c1",
   "metadata": {},
   "outputs": [
    {
     "data": {
      "text/plain": [
       "[10, 70, 30, 40]"
      ]
     },
     "execution_count": 26,
     "metadata": {},
     "output_type": "execute_result"
    }
   ],
   "source": [
    "numbers"
   ]
  },
  {
   "cell_type": "code",
   "execution_count": 27,
   "id": "d4e38354",
   "metadata": {},
   "outputs": [
    {
     "data": {
      "text/plain": [
       "10"
      ]
     },
     "execution_count": 27,
     "metadata": {},
     "output_type": "execute_result"
    }
   ],
   "source": [
    "numbers[-4]"
   ]
  },
  {
   "cell_type": "code",
   "execution_count": null,
   "id": "720abd29",
   "metadata": {},
   "outputs": [],
   "source": []
  },
  {
   "cell_type": "markdown",
   "id": "25a4dd94",
   "metadata": {},
   "source": [
    "**mapping** \n",
    "\n",
    "List indices work the same way as string indices: \n",
    "- Any integer expression can be used as an index.\n",
    "- If you try to read or write an element that does not exist, you get an IndexError\n",
    "- If an index has a negative value, it counts backwards from the end of the list\n",
    "\n",
    "We also have the in operator, that works the same on lists as it did on strings. \n",
    "\n",
    "e.g\n",
    "\n",
    "numbers = [10, 20, 30, 40]\n",
    "\n",
    "10 in numbers - This will return either true or false"
   ]
  },
  {
   "cell_type": "code",
   "execution_count": 16,
   "id": "778614fb",
   "metadata": {},
   "outputs": [
    {
     "data": {
      "text/plain": [
       "'Thur'"
      ]
     },
     "execution_count": 16,
     "metadata": {},
     "output_type": "execute_result"
    }
   ],
   "source": [
    "\n",
    "days = [\"Mon\", \"Tue\",\"Wed\",\"Thur\"]\n",
    "days[3] "
   ]
  },
  {
   "cell_type": "code",
   "execution_count": 19,
   "id": "9ecaa492",
   "metadata": {},
   "outputs": [
    {
     "data": {
      "text/plain": [
       "True"
      ]
     },
     "execution_count": 19,
     "metadata": {},
     "output_type": "execute_result"
    }
   ],
   "source": [
    "#Using the in operator to check if an item is in the list\n",
    "\"Mon\" in days"
   ]
  },
  {
   "cell_type": "code",
   "execution_count": null,
   "id": "232be654",
   "metadata": {},
   "outputs": [],
   "source": []
  },
  {
   "cell_type": "code",
   "execution_count": null,
   "id": "5dfce87e",
   "metadata": {},
   "outputs": [],
   "source": []
  },
  {
   "cell_type": "code",
   "execution_count": null,
   "id": "7ea8070f",
   "metadata": {},
   "outputs": [],
   "source": []
  },
  {
   "cell_type": "markdown",
   "id": "001a37f3",
   "metadata": {},
   "source": [
    "###### check if an element exists in a list we use \"in\". Returns a true or false value"
   ]
  },
  {
   "cell_type": "code",
   "execution_count": 188,
   "id": "bce409e4",
   "metadata": {},
   "outputs": [],
   "source": [
    "data = [\"Bottle\", \"Mouse\", \"Phone\"]"
   ]
  },
  {
   "cell_type": "code",
   "execution_count": 189,
   "id": "657c038d",
   "metadata": {},
   "outputs": [
    {
     "data": {
      "text/plain": [
       "True"
      ]
     },
     "execution_count": 189,
     "metadata": {},
     "output_type": "execute_result"
    }
   ],
   "source": [
    "\"Bottle\" in data"
   ]
  },
  {
   "cell_type": "code",
   "execution_count": 30,
   "id": "007b304c",
   "metadata": {},
   "outputs": [
    {
     "data": {
      "text/plain": [
       "False"
      ]
     },
     "execution_count": 30,
     "metadata": {},
     "output_type": "execute_result"
    }
   ],
   "source": [
    "\"Book\" in data"
   ]
  },
  {
   "cell_type": "code",
   "execution_count": 190,
   "id": "e78c759d",
   "metadata": {},
   "outputs": [
    {
     "data": {
      "text/plain": [
       "True"
      ]
     },
     "execution_count": 190,
     "metadata": {},
     "output_type": "execute_result"
    }
   ],
   "source": [
    "even_num = [2,4,6,8]\n",
    "2 in even_num"
   ]
  },
  {
   "cell_type": "code",
   "execution_count": 191,
   "id": "3d78332b",
   "metadata": {},
   "outputs": [
    {
     "data": {
      "text/plain": [
       "False"
      ]
     },
     "execution_count": 191,
     "metadata": {},
     "output_type": "execute_result"
    }
   ],
   "source": [
    "5 in even_num"
   ]
  },
  {
   "cell_type": "code",
   "execution_count": 192,
   "id": "1fdca813",
   "metadata": {},
   "outputs": [
    {
     "data": {
      "text/plain": [
       "True"
      ]
     },
     "execution_count": 192,
     "metadata": {},
     "output_type": "execute_result"
    }
   ],
   "source": [
    "10 in numbers"
   ]
  },
  {
   "cell_type": "code",
   "execution_count": 193,
   "id": "12508d04",
   "metadata": {},
   "outputs": [
    {
     "data": {
      "text/plain": [
       "False"
      ]
     },
     "execution_count": 193,
     "metadata": {},
     "output_type": "execute_result"
    }
   ],
   "source": [
    "23 in numbers "
   ]
  },
  {
   "cell_type": "code",
   "execution_count": 194,
   "id": "6fa270e1",
   "metadata": {},
   "outputs": [
    {
     "data": {
      "text/plain": [
       "False"
      ]
     },
     "execution_count": 194,
     "metadata": {},
     "output_type": "execute_result"
    }
   ],
   "source": [
    "70 in numbers"
   ]
  },
  {
   "cell_type": "code",
   "execution_count": 195,
   "id": "a1ab2277",
   "metadata": {},
   "outputs": [
    {
     "data": {
      "text/plain": [
       "False"
      ]
     },
     "execution_count": 195,
     "metadata": {},
     "output_type": "execute_result"
    }
   ],
   "source": [
    "17 in numbers"
   ]
  },
  {
   "cell_type": "code",
   "execution_count": 196,
   "id": "faad39b0",
   "metadata": {},
   "outputs": [
    {
     "data": {
      "text/plain": [
       "False"
      ]
     },
     "execution_count": 196,
     "metadata": {},
     "output_type": "execute_result"
    }
   ],
   "source": [
    "21 in numbers"
   ]
  },
  {
   "cell_type": "code",
   "execution_count": null,
   "id": "dabd6524",
   "metadata": {},
   "outputs": [],
   "source": []
  },
  {
   "cell_type": "markdown",
   "id": "bf7cbd32",
   "metadata": {},
   "source": [
    "#### Traversing a list \n",
    "The most common way to traverse a list is a **for** loop \n",
    "the syntax remains\n",
    "\n",
    "    for x in monty:\n",
    "        print x"
   ]
  },
  {
   "cell_type": "code",
   "execution_count": 21,
   "id": "741bfdab",
   "metadata": {},
   "outputs": [
    {
     "name": "stdout",
     "output_type": "stream",
     "text": [
      "Mon\n",
      "Tue\n",
      "Wed\n",
      "Thur\n"
     ]
    }
   ],
   "source": [
    "days = [\"Mon\", \"Tue\",\"Wed\",\"Thur\"]\n",
    "for weekdays in days:\n",
    "    print(weekdays)"
   ]
  },
  {
   "cell_type": "code",
   "execution_count": null,
   "id": "b871e9df",
   "metadata": {},
   "outputs": [],
   "source": []
  },
  {
   "cell_type": "code",
   "execution_count": null,
   "id": "7c003155",
   "metadata": {},
   "outputs": [],
   "source": []
  },
  {
   "cell_type": "code",
   "execution_count": null,
   "id": "9197f8a4",
   "metadata": {},
   "outputs": [],
   "source": []
  },
  {
   "cell_type": "code",
   "execution_count": null,
   "id": "3b4bf06a",
   "metadata": {},
   "outputs": [],
   "source": []
  },
  {
   "cell_type": "code",
   "execution_count": null,
   "id": "3405adc5",
   "metadata": {},
   "outputs": [],
   "source": []
  },
  {
   "cell_type": "code",
   "execution_count": null,
   "id": "b090d38e",
   "metadata": {},
   "outputs": [],
   "source": []
  },
  {
   "cell_type": "code",
   "execution_count": 197,
   "id": "6979bcb4",
   "metadata": {},
   "outputs": [
    {
     "name": "stdout",
     "output_type": "stream",
     "text": [
      "10\n",
      "20\n",
      "30\n",
      "40\n"
     ]
    }
   ],
   "source": [
    "numbers = [10, 20, 30, 40]\n",
    "for i in numbers:\n",
    "    print(i)"
   ]
  },
  {
   "cell_type": "code",
   "execution_count": null,
   "id": "6a4e912a",
   "metadata": {},
   "outputs": [],
   "source": []
  },
  {
   "cell_type": "code",
   "execution_count": 198,
   "id": "4dfbabb6",
   "metadata": {},
   "outputs": [
    {
     "name": "stdout",
     "output_type": "stream",
     "text": [
      "20\n",
      "40\n",
      "60\n",
      "80\n"
     ]
    }
   ],
   "source": [
    "# Multiplying by 2\n",
    "for i in numbers:\n",
    "    print(i*2)"
   ]
  },
  {
   "cell_type": "code",
   "execution_count": 199,
   "id": "ee797be0",
   "metadata": {},
   "outputs": [
    {
     "name": "stdout",
     "output_type": "stream",
     "text": [
      "100\n",
      "400\n",
      "900\n",
      "1600\n"
     ]
    }
   ],
   "source": [
    "# Square of numbers\n",
    "for i in numbers:\n",
    "    print(i**2)"
   ]
  },
  {
   "cell_type": "code",
   "execution_count": null,
   "id": "4691ffa2",
   "metadata": {},
   "outputs": [],
   "source": []
  },
  {
   "cell_type": "markdown",
   "id": "fe79e4f9",
   "metadata": {},
   "source": [
    "sequence = [12, 34, 89, 56]\n",
    "for every_element in sequence:\n",
    "    print(every_element * 2)"
   ]
  },
  {
   "cell_type": "code",
   "execution_count": 200,
   "id": "273e429f",
   "metadata": {},
   "outputs": [
    {
     "name": "stdout",
     "output_type": "stream",
     "text": [
      "Holy Grail\n",
      "Not Life of Brian\n",
      "The Meaning of Life\n"
     ]
    }
   ],
   "source": [
    "for x in monty:\n",
    "    print(x)"
   ]
  },
  {
   "cell_type": "code",
   "execution_count": null,
   "id": "fd6ee343",
   "metadata": {},
   "outputs": [],
   "source": []
  },
  {
   "cell_type": "code",
   "execution_count": 201,
   "id": "44a81eff",
   "metadata": {},
   "outputs": [
    {
     "name": "stdout",
     "output_type": "stream",
     "text": [
      "Keys\n",
      "Notebook\n",
      "Oil\n"
     ]
    }
   ],
   "source": [
    "bag = [\"Keys\", \"Notebook\", \"Oil\"]\n",
    "\n",
    "for b in bag:\n",
    "    print(b)"
   ]
  },
  {
   "cell_type": "code",
   "execution_count": null,
   "id": "01a00669",
   "metadata": {},
   "outputs": [],
   "source": []
  },
  {
   "cell_type": "markdown",
   "id": "5577bafe",
   "metadata": {},
   "source": [
    "\n",
    "The above works well if you need to read the elements of a list. But if you want to write or updata the elements, you need the indice.\n",
    "A common way to do this is to combine the function range and len\n",
    "\n",
    "    for i in range(len(numbers)):\n",
    "    numbers[i] = numbers[i] * 2\n",
    "    \n",
    "This loop traverses the list and updates each element. len returns the number of elements in the list. range returns a list of indices from 0 to n - 1, where n is the length of the list.Each time through the loop i gets the index of the next element. The assignment statement in the body uses i to read the old value of the element and to assign the new value.\n",
    "\n",
    "The code uses a for loop to iterate over the elements in the list number. The range() function is used to determine the number of iterations the for loop should perform. The len() function is used to find the length of the number list and provide that number to range(). This means that the for loop will run exactly as many times as there are elements in the number list.\n",
    "\n",
    "In each iteration of the for loop, the current element of the list number is accessed using its index (i) and then multiplied by 2. The updated value is then stored back in the list at the same index, effectively updating each element in the list"
   ]
  },
  {
   "cell_type": "code",
   "execution_count": null,
   "id": "715f3fc3",
   "metadata": {},
   "outputs": [],
   "source": []
  },
  {
   "cell_type": "code",
   "execution_count": null,
   "id": "e1fb834f",
   "metadata": {},
   "outputs": [],
   "source": []
  },
  {
   "cell_type": "code",
   "execution_count": 202,
   "id": "da51e24e",
   "metadata": {},
   "outputs": [],
   "source": [
    "number = [10,20,30,40]\n"
   ]
  },
  {
   "cell_type": "code",
   "execution_count": 203,
   "id": "5dffa61b",
   "metadata": {},
   "outputs": [
    {
     "data": {
      "text/plain": [
       "4"
      ]
     },
     "execution_count": 203,
     "metadata": {},
     "output_type": "execute_result"
    }
   ],
   "source": [
    "len(number)"
   ]
  },
  {
   "cell_type": "code",
   "execution_count": 204,
   "id": "3ae36c70",
   "metadata": {},
   "outputs": [
    {
     "name": "stdout",
     "output_type": "stream",
     "text": [
      "[20, 40, 60, 80]\n"
     ]
    }
   ],
   "source": [
    "for i in range(len(number)):\n",
    "    number[i] = number[i] *2\n",
    "\n",
    "print(number)\n"
   ]
  },
  {
   "cell_type": "code",
   "execution_count": 205,
   "id": "230a0ea6",
   "metadata": {},
   "outputs": [
    {
     "data": {
      "text/plain": [
       "[20, 40, 60, 80]"
      ]
     },
     "execution_count": 205,
     "metadata": {},
     "output_type": "execute_result"
    }
   ],
   "source": [
    "number"
   ]
  },
  {
   "cell_type": "code",
   "execution_count": null,
   "id": "7e49a9d2",
   "metadata": {},
   "outputs": [],
   "source": []
  },
  {
   "cell_type": "code",
   "execution_count": null,
   "id": "6af9ebef",
   "metadata": {},
   "outputs": [],
   "source": []
  },
  {
   "cell_type": "code",
   "execution_count": 206,
   "id": "e6d410fc",
   "metadata": {},
   "outputs": [
    {
     "name": "stdout",
     "output_type": "stream",
     "text": [
      "[400, 1600, 3600, 6400]\n"
     ]
    }
   ],
   "source": [
    "for i in range(len(number)):\n",
    "    number[i] = number[i]**2\n",
    "\n",
    "print(number)"
   ]
  },
  {
   "cell_type": "code",
   "execution_count": null,
   "id": "e66aa017",
   "metadata": {},
   "outputs": [],
   "source": []
  },
  {
   "cell_type": "markdown",
   "id": "9fdc9041",
   "metadata": {},
   "source": [
    "#### List Operations \n",
    " The + operator concatenates lists:\n",
    " \n",
    " a = [1,2,3]\n",
    " b = [4,5,6]\n",
    " \n",
    " c = a + b \n",
    " \n",
    " then c will have [1,2,3,4,5,6]\n",
    " \n",
    " The * operator repeats a list a given number of times \n",
    " \n",
    " [1] * 4 is [1,1,1,1]\n",
    " \n",
    " \n",
    " \n"
   ]
  },
  {
   "cell_type": "code",
   "execution_count": 22,
   "id": "ea231310",
   "metadata": {},
   "outputs": [
    {
     "data": {
      "text/plain": [
       "4"
      ]
     },
     "execution_count": 22,
     "metadata": {},
     "output_type": "execute_result"
    }
   ],
   "source": [
    "#To count the number of items in a list we use len()\n",
    "days = [\"Mon\", \"Tue\",\"Wed\",\"Thur\"]\n",
    "len(days)"
   ]
  },
  {
   "cell_type": "code",
   "execution_count": 23,
   "id": "747be58c",
   "metadata": {},
   "outputs": [
    {
     "name": "stdout",
     "output_type": "stream",
     "text": [
      "['Mon', 'Tue', 'Wed', 'Thur', 'Sun']\n"
     ]
    }
   ],
   "source": [
    "day1 = [\"Mon\", \"Tue\",\"Wed\",\"Thur\"]\n",
    "days2 = [\"Sun\"]\n",
    "\n",
    "#Concatenate\n",
    "days3 = days1 + days2\n",
    "print(days3)\n",
    "\n",
    "\n"
   ]
  },
  {
   "cell_type": "code",
   "execution_count": 26,
   "id": "299739e6",
   "metadata": {},
   "outputs": [
    {
     "data": {
      "text/plain": [
       "['Sun', 'Sun', 'Sun', 'Sun', 'Sun', 'Sun', 'Sun', 'Sun', 'Sun', 'Sun']"
      ]
     },
     "execution_count": 26,
     "metadata": {},
     "output_type": "execute_result"
    }
   ],
   "source": [
    "#Using the * to repeat \n",
    "days2*10\n",
    "\n"
   ]
  },
  {
   "cell_type": "code",
   "execution_count": null,
   "id": "bd895d55",
   "metadata": {},
   "outputs": [],
   "source": []
  },
  {
   "cell_type": "code",
   "execution_count": 207,
   "id": "aa32f87b",
   "metadata": {},
   "outputs": [
    {
     "name": "stdout",
     "output_type": "stream",
     "text": [
      "[1, 2, 3, 4, 5, 6]\n"
     ]
    }
   ],
   "source": [
    "a = [1,2,3]\n",
    "b = [4,5,6]\n",
    "\n",
    "c = a + b\n",
    "\n",
    "print(c)"
   ]
  },
  {
   "cell_type": "code",
   "execution_count": null,
   "id": "eca22504",
   "metadata": {},
   "outputs": [],
   "source": []
  },
  {
   "cell_type": "code",
   "execution_count": 208,
   "id": "41976f21",
   "metadata": {},
   "outputs": [
    {
     "name": "stdout",
     "output_type": "stream",
     "text": [
      "['Joyce', 'Jane']\n"
     ]
    }
   ],
   "source": [
    "fname = [\"Joyce\"]\n",
    "lname = [\"Jane\"]\n",
    "\n",
    "full_name = fname + lname\n",
    "print(full_name)"
   ]
  },
  {
   "cell_type": "code",
   "execution_count": null,
   "id": "d045a0ca",
   "metadata": {},
   "outputs": [],
   "source": []
  },
  {
   "cell_type": "code",
   "execution_count": 209,
   "id": "37a2df59",
   "metadata": {},
   "outputs": [
    {
     "data": {
      "text/plain": [
       "[1, 2, 3, 1, 2, 3, 1, 2, 3, 1, 2, 3, 1, 2, 3]"
      ]
     },
     "execution_count": 209,
     "metadata": {},
     "output_type": "execute_result"
    }
   ],
   "source": [
    "[1 , 2, 3] * 5"
   ]
  },
  {
   "cell_type": "code",
   "execution_count": 210,
   "id": "5b1c1dc9",
   "metadata": {},
   "outputs": [
    {
     "data": {
      "text/plain": [
       "[2, 2, 2, 2, 2]"
      ]
     },
     "execution_count": 210,
     "metadata": {},
     "output_type": "execute_result"
    }
   ],
   "source": [
    "[2] * 5"
   ]
  },
  {
   "cell_type": "code",
   "execution_count": 211,
   "id": "d2d0567c",
   "metadata": {},
   "outputs": [
    {
     "data": {
      "text/plain": [
       "[30, 30, 30, 30, 30, 30, 30, 30, 30, 30]"
      ]
     },
     "execution_count": 211,
     "metadata": {},
     "output_type": "execute_result"
    }
   ],
   "source": [
    "[30] * 10"
   ]
  },
  {
   "cell_type": "code",
   "execution_count": null,
   "id": "6c756327",
   "metadata": {},
   "outputs": [],
   "source": []
  },
  {
   "cell_type": "markdown",
   "id": "684e0955",
   "metadata": {},
   "source": [
    "#### List Slicing \n",
    "The slice operator also works on lists, same as strings:\n",
    "\n",
    "Slicing uses indexes, and always includes the first and excludes the last \n",
    "\n",
    "p = ['m', 'o', 'n', 't', 'y']\n",
    "\n",
    "p[0:3] - mon\n",
    "\n",
    "p[-1] - y\n",
    "\n",
    "p[3:] - ty\n"
   ]
  },
  {
   "cell_type": "code",
   "execution_count": 29,
   "id": "aeded601",
   "metadata": {},
   "outputs": [
    {
     "data": {
      "text/plain": [
       "['Wed', 'Thur']"
      ]
     },
     "execution_count": 29,
     "metadata": {},
     "output_type": "execute_result"
    }
   ],
   "source": [
    "days = [\"Mon\", \"Tue\",\"Wed\",\"Thur\"]\n",
    "days[2:4]"
   ]
  },
  {
   "cell_type": "code",
   "execution_count": 30,
   "id": "81ac44e8",
   "metadata": {},
   "outputs": [
    {
     "data": {
      "text/plain": [
       "[5, 6, 7, 8, 9]"
      ]
     },
     "execution_count": 30,
     "metadata": {},
     "output_type": "execute_result"
    }
   ],
   "source": [
    "num= [1,2,3,4,5,6,7,8,9]\n",
    "\n",
    "num[4:9]"
   ]
  },
  {
   "cell_type": "code",
   "execution_count": 212,
   "id": "b4ba90ab",
   "metadata": {},
   "outputs": [
    {
     "data": {
      "text/plain": [
       "['P', 'y', 't']"
      ]
     },
     "execution_count": 212,
     "metadata": {},
     "output_type": "execute_result"
    }
   ],
   "source": [
    "\n",
    "p = ['P', 'y', 't', 'h', 'o', 'n']\n",
    "p[0:3]"
   ]
  },
  {
   "cell_type": "code",
   "execution_count": 213,
   "id": "cdd2912c",
   "metadata": {},
   "outputs": [
    {
     "data": {
      "text/plain": [
       "['h', 'o', 'n']"
      ]
     },
     "execution_count": 213,
     "metadata": {},
     "output_type": "execute_result"
    }
   ],
   "source": [
    "\n",
    "p[3:]"
   ]
  },
  {
   "cell_type": "code",
   "execution_count": 214,
   "id": "fbf41e29",
   "metadata": {},
   "outputs": [
    {
     "data": {
      "text/plain": [
       "['t', 'h', 'o']"
      ]
     },
     "execution_count": 214,
     "metadata": {},
     "output_type": "execute_result"
    }
   ],
   "source": [
    "p[-4:-1]"
   ]
  },
  {
   "cell_type": "markdown",
   "id": "92e5e649",
   "metadata": {},
   "source": [
    "#### List Methods\n",
    "Python provides methods that append \n",
    "\n",
    "We have a couple at - https://www.programiz.com/python-programming/methods/list\n",
    "\n",
    "For example \n",
    "append(), extend(), index, count(), pop(), reverse(), sort(), max(), min(), all(), any(), len() etc \n",
    "\n",
    "**index()**\n",
    "\n",
    "returns the index of an element\n",
    "\n",
    "e.g new_list = ['a', 'b', 'c', 'd', 'e']\n",
    "\n",
    "new_list.index('a') - should return 0\n",
    "\n",
    "**insert()** \n",
    "\n",
    "insert elements using their index\n",
    "\n",
    "new_list.insert(0, 'f')\n",
    "\n",
    "should return a new list with 'f' at index 0 ie  ['f' ,'a' , 'b' , 'c' ,'d' ,'e']\n",
    "\n",
    "**count()** \n",
    "\n",
    "returns count of the element in the list\n",
    "\n",
    "new_list.count('a') brings 1 because a appears only once in the list\n",
    "\n",
    "**sort()** \n",
    "sorts elements of a list\n",
    "\n",
    "new_list.sort()\n",
    "\n",
    "**append()**\n",
    "Add a single element to the end of the list\n",
    "\n",
    "new_list.append('q') will add q to the end of that list ie  ['f' ,'a' , 'b' , 'c' ,'d' ,'e','q']\n",
    "\n",
    "**extend()**\n",
    "adds iterable elements (list, tuple, string etc.) to the end of the list \n",
    "\n",
    "new_list.extend(another_list)\n",
    "\n",
    "The difference between append and extends:\n",
    "\n",
    "- **append** adds its argument as a single element to the end of a list. The length of the list itself will increase by one\n",
    "- **extend**  iterates over its argument adding each element to the list, extending the list. The length of the list will increase by however many elements were in the iterable argument.\n",
    "\n",
    "\n",
    "\n"
   ]
  },
  {
   "cell_type": "code",
   "execution_count": 32,
   "id": "e92fcabd",
   "metadata": {},
   "outputs": [
    {
     "data": {
      "text/plain": [
       "0"
      ]
     },
     "execution_count": 32,
     "metadata": {},
     "output_type": "execute_result"
    }
   ],
   "source": [
    "days = [\"Mon\", \"Tue\",\"Wed\",\"Thur\"]\n",
    "days.index(\"Mon\")"
   ]
  },
  {
   "cell_type": "code",
   "execution_count": 33,
   "id": "30b24011",
   "metadata": {},
   "outputs": [
    {
     "data": {
      "text/plain": [
       "1"
      ]
     },
     "execution_count": 33,
     "metadata": {},
     "output_type": "execute_result"
    }
   ],
   "source": [
    "days.index(\"Tue\")"
   ]
  },
  {
   "cell_type": "code",
   "execution_count": 36,
   "id": "12a690f5",
   "metadata": {},
   "outputs": [
    {
     "name": "stdout",
     "output_type": "stream",
     "text": [
      "['Sun', 'Mon', 'Tue', 'Wed', 'Sun', 'Thur']\n"
     ]
    }
   ],
   "source": [
    "#For the insert method we have two arguments(index,item)\n",
    "\n",
    "days.insert(4,\"Sun\")\n",
    "print(days)"
   ]
  },
  {
   "cell_type": "code",
   "execution_count": 37,
   "id": "d9c3c5fe",
   "metadata": {},
   "outputs": [
    {
     "name": "stdout",
     "output_type": "stream",
     "text": [
      "['Sun', 'Mon', 'Tue', 'Wed', 'Frid', 'Sun', 'Thur']\n"
     ]
    }
   ],
   "source": [
    "days.insert(4,\"Frid\")\n",
    "print(days)"
   ]
  },
  {
   "cell_type": "code",
   "execution_count": 39,
   "id": "19c6884f",
   "metadata": {},
   "outputs": [
    {
     "data": {
      "text/plain": [
       "1"
      ]
     },
     "execution_count": 39,
     "metadata": {},
     "output_type": "execute_result"
    }
   ],
   "source": [
    "#Count() counts the number of times an item has been used in a list\n",
    "days.count(\"Tue\")"
   ]
  },
  {
   "cell_type": "code",
   "execution_count": 41,
   "id": "79272a97",
   "metadata": {},
   "outputs": [
    {
     "data": {
      "text/plain": [
       "3"
      ]
     },
     "execution_count": 41,
     "metadata": {},
     "output_type": "execute_result"
    }
   ],
   "source": [
    "days3 = [\"Mon\", \"Tue\",\"Wed\",\"Thur\",\"Thur\",\"Thur\"]\n",
    "\n",
    "days3.count(\"Thur\")\n"
   ]
  },
  {
   "cell_type": "code",
   "execution_count": null,
   "id": "0a1bfcc9",
   "metadata": {},
   "outputs": [],
   "source": []
  },
  {
   "cell_type": "code",
   "execution_count": 43,
   "id": "afad9063",
   "metadata": {},
   "outputs": [
    {
     "name": "stdout",
     "output_type": "stream",
     "text": [
      "[1, 2, 4, 5, 6, 9]\n"
     ]
    }
   ],
   "source": [
    "#Sort- arranges items for you inorder\n",
    "num =[2,5,1,9,4,6]\n",
    "num.sort()\n",
    "print(num)"
   ]
  },
  {
   "cell_type": "code",
   "execution_count": 46,
   "id": "21402493",
   "metadata": {},
   "outputs": [
    {
     "name": "stdout",
     "output_type": "stream",
     "text": [
      "[1, 2, 3, 4, 9]\n"
     ]
    }
   ],
   "source": [
    "#append- adds items to a list as one item\n",
    "num1 = [1,2,3,4]\n",
    "num2 = 9\n",
    "# num3 = [5,6,7,8]\n",
    "\n",
    "num1. append(num2)\n",
    "\n",
    "print(num1)\n"
   ]
  },
  {
   "cell_type": "code",
   "execution_count": 50,
   "id": "6333c1f4",
   "metadata": {},
   "outputs": [
    {
     "name": "stdout",
     "output_type": "stream",
     "text": [
      "[1, 2, 3, 4, [5, 6, 7, 8]]\n"
     ]
    },
    {
     "data": {
      "text/plain": [
       "4"
      ]
     },
     "execution_count": 50,
     "metadata": {},
     "output_type": "execute_result"
    }
   ],
   "source": [
    "num1 = [1,2,3,4]\n",
    "num3 = [5,6,7,8]\n",
    "\n",
    "num1. append(num3)\n",
    "\n",
    "print(num1)\n",
    "\n"
   ]
  },
  {
   "cell_type": "code",
   "execution_count": null,
   "id": "3e391241",
   "metadata": {},
   "outputs": [],
   "source": [
    "num1.index([5,6,7,8])\n"
   ]
  },
  {
   "cell_type": "code",
   "execution_count": 51,
   "id": "798f8789",
   "metadata": {},
   "outputs": [
    {
     "data": {
      "text/plain": [
       "5"
      ]
     },
     "execution_count": 51,
     "metadata": {},
     "output_type": "execute_result"
    }
   ],
   "source": [
    "len(num1)"
   ]
  },
  {
   "cell_type": "code",
   "execution_count": 53,
   "id": "b3a5973c",
   "metadata": {},
   "outputs": [
    {
     "name": "stdout",
     "output_type": "stream",
     "text": [
      "[1, 2, 3, 4, 5, 6, 7, 8]\n"
     ]
    }
   ],
   "source": [
    "#extend\n",
    "num1 = [1,2,3,4]\n",
    "num3 = [5,6,7,8]\n",
    "\n",
    "num1. extend(num3)\n",
    "\n",
    "print(num1)"
   ]
  },
  {
   "cell_type": "code",
   "execution_count": 54,
   "id": "d53f4168",
   "metadata": {},
   "outputs": [
    {
     "data": {
      "text/plain": [
       "8"
      ]
     },
     "execution_count": 54,
     "metadata": {},
     "output_type": "execute_result"
    }
   ],
   "source": [
    "len(num1)"
   ]
  },
  {
   "cell_type": "code",
   "execution_count": null,
   "id": "7933ed08",
   "metadata": {},
   "outputs": [],
   "source": []
  },
  {
   "cell_type": "code",
   "execution_count": 215,
   "id": "cb1b51fb",
   "metadata": {},
   "outputs": [
    {
     "data": {
      "text/plain": [
       "0"
      ]
     },
     "execution_count": 215,
     "metadata": {},
     "output_type": "execute_result"
    }
   ],
   "source": [
    "nums = [1,2,3,4,5,7,7,8]\n",
    "\n",
    "nums.index(1)"
   ]
  },
  {
   "cell_type": "code",
   "execution_count": 216,
   "id": "d9b25d87",
   "metadata": {},
   "outputs": [
    {
     "data": {
      "text/plain": [
       "[1, 4, 2, 3, 4, 5, 7, 7, 8]"
      ]
     },
     "execution_count": 216,
     "metadata": {},
     "output_type": "execute_result"
    }
   ],
   "source": [
    "nums.insert(1, 4)\n",
    "\n",
    "nums"
   ]
  },
  {
   "cell_type": "code",
   "execution_count": 58,
   "id": "e4d1ac7a",
   "metadata": {},
   "outputs": [
    {
     "data": {
      "text/plain": [
       "2"
      ]
     },
     "execution_count": 58,
     "metadata": {},
     "output_type": "execute_result"
    }
   ],
   "source": [
    "nums.count(4)"
   ]
  },
  {
   "cell_type": "code",
   "execution_count": 59,
   "id": "8d3f2cd8",
   "metadata": {},
   "outputs": [
    {
     "data": {
      "text/plain": [
       "[8, 7, 7, 5, 4, 4, 3, 2, 1]"
      ]
     },
     "execution_count": 59,
     "metadata": {},
     "output_type": "execute_result"
    }
   ],
   "source": [
    "nums.sort(reverse = True) # Default sort is in ascending order, to sort in descending order use reverse = True\n",
    "\n",
    "nums"
   ]
  },
  {
   "cell_type": "code",
   "execution_count": 60,
   "id": "3cd8a1e1",
   "metadata": {},
   "outputs": [
    {
     "data": {
      "text/plain": [
       "2"
      ]
     },
     "execution_count": 60,
     "metadata": {},
     "output_type": "execute_result"
    }
   ],
   "source": [
    "new_list = ['a', 'b', 'c', 'd', 'e','a','a']\n",
    "\n",
    "new_list.index('c')"
   ]
  },
  {
   "cell_type": "code",
   "execution_count": 61,
   "id": "87982b1e",
   "metadata": {},
   "outputs": [
    {
     "data": {
      "text/plain": [
       "4"
      ]
     },
     "execution_count": 61,
     "metadata": {},
     "output_type": "execute_result"
    }
   ],
   "source": [
    "\n",
    "new_list.index('e')"
   ]
  },
  {
   "cell_type": "code",
   "execution_count": 62,
   "id": "85ad2c5d",
   "metadata": {},
   "outputs": [
    {
     "data": {
      "text/plain": [
       "['a', 'f', 'b', 'c', 'd', 'e', 'a', 'a']"
      ]
     },
     "execution_count": 62,
     "metadata": {},
     "output_type": "execute_result"
    }
   ],
   "source": [
    "new_list.insert(1, 'f')\n",
    "\n",
    "new_list"
   ]
  },
  {
   "cell_type": "code",
   "execution_count": 63,
   "id": "023f4ff9",
   "metadata": {},
   "outputs": [
    {
     "data": {
      "text/plain": [
       "1"
      ]
     },
     "execution_count": 63,
     "metadata": {},
     "output_type": "execute_result"
    }
   ],
   "source": [
    "new_list.index('f')"
   ]
  },
  {
   "cell_type": "code",
   "execution_count": 64,
   "id": "517a92dd",
   "metadata": {},
   "outputs": [
    {
     "data": {
      "text/plain": [
       "3"
      ]
     },
     "execution_count": 64,
     "metadata": {},
     "output_type": "execute_result"
    }
   ],
   "source": [
    "new_list.count('a')"
   ]
  },
  {
   "cell_type": "code",
   "execution_count": 65,
   "id": "353b5451",
   "metadata": {},
   "outputs": [
    {
     "data": {
      "text/plain": [
       "['a', 'a', 'a', 'b', 'c', 'd', 'e', 'f']"
      ]
     },
     "execution_count": 65,
     "metadata": {},
     "output_type": "execute_result"
    }
   ],
   "source": [
    "new_list.sort()\n",
    "\n",
    "new_list"
   ]
  },
  {
   "cell_type": "code",
   "execution_count": 66,
   "id": "d81175b8",
   "metadata": {},
   "outputs": [
    {
     "data": {
      "text/plain": [
       "['a', 'a', 'a', 'b', 'c', 'd', 'e', 'f', 'q']"
      ]
     },
     "execution_count": 66,
     "metadata": {},
     "output_type": "execute_result"
    }
   ],
   "source": [
    "new_list.append('q')\n",
    "\n",
    "new_list"
   ]
  },
  {
   "cell_type": "code",
   "execution_count": 67,
   "id": "fe0673ed",
   "metadata": {},
   "outputs": [
    {
     "data": {
      "text/plain": [
       "[1, 2, 3, 5, 6, [7, 6, 8, 9]]"
      ]
     },
     "execution_count": 67,
     "metadata": {},
     "output_type": "execute_result"
    }
   ],
   "source": [
    "a  = [1,2,3,5,6]\n",
    "\n",
    "b = [7,6,8,9]\n",
    "\n",
    "a.append(b) # b will be treated as one element\n",
    "\n",
    "a"
   ]
  },
  {
   "cell_type": "code",
   "execution_count": 68,
   "id": "b1e08869",
   "metadata": {},
   "outputs": [
    {
     "data": {
      "text/plain": [
       "[1, 2, 3, 5, 6, 7, 6, 8, 9]"
      ]
     },
     "execution_count": 68,
     "metadata": {},
     "output_type": "execute_result"
    }
   ],
   "source": [
    "c = [1,2,3,5,6]\n",
    "\n",
    "d = [7,6,8,9]\n",
    "\n",
    "c.extend(d) # elements in d will be added individually\n",
    "\n",
    "c"
   ]
  },
  {
   "cell_type": "code",
   "execution_count": null,
   "id": "3ca9bc3a",
   "metadata": {},
   "outputs": [],
   "source": []
  },
  {
   "cell_type": "code",
   "execution_count": 69,
   "id": "c14685c0",
   "metadata": {},
   "outputs": [
    {
     "name": "stdout",
     "output_type": "stream",
     "text": [
      "[8, 10, [2, 4, 6]]\n"
     ]
    }
   ],
   "source": [
    "# create a list\n",
    "even_numbers = [2, 4, 6]\n",
    "\n",
    "# create another list\n",
    "numbers = [8, 10]\n",
    "\n",
    "# add all elements of even_numbers to numbers\n",
    "numbers.append(even_numbers)\n",
    "\n",
    "print(numbers)"
   ]
  },
  {
   "cell_type": "code",
   "execution_count": null,
   "id": "b5559cf1",
   "metadata": {},
   "outputs": [],
   "source": []
  },
  {
   "cell_type": "markdown",
   "id": "111ff1da",
   "metadata": {},
   "source": [
    "#### In this case for append, a single item 'even_numbers' is added to the list number "
   ]
  },
  {
   "cell_type": "code",
   "execution_count": null,
   "id": "ae3d4ff7",
   "metadata": {},
   "outputs": [],
   "source": []
  },
  {
   "cell_type": "code",
   "execution_count": 70,
   "id": "6111d141",
   "metadata": {},
   "outputs": [
    {
     "name": "stdout",
     "output_type": "stream",
     "text": [
      "[1, 4, 2, 3, 5]\n"
     ]
    }
   ],
   "source": [
    "# create a list\n",
    "prime_numbers = [2, 3, 5]\n",
    "\n",
    "# create another list\n",
    "numbers = [1, 4]\n",
    "\n",
    "# add all elements of prime_numbers to numbers\n",
    "numbers.extend(prime_numbers)\n",
    "\n",
    "print(numbers)"
   ]
  },
  {
   "cell_type": "code",
   "execution_count": 71,
   "id": "7cdbe903",
   "metadata": {},
   "outputs": [],
   "source": [
    "list1 = [\"Strathmore\", \"Daystar\",\"JKUAT\"] # list on its own\n",
    "list2 = [\"Riara\", \"UON\"] # list on its own"
   ]
  },
  {
   "cell_type": "code",
   "execution_count": 72,
   "id": "48f74113",
   "metadata": {},
   "outputs": [
    {
     "data": {
      "text/plain": [
       "['Strathmore', 'Daystar', 'JKUAT', ['Riara', 'UON']]"
      ]
     },
     "execution_count": 72,
     "metadata": {},
     "output_type": "execute_result"
    }
   ],
   "source": [
    "list1.append(list2) # adds as a single element\n",
    "\n",
    "list1"
   ]
  },
  {
   "cell_type": "code",
   "execution_count": 73,
   "id": "4025a3bf",
   "metadata": {},
   "outputs": [],
   "source": [
    "list3 = [\"Strathmore\", \"Daystar\",\"JKUAT\"]\n",
    "list4 =  [\"Riara\", \"UON\"]\n"
   ]
  },
  {
   "cell_type": "code",
   "execution_count": 74,
   "id": "9374851f",
   "metadata": {},
   "outputs": [
    {
     "data": {
      "text/plain": [
       "['Strathmore', 'Daystar', 'JKUAT', 'Riara', 'UON']"
      ]
     },
     "execution_count": 74,
     "metadata": {},
     "output_type": "execute_result"
    }
   ],
   "source": [
    "list3.extend(list4) # each element will be added as an element on its own\n",
    "\n",
    "list3"
   ]
  },
  {
   "cell_type": "code",
   "execution_count": null,
   "id": "874308cb",
   "metadata": {},
   "outputs": [],
   "source": []
  },
  {
   "cell_type": "markdown",
   "id": "d4966fa0",
   "metadata": {},
   "source": [
    "#### List Comprehension \n",
    "Traditionally, a piece of code that loops over a sequence could be written  as follows:\n",
    "    \n",
    "    even = []\n",
    "    \n",
    "    for i in range(10):\n",
    "        if i%2 == 0:\n",
    "            even.append(i)\n",
    "    even\n",
    "    \n",
    "    \n",
    "the above method works well, but it actually makes things slower for Python, as the interpreter works on each loop to determine what part of the sequence has to be changed\n",
    "\n",
    "Hence the idea of **list comprehension**\n",
    "\n",
    "List comprehension offers a shorter syntax when you want to create a new list \n",
    "\n",
    "[i for i in range(10) if i % 2 == 0]\n",
    "\n",
    " "
   ]
  },
  {
   "cell_type": "code",
   "execution_count": null,
   "id": "8c3edacd",
   "metadata": {},
   "outputs": [],
   "source": []
  },
  {
   "cell_type": "code",
   "execution_count": 75,
   "id": "91c2b281",
   "metadata": {},
   "outputs": [
    {
     "data": {
      "text/plain": [
       "[0, 2, 4, 6, 8]"
      ]
     },
     "execution_count": 75,
     "metadata": {},
     "output_type": "execute_result"
    }
   ],
   "source": [
    "even = [] \n",
    "for i in range(10):\n",
    "    if i%2 == 0:\n",
    "        even.append(i)\n",
    "even\n"
   ]
  },
  {
   "cell_type": "code",
   "execution_count": 76,
   "id": "0f20dd75",
   "metadata": {},
   "outputs": [
    {
     "data": {
      "text/plain": [
       "[0, 2, 4, 6, 8]"
      ]
     },
     "execution_count": 76,
     "metadata": {},
     "output_type": "execute_result"
    }
   ],
   "source": [
    "even_again = [i for i in range(10) if i % 2 == 0]\n",
    "even_again"
   ]
  },
  {
   "cell_type": "code",
   "execution_count": null,
   "id": "7b9784f7",
   "metadata": {},
   "outputs": [],
   "source": []
  },
  {
   "cell_type": "code",
   "execution_count": null,
   "id": "368bc273",
   "metadata": {},
   "outputs": [],
   "source": []
  },
  {
   "cell_type": "markdown",
   "id": "06a6721a",
   "metadata": {},
   "source": [
    "## Tuples \n",
    "Tuples are an ordered sequence of values. The values can be any type, and they are indexed by\n",
    "integers, so in that respect tuples are a lot like lists. The important difference is that tuples\n",
    "are **immutable**.\n",
    "\n",
    "Tuples are useful because they:\n",
    "\n",
    " - protect the data, which is immutable \n",
    " - tuples can be used as keys on dictionaries\n",
    "\n",
    "\n",
    "Syntactically, a tuple is a comma-separated list of values\n",
    "\n",
    "t = 'a', 'b', 'c', 'd'\n",
    "\n",
    "Although not necessary it is common to enclose a tuple in parentheses:\n",
    "\n",
    "t = ('a', 'b', 'c', 'e')\n",
    "\n",
    "To create a tuple with a single element, you have to include a final comma: \n",
    "\n",
    "e.g tu = 'a',\n",
    "\n",
    "You can also use the inbuilt function **tuple** to create a tuple\n",
    "\n",
    "a = tuple(['python'])\n",
    "\n",
    "#### Slicing Tuples\n",
    "\n",
    "Slice operators work on tuples same as lists only that you cannot modify a tuple \n",
    "\n",
    "t[0:3] - ('a','b','c')"
   ]
  },
  {
   "cell_type": "code",
   "execution_count": 217,
   "id": "047238ae",
   "metadata": {},
   "outputs": [
    {
     "data": {
      "text/plain": [
       "('Carol', 'John', 'Okoth', 'Louis')"
      ]
     },
     "execution_count": 217,
     "metadata": {},
     "output_type": "execute_result"
    }
   ],
   "source": [
    "names = tuple(['Carol', 'John', 'Okoth', 'Louis'])\n",
    "names\n",
    "\n",
    "#type(names)"
   ]
  },
  {
   "cell_type": "code",
   "execution_count": 218,
   "id": "09f05221",
   "metadata": {},
   "outputs": [
    {
     "data": {
      "text/plain": [
       "('Carol', 'John', 'Okoth', 'Louis')"
      ]
     },
     "execution_count": 218,
     "metadata": {},
     "output_type": "execute_result"
    }
   ],
   "source": [
    "\n",
    "name2 = 'Carol', 'John', 'Okoth' , 'Louis'\n",
    "name2"
   ]
  },
  {
   "cell_type": "code",
   "execution_count": 219,
   "id": "40d31f12",
   "metadata": {},
   "outputs": [
    {
     "data": {
      "text/plain": [
       "{'Carol', 'John', 'Louis', 'Okoth'}"
      ]
     },
     "execution_count": 219,
     "metadata": {},
     "output_type": "execute_result"
    }
   ],
   "source": [
    "name3 = ('Carol', 'John', 'Okoth' , 'Louis')\n",
    "n4 = set(name3)\n",
    "\n",
    "\n",
    "n4"
   ]
  },
  {
   "cell_type": "code",
   "execution_count": 220,
   "id": "0b2fab89",
   "metadata": {},
   "outputs": [],
   "source": [
    "nums = tuple([1,3,5,6,7])\n",
    "nums = nums[3:]\n"
   ]
  },
  {
   "cell_type": "code",
   "execution_count": 221,
   "id": "255c71fb",
   "metadata": {},
   "outputs": [
    {
     "data": {
      "text/plain": [
       "(6, 7)"
      ]
     },
     "execution_count": 221,
     "metadata": {},
     "output_type": "execute_result"
    }
   ],
   "source": [
    "nums"
   ]
  },
  {
   "cell_type": "code",
   "execution_count": 82,
   "id": "d0e4ccef",
   "metadata": {},
   "outputs": [
    {
     "data": {
      "text/plain": [
       "tuple"
      ]
     },
     "execution_count": 82,
     "metadata": {},
     "output_type": "execute_result"
    }
   ],
   "source": [
    "type(nums)\n"
   ]
  },
  {
   "cell_type": "code",
   "execution_count": 83,
   "id": "1769a6b8",
   "metadata": {},
   "outputs": [
    {
     "data": {
      "text/plain": [
       "('Wambui',)"
      ]
     },
     "execution_count": 83,
     "metadata": {},
     "output_type": "execute_result"
    }
   ],
   "source": [
    "name4 = 'Wambui',\n",
    "name4"
   ]
  },
  {
   "cell_type": "code",
   "execution_count": 84,
   "id": "b4245759",
   "metadata": {},
   "outputs": [
    {
     "data": {
      "text/plain": [
       "('Wambui',)"
      ]
     },
     "execution_count": 84,
     "metadata": {},
     "output_type": "execute_result"
    }
   ],
   "source": [
    "name5 = ('Wambui',)\n",
    "name5"
   ]
  },
  {
   "cell_type": "code",
   "execution_count": 85,
   "id": "c529d82a",
   "metadata": {},
   "outputs": [
    {
     "data": {
      "text/plain": [
       "tuple"
      ]
     },
     "execution_count": 85,
     "metadata": {},
     "output_type": "execute_result"
    }
   ],
   "source": [
    "names_two = ('Carol',)\n",
    "type(names_two)\n"
   ]
  },
  {
   "cell_type": "code",
   "execution_count": 86,
   "id": "e686c880",
   "metadata": {},
   "outputs": [],
   "source": [
    "letter = 'a',\n",
    "letters = ('a',)"
   ]
  },
  {
   "cell_type": "code",
   "execution_count": 87,
   "id": "fd997bee",
   "metadata": {},
   "outputs": [
    {
     "name": "stdout",
     "output_type": "stream",
     "text": [
      "('a',)\n",
      "('a',)\n"
     ]
    }
   ],
   "source": [
    "print(letter)\n",
    "print(letters)"
   ]
  },
  {
   "cell_type": "code",
   "execution_count": 88,
   "id": "ff2d8d4a",
   "metadata": {},
   "outputs": [
    {
     "name": "stdout",
     "output_type": "stream",
     "text": [
      "('Carol',)\n"
     ]
    }
   ],
   "source": [
    "print(names_two)"
   ]
  },
  {
   "cell_type": "code",
   "execution_count": 89,
   "id": "02fa1a18",
   "metadata": {},
   "outputs": [],
   "source": [
    "t = ('a', 'b', 'c', 'e')\n"
   ]
  },
  {
   "cell_type": "code",
   "execution_count": 90,
   "id": "80954f1b",
   "metadata": {},
   "outputs": [
    {
     "data": {
      "text/plain": [
       "tuple"
      ]
     },
     "execution_count": 90,
     "metadata": {},
     "output_type": "execute_result"
    }
   ],
   "source": [
    "type(t)"
   ]
  },
  {
   "cell_type": "code",
   "execution_count": 91,
   "id": "8b80babf",
   "metadata": {},
   "outputs": [],
   "source": [
    "g = 'a', 'b', 'c', 'd'"
   ]
  },
  {
   "cell_type": "code",
   "execution_count": 92,
   "id": "bc92a0aa",
   "metadata": {},
   "outputs": [
    {
     "data": {
      "text/plain": [
       "('a', 'b', 'c', 'd')"
      ]
     },
     "execution_count": 92,
     "metadata": {},
     "output_type": "execute_result"
    }
   ],
   "source": [
    "g"
   ]
  },
  {
   "cell_type": "code",
   "execution_count": 93,
   "id": "955ac083",
   "metadata": {},
   "outputs": [
    {
     "data": {
      "text/plain": [
       "('a',)"
      ]
     },
     "execution_count": 93,
     "metadata": {},
     "output_type": "execute_result"
    }
   ],
   "source": [
    "tu = ('a',)\n",
    "tu"
   ]
  },
  {
   "cell_type": "code",
   "execution_count": 94,
   "id": "ef51008b",
   "metadata": {},
   "outputs": [
    {
     "data": {
      "text/plain": [
       "tuple"
      ]
     },
     "execution_count": 94,
     "metadata": {},
     "output_type": "execute_result"
    }
   ],
   "source": [
    "type(tu)"
   ]
  },
  {
   "cell_type": "code",
   "execution_count": 95,
   "id": "55b9c6db",
   "metadata": {},
   "outputs": [
    {
     "data": {
      "text/plain": [
       "(1, 2, 3, 4, 5, 6)"
      ]
     },
     "execution_count": 95,
     "metadata": {},
     "output_type": "execute_result"
    }
   ],
   "source": [
    "a = tuple([1,2,3,4,5,6])\n",
    "\n",
    "a"
   ]
  },
  {
   "cell_type": "code",
   "execution_count": 96,
   "id": "28c60009",
   "metadata": {},
   "outputs": [
    {
     "data": {
      "text/plain": [
       "tuple"
      ]
     },
     "execution_count": 96,
     "metadata": {},
     "output_type": "execute_result"
    }
   ],
   "source": [
    "a = 'c',\n",
    "b = 'd'\n",
    "\n",
    "type(a)"
   ]
  },
  {
   "cell_type": "code",
   "execution_count": null,
   "id": "9eaf20f3",
   "metadata": {},
   "outputs": [],
   "source": []
  },
  {
   "cell_type": "markdown",
   "id": "924cdd51",
   "metadata": {},
   "source": [
    "#### Tuple Assignment \n",
    "\n",
    "Video Explanation: https://www.youtube.com/watch?v=iq9WBeCRaSM&ab_channel=CodingwithEstefania\n",
    "\n",
    "It is at times useful to swap the values of two variables. With the usual assignment which at times becomes hectic. \n",
    "\n",
    "example \n",
    "\n",
    "a = b \n",
    "\n",
    "b = c\n",
    "\n",
    "c = a\n",
    "\n",
    "**Tuple Assignment** is a better way of doing this \n",
    "\n",
    "a, b = b, a\n",
    "\n",
    "The left side is a tuple of variables; the right side is a tuple of expressions/values. Each value\n",
    "is assigned to its respective variable. All the expressions on the right side are evaluated\n",
    "before any of the assignments.\n"
   ]
  },
  {
   "cell_type": "code",
   "execution_count": 74,
   "id": "89638f05",
   "metadata": {},
   "outputs": [],
   "source": [
    "a = 30\n",
    "b = 50\n"
   ]
  },
  {
   "cell_type": "code",
   "execution_count": 75,
   "id": "b35b48bf",
   "metadata": {},
   "outputs": [
    {
     "name": "stdout",
     "output_type": "stream",
     "text": [
      "Originally:  30\n",
      "50\n"
     ]
    }
   ],
   "source": [
    "print(\"Originally: \",a)\n",
    "a = b\n",
    "print(\"Current: \",a)"
   ]
  },
  {
   "cell_type": "code",
   "execution_count": 76,
   "id": "82c95bfd",
   "metadata": {},
   "outputs": [
    {
     "name": "stdout",
     "output_type": "stream",
     "text": [
      "Originally:  50\n",
      "Current:  50\n"
     ]
    }
   ],
   "source": [
    "print(\"Originally: \",b)\n",
    "b = a\n",
    "print(\"Current: \",b)"
   ]
  },
  {
   "cell_type": "code",
   "execution_count": 78,
   "id": "f2e77811",
   "metadata": {},
   "outputs": [],
   "source": [
    "a = 30\n",
    "b = 50"
   ]
  },
  {
   "cell_type": "code",
   "execution_count": 79,
   "id": "b844b37b",
   "metadata": {},
   "outputs": [
    {
     "name": "stdout",
     "output_type": "stream",
     "text": [
      "Originally:  30\n",
      "Current:  50\n"
     ]
    }
   ],
   "source": [
    "temporary = a\n",
    "print(\"Originally: \",a)\n",
    "a = b\n",
    "print(\"Current: \",a)"
   ]
  },
  {
   "cell_type": "code",
   "execution_count": 80,
   "id": "959ee8d6",
   "metadata": {},
   "outputs": [
    {
     "name": "stdout",
     "output_type": "stream",
     "text": [
      "Originally:  50\n",
      "Current:  30\n"
     ]
    }
   ],
   "source": [
    "print(\"Originally: \",b)\n",
    "b = temporary\n",
    "print(\"Current: \",b)"
   ]
  },
  {
   "cell_type": "code",
   "execution_count": 81,
   "id": "11c1f430",
   "metadata": {},
   "outputs": [
    {
     "name": "stdout",
     "output_type": "stream",
     "text": [
      "Originally a and b were:  30 50\n",
      "Current a and b are:  50 30\n"
     ]
    }
   ],
   "source": [
    "#a,b = b,a\n",
    "a = 30\n",
    "b = 50\n",
    "print(\"Originally a and b were: \", a, b)\n",
    "a,b = b,a\n",
    "print(\"Current a and b are: \",a ,b)"
   ]
  },
  {
   "cell_type": "code",
   "execution_count": null,
   "id": "39cbc19c",
   "metadata": {},
   "outputs": [],
   "source": []
  },
  {
   "cell_type": "code",
   "execution_count": null,
   "id": "a3f0b1ac",
   "metadata": {},
   "outputs": [],
   "source": []
  },
  {
   "cell_type": "code",
   "execution_count": null,
   "id": "08b93047",
   "metadata": {},
   "outputs": [],
   "source": []
  },
  {
   "cell_type": "code",
   "execution_count": null,
   "id": "7de5390d",
   "metadata": {},
   "outputs": [],
   "source": []
  },
  {
   "cell_type": "code",
   "execution_count": null,
   "id": "525b2518",
   "metadata": {},
   "outputs": [],
   "source": []
  },
  {
   "cell_type": "code",
   "execution_count": 97,
   "id": "bfa1cdde",
   "metadata": {},
   "outputs": [
    {
     "name": "stdout",
     "output_type": "stream",
     "text": [
      "(10,)\n",
      "(10,)\n"
     ]
    }
   ],
   "source": [
    "a = 7,\n",
    "\n",
    "b = 10,\n",
    "\n",
    "a = b # the value of a becomes 10\n",
    "\n",
    "b = a # the value of b is still 10, because a has now changed to 10\n",
    "\n",
    "print(a)\n",
    "print(b)"
   ]
  },
  {
   "cell_type": "code",
   "execution_count": null,
   "id": "0aadb1fd",
   "metadata": {},
   "outputs": [],
   "source": []
  },
  {
   "cell_type": "code",
   "execution_count": null,
   "id": "7c231657",
   "metadata": {},
   "outputs": [],
   "source": []
  },
  {
   "cell_type": "code",
   "execution_count": null,
   "id": "010aaa27",
   "metadata": {},
   "outputs": [],
   "source": []
  },
  {
   "cell_type": "code",
   "execution_count": 98,
   "id": "6cab0372",
   "metadata": {},
   "outputs": [
    {
     "name": "stdout",
     "output_type": "stream",
     "text": [
      "(10,)\n",
      "(7,)\n"
     ]
    }
   ],
   "source": [
    "a = 7,\n",
    "\n",
    "b = 10, \n",
    "\n",
    "temp = a # store value a in a temporary variable , 7\n",
    "\n",
    "a = b # the value of a becomes 10\n",
    "\n",
    "b = temp # the value of b becomes 7\n",
    "\n",
    "print(a)\n",
    "print(b)"
   ]
  },
  {
   "cell_type": "code",
   "execution_count": 99,
   "id": "2768fd7b",
   "metadata": {},
   "outputs": [
    {
     "name": "stdout",
     "output_type": "stream",
     "text": [
      "(7,)\n"
     ]
    }
   ],
   "source": [
    "print(b)\n",
    "\n"
   ]
  },
  {
   "cell_type": "code",
   "execution_count": 100,
   "id": "39fb7024",
   "metadata": {},
   "outputs": [
    {
     "name": "stdout",
     "output_type": "stream",
     "text": [
      "(10,)\n",
      "(7,)\n"
     ]
    }
   ],
   "source": [
    "a = 7,\n",
    "\n",
    "b = 10,\n",
    "\n",
    "a , b = b, a #tuple assignment\n",
    "\n",
    "print(a)\n",
    "print(b)"
   ]
  },
  {
   "cell_type": "code",
   "execution_count": null,
   "id": "05f55495",
   "metadata": {},
   "outputs": [],
   "source": []
  },
  {
   "cell_type": "code",
   "execution_count": null,
   "id": "96f7cefe",
   "metadata": {},
   "outputs": [],
   "source": []
  },
  {
   "cell_type": "code",
   "execution_count": null,
   "id": "69410159",
   "metadata": {},
   "outputs": [],
   "source": []
  },
  {
   "cell_type": "code",
   "execution_count": null,
   "id": "b5a2e7ba",
   "metadata": {},
   "outputs": [],
   "source": []
  },
  {
   "cell_type": "code",
   "execution_count": null,
   "id": "da457504",
   "metadata": {},
   "outputs": [],
   "source": []
  },
  {
   "cell_type": "code",
   "execution_count": null,
   "id": "34638fc3",
   "metadata": {},
   "outputs": [],
   "source": []
  },
  {
   "cell_type": "code",
   "execution_count": 222,
   "id": "aafd78a0",
   "metadata": {},
   "outputs": [
    {
     "data": {
      "text/plain": [
       "'Geraldine'"
      ]
     },
     "execution_count": 222,
     "metadata": {},
     "output_type": "execute_result"
    }
   ],
   "source": [
    "student, interest, food = 'Geraldine', 'Read', 'Potatoes'\n",
    "\n",
    "\n",
    "student"
   ]
  },
  {
   "cell_type": "code",
   "execution_count": null,
   "id": "d0d320f8",
   "metadata": {},
   "outputs": [],
   "source": []
  },
  {
   "cell_type": "code",
   "execution_count": 84,
   "id": "c0d22312",
   "metadata": {},
   "outputs": [
    {
     "name": "stdout",
     "output_type": "stream",
     "text": [
      "My birthday is on the 15 th of  July . It will be held at  strathmore\n"
     ]
    }
   ],
   "source": [
    "date, month, place = 15, \"July\",\"strathmore\"\n",
    "\n",
    "print(\"My birthday is on the\", date,\"th of \", month, \". It will be held at \", place)"
   ]
  },
  {
   "cell_type": "code",
   "execution_count": null,
   "id": "27c0b146",
   "metadata": {},
   "outputs": [],
   "source": []
  },
  {
   "cell_type": "code",
   "execution_count": null,
   "id": "b488aa2e",
   "metadata": {},
   "outputs": [],
   "source": []
  },
  {
   "cell_type": "code",
   "execution_count": null,
   "id": "6dc420f8",
   "metadata": {},
   "outputs": [],
   "source": []
  },
  {
   "cell_type": "code",
   "execution_count": 102,
   "id": "7a119639",
   "metadata": {},
   "outputs": [
    {
     "name": "stdout",
     "output_type": "stream",
     "text": [
      "I am Geraldine, and i like to Read and eat Potatoes \n"
     ]
    }
   ],
   "source": [
    "print(f\"I am {student}, and i like to {interest} and eat {food} \")"
   ]
  },
  {
   "cell_type": "code",
   "execution_count": null,
   "id": "a6eb0f8e",
   "metadata": {},
   "outputs": [],
   "source": []
  },
  {
   "cell_type": "code",
   "execution_count": 103,
   "id": "497fac74",
   "metadata": {},
   "outputs": [],
   "source": [
    "student, menu, game = 'Rosanne','rice', 'basketball'"
   ]
  },
  {
   "cell_type": "code",
   "execution_count": 104,
   "id": "36137bc0",
   "metadata": {},
   "outputs": [
    {
     "data": {
      "text/plain": [
       "'basketball'"
      ]
     },
     "execution_count": 104,
     "metadata": {},
     "output_type": "execute_result"
    }
   ],
   "source": [
    "game"
   ]
  },
  {
   "cell_type": "code",
   "execution_count": 105,
   "id": "528a02ca",
   "metadata": {},
   "outputs": [
    {
     "data": {
      "text/plain": [
       "'rice'"
      ]
     },
     "execution_count": 105,
     "metadata": {},
     "output_type": "execute_result"
    }
   ],
   "source": [
    "menu"
   ]
  },
  {
   "cell_type": "code",
   "execution_count": 106,
   "id": "5cfa9e7c",
   "metadata": {},
   "outputs": [
    {
     "name": "stdout",
     "output_type": "stream",
     "text": [
      "(10,)\n",
      "(10,)\n"
     ]
    }
   ],
   "source": [
    "\n",
    "b = 10,\n",
    "\n",
    "#Tuple assignment\n",
    "\n",
    "a ,b = b ,a \n",
    "\n",
    "print(a)\n",
    "print(b)"
   ]
  },
  {
   "cell_type": "code",
   "execution_count": 107,
   "id": "0fb14a05",
   "metadata": {},
   "outputs": [
    {
     "name": "stdout",
     "output_type": "stream",
     "text": [
      "('Peter',)\n",
      "('Jane',)\n"
     ]
    }
   ],
   "source": [
    "a = 'Jane',\n",
    "\n",
    "b = 'Peter',\n",
    "\n",
    "a, b = b, a\n",
    "\n",
    "print(a)\n",
    "print(b)"
   ]
  },
  {
   "cell_type": "code",
   "execution_count": 108,
   "id": "c9091229",
   "metadata": {},
   "outputs": [
    {
     "data": {
      "text/plain": [
       "('Peter',)"
      ]
     },
     "execution_count": 108,
     "metadata": {},
     "output_type": "execute_result"
    }
   ],
   "source": [
    "a\n"
   ]
  },
  {
   "cell_type": "code",
   "execution_count": 109,
   "id": "48b90882",
   "metadata": {},
   "outputs": [
    {
     "data": {
      "text/plain": [
       "('Jane',)"
      ]
     },
     "execution_count": 109,
     "metadata": {},
     "output_type": "execute_result"
    }
   ],
   "source": [
    "\n",
    "b"
   ]
  },
  {
   "cell_type": "code",
   "execution_count": 110,
   "id": "804b2761",
   "metadata": {},
   "outputs": [
    {
     "data": {
      "text/plain": [
       "4"
      ]
     },
     "execution_count": 110,
     "metadata": {},
     "output_type": "execute_result"
    }
   ],
   "source": [
    "(a,b,c) = (4,5,6)\n",
    "a"
   ]
  },
  {
   "cell_type": "code",
   "execution_count": 111,
   "id": "5fa5a0c5",
   "metadata": {},
   "outputs": [
    {
     "data": {
      "text/plain": [
       "5"
      ]
     },
     "execution_count": 111,
     "metadata": {},
     "output_type": "execute_result"
    }
   ],
   "source": [
    "b"
   ]
  },
  {
   "cell_type": "code",
   "execution_count": 112,
   "id": "d720f642",
   "metadata": {},
   "outputs": [
    {
     "data": {
      "text/plain": [
       "6"
      ]
     },
     "execution_count": 112,
     "metadata": {},
     "output_type": "execute_result"
    }
   ],
   "source": [
    "c"
   ]
  },
  {
   "cell_type": "code",
   "execution_count": null,
   "id": "2dd18331",
   "metadata": {},
   "outputs": [],
   "source": []
  },
  {
   "cell_type": "markdown",
   "id": "371c768d",
   "metadata": {},
   "source": [
    "#### Tuple methods \n",
    "\n",
    "Comprehensive list - https://www.programiz.com/python-programming/methods/tuple\n",
    "\n",
    "Tuple is immutable, hence there are only 2 methods that tuple object can call: **count** and **index**. \n",
    "\n",
    "*count()*\n",
    "returns count of the element in the tuple \n",
    "\n",
    "num.count(4)\n",
    "\n",
    "*index()*\n",
    "returns the index of the element in the tuple\n",
    "\n",
    "num.index(4)"
   ]
  },
  {
   "cell_type": "code",
   "execution_count": null,
   "id": "ca924443",
   "metadata": {},
   "outputs": [],
   "source": [
    "#Immutable- you cannot make changes to the items in it\n",
    "#Tuples contain different data types\n",
    "#Ordered"
   ]
  },
  {
   "cell_type": "code",
   "execution_count": 55,
   "id": "1fac3e9d",
   "metadata": {},
   "outputs": [
    {
     "name": "stdout",
     "output_type": "stream",
     "text": [
      "('Mon', 'Tue', 'Wed', 'Thur')\n"
     ]
    }
   ],
   "source": [
    "days =('Mon', 'Tue','Wed','Thur')\n",
    "print (days)"
   ]
  },
  {
   "cell_type": "code",
   "execution_count": 56,
   "id": "c5b18c86",
   "metadata": {},
   "outputs": [
    {
     "data": {
      "text/plain": [
       "tuple"
      ]
     },
     "execution_count": 56,
     "metadata": {},
     "output_type": "execute_result"
    }
   ],
   "source": [
    "type(days)"
   ]
  },
  {
   "cell_type": "code",
   "execution_count": 57,
   "id": "1fc4aa64",
   "metadata": {},
   "outputs": [
    {
     "data": {
      "text/plain": [
       "tuple"
      ]
     },
     "execution_count": 57,
     "metadata": {},
     "output_type": "execute_result"
    }
   ],
   "source": [
    "#Ensure that you have a comma\n",
    "days1 ='Mon', 'Tue','Wed','Thur'\n",
    "type(days1)"
   ]
  },
  {
   "cell_type": "code",
   "execution_count": 58,
   "id": "b018b074",
   "metadata": {},
   "outputs": [
    {
     "data": {
      "text/plain": [
       "'Mon'"
      ]
     },
     "execution_count": 58,
     "metadata": {},
     "output_type": "execute_result"
    }
   ],
   "source": [
    "#Accessing tuples using indices\n",
    "days1 ='Mon', 'Tue','Wed','Thur'\n",
    "days1[0]"
   ]
  },
  {
   "cell_type": "code",
   "execution_count": 59,
   "id": "6866c18f",
   "metadata": {},
   "outputs": [
    {
     "data": {
      "text/plain": [
       "'Wed'"
      ]
     },
     "execution_count": 59,
     "metadata": {},
     "output_type": "execute_result"
    }
   ],
   "source": [
    "days1[2]"
   ]
  },
  {
   "cell_type": "code",
   "execution_count": 60,
   "id": "7a51284e",
   "metadata": {},
   "outputs": [
    {
     "name": "stdout",
     "output_type": "stream",
     "text": [
      "('mon', 'tue', 'wed', 'thur', 'frid', 'sat')\n"
     ]
    }
   ],
   "source": [
    "#Concatenate\n",
    "half_days1 = \"mon\",\"tue\",\"wed\"\n",
    "half_days2 = \"thur\",\"frid\",\"sat\"\n",
    "all_days = half_days1 + half_days2\n",
    "print(all_days)"
   ]
  },
  {
   "cell_type": "code",
   "execution_count": 61,
   "id": "54d9f3d2",
   "metadata": {},
   "outputs": [
    {
     "data": {
      "text/plain": [
       "('mon', 'tue', 'wed', 'mon', 'tue', 'wed', 'mon', 'tue', 'wed')"
      ]
     },
     "execution_count": 61,
     "metadata": {},
     "output_type": "execute_result"
    }
   ],
   "source": [
    "half_days1*3"
   ]
  },
  {
   "cell_type": "code",
   "execution_count": 62,
   "id": "e055bffb",
   "metadata": {},
   "outputs": [
    {
     "name": "stdout",
     "output_type": "stream",
     "text": [
      "mon\n",
      "tue\n",
      "wed\n"
     ]
    }
   ],
   "source": [
    "half_days1 = \"mon\",\"tue\",\"wed\"\n",
    "for days in half_days1:\n",
    "    print(days)"
   ]
  },
  {
   "cell_type": "code",
   "execution_count": 64,
   "id": "35344c42",
   "metadata": {},
   "outputs": [],
   "source": [
    "#Tuple methods\n",
    "\n",
    "#Count()\n",
    "half_days1 = \"mon\",\"tue\",\"wed\",\"wed\",\"wed\""
   ]
  },
  {
   "cell_type": "code",
   "execution_count": 65,
   "id": "ef539800",
   "metadata": {},
   "outputs": [
    {
     "data": {
      "text/plain": [
       "3"
      ]
     },
     "execution_count": 65,
     "metadata": {},
     "output_type": "execute_result"
    }
   ],
   "source": [
    "half_days1.count(\"wed\")"
   ]
  },
  {
   "cell_type": "code",
   "execution_count": null,
   "id": "1bed65bc",
   "metadata": {},
   "outputs": [],
   "source": [
    "#index"
   ]
  },
  {
   "cell_type": "code",
   "execution_count": 66,
   "id": "dafa00a5",
   "metadata": {},
   "outputs": [
    {
     "data": {
      "text/plain": [
       "0"
      ]
     },
     "execution_count": 66,
     "metadata": {},
     "output_type": "execute_result"
    }
   ],
   "source": [
    "half_days1.index(\"mon\")"
   ]
  },
  {
   "cell_type": "code",
   "execution_count": 113,
   "id": "0eedb51f",
   "metadata": {},
   "outputs": [],
   "source": [
    "num = 1,2,3,4,5,5,6,7\n"
   ]
  },
  {
   "cell_type": "code",
   "execution_count": 114,
   "id": "c9d474b2",
   "metadata": {},
   "outputs": [
    {
     "data": {
      "text/plain": [
       "2"
      ]
     },
     "execution_count": 114,
     "metadata": {},
     "output_type": "execute_result"
    }
   ],
   "source": [
    "num.count(5)"
   ]
  },
  {
   "cell_type": "code",
   "execution_count": 115,
   "id": "73290aa1",
   "metadata": {},
   "outputs": [
    {
     "data": {
      "text/plain": [
       "4"
      ]
     },
     "execution_count": 115,
     "metadata": {},
     "output_type": "execute_result"
    }
   ],
   "source": [
    "index = num.index(5)\n",
    "\n",
    "index"
   ]
  },
  {
   "cell_type": "code",
   "execution_count": 116,
   "id": "796eb0de",
   "metadata": {},
   "outputs": [
    {
     "data": {
      "text/plain": [
       "0"
      ]
     },
     "execution_count": 116,
     "metadata": {},
     "output_type": "execute_result"
    }
   ],
   "source": [
    "num.index(1)"
   ]
  },
  {
   "cell_type": "code",
   "execution_count": 117,
   "id": "04b6bd58",
   "metadata": {},
   "outputs": [
    {
     "data": {
      "text/plain": [
       "6"
      ]
     },
     "execution_count": 117,
     "metadata": {},
     "output_type": "execute_result"
    }
   ],
   "source": [
    "index = num.index(6)\n",
    "\n",
    "index"
   ]
  },
  {
   "cell_type": "code",
   "execution_count": null,
   "id": "5c8a18f5",
   "metadata": {},
   "outputs": [],
   "source": []
  },
  {
   "cell_type": "markdown",
   "id": "e58fc349",
   "metadata": {},
   "source": [
    "## Dictionaries \n",
    "\n",
    "A dictionary is like a list, but more general. In a list, the indices have to be integers; in a\n",
    "dictionary they can be (almost) any type.\n",
    "\n",
    "You can think of a dictionary as a mapping between a set of indices (which are called **keys**)\n",
    "and a set of **values**. Each key maps to a value. The association of a key and a value is called\n",
    "a key-value pair or sometimes an item.\n",
    "\n",
    "Creating a dictionary \n",
    "\n",
    "- Lets create a dictionary that maps English to Swahili: \n",
    "    \n",
    "- You can use the inbuit function dict(), or you can use {} to make a dictionary\n",
    "\n",
    "\n",
    "    \n"
   ]
  },
  {
   "cell_type": "code",
   "execution_count": 1,
   "id": "2e8eded1",
   "metadata": {},
   "outputs": [
    {
     "data": {
      "text/plain": [
       "'Safaricom'"
      ]
     },
     "execution_count": 1,
     "metadata": {},
     "output_type": "execute_result"
    }
   ],
   "source": [
    "#Keys: values\n",
    "\n",
    "\n",
    "#Creating a sim dictionary\n",
    "person = {\"sim1\": \"Safaricom\",\n",
    "         \"sim2\": \"Airtel\",\n",
    "         \"sim3\": \"Telcom\"\n",
    "         }\n",
    "\n",
    "\n",
    "\n",
    "#Access a value in dictionary\n",
    "person[\"sim1\"]\n"
   ]
  },
  {
   "cell_type": "code",
   "execution_count": 2,
   "id": "99a155f3",
   "metadata": {},
   "outputs": [
    {
     "data": {
      "text/plain": [
       "False"
      ]
     },
     "execution_count": 2,
     "metadata": {},
     "output_type": "execute_result"
    }
   ],
   "source": [
    "#Use the in- uses the key \n",
    "#Ensure that your keys are unique\n",
    "\n",
    "\"sim4\" in person"
   ]
  },
  {
   "cell_type": "code",
   "execution_count": 3,
   "id": "c1e984d1",
   "metadata": {},
   "outputs": [
    {
     "name": "stdout",
     "output_type": "stream",
     "text": [
      "{'sim1': 'Safaricom', 'sim2': 'Airtel', 'sim3': 'vodacom'}\n"
     ]
    }
   ],
   "source": [
    "#Update a dictionary\n",
    "person[\"sim3\"] = \"vodacom\"\n",
    "print(person)"
   ]
  },
  {
   "cell_type": "code",
   "execution_count": 4,
   "id": "0c1a10a0",
   "metadata": {},
   "outputs": [
    {
     "name": "stdout",
     "output_type": "stream",
     "text": [
      "{'sim1': 'Safaricom', 'sim2': 'Airtel', 'sim3': 'vodacom', 'sim4': 'vodacom'}\n"
     ]
    }
   ],
   "source": [
    "#A new entry\n",
    "person[\"sim4\"] = \"vodacom\"\n",
    "print(person)"
   ]
  },
  {
   "cell_type": "code",
   "execution_count": 5,
   "id": "d5f069e0",
   "metadata": {},
   "outputs": [
    {
     "name": "stdout",
     "output_type": "stream",
     "text": [
      "{'sim1': 'Safaricom', 'sim2': 'Airtel', 'sim3': 'vodacom'}\n"
     ]
    }
   ],
   "source": [
    "#Delete using key\n",
    "del person[\"sim4\"] \n",
    "print(person)"
   ]
  },
  {
   "cell_type": "code",
   "execution_count": 6,
   "id": "b7638536",
   "metadata": {},
   "outputs": [],
   "source": [
    "# #Delete whole dic\n",
    "# del person \n",
    "# print(person)"
   ]
  },
  {
   "cell_type": "code",
   "execution_count": 9,
   "id": "f9edd531",
   "metadata": {},
   "outputs": [
    {
     "name": "stdout",
     "output_type": "stream",
     "text": [
      "{}\n"
     ]
    }
   ],
   "source": [
    "#removes all entries in a dictionary\n",
    "person.clear()\n",
    "print(person)"
   ]
  },
  {
   "cell_type": "code",
   "execution_count": null,
   "id": "109a94a3",
   "metadata": {},
   "outputs": [],
   "source": []
  },
  {
   "cell_type": "code",
   "execution_count": null,
   "id": "7a94c9cf",
   "metadata": {},
   "outputs": [],
   "source": []
  },
  {
   "cell_type": "code",
   "execution_count": null,
   "id": "caea7a8f",
   "metadata": {},
   "outputs": [],
   "source": []
  },
  {
   "cell_type": "code",
   "execution_count": 118,
   "id": "60d6e39c",
   "metadata": {},
   "outputs": [
    {
     "data": {
      "text/plain": [
       "{'one': 'moja', 'two': 'mbili', 'three': 'tatu', 'four': 'nne', 'five': 'tano'}"
      ]
     },
     "execution_count": 118,
     "metadata": {},
     "output_type": "execute_result"
    }
   ],
   "source": [
    "eng2swa = { 'one' : 'moja',\n",
    "           'two': 'mbili',\n",
    "           'three' : 'tatu',\n",
    "           'four' : 'nne',\n",
    "           'five' : 'tano'\n",
    "    \n",
    "}\n",
    "eng2swa"
   ]
  },
  {
   "cell_type": "code",
   "execution_count": 119,
   "id": "9a686609",
   "metadata": {},
   "outputs": [
    {
     "data": {
      "text/plain": [
       "'moja'"
      ]
     },
     "execution_count": 119,
     "metadata": {},
     "output_type": "execute_result"
    }
   ],
   "source": [
    "eng2swa['one']"
   ]
  },
  {
   "cell_type": "code",
   "execution_count": 120,
   "id": "ff2783f2",
   "metadata": {},
   "outputs": [
    {
     "data": {
      "text/plain": [
       "'tano'"
      ]
     },
     "execution_count": 120,
     "metadata": {},
     "output_type": "execute_result"
    }
   ],
   "source": [
    "eng2swa['five']"
   ]
  },
  {
   "cell_type": "code",
   "execution_count": 121,
   "id": "1d084e03",
   "metadata": {},
   "outputs": [
    {
     "data": {
      "text/plain": [
       "dict_items([('one', 'moja'), ('two', 'mbili'), ('three', 'tatu'), ('four', 'nne'), ('five', 'tano')])"
      ]
     },
     "execution_count": 121,
     "metadata": {},
     "output_type": "execute_result"
    }
   ],
   "source": [
    "eng2swa.items()"
   ]
  },
  {
   "cell_type": "code",
   "execution_count": 122,
   "id": "5db4aee6",
   "metadata": {},
   "outputs": [
    {
     "data": {
      "text/plain": [
       "dict_keys(['one', 'two', 'three', 'four', 'five'])"
      ]
     },
     "execution_count": 122,
     "metadata": {},
     "output_type": "execute_result"
    }
   ],
   "source": [
    "\n",
    "eng2swa.keys()"
   ]
  },
  {
   "cell_type": "code",
   "execution_count": 123,
   "id": "2d7d2116",
   "metadata": {},
   "outputs": [
    {
     "data": {
      "text/plain": [
       "dict_values(['moja', 'mbili', 'tatu', 'nne', 'tano'])"
      ]
     },
     "execution_count": 123,
     "metadata": {},
     "output_type": "execute_result"
    }
   ],
   "source": [
    "eng2swa.values()"
   ]
  },
  {
   "cell_type": "code",
   "execution_count": null,
   "id": "8e122a97",
   "metadata": {},
   "outputs": [],
   "source": []
  },
  {
   "cell_type": "markdown",
   "id": "6e9d3a93",
   "metadata": {},
   "source": [
    "The in operator only checks for keys and not values"
   ]
  },
  {
   "cell_type": "code",
   "execution_count": 124,
   "id": "b0210202",
   "metadata": {},
   "outputs": [
    {
     "data": {
      "text/plain": [
       "True"
      ]
     },
     "execution_count": 124,
     "metadata": {},
     "output_type": "execute_result"
    }
   ],
   "source": [
    "'one' in eng2swa"
   ]
  },
  {
   "cell_type": "code",
   "execution_count": 125,
   "id": "cb8f8f6c",
   "metadata": {},
   "outputs": [
    {
     "data": {
      "text/plain": [
       "False"
      ]
     },
     "execution_count": 125,
     "metadata": {},
     "output_type": "execute_result"
    }
   ],
   "source": [
    "'six' in eng2swa"
   ]
  },
  {
   "cell_type": "code",
   "execution_count": 126,
   "id": "6ed5f621",
   "metadata": {},
   "outputs": [
    {
     "data": {
      "text/plain": [
       "False"
      ]
     },
     "execution_count": 126,
     "metadata": {},
     "output_type": "execute_result"
    }
   ],
   "source": [
    "\"nne\" in eng2swa "
   ]
  },
  {
   "cell_type": "code",
   "execution_count": 127,
   "id": "66e43d3b",
   "metadata": {},
   "outputs": [
    {
     "data": {
      "text/plain": [
       "False"
      ]
     },
     "execution_count": 127,
     "metadata": {},
     "output_type": "execute_result"
    }
   ],
   "source": [
    "\"mbili\" in eng2swa"
   ]
  },
  {
   "cell_type": "code",
   "execution_count": 128,
   "id": "10b6ad49",
   "metadata": {},
   "outputs": [
    {
     "data": {
      "text/plain": [
       "{1: 'one', 2: 'two', 3: 'three'}"
      ]
     },
     "execution_count": 128,
     "metadata": {},
     "output_type": "execute_result"
    }
   ],
   "source": [
    "num2swa = {1: 'one',2: 'two', 3: 'three'}\n",
    "num2swanum2swa = {1: 'one',2: 'two', 3: 'three'}\n",
    "num2swa"
   ]
  },
  {
   "cell_type": "code",
   "execution_count": 129,
   "id": "afaec87a",
   "metadata": {},
   "outputs": [
    {
     "data": {
      "text/plain": [
       "dict_keys([1, 2, 3])"
      ]
     },
     "execution_count": 129,
     "metadata": {},
     "output_type": "execute_result"
    }
   ],
   "source": [
    "num2swa.keys()"
   ]
  },
  {
   "cell_type": "code",
   "execution_count": 130,
   "id": "08046bb3",
   "metadata": {},
   "outputs": [
    {
     "data": {
      "text/plain": [
       "dict_values(['one', 'two', 'three'])"
      ]
     },
     "execution_count": 130,
     "metadata": {},
     "output_type": "execute_result"
    }
   ],
   "source": [
    "num2swa.values()"
   ]
  },
  {
   "cell_type": "code",
   "execution_count": 131,
   "id": "b771321f",
   "metadata": {},
   "outputs": [
    {
     "data": {
      "text/plain": [
       "dict_items([(1, 'one'), (2, 'two'), (3, 'three')])"
      ]
     },
     "execution_count": 131,
     "metadata": {},
     "output_type": "execute_result"
    }
   ],
   "source": [
    "num2swa.items()"
   ]
  },
  {
   "cell_type": "code",
   "execution_count": 132,
   "id": "e9ba208a",
   "metadata": {},
   "outputs": [
    {
     "data": {
      "text/plain": [
       "dict_keys(['one', 'two', 'three', 'four', 'five'])"
      ]
     },
     "execution_count": 132,
     "metadata": {},
     "output_type": "execute_result"
    }
   ],
   "source": [
    "#Checking your keys\n",
    "eng2swa.keys()"
   ]
  },
  {
   "cell_type": "code",
   "execution_count": 133,
   "id": "d392f82e",
   "metadata": {},
   "outputs": [
    {
     "data": {
      "text/plain": [
       "dict_values(['moja', 'mbili', 'tatu', 'nne', 'tano'])"
      ]
     },
     "execution_count": 133,
     "metadata": {},
     "output_type": "execute_result"
    }
   ],
   "source": [
    "#Checking your values\n",
    "eng2swa.values()"
   ]
  },
  {
   "cell_type": "code",
   "execution_count": 134,
   "id": "9fe9c56d",
   "metadata": {},
   "outputs": [
    {
     "data": {
      "text/plain": [
       "dict_items([('one', 'moja'), ('two', 'mbili'), ('three', 'tatu'), ('four', 'nne'), ('five', 'tano')])"
      ]
     },
     "execution_count": 134,
     "metadata": {},
     "output_type": "execute_result"
    }
   ],
   "source": [
    "#Check dictionary\n",
    "eng2swa.items()"
   ]
  },
  {
   "cell_type": "code",
   "execution_count": 135,
   "id": "0bcc9a94",
   "metadata": {},
   "outputs": [
    {
     "data": {
      "text/plain": [
       "'tatu'"
      ]
     },
     "execution_count": 135,
     "metadata": {},
     "output_type": "execute_result"
    }
   ],
   "source": [
    "#accessing the values by their keys\n",
    "eng2swa['three']"
   ]
  },
  {
   "cell_type": "code",
   "execution_count": 136,
   "id": "e0b61aec",
   "metadata": {},
   "outputs": [
    {
     "data": {
      "text/plain": [
       "{1: 'one', 2: 'two', 3: 'three'}"
      ]
     },
     "execution_count": 136,
     "metadata": {},
     "output_type": "execute_result"
    }
   ],
   "source": [
    "num2swa = {1: 'one',2: 'two', 3: 'three'}\n",
    "num2swa"
   ]
  },
  {
   "cell_type": "code",
   "execution_count": 137,
   "id": "372be32f",
   "metadata": {},
   "outputs": [
    {
     "data": {
      "text/plain": [
       "'one'"
      ]
     },
     "execution_count": 137,
     "metadata": {},
     "output_type": "execute_result"
    }
   ],
   "source": [
    "num2swa[1]"
   ]
  },
  {
   "cell_type": "code",
   "execution_count": 138,
   "id": "54f27a11",
   "metadata": {},
   "outputs": [
    {
     "data": {
      "text/plain": [
       "'two'"
      ]
     },
     "execution_count": 138,
     "metadata": {},
     "output_type": "execute_result"
    }
   ],
   "source": [
    "num2swa[2]"
   ]
  },
  {
   "cell_type": "code",
   "execution_count": 139,
   "id": "191b0350",
   "metadata": {},
   "outputs": [
    {
     "data": {
      "text/plain": [
       "3"
      ]
     },
     "execution_count": 139,
     "metadata": {},
     "output_type": "execute_result"
    }
   ],
   "source": [
    "len(num2swa)"
   ]
  },
  {
   "cell_type": "code",
   "execution_count": 140,
   "id": "58144606",
   "metadata": {},
   "outputs": [
    {
     "data": {
      "text/plain": [
       "5"
      ]
     },
     "execution_count": 140,
     "metadata": {},
     "output_type": "execute_result"
    }
   ],
   "source": [
    "len(eng2swa)"
   ]
  },
  {
   "cell_type": "code",
   "execution_count": null,
   "id": "0e0ab6c2",
   "metadata": {},
   "outputs": [],
   "source": []
  },
  {
   "cell_type": "code",
   "execution_count": 141,
   "id": "51430121",
   "metadata": {},
   "outputs": [],
   "source": [
    "#Creating a dictionary using the keyword dict\n",
    "eng2esp = dict(one=\"uno\")"
   ]
  },
  {
   "cell_type": "code",
   "execution_count": 142,
   "id": "bc1704ae",
   "metadata": {},
   "outputs": [
    {
     "data": {
      "text/plain": [
       "{'sweet': 'apple', 'bitter': 'lemon'}"
      ]
     },
     "execution_count": 142,
     "metadata": {},
     "output_type": "execute_result"
    }
   ],
   "source": [
    "fruits = dict(sweet = \"apple\" , bitter = \"lemon\" )\n",
    "fruits"
   ]
  },
  {
   "cell_type": "code",
   "execution_count": 143,
   "id": "8502ba7a",
   "metadata": {},
   "outputs": [
    {
     "data": {
      "text/plain": [
       "dict_keys(['sweet', 'bitter'])"
      ]
     },
     "execution_count": 143,
     "metadata": {},
     "output_type": "execute_result"
    }
   ],
   "source": [
    "fruits.keys()"
   ]
  },
  {
   "cell_type": "code",
   "execution_count": 144,
   "id": "2053a1fd",
   "metadata": {},
   "outputs": [
    {
     "data": {
      "text/plain": [
       "dict_values(['apple', 'lemon'])"
      ]
     },
     "execution_count": 144,
     "metadata": {},
     "output_type": "execute_result"
    }
   ],
   "source": [
    "fruits.values()"
   ]
  },
  {
   "cell_type": "code",
   "execution_count": 145,
   "id": "11249a4a",
   "metadata": {},
   "outputs": [
    {
     "data": {
      "text/plain": [
       "{'one': 'uno'}"
      ]
     },
     "execution_count": 145,
     "metadata": {},
     "output_type": "execute_result"
    }
   ],
   "source": [
    "eng2esp"
   ]
  },
  {
   "cell_type": "code",
   "execution_count": 146,
   "id": "7b9fef01",
   "metadata": {},
   "outputs": [
    {
     "data": {
      "text/plain": [
       "dict"
      ]
     },
     "execution_count": 146,
     "metadata": {},
     "output_type": "execute_result"
    }
   ],
   "source": [
    "type(eng2esp)\n"
   ]
  },
  {
   "cell_type": "code",
   "execution_count": 147,
   "id": "e0180139",
   "metadata": {},
   "outputs": [],
   "source": [
    "eng2esp = {'one': 'uno', 'three': 'tres', 'two': 'dos'}"
   ]
  },
  {
   "cell_type": "code",
   "execution_count": null,
   "id": "5dc3a88e",
   "metadata": {},
   "outputs": [],
   "source": []
  },
  {
   "cell_type": "markdown",
   "id": "d3a6eb47",
   "metadata": {},
   "source": [
    "#### Dictionary methods\n",
    " Get the list from - https://www.programiz.com/python-programming/methods/dictionary\n",
    "\n",
    "##### Checking your keys\n",
    "eng2fre.keys()\n",
    "##### Check dictionary\n",
    "eng2fre.items()\n",
    "##### in operator \n",
    "'three' in eng2fre\n",
    "##### create a new dictionary \n",
    "returns a copy of the dictionary\n",
    "\n",
    "fre = eng2fre.copy()\n",
    "##### clear\n",
    "removes all the items in a dictionary \n",
    "\n",
    "fre.clear()\n",
    "##### get()\n",
    "returns the value of the key\n",
    "\n",
    "eng2fre.get('one')\n",
    "##### pop()\n",
    "removes and returns an element from a dictionary having the given key.\n",
    "\n",
    "eng2fre.pop('one')\n",
    "##### update()\n",
    "eng2fre.update({'two':'mbili'})\n",
    "\n"
   ]
  },
  {
   "cell_type": "code",
   "execution_count": 148,
   "id": "b1991b65",
   "metadata": {},
   "outputs": [
    {
     "name": "stdout",
     "output_type": "stream",
     "text": [
      "{'a': 1, 'b': {'c': 2, 'd': 3, 'e': 4}}\n"
     ]
    }
   ],
   "source": [
    "my_dict = {'a': 1, 'b': {'c': 2, 'd': 3}}\n",
    "\n",
    "# Update with nested elements\n",
    "my_dict = {**my_dict, 'b': {**my_dict['b'], 'e': 4}}\n",
    "\n",
    "print(my_dict)\n",
    "# Output: {'a': 1, 'b': {'c': 2, 'd': 3, 'e': 4}}"
   ]
  },
  {
   "cell_type": "code",
   "execution_count": null,
   "id": "eeb3025c",
   "metadata": {},
   "outputs": [],
   "source": []
  },
  {
   "cell_type": "code",
   "execution_count": 149,
   "id": "79bcbce4",
   "metadata": {},
   "outputs": [
    {
     "data": {
      "text/plain": [
       "{'moja': 'one', 'mbili': 'two', 'tatu': 'three', 'nne': 'four'}"
      ]
     },
     "execution_count": 149,
     "metadata": {},
     "output_type": "execute_result"
    }
   ],
   "source": [
    "\n",
    "nums = dict(moja = \"one\" , mbili = \"two\", tatu =\"three\", nne =\"four\")\n",
    "nums"
   ]
  },
  {
   "cell_type": "code",
   "execution_count": 150,
   "id": "73f38140",
   "metadata": {},
   "outputs": [
    {
     "data": {
      "text/plain": [
       "dict_keys(['moja', 'mbili', 'tatu', 'nne'])"
      ]
     },
     "execution_count": 150,
     "metadata": {},
     "output_type": "execute_result"
    }
   ],
   "source": [
    "nums.keys()"
   ]
  },
  {
   "cell_type": "code",
   "execution_count": 151,
   "id": "e9920e76",
   "metadata": {},
   "outputs": [
    {
     "data": {
      "text/plain": [
       "dict_items([('moja', 'one'), ('mbili', 'two'), ('tatu', 'three'), ('nne', 'four')])"
      ]
     },
     "execution_count": 151,
     "metadata": {},
     "output_type": "execute_result"
    }
   ],
   "source": [
    "nums.items()"
   ]
  },
  {
   "cell_type": "code",
   "execution_count": 152,
   "id": "4b8e3285",
   "metadata": {},
   "outputs": [
    {
     "data": {
      "text/plain": [
       "dict_values(['one', 'two', 'three', 'four'])"
      ]
     },
     "execution_count": 152,
     "metadata": {},
     "output_type": "execute_result"
    }
   ],
   "source": [
    "nums.values()"
   ]
  },
  {
   "cell_type": "code",
   "execution_count": 153,
   "id": "28c000fb",
   "metadata": {},
   "outputs": [
    {
     "data": {
      "text/plain": [
       "True"
      ]
     },
     "execution_count": 153,
     "metadata": {},
     "output_type": "execute_result"
    }
   ],
   "source": [
    "'moja' in nums"
   ]
  },
  {
   "cell_type": "code",
   "execution_count": 154,
   "id": "8da4f10e",
   "metadata": {},
   "outputs": [
    {
     "data": {
      "text/plain": [
       "{'moja': 'one', 'mbili': 'two', 'tatu': 'three', 'nne': 'four'}"
      ]
     },
     "execution_count": 154,
     "metadata": {},
     "output_type": "execute_result"
    }
   ],
   "source": [
    "new = nums.copy()\n",
    "new"
   ]
  },
  {
   "cell_type": "code",
   "execution_count": 155,
   "id": "6177c68f",
   "metadata": {},
   "outputs": [
    {
     "data": {
      "text/plain": [
       "'one'"
      ]
     },
     "execution_count": 155,
     "metadata": {},
     "output_type": "execute_result"
    }
   ],
   "source": [
    "nums.get('moja')"
   ]
  },
  {
   "cell_type": "code",
   "execution_count": 156,
   "id": "52e3fe9b",
   "metadata": {},
   "outputs": [
    {
     "data": {
      "text/plain": [
       "'one'"
      ]
     },
     "execution_count": 156,
     "metadata": {},
     "output_type": "execute_result"
    }
   ],
   "source": [
    "nums.pop(\"moja\") # this removes the key value pair"
   ]
  },
  {
   "cell_type": "code",
   "execution_count": 157,
   "id": "0e9c4177",
   "metadata": {},
   "outputs": [
    {
     "data": {
      "text/plain": [
       "{'mbili': 'two', 'tatu': 'three', 'nne': 'four'}"
      ]
     },
     "execution_count": 157,
     "metadata": {},
     "output_type": "execute_result"
    }
   ],
   "source": [
    "\n",
    "nums"
   ]
  },
  {
   "cell_type": "code",
   "execution_count": 158,
   "id": "cdc3afe7",
   "metadata": {},
   "outputs": [
    {
     "data": {
      "text/plain": [
       "{}"
      ]
     },
     "execution_count": 158,
     "metadata": {},
     "output_type": "execute_result"
    }
   ],
   "source": [
    "nums.clear()\n",
    "\n",
    "nums"
   ]
  },
  {
   "cell_type": "code",
   "execution_count": 159,
   "id": "2ca34d3f",
   "metadata": {},
   "outputs": [
    {
     "data": {
      "text/plain": [
       "dict_items([])"
      ]
     },
     "execution_count": 159,
     "metadata": {},
     "output_type": "execute_result"
    }
   ],
   "source": [
    "nums.items()"
   ]
  },
  {
   "cell_type": "code",
   "execution_count": 160,
   "id": "e85816e6",
   "metadata": {},
   "outputs": [
    {
     "data": {
      "text/plain": [
       "dict_keys([])"
      ]
     },
     "execution_count": 160,
     "metadata": {},
     "output_type": "execute_result"
    }
   ],
   "source": [
    "nums.keys()"
   ]
  },
  {
   "cell_type": "code",
   "execution_count": 161,
   "id": "15557d5d",
   "metadata": {},
   "outputs": [
    {
     "data": {
      "text/plain": [
       "dict_values([])"
      ]
     },
     "execution_count": 161,
     "metadata": {},
     "output_type": "execute_result"
    }
   ],
   "source": [
    "nums.values()"
   ]
  },
  {
   "cell_type": "code",
   "execution_count": 162,
   "id": "89caf1e3",
   "metadata": {},
   "outputs": [
    {
     "data": {
      "text/plain": [
       "False"
      ]
     },
     "execution_count": 162,
     "metadata": {},
     "output_type": "execute_result"
    }
   ],
   "source": [
    "3 in nums"
   ]
  },
  {
   "cell_type": "code",
   "execution_count": 163,
   "id": "fddf1614",
   "metadata": {},
   "outputs": [
    {
     "data": {
      "text/plain": [
       "{}"
      ]
     },
     "execution_count": 163,
     "metadata": {},
     "output_type": "execute_result"
    }
   ],
   "source": [
    "nambari = nums.copy()\n",
    "nambari"
   ]
  },
  {
   "cell_type": "code",
   "execution_count": 164,
   "id": "2413aed3",
   "metadata": {},
   "outputs": [
    {
     "data": {
      "text/plain": [
       "{}"
      ]
     },
     "execution_count": 164,
     "metadata": {},
     "output_type": "execute_result"
    }
   ],
   "source": [
    "nambari.clear()\n",
    "nambari"
   ]
  },
  {
   "cell_type": "code",
   "execution_count": 165,
   "id": "3e2aa9ad",
   "metadata": {},
   "outputs": [],
   "source": [
    "nums.get(\"moja\")\n"
   ]
  },
  {
   "cell_type": "code",
   "execution_count": 166,
   "id": "ec2636da",
   "metadata": {},
   "outputs": [
    {
     "data": {
      "text/plain": [
       "{}"
      ]
     },
     "execution_count": 166,
     "metadata": {},
     "output_type": "execute_result"
    }
   ],
   "source": [
    "nums"
   ]
  },
  {
   "cell_type": "code",
   "execution_count": 167,
   "id": "0f65b23e",
   "metadata": {},
   "outputs": [
    {
     "data": {
      "text/plain": [
       "{'moja': 'one', 'mbili': 'two', 'tatu': 'three', 'nne': 'four'}"
      ]
     },
     "execution_count": 167,
     "metadata": {},
     "output_type": "execute_result"
    }
   ],
   "source": [
    "nums = dict(moja = \"one\" , mbili = \"two\", tatu =\"three\", nne =\"four\")\n",
    "nums"
   ]
  },
  {
   "cell_type": "code",
   "execution_count": 168,
   "id": "cb7ec002",
   "metadata": {},
   "outputs": [
    {
     "data": {
      "text/plain": [
       "'one'"
      ]
     },
     "execution_count": 168,
     "metadata": {},
     "output_type": "execute_result"
    }
   ],
   "source": [
    "nums.pop(\"moja\")\n"
   ]
  },
  {
   "cell_type": "code",
   "execution_count": 169,
   "id": "6bcc8067",
   "metadata": {},
   "outputs": [
    {
     "data": {
      "text/plain": [
       "{'mbili': 'two', 'tatu': 'three', 'nne': 'four'}"
      ]
     },
     "execution_count": 169,
     "metadata": {},
     "output_type": "execute_result"
    }
   ],
   "source": [
    "nums"
   ]
  },
  {
   "cell_type": "code",
   "execution_count": 223,
   "id": "2f937618",
   "metadata": {},
   "outputs": [
    {
     "ename": "AttributeError",
     "evalue": "'tuple' object has no attribute 'pop'",
     "output_type": "error",
     "traceback": [
      "\u001b[1;31m---------------------------------------------------------------------------\u001b[0m",
      "\u001b[1;31mAttributeError\u001b[0m                            Traceback (most recent call last)",
      "Cell \u001b[1;32mIn[223], line 1\u001b[0m\n\u001b[1;32m----> 1\u001b[0m \u001b[43mnums\u001b[49m\u001b[38;5;241;43m.\u001b[39;49m\u001b[43mpop\u001b[49m(\u001b[38;5;124m\"\u001b[39m\u001b[38;5;124mmoja\u001b[39m\u001b[38;5;124m\"\u001b[39m)\n",
      "\u001b[1;31mAttributeError\u001b[0m: 'tuple' object has no attribute 'pop'"
     ]
    }
   ],
   "source": [
    "nums.pop(\"moja\")\n"
   ]
  },
  {
   "cell_type": "code",
   "execution_count": null,
   "id": "8f2736f3",
   "metadata": {},
   "outputs": [],
   "source": [
    "nums.pop(\"moja\")\n"
   ]
  },
  {
   "cell_type": "code",
   "execution_count": null,
   "id": "d4f31dad",
   "metadata": {},
   "outputs": [],
   "source": [
    "nums"
   ]
  },
  {
   "cell_type": "code",
   "execution_count": null,
   "id": "8bd4e0e2",
   "metadata": {},
   "outputs": [],
   "source": [
    "nums.update({\"mbili\" : 2})\n",
    "nums"
   ]
  },
  {
   "cell_type": "code",
   "execution_count": null,
   "id": "98df8a7e",
   "metadata": {},
   "outputs": [],
   "source": []
  },
  {
   "cell_type": "code",
   "execution_count": null,
   "id": "2c572909",
   "metadata": {},
   "outputs": [],
   "source": [
    "#Nested dictionary\n",
    "book = {\n",
    "        1:{'title':'A song of ice and fire', 'author': 'G.R.R.M'},\n",
    "        2:{'title':'The Lord of the Rings', 'author':'J.R.R.T'},\n",
    "        3:{'title':'Emotional Healing', 'author':'Jandevrivs'}\n",
    "}\n",
    "\n",
    "\n",
    "\n",
    "\n",
    "\n",
    "\n",
    "\n",
    "\n",
    "\n"
   ]
  },
  {
   "cell_type": "code",
   "execution_count": null,
   "id": "8ed61a80",
   "metadata": {},
   "outputs": [],
   "source": [
    "book.update(4='title')"
   ]
  },
  {
   "cell_type": "code",
   "execution_count": null,
   "id": "bb102ce6",
   "metadata": {},
   "outputs": [],
   "source": [
    "book.items()"
   ]
  },
  {
   "cell_type": "code",
   "execution_count": null,
   "id": "52cb6736",
   "metadata": {},
   "outputs": [],
   "source": [
    "book.keys()"
   ]
  },
  {
   "cell_type": "code",
   "execution_count": null,
   "id": "e18359aa",
   "metadata": {},
   "outputs": [],
   "source": [
    "book.values()"
   ]
  },
  {
   "cell_type": "code",
   "execution_count": null,
   "id": "863d969a",
   "metadata": {},
   "outputs": [],
   "source": [
    "for i in book.values():\n",
    "    print(i)"
   ]
  },
  {
   "cell_type": "code",
   "execution_count": null,
   "id": "3fde6aea",
   "metadata": {},
   "outputs": [],
   "source": [
    "for i in book.items():\n",
    "    print(i)"
   ]
  },
  {
   "cell_type": "code",
   "execution_count": null,
   "id": "eae73e98",
   "metadata": {},
   "outputs": [],
   "source": [
    "for i in book.keys():\n",
    "    print(i)"
   ]
  },
  {
   "cell_type": "code",
   "execution_count": null,
   "id": "25fc1ca3",
   "metadata": {},
   "outputs": [],
   "source": [
    "squares = {}\n",
    "for x in range(8):\n",
    "    squares[x] = x**2"
   ]
  },
  {
   "cell_type": "code",
   "execution_count": null,
   "id": "56c60aa5",
   "metadata": {},
   "outputs": [],
   "source": [
    "squares"
   ]
  },
  {
   "cell_type": "code",
   "execution_count": null,
   "id": "58ec36d0",
   "metadata": {},
   "outputs": [],
   "source": [
    "for x in squares.values():\n",
    "    print(x)"
   ]
  },
  {
   "cell_type": "code",
   "execution_count": null,
   "id": "8d991cd4",
   "metadata": {},
   "outputs": [],
   "source": [
    "{x for x in squares.values()} \n"
   ]
  },
  {
   "cell_type": "code",
   "execution_count": null,
   "id": "4957c3d7",
   "metadata": {},
   "outputs": [],
   "source": [
    "{x for x in squares.keys()}\n"
   ]
  },
  {
   "cell_type": "code",
   "execution_count": null,
   "id": "91781e34",
   "metadata": {},
   "outputs": [],
   "source": [
    "{x for x in squares.items()}\n"
   ]
  },
  {
   "cell_type": "code",
   "execution_count": null,
   "id": "7d73b9bb",
   "metadata": {},
   "outputs": [],
   "source": [
    "squares.items()\n"
   ]
  },
  {
   "cell_type": "code",
   "execution_count": null,
   "id": "b613f1da",
   "metadata": {},
   "outputs": [],
   "source": [
    "squares.keys()\n"
   ]
  },
  {
   "cell_type": "code",
   "execution_count": null,
   "id": "bd9a2f15",
   "metadata": {},
   "outputs": [],
   "source": [
    "squares.values()"
   ]
  },
  {
   "cell_type": "code",
   "execution_count": null,
   "id": "807d024c",
   "metadata": {},
   "outputs": [],
   "source": []
  },
  {
   "cell_type": "markdown",
   "id": "1ce76222",
   "metadata": {},
   "source": [
    "## Sets\n",
    "Equivalent to sets in mathematics. \n",
    "A Set is an unordered collection data type that is iterable, mutable, and has no duplicate elements. \n",
    "\n",
    "Sets are constructed from a sequence (or some other iterable object).\n",
    "Since sets cannot have duplicated, there are usually used to build sequence of unique items (e.g., set of identifiers)\n",
    "\n",
    "You create sets by using: \n",
    "  - {}\n",
    "  - set()"
   ]
  },
  {
   "cell_type": "code",
   "execution_count": 225,
   "id": "bec6b516",
   "metadata": {},
   "outputs": [],
   "source": [
    "evn = {2,4,6,8,10,10,10}\n",
    "odd = {1,3,5,7,9}\n",
    "prime = {2,3,5,7}"
   ]
  },
  {
   "cell_type": "code",
   "execution_count": 226,
   "id": "1a6dd632",
   "metadata": {},
   "outputs": [
    {
     "data": {
      "text/plain": [
       "{2, 3, 4, 5, 6, 7, 8, 10}"
      ]
     },
     "execution_count": 226,
     "metadata": {},
     "output_type": "execute_result"
    }
   ],
   "source": [
    "evn.union(prime)"
   ]
  },
  {
   "cell_type": "code",
   "execution_count": 227,
   "id": "72bf55f6",
   "metadata": {},
   "outputs": [
    {
     "data": {
      "text/plain": [
       "{3, 4, 5, 6, 7, 8, 10}"
      ]
     },
     "execution_count": 227,
     "metadata": {},
     "output_type": "execute_result"
    }
   ],
   "source": [
    "evn ^ prime"
   ]
  },
  {
   "cell_type": "code",
   "execution_count": 228,
   "id": "5e9a0ac3",
   "metadata": {},
   "outputs": [
    {
     "data": {
      "text/plain": [
       "{1, 2, 3, 5, 7, 9}"
      ]
     },
     "execution_count": 228,
     "metadata": {},
     "output_type": "execute_result"
    }
   ],
   "source": [
    "odd | prime"
   ]
  },
  {
   "cell_type": "code",
   "execution_count": 229,
   "id": "f50229fe",
   "metadata": {},
   "outputs": [
    {
     "data": {
      "text/plain": [
       "{1, 2, 9}"
      ]
     },
     "execution_count": 229,
     "metadata": {},
     "output_type": "execute_result"
    }
   ],
   "source": [
    "odd ^ prime"
   ]
  },
  {
   "cell_type": "code",
   "execution_count": 230,
   "id": "3a040ea1",
   "metadata": {},
   "outputs": [
    {
     "data": {
      "text/plain": [
       "{2}"
      ]
     },
     "execution_count": 230,
     "metadata": {},
     "output_type": "execute_result"
    }
   ],
   "source": [
    "prime -odd"
   ]
  },
  {
   "cell_type": "code",
   "execution_count": 231,
   "id": "960d3f6a",
   "metadata": {},
   "outputs": [
    {
     "data": {
      "text/plain": [
       "{3, 5, 7}"
      ]
     },
     "execution_count": 231,
     "metadata": {},
     "output_type": "execute_result"
    }
   ],
   "source": [
    "prime - evn\n"
   ]
  },
  {
   "cell_type": "code",
   "execution_count": 232,
   "id": "2a100f29",
   "metadata": {},
   "outputs": [
    {
     "data": {
      "text/plain": [
       "{2, 4, 6, 8, 10}"
      ]
     },
     "execution_count": 232,
     "metadata": {},
     "output_type": "execute_result"
    }
   ],
   "source": [
    "evn"
   ]
  },
  {
   "cell_type": "code",
   "execution_count": null,
   "id": "52f55f54",
   "metadata": {},
   "outputs": [],
   "source": []
  },
  {
   "cell_type": "markdown",
   "id": "463a8379",
   "metadata": {},
   "source": [
    "## Examples of operations that can be done on sets"
   ]
  },
  {
   "cell_type": "code",
   "execution_count": 233,
   "id": "6b33408d",
   "metadata": {},
   "outputs": [
    {
     "data": {
      "text/plain": [
       "{1, 2, 3, 4, 5, 6, 7, 8, 9, 10}"
      ]
     },
     "execution_count": 233,
     "metadata": {},
     "output_type": "execute_result"
    }
   ],
   "source": [
    "evn.union(odd) #returns a set that contains all the items in both the sets- combines even and odd"
   ]
  },
  {
   "cell_type": "code",
   "execution_count": 234,
   "id": "5223ca09",
   "metadata": {},
   "outputs": [
    {
     "data": {
      "text/plain": [
       "{2, 3, 4, 5, 6, 7, 8, 10}"
      ]
     },
     "execution_count": 234,
     "metadata": {},
     "output_type": "execute_result"
    }
   ],
   "source": [
    "evn.union(prime)\n"
   ]
  },
  {
   "cell_type": "code",
   "execution_count": 235,
   "id": "c07d89a7",
   "metadata": {},
   "outputs": [
    {
     "data": {
      "text/plain": [
       "{1, 2, 3, 5, 7, 9}"
      ]
     },
     "execution_count": 235,
     "metadata": {},
     "output_type": "execute_result"
    }
   ],
   "source": [
    "odd | prime # returns a set with all the items in odd and prime\n"
   ]
  },
  {
   "cell_type": "code",
   "execution_count": 236,
   "id": "99b20b1f",
   "metadata": {},
   "outputs": [
    {
     "data": {
      "text/plain": [
       "{1, 2, 3, 4, 5, 6, 7, 8, 9, 10}"
      ]
     },
     "execution_count": 236,
     "metadata": {},
     "output_type": "execute_result"
    }
   ],
   "source": [
    "evn | odd #same as union returns a set that has all the elements in both sets even or odd\n"
   ]
  },
  {
   "cell_type": "code",
   "execution_count": 237,
   "id": "5bdf1449",
   "metadata": {},
   "outputs": [
    {
     "data": {
      "text/plain": [
       "{3, 5, 7}"
      ]
     },
     "execution_count": 237,
     "metadata": {},
     "output_type": "execute_result"
    }
   ],
   "source": [
    "odd.intersection(prime) # returns a set that has items that exist in both the sets -numbers that are both odd and prime \n"
   ]
  },
  {
   "cell_type": "code",
   "execution_count": 238,
   "id": "b4381aa1",
   "metadata": {},
   "outputs": [
    {
     "data": {
      "text/plain": [
       "{3, 5, 7}"
      ]
     },
     "execution_count": 238,
     "metadata": {},
     "output_type": "execute_result"
    }
   ],
   "source": [
    "odd & prime # same as intersection \n"
   ]
  },
  {
   "cell_type": "code",
   "execution_count": 239,
   "id": "3432415c",
   "metadata": {},
   "outputs": [
    {
     "data": {
      "text/plain": [
       "{2}"
      ]
     },
     "execution_count": 239,
     "metadata": {},
     "output_type": "execute_result"
    }
   ],
   "source": [
    "evn.intersection(prime)# both even and prime\n"
   ]
  },
  {
   "cell_type": "code",
   "execution_count": 240,
   "id": "ee6a792a",
   "metadata": {},
   "outputs": [
    {
     "data": {
      "text/plain": [
       "{2}"
      ]
     },
     "execution_count": 240,
     "metadata": {},
     "output_type": "execute_result"
    }
   ],
   "source": [
    "evn & prime\n"
   ]
  },
  {
   "cell_type": "code",
   "execution_count": 241,
   "id": "68e1f46e",
   "metadata": {},
   "outputs": [
    {
     "data": {
      "text/plain": [
       "{1, 2, 9}"
      ]
     },
     "execution_count": 241,
     "metadata": {},
     "output_type": "execute_result"
    }
   ],
   "source": [
    "odd.symmetric_difference(prime) # returns a set of items that are not in both sets\n"
   ]
  },
  {
   "cell_type": "code",
   "execution_count": 242,
   "id": "f992f4f0",
   "metadata": {},
   "outputs": [
    {
     "data": {
      "text/plain": [
       "{1, 2, 9}"
      ]
     },
     "execution_count": 242,
     "metadata": {},
     "output_type": "execute_result"
    }
   ],
   "source": [
    "odd ^ prime # same as symmetric difference \n"
   ]
  },
  {
   "cell_type": "code",
   "execution_count": 243,
   "id": "3495fc44",
   "metadata": {},
   "outputs": [
    {
     "data": {
      "text/plain": [
       "{3, 4, 5, 6, 7, 8, 10}"
      ]
     },
     "execution_count": 243,
     "metadata": {},
     "output_type": "execute_result"
    }
   ],
   "source": [
    "evn.symmetric_difference(prime)\n"
   ]
  },
  {
   "cell_type": "code",
   "execution_count": 244,
   "id": "caee06c0",
   "metadata": {},
   "outputs": [
    {
     "data": {
      "text/plain": [
       "{4, 6, 8, 10}"
      ]
     },
     "execution_count": 244,
     "metadata": {},
     "output_type": "execute_result"
    }
   ],
   "source": [
    "evn - prime # returns a set of the difference between two sets ie all items in evn and not in prime -number \n",
    "#that is even but not prime\n"
   ]
  },
  {
   "cell_type": "code",
   "execution_count": 245,
   "id": "bf2b4024",
   "metadata": {},
   "outputs": [
    {
     "data": {
      "text/plain": [
       "{1, 9}"
      ]
     },
     "execution_count": 245,
     "metadata": {},
     "output_type": "execute_result"
    }
   ],
   "source": [
    "odd - prime # returns a set of the difference between two sets ie all items in odd and not in prime - number \n",
    "#that is odd but not prime"
   ]
  },
  {
   "cell_type": "code",
   "execution_count": null,
   "id": "29f86856",
   "metadata": {},
   "outputs": [],
   "source": []
  },
  {
   "cell_type": "code",
   "execution_count": null,
   "id": "c2b3c7b8",
   "metadata": {},
   "outputs": [],
   "source": []
  },
  {
   "cell_type": "code",
   "execution_count": null,
   "id": "9a8b667b",
   "metadata": {},
   "outputs": [],
   "source": []
  },
  {
   "cell_type": "code",
   "execution_count": null,
   "id": "43b0b7e6",
   "metadata": {},
   "outputs": [],
   "source": []
  },
  {
   "cell_type": "code",
   "execution_count": null,
   "id": "782de32f",
   "metadata": {},
   "outputs": [],
   "source": []
  },
  {
   "cell_type": "code",
   "execution_count": null,
   "id": "f13e9d96",
   "metadata": {},
   "outputs": [],
   "source": []
  },
  {
   "cell_type": "code",
   "execution_count": null,
   "id": "0bfc44ca",
   "metadata": {},
   "outputs": [],
   "source": []
  },
  {
   "cell_type": "code",
   "execution_count": null,
   "id": "b620b5e8",
   "metadata": {},
   "outputs": [],
   "source": []
  },
  {
   "cell_type": "code",
   "execution_count": null,
   "id": "e8b3d6ff",
   "metadata": {},
   "outputs": [],
   "source": []
  },
  {
   "cell_type": "code",
   "execution_count": null,
   "id": "09345b76",
   "metadata": {},
   "outputs": [],
   "source": []
  },
  {
   "cell_type": "code",
   "execution_count": null,
   "id": "b1e10c48",
   "metadata": {},
   "outputs": [],
   "source": []
  },
  {
   "cell_type": "code",
   "execution_count": null,
   "id": "f9d69cf1",
   "metadata": {},
   "outputs": [],
   "source": []
  },
  {
   "cell_type": "code",
   "execution_count": null,
   "id": "bb29b8a1",
   "metadata": {},
   "outputs": [],
   "source": []
  }
 ],
 "metadata": {
  "kernelspec": {
   "display_name": "Python 3 (ipykernel)",
   "language": "python",
   "name": "python3"
  },
  "language_info": {
   "codemirror_mode": {
    "name": "ipython",
    "version": 3
   },
   "file_extension": ".py",
   "mimetype": "text/x-python",
   "name": "python",
   "nbconvert_exporter": "python",
   "pygments_lexer": "ipython3",
   "version": "3.10.9"
  }
 },
 "nbformat": 4,
 "nbformat_minor": 5
}
