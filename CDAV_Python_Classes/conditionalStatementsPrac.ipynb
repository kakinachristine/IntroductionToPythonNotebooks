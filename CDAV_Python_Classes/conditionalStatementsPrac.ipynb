{
 "cells": [
  {
   "cell_type": "markdown",
   "id": "1c96eb59",
   "metadata": {},
   "source": [
    "# Conditional Statement Questions\n"
   ]
  },
  {
   "cell_type": "code",
   "execution_count": null,
   "id": "a1743d68",
   "metadata": {},
   "outputs": [],
   "source": []
  },
  {
   "cell_type": "markdown",
   "id": "57a66e88",
   "metadata": {},
   "source": [
    "## Write a program that takes a user's age as input and determines whether they are eligible to vote. "
   ]
  },
  {
   "cell_type": "code",
   "execution_count": 2,
   "id": "c835825b",
   "metadata": {},
   "outputs": [
    {
     "name": "stdout",
     "output_type": "stream",
     "text": [
      "Please enter your age to check if you are eligible to vote: 4\n",
      "Sorry you are underage. You cannot vote.\n"
     ]
    }
   ],
   "source": [
    "# define user input\n",
    "userAge = int(input(\"Please enter your age to check if you are eligible to vote: \"))\n",
    "\n",
    "#Check eligibility\n",
    "if userAge >= 18:\n",
    "    print(\"You are eligible.\")\n",
    "else:\n",
    "    print(\"Sorry you are underage. You cannot vote.\")"
   ]
  },
  {
   "cell_type": "code",
   "execution_count": null,
   "id": "e8c7d709",
   "metadata": {},
   "outputs": [],
   "source": []
  },
  {
   "cell_type": "code",
   "execution_count": null,
   "id": "91efcba6",
   "metadata": {},
   "outputs": [],
   "source": []
  },
  {
   "cell_type": "code",
   "execution_count": null,
   "id": "9b632fbc",
   "metadata": {},
   "outputs": [],
   "source": []
  },
  {
   "cell_type": "code",
   "execution_count": null,
   "id": "1a55e827",
   "metadata": {},
   "outputs": [],
   "source": []
  },
  {
   "cell_type": "code",
   "execution_count": null,
   "id": "d7ca327d",
   "metadata": {},
   "outputs": [],
   "source": []
  },
  {
   "cell_type": "code",
   "execution_count": null,
   "id": "a741ccb1",
   "metadata": {},
   "outputs": [],
   "source": []
  },
  {
   "cell_type": "markdown",
   "id": "e2cd8946",
   "metadata": {},
   "source": [
    "## Write a program that allows a user to enter a number and it checks whether its an even number."
   ]
  },
  {
   "cell_type": "code",
   "execution_count": null,
   "id": "be1f0152",
   "metadata": {},
   "outputs": [],
   "source": []
  },
  {
   "cell_type": "code",
   "execution_count": null,
   "id": "d6529bca",
   "metadata": {},
   "outputs": [],
   "source": []
  },
  {
   "cell_type": "code",
   "execution_count": null,
   "id": "14e5d483",
   "metadata": {},
   "outputs": [],
   "source": []
  },
  {
   "cell_type": "markdown",
   "id": "74d94c84",
   "metadata": {},
   "source": [
    "## Write a program that allows a user to enter a number and it checks whether its an odd number."
   ]
  },
  {
   "cell_type": "code",
   "execution_count": null,
   "id": "eec6556c",
   "metadata": {},
   "outputs": [],
   "source": []
  },
  {
   "cell_type": "code",
   "execution_count": null,
   "id": "cff6c3fd",
   "metadata": {},
   "outputs": [],
   "source": []
  },
  {
   "cell_type": "code",
   "execution_count": null,
   "id": "0c9cb9a2",
   "metadata": {},
   "outputs": [],
   "source": []
  },
  {
   "cell_type": "code",
   "execution_count": null,
   "id": "59b9daba",
   "metadata": {},
   "outputs": [],
   "source": []
  },
  {
   "cell_type": "code",
   "execution_count": null,
   "id": "21d08f00",
   "metadata": {},
   "outputs": [],
   "source": []
  },
  {
   "cell_type": "markdown",
   "id": "1d5cce3f",
   "metadata": {},
   "source": [
    "## Write a program that takes three numbers as input from the user and prints the largest number among them"
   ]
  },
  {
   "cell_type": "code",
   "execution_count": null,
   "id": "993c4e86",
   "metadata": {},
   "outputs": [],
   "source": [
    "num1 = float(input(\"Please enter first number\"))\n",
    "num2 = float(input(\"Please enter second number\"))\n",
    "num3 = float(input(\"Please enter third number\"))\n",
    "\n",
    "if num1 > num2 and num1 > num3:\n",
    "    print(num1,\" is the largest number\")\n",
    "elif num2 > num1 and num2 > num3:\n",
    "    print(num2,\" is the largest number\")\n",
    "else:\n",
    "    print(num3, \" is the largest number\")\n",
    "    "
   ]
  },
  {
   "cell_type": "code",
   "execution_count": null,
   "id": "79f3cf22",
   "metadata": {},
   "outputs": [],
   "source": []
  },
  {
   "cell_type": "code",
   "execution_count": null,
   "id": "b2f9d8f7",
   "metadata": {},
   "outputs": [],
   "source": []
  },
  {
   "cell_type": "markdown",
   "id": "1193b2db",
   "metadata": {},
   "source": [
    "## Question: Write a program that takes a user's numeric grade as input and prints their corresponding letter grade using the following scale:\n",
    "\n",
    "### Grades 90 and above: A\n",
    "\n",
    "### Grades between 80 and 89: B\n",
    "\n",
    "### Grades between 70 and 79: C\n",
    "\n",
    "### Grades between 60 and 69: D\n",
    "\n",
    "### Grades below 60: F"
   ]
  },
  {
   "cell_type": "code",
   "execution_count": null,
   "id": "0e07a102",
   "metadata": {},
   "outputs": [],
   "source": []
  },
  {
   "cell_type": "code",
   "execution_count": null,
   "id": "d85a3f38",
   "metadata": {},
   "outputs": [],
   "source": []
  },
  {
   "cell_type": "code",
   "execution_count": null,
   "id": "d50ec4d8",
   "metadata": {},
   "outputs": [],
   "source": []
  },
  {
   "cell_type": "code",
   "execution_count": null,
   "id": "20932b6a",
   "metadata": {},
   "outputs": [],
   "source": []
  },
  {
   "cell_type": "markdown",
   "id": "046d6c7f",
   "metadata": {},
   "source": [
    "# NESTED STATEMENTS\n",
    "\n",
    "### \"A company with two departments wants to assign its new employees to their respective offices. The technical department has two office blocks: A and B, while the management department has three office blocks: C, D, and E. For the technical team, if an employee is assigned a number from 1 to 10, they belong to office block A, and if assigned a number from 11 to 20, they belong to office block B. For the management team, if an employee is assigned a number from 1 to 10, they belong to office block C, from 11 to 20, they belong to office block D, and from 21 to 30, they belong to office block E. Write a Python program that allows an employee to check which office they will be working from by entering their department name and assigned number.\""
   ]
  },
  {
   "cell_type": "code",
   "execution_count": 7,
   "id": "e72fb28c",
   "metadata": {},
   "outputs": [
    {
     "name": "stdout",
     "output_type": "stream",
     "text": [
      "Please enter your department name technical\n",
      "Please enter your assigned number 20\n"
     ]
    },
    {
     "ename": "SyntaxError",
     "evalue": "'return' outside function (3417084765.py, line 13)",
     "output_type": "error",
     "traceback": [
      "\u001b[1;36m  Cell \u001b[1;32mIn[7], line 13\u001b[1;36m\u001b[0m\n\u001b[1;33m    return(\"Please proceed to block A\")\u001b[0m\n\u001b[1;37m    ^\u001b[0m\n\u001b[1;31mSyntaxError\u001b[0m\u001b[1;31m:\u001b[0m 'return' outside function\n"
     ]
    }
   ],
   "source": [
    "#Two department: tech and man.\n",
    "#Tech A and B.\n",
    "#Man C, D and E.\n",
    "#for A 1 to 10 and for B 11 to 20\n",
    "#for C 1 to 10, D 11 to 20 and E 21 to 30\n",
    "\n",
    "userDepartment = input(\"Please enter your department name \")\n",
    "userNumber = int(input(\"Please enter your assigned number \"))\n",
    "\n",
    "\n",
    "if userDepartment.upper() == \"TECHNICAL\":\n",
    "    if userNumber>= 1 and userNumber<=10:\n",
    "        print(\"Please proceed to block A\")\n",
    "        \n",
    "    elif userNumber>= 11 and userNumber<=20:\n",
    "        print(\"Please proceed to block B\")\n",
    "        \n",
    "    else:\n",
    "        print(\"Error!! Please enter the correct assigned number.\")\n",
    "    \n",
    "elif userDepartment.upper() == \"MANAGEMENT\":\n",
    "    if userNumber>= 1 and userNumber<=10:\n",
    "        print(\"Please proceed to block C\")\n",
    "        \n",
    "    elif userNumber>= 11 and userNumber<=20:\n",
    "        print(\"Please proceed to block D\")\n",
    "        \n",
    "    elif userNumber>= 21 and userNumber<=30:\n",
    "        print(\"Please proceed to block E\")\n",
    "        \n",
    "    else:\n",
    "        print(\"Error!! Please enter the correct assigned number.\")\n",
    "    \n",
    "else:\n",
    "    print(\"Error!! Please enter the correct department\")\n",
    "\n",
    "\n",
    "\n",
    "\n",
    "\n"
   ]
  },
  {
   "cell_type": "code",
   "execution_count": null,
   "id": "cf03afcc",
   "metadata": {},
   "outputs": [],
   "source": []
  },
  {
   "cell_type": "code",
   "execution_count": null,
   "id": "e158b605",
   "metadata": {},
   "outputs": [],
   "source": []
  },
  {
   "cell_type": "code",
   "execution_count": null,
   "id": "0b2a17b9",
   "metadata": {},
   "outputs": [],
   "source": []
  },
  {
   "cell_type": "code",
   "execution_count": null,
   "id": "2f5bc007",
   "metadata": {},
   "outputs": [],
   "source": []
  },
  {
   "cell_type": "code",
   "execution_count": null,
   "id": "fa29f714",
   "metadata": {},
   "outputs": [],
   "source": []
  },
  {
   "cell_type": "code",
   "execution_count": null,
   "id": "a0336668",
   "metadata": {},
   "outputs": [],
   "source": []
  },
  {
   "cell_type": "code",
   "execution_count": 11,
   "id": "d77b08cf",
   "metadata": {},
   "outputs": [
    {
     "name": "stdout",
     "output_type": "stream",
     "text": [
      "Please enter your department: technical\n",
      "Please enter your assigned number: 30\n",
      "Please enter your correct block\n"
     ]
    }
   ],
   "source": [
    "#Assigning employees to their respective offices\n",
    "#Company two dep - Technical and management\n",
    "#Technical - A and b(from 1 to 10 to A) (from 11 to 20 to B)\n",
    "#Management - C D E (from 1 to 10 to C) (from 11 to 20 to D) (from 21 to 30 to E)\n",
    "#Inputs are:DepName and Assigned number\n",
    "#Decision1: Check the department  name, tech, man, erro\n",
    "#Decision 2(Within decion1): Check assigned number (Depends on the office numbers)\n",
    "\n",
    "#Define inputs\n",
    "employeeDep = input(\"Please enter your department: \" )\n",
    "employeeNumber = int( input(\"Please enter your assigned number: \"))\n",
    "\n",
    "if employeeDep.lower() == \"technical\":\n",
    "    \n",
    "    \n",
    "    if employeeNumber>=1 and employeeNumber<= 10:\n",
    "        print(\"Proceed to block A\")\n",
    "    elif employeeNumber>=11 and employeeNumber<=20:\n",
    "        print (\"Proceed to block B\")\n",
    "    else:\n",
    "        print(\"Please enter your correct assigned number\")\n",
    "    \n",
    "    \n",
    "elif employeeDep.lower() == \"management\":\n",
    "    \n",
    "    \n",
    "    if employeeNumber>=1 and employeeNumber<= 10:\n",
    "        print(\"Proceed to block C\")\n",
    "    elif employeeNumber>=11 and employeeNumber<=20:\n",
    "        print (\"Proceed to block D\")\n",
    "    elif employeeNumber>=21 and employeeNumber<=30:\n",
    "        print (\"Proceed to block E\")\n",
    "    else:\n",
    "        print(\"Please enter your coorrect assigned number\")\n",
    "        \n",
    "        \n",
    "else:\n",
    "    print(\"Please enter the correct department name\")\n"
   ]
  },
  {
   "cell_type": "code",
   "execution_count": null,
   "id": "4ac6bd4d",
   "metadata": {},
   "outputs": [],
   "source": []
  },
  {
   "cell_type": "code",
   "execution_count": null,
   "id": "70611821",
   "metadata": {},
   "outputs": [],
   "source": []
  },
  {
   "cell_type": "code",
   "execution_count": null,
   "id": "e3d9eaa0",
   "metadata": {},
   "outputs": [],
   "source": []
  },
  {
   "cell_type": "code",
   "execution_count": null,
   "id": "e345ed64",
   "metadata": {},
   "outputs": [],
   "source": []
  },
  {
   "cell_type": "code",
   "execution_count": null,
   "id": "7fc52ba7",
   "metadata": {},
   "outputs": [],
   "source": []
  },
  {
   "cell_type": "code",
   "execution_count": null,
   "id": "c622e9ff",
   "metadata": {},
   "outputs": [],
   "source": []
  },
  {
   "cell_type": "code",
   "execution_count": null,
   "id": "9ab9650c",
   "metadata": {},
   "outputs": [],
   "source": []
  },
  {
   "cell_type": "code",
   "execution_count": null,
   "id": "e179ce96",
   "metadata": {},
   "outputs": [],
   "source": []
  },
  {
   "cell_type": "code",
   "execution_count": null,
   "id": "f1ad860a",
   "metadata": {},
   "outputs": [],
   "source": []
  }
 ],
 "metadata": {
  "kernelspec": {
   "display_name": "Python 3 (ipykernel)",
   "language": "python",
   "name": "python3"
  },
  "language_info": {
   "codemirror_mode": {
    "name": "ipython",
    "version": 3
   },
   "file_extension": ".py",
   "mimetype": "text/x-python",
   "name": "python",
   "nbconvert_exporter": "python",
   "pygments_lexer": "ipython3",
   "version": "3.10.9"
  }
 },
 "nbformat": 4,
 "nbformat_minor": 5
}
