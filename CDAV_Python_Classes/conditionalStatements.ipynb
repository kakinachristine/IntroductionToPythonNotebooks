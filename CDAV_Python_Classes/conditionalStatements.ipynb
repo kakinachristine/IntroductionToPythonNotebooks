{
 "cells": [
  {
   "cell_type": "markdown",
   "id": "01e7cc45",
   "metadata": {
    "pycharm": {
     "name": "#%% md\n"
    }
   },
   "source": [
    "# Conditional Statements \n",
    "In order to write useful programs, we almost always need the ability to check conditions\n",
    "and change the behavior of the program accordingly. **Conditional statements** give us this\n",
    "ability.\n",
    "\n",
    "\n",
    "\n",
    "Python supports the usual logical conditions from mathematics:\n",
    "\n",
    "- Equals: a == b\n",
    "- Not Equals: a != b\n",
    "- Less than: a < b\n",
    "- Less than or equal to: a <= b\n",
    "- Greater than: a > b\n",
    "- Greater than or equal to: a >= b\n",
    "The simplest form is the if statement:\n",
    "\n",
    "if x > 0:\n",
    "\n",
    "    print 'x is positive'\n",
    "    \n",
    "The boolean expression after if is called the condition. If it is true, then the indented\n",
    "statement gets executed. If not, nothing happens."
   ]
  },
  {
   "cell_type": "markdown",
   "id": "1d27b446",
   "metadata": {
    "pycharm": {
     "name": "#%% md\n"
    }
   },
   "source": [
    "### Simply: Conditional statements are used to make decisions and execute different blocks of codes based on conditions.\n",
    "\n",
    "## Types of conditional statements:\n",
    "#### If statements\n",
    "#### If else statements\n",
    "#### elif statements\n",
    "#### nested statements\n"
   ]
  },
  {
   "cell_type": "code",
   "execution_count": null,
   "id": "78bd48f3",
   "metadata": {
    "pycharm": {
     "name": "#%%\n"
    }
   },
   "outputs": [],
   "source": []
  },
  {
   "cell_type": "markdown",
   "id": "596b86ba",
   "metadata": {
    "pycharm": {
     "name": "#%% md\n"
    }
   },
   "source": [
    "## If statements\n",
    "\n",
    "#### This executes a block of code if the condition passed through it is **TRUE**\n",
    "\n",
    "#### Syntax:\n",
    "\n",
    "if **Condition** **:**\n",
    "\n",
    "    #Code to be executed"
   ]
  },
  {
   "cell_type": "code",
   "execution_count": 2,
   "id": "ad8831d4",
   "metadata": {
    "pycharm": {
     "name": "#%%\n"
    }
   },
   "outputs": [
    {
     "name": "stdout",
     "output_type": "stream",
     "text": [
      "This number is a negative number\n"
     ]
    }
   ],
   "source": [
    "#Check if a number is negative\n",
    "num = -1 \n",
    "if num<0 :\n",
    "    print(\"This number is a negative number\")"
   ]
  },
  {
   "cell_type": "code",
   "execution_count": 4,
   "id": "67d6b6f2",
   "metadata": {
    "pycharm": {
     "name": "#%%\n"
    }
   },
   "outputs": [
    {
     "name": "stdout",
     "output_type": "stream",
     "text": [
      "This number is a positive number\n"
     ]
    }
   ],
   "source": [
    "#Check if a number is positive\n",
    "num = 1 \n",
    "if num>0 :\n",
    "    print(\"This number is a positive number\")"
   ]
  },
  {
   "cell_type": "code",
   "execution_count": 6,
   "id": "58394f83",
   "metadata": {
    "pycharm": {
     "name": "#%%\n"
    }
   },
   "outputs": [],
   "source": [
    "#Check for a false state (Will print nothing hence bringing in the if else statement)\n",
    "num = -1 \n",
    "if num>0 :\n",
    "    print(\"This number is a positive number\")"
   ]
  },
  {
   "cell_type": "code",
   "execution_count": null,
   "id": "e3de79c1",
   "metadata": {
    "pycharm": {
     "name": "#%%\n"
    }
   },
   "outputs": [],
   "source": []
  },
  {
   "cell_type": "code",
   "execution_count": 9,
   "id": "63aa7b43",
   "metadata": {
    "pycharm": {
     "name": "#%%\n"
    }
   },
   "outputs": [
    {
     "name": "stdout",
     "output_type": "stream",
     "text": [
      "This number is negative\n"
     ]
    }
   ],
   "source": [
    "#If else statement\n",
    "num = -1 \n",
    "if num>0 :\n",
    "    print(\"This number is a positive number\")\n",
    "else:\n",
    "    print(\"This number is negative\")"
   ]
  },
  {
   "cell_type": "code",
   "execution_count": 13,
   "id": "46dbea1c",
   "metadata": {
    "pycharm": {
     "name": "#%%\n"
    }
   },
   "outputs": [
    {
     "name": "stdout",
     "output_type": "stream",
     "text": [
      "Enter a number 0\n",
      "The number is a zero\n"
     ]
    }
   ],
   "source": [
    "#elif statement\n",
    "num = int(input(\"Enter a number \"))\n",
    "if num>0 :\n",
    "    print(\"This number is a positive number\")\n",
    "      \n",
    "elif num<0:\n",
    "    print(\"This number is negative\")\n",
    "else:\n",
    "    print(\"The number is a zero\")"
   ]
  },
  {
   "cell_type": "code",
   "execution_count": null,
   "id": "dd981ec4",
   "metadata": {
    "pycharm": {
     "name": "#%%\n"
    }
   },
   "outputs": [],
   "source": []
  },
  {
   "cell_type": "code",
   "execution_count": null,
   "id": "b977d1b2",
   "metadata": {
    "pycharm": {
     "name": "#%%\n"
    }
   },
   "outputs": [],
   "source": []
  },
  {
   "cell_type": "code",
   "execution_count": null,
   "id": "cf24c16b",
   "metadata": {
    "pycharm": {
     "name": "#%%\n"
    }
   },
   "outputs": [],
   "source": []
  },
  {
   "cell_type": "code",
   "execution_count": 1,
   "id": "41ca94c9",
   "metadata": {
    "pycharm": {
     "name": "#%%\n"
    }
   },
   "outputs": [],
   "source": [
    "#Checking if a number is negative\n",
    "x = -9\n",
    "\n",
    "if x < 0:\n",
    "    print(\"X is a negative number\")\n"
   ]
  },
  {
   "cell_type": "code",
   "execution_count": null,
   "id": "bf1c5d63",
   "metadata": {
    "pycharm": {
     "name": "#%%\n"
    }
   },
   "outputs": [],
   "source": []
  },
  {
   "cell_type": "code",
   "execution_count": null,
   "id": "6af08799",
   "metadata": {
    "pycharm": {
     "name": "#%%\n"
    }
   },
   "outputs": [],
   "source": []
  },
  {
   "cell_type": "code",
   "execution_count": null,
   "id": "4e54690f",
   "metadata": {
    "pycharm": {
     "name": "#%%\n"
    }
   },
   "outputs": [],
   "source": []
  },
  {
   "cell_type": "code",
   "execution_count": null,
   "id": "97cf53c9",
   "metadata": {
    "pycharm": {
     "name": "#%%\n"
    }
   },
   "outputs": [],
   "source": []
  },
  {
   "cell_type": "markdown",
   "id": "4b7bf0a8",
   "metadata": {
    "pycharm": {
     "name": "#%% md\n"
    }
   },
   "source": [
    "## If else statements\n",
    "\n",
    "#### This executes the first block of code if the condition passed through it is **TRUE** and the other block if **FALSE**\n",
    "\n",
    "#### Syntax:\n",
    "if **Condition** **:**\n",
    "\n",
    "    #Code to be executed\n",
    "   \n",
    "else **:**\n",
    "\n",
    "    #Code to be executed"
   ]
  },
  {
   "cell_type": "code",
   "execution_count": null,
   "id": "e8164eb7",
   "metadata": {
    "pycharm": {
     "name": "#%%\n"
    }
   },
   "outputs": [],
   "source": []
  },
  {
   "cell_type": "code",
   "execution_count": null,
   "id": "82e94ad0",
   "metadata": {
    "pycharm": {
     "name": "#%%\n"
    }
   },
   "outputs": [],
   "source": [
    "#Checking if a number is negative or not\n",
    "x = 10\n",
    "\n",
    "if x > 0:\n",
    "    print(\"X is a positive number\")\n",
    "else:\n",
    "    print(\"X is a negative number\")"
   ]
  },
  {
   "cell_type": "code",
   "execution_count": null,
   "id": "827daf2a",
   "metadata": {
    "pycharm": {
     "name": "#%%\n"
    }
   },
   "outputs": [],
   "source": []
  },
  {
   "cell_type": "code",
   "execution_count": null,
   "id": "cf24474b",
   "metadata": {
    "pycharm": {
     "name": "#%%\n"
    }
   },
   "outputs": [],
   "source": []
  },
  {
   "cell_type": "markdown",
   "id": "5cf94fef",
   "metadata": {
    "pycharm": {
     "name": "#%% md\n"
    }
   },
   "source": [
    "## elif statements (If elif else)\n",
    "\n",
    "#### This is used when  there are multiple conditions to be checked. It allows you to specify multiple conditions (Not just two or three) and executes different blocks of code based on the first  condition that is  **TRUE**\n",
    "\n",
    "#### Syntax:\n",
    "if **Condition 1** **:**\n",
    "\n",
    "    #Code to be executed\n",
    "\n",
    "\n",
    "elif **Condition 2** **:**\n",
    "\n",
    "    #Code to be executed\n",
    "    \n",
    "   \n",
    "else **:**\n",
    "\n",
    "    #Code to be executed"
   ]
  },
  {
   "cell_type": "code",
   "execution_count": null,
   "id": "e4fd85bf",
   "metadata": {
    "pycharm": {
     "name": "#%%\n"
    }
   },
   "outputs": [],
   "source": []
  },
  {
   "cell_type": "code",
   "execution_count": null,
   "id": "624ce372",
   "metadata": {
    "pycharm": {
     "name": "#%%\n"
    }
   },
   "outputs": [],
   "source": [
    "\n",
    "x = 10\n",
    "\n",
    "if x > 0:\n",
    "    print(\"X is a positive number\")\n",
    "elif x <0:\n",
    "    print(\"X is a negative number\")\n",
    "else:\n",
    "    print(\"X is zero\")"
   ]
  },
  {
   "cell_type": "code",
   "execution_count": null,
   "id": "03241d6a",
   "metadata": {
    "pycharm": {
     "name": "#%%\n"
    }
   },
   "outputs": [],
   "source": []
  },
  {
   "cell_type": "code",
   "execution_count": null,
   "id": "27545477",
   "metadata": {
    "pycharm": {
     "name": "#%%\n"
    }
   },
   "outputs": [],
   "source": []
  },
  {
   "cell_type": "markdown",
   "id": "d672e33b",
   "metadata": {
    "pycharm": {
     "name": "#%% md\n"
    }
   },
   "source": [
    "## Nested Statements:\n",
    "#### These are statements used within statements."
   ]
  },
  {
   "cell_type": "code",
   "execution_count": null,
   "id": "8d76a55e",
   "metadata": {
    "pycharm": {
     "name": "#%%\n"
    }
   },
   "outputs": [],
   "source": []
  },
  {
   "cell_type": "code",
   "execution_count": null,
   "id": "86172134",
   "metadata": {
    "pycharm": {
     "name": "#%%\n"
    }
   },
   "outputs": [],
   "source": []
  },
  {
   "cell_type": "markdown",
   "id": "3e7b0011",
   "metadata": {
    "pycharm": {
     "name": "#%% md\n"
    }
   },
   "source": []
  },
  {
   "cell_type": "code",
   "execution_count": 4,
   "id": "4b351dae",
   "metadata": {
    "pycharm": {
     "name": "#%%\n"
    }
   },
   "outputs": [],
   "source": []
  },
  {
   "cell_type": "code",
   "execution_count": null,
   "id": "ebe894dc",
   "metadata": {
    "pycharm": {
     "name": "#%%\n"
    }
   },
   "outputs": [],
   "source": []
  }
 ],
 "metadata": {
  "kernelspec": {
   "display_name": "Python 3 (ipykernel)",
   "language": "python",
   "name": "python3"
  },
  "language_info": {
   "codemirror_mode": {
    "name": "ipython",
    "version": 3
   },
   "file_extension": ".py",
   "mimetype": "text/x-python",
   "name": "python",
   "nbconvert_exporter": "python",
   "pygments_lexer": "ipython3",
   "version": "3.10.9"
  }
 },
 "nbformat": 4,
 "nbformat_minor": 5
}