{
 "cells": [
  {
   "cell_type": "markdown",
   "id": "01e7cc45",
   "metadata": {},
   "source": [
    "# Conditional Statements \n",
    "In order to write useful programs, we almost always need the ability to check conditions\n",
    "and change the behavior of the program accordingly. **Conditional statements** give us this\n",
    "ability.\n",
    "\n",
    "Python supports the usual logical conditions from mathematics:\n",
    "\n",
    "- Equals: a == b\n",
    "- Not Equals: a != b\n",
    "- Less than: a < b\n",
    "- Less than or equal to: a <= b\n",
    "- Greater than: a > b\n",
    "- Greater than or equal to: a >= b\n",
    "The simplest form is the if statement:\n",
    "\n",
    "if x > 0:\n",
    "\n",
    "    print 'x is positive'\n",
    "    \n",
    "The boolean expression after if is called the condition. If it is true, then the indented\n",
    "statement gets executed. If not, nothing happens."
   ]
  },
  {
   "cell_type": "markdown",
   "id": "1d27b446",
   "metadata": {},
   "source": [
    "## Types of conditional statements:\n",
    "#### If statements\n",
    "#### If else statements\n",
    "#### elif statements\n",
    "#### nested statements\n"
   ]
  },
  {
   "cell_type": "code",
   "execution_count": 3,
   "id": "b05dd51a",
   "metadata": {},
   "outputs": [],
   "source": [
    "#Checking if a number is negative\n",
    "x = -9\n",
    "\n",
    "if x < 0:\n",
    "    print(\"X is a negative number\")\n",
    "\n"
   ]
  },
  {
   "cell_type": "code",
   "execution_count": 4,
   "id": "4b351dae",
   "metadata": {},
   "outputs": [],
   "source": [
    "#Checking if a number is negative or not\n",
    "x = 10\n",
    "\n",
    "if x > 0:\n",
    "    print(\"X is a positive number\")\n",
    "else:\n",
    "    print(\"X is a negative number\")"
   ]
  },
  {
   "cell_type": "code",
   "execution_count": null,
   "id": "ebe894dc",
   "metadata": {},
   "outputs": [],
   "source": []
  }
 ],
 "metadata": {
  "kernelspec": {
   "display_name": "Python 3 (ipykernel)",
   "language": "python",
   "name": "python3"
  },
  "language_info": {
   "codemirror_mode": {
    "name": "ipython",
    "version": 3
   },
   "file_extension": ".py",
   "mimetype": "text/x-python",
   "name": "python",
   "nbconvert_exporter": "python",
   "pygments_lexer": "ipython3",
   "version": "3.10.9"
  }
 },
 "nbformat": 4,
 "nbformat_minor": 5
}
