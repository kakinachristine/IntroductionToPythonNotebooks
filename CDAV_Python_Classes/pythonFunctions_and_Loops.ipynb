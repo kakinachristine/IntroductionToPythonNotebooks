{
 "cells": [
  {
   "cell_type": "markdown",
   "id": "2a81f696",
   "metadata": {},
   "source": [
    "# Functions \n",
    "Video Explanation: https://www.youtube.com/watch?v=wbsIEhDM_-0\n",
    "\n",
    "## Function Calls\n",
    "In the context of programming, a function is a named sequence of statements that performs a computation. When you define a function, you specify the name and the sequence of statements. Later, you can “call” the function by name\n",
    "\n",
    "\n",
    "\n",
    "#### syntax\n",
    "def name-function():\n",
    "\n",
    "    statement\n",
    "    return \n",
    "    \n",
    "name-function()\n",
    "\n",
    "\n",
    "You use functions in programming to bundle a set of instructions that you want to use repeatedly or that, because of their complexity, are better self-contained in a sub program and called when needed. Basically a function is piece of code written to carry out a specified task. \n",
    "\n",
    "#### There are three types of functions in python:-\n",
    "- **Built-in functions**: The Python interpreter has a number of functions and types built into it that are always available. For example: input(), int(), float(), len(), min(), max(). Check this link: https://docs.python.org/3/library/functions.html\n",
    "- **User-Defined Functions (UDFs)**: Functions the user creates to help them out.\n",
    "- **Anonymous functions**: also called lamda functions because  they are not declared with standard def keyword\n",
    "\n",
    "Advantages of Using functions:\n",
    " - allow division of work, work is divided into smaller manageable modules\n",
    " - avoid code replication\n",
    " - easy debug\n",
    " - reusability \n",
    " "
   ]
  },
  {
   "cell_type": "code",
   "execution_count": null,
   "id": "daaebe7e",
   "metadata": {},
   "outputs": [],
   "source": []
  },
  {
   "cell_type": "raw",
   "id": "bd416e2b",
   "metadata": {},
   "source": [
    "#Syntax of a function\n",
    "def function_name(parameters/ arguments):\n",
    "    #statement\n",
    "    return statement\n",
    "\n",
    "#call your function\n",
    "function_name(parameters/ arguments)"
   ]
  },
  {
   "cell_type": "code",
   "execution_count": null,
   "id": "f1c73fa0",
   "metadata": {},
   "outputs": [],
   "source": []
  },
  {
   "cell_type": "code",
   "execution_count": 17,
   "id": "775a9195",
   "metadata": {},
   "outputs": [
    {
     "data": {
      "text/plain": [
       "21"
      ]
     },
     "execution_count": 17,
     "metadata": {},
     "output_type": "execute_result"
    }
   ],
   "source": [
    "def addition(a,b,c,d):\n",
    "    sum = a+ b+c+d\n",
    "    return sum\n",
    "\n",
    "addition(2,5,8,6)\n"
   ]
  },
  {
   "cell_type": "code",
   "execution_count": null,
   "id": "d88c81ee",
   "metadata": {},
   "outputs": [],
   "source": []
  },
  {
   "cell_type": "code",
   "execution_count": null,
   "id": "34da3f52",
   "metadata": {},
   "outputs": [],
   "source": []
  },
  {
   "cell_type": "code",
   "execution_count": null,
   "id": "f8738df5",
   "metadata": {},
   "outputs": [],
   "source": []
  },
  {
   "cell_type": "code",
   "execution_count": 1,
   "id": "7d534ff8",
   "metadata": {},
   "outputs": [],
   "source": [
    "def greet(): # defining a function\n",
    "    print (\"Hello\") #function statement\n",
    "    print (\"How are you?\")"
   ]
  },
  {
   "cell_type": "code",
   "execution_count": 2,
   "id": "7dabdd4f",
   "metadata": {},
   "outputs": [
    {
     "name": "stdout",
     "output_type": "stream",
     "text": [
      "Hello\n",
      "How are you?\n"
     ]
    }
   ],
   "source": [
    "greet() #Calling the function"
   ]
  },
  {
   "cell_type": "code",
   "execution_count": null,
   "id": "0ce96573",
   "metadata": {},
   "outputs": [],
   "source": [
    "\n",
    "# You can call a function multiple times\n",
    "greet()\n",
    "greet()\n",
    "greet()\n",
    "greet()\n",
    "greet()\n",
    "greet()"
   ]
  },
  {
   "cell_type": "code",
   "execution_count": null,
   "id": "dce47b66",
   "metadata": {},
   "outputs": [],
   "source": []
  },
  {
   "cell_type": "code",
   "execution_count": 18,
   "id": "d877455b",
   "metadata": {},
   "outputs": [
    {
     "ename": "NameError",
     "evalue": "name 'your_name' is not defined",
     "output_type": "error",
     "traceback": [
      "\u001b[1;31m---------------------------------------------------------------------------\u001b[0m",
      "\u001b[1;31mNameError\u001b[0m                                 Traceback (most recent call last)",
      "Cell \u001b[1;32mIn[18], line 3\u001b[0m\n\u001b[0;32m      1\u001b[0m \u001b[38;5;66;03m# To use a function, you have to define it before calling it\u001b[39;00m\n\u001b[1;32m----> 3\u001b[0m \u001b[43myour_name\u001b[49m()\n\u001b[0;32m      5\u001b[0m \u001b[38;5;28;01mdef\u001b[39;00m \u001b[38;5;21myour_name\u001b[39m():\n\u001b[0;32m      6\u001b[0m     \u001b[38;5;28mprint\u001b[39m (\u001b[38;5;124m\"\u001b[39m\u001b[38;5;124mWhat is your name?\u001b[39m\u001b[38;5;124m\"\u001b[39m)\n",
      "\u001b[1;31mNameError\u001b[0m: name 'your_name' is not defined"
     ]
    }
   ],
   "source": [
    "# To use a function, you have to define it before calling it\n",
    "\n",
    "your_name()\n",
    "\n",
    "def your_name():\n",
    "    print (\"What is your name?\")"
   ]
  },
  {
   "cell_type": "code",
   "execution_count": null,
   "id": "e6c8116d",
   "metadata": {},
   "outputs": [],
   "source": []
  },
  {
   "cell_type": "code",
   "execution_count": null,
   "id": "0a93cd12",
   "metadata": {},
   "outputs": [],
   "source": [
    "#Correct way to call a function\n",
    "def your_name():\n",
    "    print(\" What is your name?\")\n",
    "    \n",
    "your_name()"
   ]
  },
  {
   "cell_type": "code",
   "execution_count": null,
   "id": "bbd0abeb",
   "metadata": {},
   "outputs": [],
   "source": []
  },
  {
   "cell_type": "code",
   "execution_count": null,
   "id": "cbf5f121",
   "metadata": {},
   "outputs": [],
   "source": []
  },
  {
   "cell_type": "code",
   "execution_count": null,
   "id": "24ab68ec",
   "metadata": {},
   "outputs": [],
   "source": [
    "# You can also pass arguments/Parameters to a function call\n",
    "def greetings (name): #the argument is transferred to a variable name\n",
    "    print(\"Hello\", name)\n",
    "    \n",
    "greetings(\"James\")"
   ]
  },
  {
   "cell_type": "code",
   "execution_count": null,
   "id": "56e30d83",
   "metadata": {},
   "outputs": [],
   "source": []
  },
  {
   "cell_type": "code",
   "execution_count": null,
   "id": "5d8fdd63",
   "metadata": {},
   "outputs": [],
   "source": [
    "def student (student):\n",
    "    print(\"Welcome to class,\", student)\n",
    "\n",
    "\n",
    "student(\"student\")"
   ]
  },
  {
   "cell_type": "code",
   "execution_count": null,
   "id": "bdcf9cbe",
   "metadata": {},
   "outputs": [],
   "source": []
  },
  {
   "cell_type": "code",
   "execution_count": null,
   "id": "35fe331f",
   "metadata": {},
   "outputs": [],
   "source": [
    "# While working with functions you can also pass multiple arguments\n",
    "def add_numbers(x,y,z):\n",
    "    result = x + y +z # statement of execution\n",
    "    print(\"The sum of the numbers is: \",result)\n",
    "    \n",
    "x= 6\n",
    "y= 9\n",
    "z = 10\n",
    "\n",
    "add_numbers(x,y,z)"
   ]
  },
  {
   "cell_type": "code",
   "execution_count": null,
   "id": "5710e33d",
   "metadata": {},
   "outputs": [],
   "source": []
  },
  {
   "cell_type": "code",
   "execution_count": null,
   "id": "80e6aca3",
   "metadata": {},
   "outputs": [],
   "source": [
    "#As you call a function, make sure you have the same number of parameters you had while defining .\n",
    "add_numbers(2,2)"
   ]
  },
  {
   "cell_type": "code",
   "execution_count": null,
   "id": "080698b8",
   "metadata": {},
   "outputs": [],
   "source": []
  },
  {
   "cell_type": "code",
   "execution_count": 5,
   "id": "2c163710",
   "metadata": {},
   "outputs": [],
   "source": [
    "def sum_numbers(*numbers):\n",
    "    total = 0\n",
    "    for num in numbers:\n",
    "        total += num\n",
    "    return total"
   ]
  },
  {
   "cell_type": "code",
   "execution_count": 8,
   "id": "d0c5d32b",
   "metadata": {},
   "outputs": [],
   "source": [
    "sum_numbers(10,6,7)"
   ]
  },
  {
   "cell_type": "code",
   "execution_count": null,
   "id": "d8962f37",
   "metadata": {},
   "outputs": [],
   "source": []
  },
  {
   "cell_type": "code",
   "execution_count": null,
   "id": "2134552e",
   "metadata": {},
   "outputs": [],
   "source": [
    "\n",
    "# To print out results of a function you can use a return statement\n",
    "def add_numbers(x,y):\n",
    "    #result = x + y # statment of execution\n",
    "    return x + y\n",
    "    \n",
    "x= 6\n",
    "y= 9\n",
    "\n",
    "add_numbers(x,y)"
   ]
  },
  {
   "cell_type": "code",
   "execution_count": null,
   "id": "354ae008",
   "metadata": {},
   "outputs": [],
   "source": []
  },
  {
   "cell_type": "markdown",
   "id": "ada12cda",
   "metadata": {},
   "source": [
    "A return statement is used to end the execution of the function call and “returns” the result (value of the expression following the return keyword) to the caller. The statements after the return statements are not executed\n",
    "\n",
    "**Note**: Return statement can not be used outside the function.\n",
    "\n",
    "Printing and returning are completely different concepts.\n",
    "\n",
    "*print* is a function you call. Calling print will immediately make your program write out text for you to see. Use print when you want to show a value to a human.\n",
    "\n",
    "*return* is a keyword. When a return statement is reached, Python will stop the execution of the current function, sending a value out to where the function was called. Use return when you want to send a value from one point in your code to another.\n",
    "\n",
    "When a function uses *print* the function will display the output on the screen, but it does not actually return a value that can be stored or used elsewhere in your program. This can be useful for debugging or for displaying information to the user.\n",
    "\n",
    "On the other hand, *return* sends a value back to the caller of the function, and the value can then be stored or used in another part of the program. When a function encounters a return statement, it immediately terminates and returns the specified value.\n",
    "\n",
    "Using return changes the flow of the program. Using print does not."
   ]
  },
  {
   "cell_type": "code",
   "execution_count": null,
   "id": "247861dc",
   "metadata": {},
   "outputs": [],
   "source": []
  },
  {
   "cell_type": "code",
   "execution_count": 19,
   "id": "65669130",
   "metadata": {},
   "outputs": [
    {
     "name": "stdout",
     "output_type": "stream",
     "text": [
      "Hello\n"
     ]
    }
   ],
   "source": [
    "\n",
    "# When the return statement is encountered the function terminates and goes back to the function call\n",
    "def greet(): # defining a function\n",
    "    print (\"Hello\") #function statement\n",
    "    return \n",
    "    print (\"How are you?\")\n",
    "    \n",
    "greet() #calling a function"
   ]
  },
  {
   "cell_type": "code",
   "execution_count": 20,
   "id": "8a3c1927",
   "metadata": {},
   "outputs": [
    {
     "name": "stdout",
     "output_type": "stream",
     "text": [
      "Hello\n",
      "How are you?\n"
     ]
    }
   ],
   "source": [
    "def greet(): # defining a function\n",
    "    print (\"Hello\") #function statement\n",
    "    print (\"How are you?\")\n",
    "    return \n",
    "    \n",
    "    \n",
    "greet() #calling a function"
   ]
  },
  {
   "cell_type": "code",
   "execution_count": null,
   "id": "20188b76",
   "metadata": {},
   "outputs": [],
   "source": []
  },
  {
   "cell_type": "code",
   "execution_count": null,
   "id": "81c68306",
   "metadata": {},
   "outputs": [],
   "source": []
  },
  {
   "cell_type": "code",
   "execution_count": 21,
   "id": "7dd82b22",
   "metadata": {},
   "outputs": [],
   "source": [
    "def evenOrOdd(n): # function definition with one parameter\n",
    "    if n % 2 == 0:\n",
    "        print(\"Number is even\")\n",
    "    else:\n",
    "        print(\"Number is odd\")"
   ]
  },
  {
   "cell_type": "code",
   "execution_count": null,
   "id": "2ca60601",
   "metadata": {},
   "outputs": [],
   "source": []
  },
  {
   "cell_type": "code",
   "execution_count": 22,
   "id": "51f86612",
   "metadata": {},
   "outputs": [
    {
     "name": "stdout",
     "output_type": "stream",
     "text": [
      "Number is odd\n"
     ]
    }
   ],
   "source": [
    "evenOrOdd(5)"
   ]
  },
  {
   "cell_type": "code",
   "execution_count": null,
   "id": "8d5f636e",
   "metadata": {},
   "outputs": [],
   "source": []
  },
  {
   "cell_type": "code",
   "execution_count": 23,
   "id": "f941f6d7",
   "metadata": {},
   "outputs": [
    {
     "name": "stdout",
     "output_type": "stream",
     "text": [
      "Number is even\n"
     ]
    }
   ],
   "source": [
    "evenOrOdd(6)"
   ]
  },
  {
   "cell_type": "code",
   "execution_count": 24,
   "id": "d01b913c",
   "metadata": {},
   "outputs": [
    {
     "name": "stdout",
     "output_type": "stream",
     "text": [
      "Enter a number: 30\n",
      "Number is even\n"
     ]
    }
   ],
   "source": [
    "#Can also have an argument as an input\n",
    "def evenOrOdd(n):\n",
    "    if n % 2 == 0:\n",
    "        print(\"Number is even\")\n",
    "    else:\n",
    "        print(\"Number is odd\")\n",
    "        \n",
    "n = int(input(\"Enter a number: \"))\n",
    "evenOrOdd(n)"
   ]
  },
  {
   "cell_type": "code",
   "execution_count": 25,
   "id": "1b69329c",
   "metadata": {},
   "outputs": [
    {
     "name": "stdout",
     "output_type": "stream",
     "text": [
      "Enter a number: 30\n",
      "Number is even\n"
     ]
    }
   ],
   "source": [
    "n = int(input(\"Enter a number: \"))\n",
    "\n",
    "def evenOrOdd(n):\n",
    "    if n % 2 == 0:\n",
    "        print(\"Number is even\")\n",
    "    else:\n",
    "        print(\"Number is odd\")\n",
    "        \n",
    "\n",
    "evenOrOdd(n)"
   ]
  },
  {
   "cell_type": "raw",
   "id": "373635f7",
   "metadata": {},
   "source": [
    "Global variable-  can be used in a function and can also be used outside a function\n",
    "local variables - CAN ONLY be used inside function"
   ]
  },
  {
   "cell_type": "code",
   "execution_count": 26,
   "id": "c5a258f6",
   "metadata": {},
   "outputs": [
    {
     "name": "stdout",
     "output_type": "stream",
     "text": [
      "Number is even\n",
      "The number is  entered is  30\n"
     ]
    }
   ],
   "source": [
    "#Global variable\n",
    "n = 30\n",
    "\n",
    "def evenOrOdd(n):\n",
    "    if n % 2 == 0:\n",
    "        print(\"Number is even\")\n",
    "    else:\n",
    "        print(\"Number is odd\")\n",
    "        \n",
    "evenOrOdd(n)\n",
    "\n",
    "print (\"The number is  entered is \", n)"
   ]
  },
  {
   "cell_type": "code",
   "execution_count": 1,
   "id": "8b2f7230",
   "metadata": {},
   "outputs": [
    {
     "ename": "NameError",
     "evalue": "name 'n' is not defined",
     "output_type": "error",
     "traceback": [
      "\u001b[1;31m---------------------------------------------------------------------------\u001b[0m",
      "\u001b[1;31mNameError\u001b[0m                                 Traceback (most recent call last)",
      "Cell \u001b[1;32mIn[1], line 9\u001b[0m\n\u001b[0;32m      5\u001b[0m     n \u001b[38;5;241m=\u001b[39m \u001b[38;5;241m30\u001b[39m\n\u001b[0;32m      6\u001b[0m     \u001b[38;5;28mprint\u001b[39m(n)\n\u001b[1;32m----> 9\u001b[0m \u001b[38;5;28mprint\u001b[39m (\u001b[38;5;124m\"\u001b[39m\u001b[38;5;124mThe number is  entered is \u001b[39m\u001b[38;5;124m\"\u001b[39m, \u001b[43mn\u001b[49m)\n",
      "\u001b[1;31mNameError\u001b[0m: name 'n' is not defined"
     ]
    }
   ],
   "source": [
    "#Local variable\n",
    "\n",
    "\n",
    "def evenOrOdd():\n",
    "    n = 30\n",
    "    print(n)\n",
    "        \n",
    "\n",
    "print (\"The number is  entered is \", n)"
   ]
  },
  {
   "cell_type": "code",
   "execution_count": null,
   "id": "f9e99914",
   "metadata": {},
   "outputs": [],
   "source": []
  },
  {
   "cell_type": "code",
   "execution_count": null,
   "id": "49842524",
   "metadata": {},
   "outputs": [],
   "source": []
  },
  {
   "cell_type": "code",
   "execution_count": 42,
   "id": "fa2df99a",
   "metadata": {},
   "outputs": [
    {
     "name": "stdout",
     "output_type": "stream",
     "text": [
      "I love me\n"
     ]
    }
   ],
   "source": [
    "#Global variable\n",
    "s = \"I love me\"\n",
    "def love():\n",
    "    # local variable\n",
    "   \n",
    "    print(\"Inside Function:\", s)\n",
    "\n",
    "print(s)"
   ]
  },
  {
   "cell_type": "code",
   "execution_count": null,
   "id": "4c366ee2",
   "metadata": {},
   "outputs": [],
   "source": []
  },
  {
   "cell_type": "code",
   "execution_count": null,
   "id": "70ddb3c2",
   "metadata": {},
   "outputs": [],
   "source": []
  },
  {
   "cell_type": "markdown",
   "id": "5ad92437",
   "metadata": {},
   "source": [
    "## Types of Functions"
   ]
  },
  {
   "cell_type": "markdown",
   "id": "a5a7a27d",
   "metadata": {},
   "source": [
    "#### Built-in Functions\n",
    "\n",
    "The Python interpreter has a number of functions and types built into it that are always available. For example: input(), int(), float(), len(), min(), max().\n",
    "\n",
    "\n",
    "#### User-Defined Functions\n",
    "How to define a function\n",
    "The four steps to defining a function in Python are the following:\n",
    "1. Use the keyword def to declare the function and follow this up with the function name.\n",
    "2. Add arguments to the function: they should be within the parentheses of the function.\n",
    "End your line with a colon.\n",
    "3. Add statements that the functions should execute.\n",
    "4. End your function with a return statement if the function should output something.\n",
    "Without the return statement, your function will return an object None.\n",
    "\n",
    "The Python **return** statement is a special statement that you can use inside a function or method to send the function’s result back to the caller. A return statement consists of the return keyword followed by an optional return value.\n",
    "\n",
    "You can omit the return value of a function and use a bare return without a return value. You can also omit the entire return statement. In both cases, the return value will be None.\n",
    "\n"
   ]
  },
  {
   "cell_type": "code",
   "execution_count": null,
   "id": "7c49d074",
   "metadata": {},
   "outputs": [],
   "source": []
  },
  {
   "cell_type": "code",
   "execution_count": null,
   "id": "104982cf",
   "metadata": {},
   "outputs": [],
   "source": [
    "# Simple function that performs a calculation\n",
    "def  summation(a,b):\n",
    "    return a+b\n",
    "\n",
    "summation(2,4)"
   ]
  },
  {
   "cell_type": "code",
   "execution_count": null,
   "id": "a3218592",
   "metadata": {},
   "outputs": [],
   "source": []
  },
  {
   "cell_type": "code",
   "execution_count": null,
   "id": "3bd6d5de",
   "metadata": {},
   "outputs": [],
   "source": [
    "#Inputs can either come before the function or before calling it\n",
    "a = int(input('a: '))\n",
    "b= int(input('b: '))\n",
    "\n",
    "def calculation(a,b):\n",
    "    return a + b\n",
    "    \n",
    "\n",
    "calculation(a,b)"
   ]
  },
  {
   "cell_type": "code",
   "execution_count": null,
   "id": "a1ee67e5",
   "metadata": {},
   "outputs": [],
   "source": []
  },
  {
   "cell_type": "markdown",
   "id": "edea6742",
   "metadata": {},
   "source": [
    "###### Global vs Local Variable\n",
    "In general, variables that are defined inside a function body have a local scope, and those defined outside have a global scope. That means that local variables are defined within a function block and can only be accessed inside that function, while global variables can be accessed by all functions that might be in your script"
   ]
  },
  {
   "cell_type": "code",
   "execution_count": null,
   "id": "a30cbcd6",
   "metadata": {},
   "outputs": [],
   "source": []
  },
  {
   "cell_type": "code",
   "execution_count": null,
   "id": "0e8a1255",
   "metadata": {},
   "outputs": [],
   "source": [
    "#Global Variable\n",
    "studentName = \"John\""
   ]
  },
  {
   "cell_type": "code",
   "execution_count": null,
   "id": "304641ce",
   "metadata": {},
   "outputs": [],
   "source": [
    "\n",
    "def printStudent():\n",
    "    print(\"This is inside a function:\", studentName)\n",
    "    \n",
    "printStudent()"
   ]
  },
  {
   "cell_type": "code",
   "execution_count": null,
   "id": "7bafa359",
   "metadata": {},
   "outputs": [],
   "source": [
    "#You can still use the global variable outside the function\n",
    "print(\"This is inside a function:\", studentName)"
   ]
  },
  {
   "cell_type": "code",
   "execution_count": null,
   "id": "b82266ae",
   "metadata": {},
   "outputs": [],
   "source": []
  },
  {
   "cell_type": "code",
   "execution_count": null,
   "id": "b61e7c6d",
   "metadata": {},
   "outputs": [],
   "source": [
    "#Local variable (In the case below location is a global variable)\n",
    "def studentHome():\n",
    "    location = \"Kijabe\"\n",
    "    print(\"This is inside a function:\", location)\n",
    "    \n",
    "studentHome()"
   ]
  },
  {
   "cell_type": "code",
   "execution_count": null,
   "id": "ef6d6b12",
   "metadata": {},
   "outputs": [],
   "source": [
    "#An error is generated when you try using the local variable outside the function\n",
    "print(\"This is inside a function:\", location)"
   ]
  },
  {
   "cell_type": "code",
   "execution_count": null,
   "id": "d1f32b93",
   "metadata": {},
   "outputs": [],
   "source": []
  },
  {
   "cell_type": "markdown",
   "id": "25f02fe8",
   "metadata": {},
   "source": [
    "#### Lambda Functions in Python\n",
    "Anonymous functions(anonymous because they are defined without a name) are also called lambda functions in Python because instead of declaring\n",
    "them with the standard def keyword, you use the lambda keyword.\n",
    "\n",
    "In the code below, x is the argument and, x * 2 is the expression or instance that gets evaluated and returned.\n",
    "\n",
    "\n",
    "    - defined using keyword 'lambda'\n",
    "    - return an expression and not a value\n",
    "    - one-line function\n",
    "    - take many number of arguments\n",
    "    - cannot access a global variable \n",
    "    - since functions are objects, they can be assigned to a variable. \n",
    "\n",
    "syntax: lambda arguments : expression\n",
    "    "
   ]
  },
  {
   "cell_type": "code",
   "execution_count": null,
   "id": "820e1764",
   "metadata": {},
   "outputs": [],
   "source": []
  },
  {
   "cell_type": "code",
   "execution_count": 32,
   "id": "864d1178",
   "metadata": {},
   "outputs": [
    {
     "data": {
      "text/plain": [
       "20"
      ]
     },
     "execution_count": 32,
     "metadata": {},
     "output_type": "execute_result"
    }
   ],
   "source": [
    "# For example the single line function below can be written as a lambda function\n",
    "\n",
    "def double(n):\n",
    "    return n*2\n",
    "\n",
    "double(10)"
   ]
  },
  {
   "cell_type": "code",
   "execution_count": null,
   "id": "8c4be9eb",
   "metadata": {},
   "outputs": [],
   "source": [
    "#As a lambda function:\n",
    "double = lambda n: n*2 # n in this case is the function parameter while n*2 is the return value\n",
    "\n",
    "double(10)"
   ]
  },
  {
   "cell_type": "code",
   "execution_count": null,
   "id": "fb5e5000",
   "metadata": {},
   "outputs": [],
   "source": []
  },
  {
   "cell_type": "code",
   "execution_count": 33,
   "id": "f6cbe1c1",
   "metadata": {},
   "outputs": [
    {
     "data": {
      "text/plain": [
       "5"
      ]
     },
     "execution_count": 33,
     "metadata": {},
     "output_type": "execute_result"
    }
   ],
   "source": [
    "def sum(a,b):\n",
    "    return a+b\n",
    "sum(3,2)"
   ]
  },
  {
   "cell_type": "code",
   "execution_count": 39,
   "id": "e9da17d8",
   "metadata": {},
   "outputs": [
    {
     "data": {
      "text/plain": [
       "3"
      ]
     },
     "execution_count": 39,
     "metadata": {},
     "output_type": "execute_result"
    }
   ],
   "source": [
    "sum = lambda a,b : a if a<b else b\n",
    "\n",
    "sum(4,3)"
   ]
  },
  {
   "cell_type": "code",
   "execution_count": null,
   "id": "80f1547f",
   "metadata": {},
   "outputs": [],
   "source": []
  },
  {
   "cell_type": "code",
   "execution_count": null,
   "id": "3fea2ce0",
   "metadata": {},
   "outputs": [],
   "source": []
  },
  {
   "cell_type": "code",
   "execution_count": null,
   "id": "046bdc27",
   "metadata": {},
   "outputs": [],
   "source": []
  },
  {
   "cell_type": "code",
   "execution_count": null,
   "id": "acb6b921",
   "metadata": {},
   "outputs": [],
   "source": []
  },
  {
   "cell_type": "code",
   "execution_count": null,
   "id": "a0845fc1",
   "metadata": {},
   "outputs": [],
   "source": []
  },
  {
   "cell_type": "code",
   "execution_count": null,
   "id": "e38af46f",
   "metadata": {},
   "outputs": [],
   "source": [
    "#You can pass multiple parameters/arguments while using lambda functions just like the normal functions\n",
    "#But they can only have one expression\n",
    "multiply = lambda x,y : x*y\n",
    "\n",
    "multiply(10,2)"
   ]
  },
  {
   "cell_type": "code",
   "execution_count": null,
   "id": "7cbcd1b4",
   "metadata": {},
   "outputs": [],
   "source": []
  },
  {
   "cell_type": "code",
   "execution_count": 11,
   "id": "ce1837f6",
   "metadata": {},
   "outputs": [],
   "source": [
    "\n",
    "larger = lambda a,b : a if a>b else b\n",
    "\n",
    "larger(5,3)"
   ]
  },
  {
   "cell_type": "code",
   "execution_count": null,
   "id": "c7fba780",
   "metadata": {},
   "outputs": [],
   "source": []
  },
  {
   "cell_type": "code",
   "execution_count": null,
   "id": "51fbb9d0",
   "metadata": {},
   "outputs": [],
   "source": [
    "sq = lambda x : x**2\n",
    "\n",
    "sq(7)"
   ]
  },
  {
   "cell_type": "code",
   "execution_count": null,
   "id": "5ee49096",
   "metadata": {},
   "outputs": [],
   "source": []
  },
  {
   "cell_type": "code",
   "execution_count": null,
   "id": "b6f44873",
   "metadata": {},
   "outputs": [],
   "source": []
  },
  {
   "cell_type": "code",
   "execution_count": null,
   "id": "bee20fe5",
   "metadata": {},
   "outputs": [],
   "source": []
  },
  {
   "cell_type": "code",
   "execution_count": null,
   "id": "885e24c7",
   "metadata": {},
   "outputs": [],
   "source": []
  },
  {
   "cell_type": "code",
   "execution_count": null,
   "id": "f19e03f6",
   "metadata": {},
   "outputs": [],
   "source": []
  },
  {
   "cell_type": "code",
   "execution_count": null,
   "id": "6132e2ba",
   "metadata": {},
   "outputs": [],
   "source": []
  },
  {
   "cell_type": "markdown",
   "id": "266a7fab",
   "metadata": {},
   "source": [
    "# LOOPS\n",
    "\n",
    " **Loops** are control structures that allow you to repeat a block of code multiple times.\n",
    "\n",
    " Loops allow us to perform repetitive tasks, iterate over a sequence of elements and repeatedly execute a code block until a certain condition is met.\n",
    "\n",
    "##### In python we have two loop types .\n",
    "- for loop\n",
    "- while loop"
   ]
  },
  {
   "cell_type": "code",
   "execution_count": null,
   "id": "4a002207",
   "metadata": {},
   "outputs": [],
   "source": []
  },
  {
   "cell_type": "markdown",
   "id": "2ab71091",
   "metadata": {},
   "source": [
    "### While Loop\n",
    "\n",
    "A **while loop** is used to repeatedly execute a block of code as long as a specified condition is true.\n",
    "\n",
    "When the condition becomes false, the line immediately after the loop in the program is executed\n",
    "\n",
    "It is mostly used when the number of iterations is unknown.\n",
    "\n",
    "##### while loop syntax\n",
    "#initial statement(where the range should start)\n",
    "\n",
    "while expression/condition:\n",
    "\n",
    "    # code block"
   ]
  },
  {
   "cell_type": "code",
   "execution_count": 8,
   "id": "45a0713a",
   "metadata": {},
   "outputs": [
    {
     "name": "stdout",
     "output_type": "stream",
     "text": [
      "0\n",
      "1\n",
      "2\n",
      "3\n",
      "4\n",
      "5\n",
      "6\n",
      "7\n",
      "8\n",
      "9\n",
      "10\n"
     ]
    }
   ],
   "source": [
    "#initialize the count from 0\n",
    "i = 0\n",
    "\n",
    "#While keyword and the expression\n",
    "while i<= 10:\n",
    "    \n",
    "    print (i)\n",
    "    #increment\n",
    "    i+=1\n",
    "    "
   ]
  },
  {
   "cell_type": "code",
   "execution_count": 7,
   "id": "c0f7902c",
   "metadata": {},
   "outputs": [
    {
     "name": "stdout",
     "output_type": "stream",
     "text": [
      "1\n",
      "2\n",
      "3\n",
      "4\n",
      "5\n",
      "6\n",
      "7\n",
      "8\n",
      "9\n",
      "10\n",
      "11\n"
     ]
    }
   ],
   "source": [
    "#initialize the count from 0\n",
    "i = 0\n",
    "\n",
    "#While keyword and the expression\n",
    "while i<= 10:\n",
    "    #increment\n",
    "    i+=1\n",
    "    print (i)\n",
    "    \n",
    "    "
   ]
  },
  {
   "cell_type": "code",
   "execution_count": null,
   "id": "e90660d4",
   "metadata": {},
   "outputs": [],
   "source": []
  },
  {
   "cell_type": "code",
   "execution_count": null,
   "id": "2d0ec72d",
   "metadata": {},
   "outputs": [],
   "source": []
  },
  {
   "cell_type": "code",
   "execution_count": null,
   "id": "2c9db5d5",
   "metadata": {},
   "outputs": [],
   "source": []
  },
  {
   "cell_type": "code",
   "execution_count": 12,
   "id": "6315553f",
   "metadata": {},
   "outputs": [
    {
     "name": "stdout",
     "output_type": "stream",
     "text": [
      "Hello Geek\n",
      "Hello Geek\n",
      "Hello Geek\n"
     ]
    }
   ],
   "source": [
    "\n",
    "count = 0\n",
    "while (count < 3):\n",
    "    \n",
    "    count = count + 1\n",
    "    \n",
    "    print(\"Hello Geek\")"
   ]
  },
  {
   "cell_type": "code",
   "execution_count": 9,
   "id": "04d23663",
   "metadata": {},
   "outputs": [
    {
     "name": "stdout",
     "output_type": "stream",
     "text": [
      "1\n",
      "2\n",
      "3\n",
      "4\n",
      "5\n"
     ]
    }
   ],
   "source": [
    "i = 1\n",
    "while i <= 5:\n",
    "    print(i)\n",
    "    i += 1"
   ]
  },
  {
   "cell_type": "code",
   "execution_count": null,
   "id": "ca683f00",
   "metadata": {},
   "outputs": [],
   "source": []
  },
  {
   "cell_type": "code",
   "execution_count": null,
   "id": "1ea0fec6",
   "metadata": {},
   "outputs": [],
   "source": []
  },
  {
   "cell_type": "code",
   "execution_count": null,
   "id": "c266e12d",
   "metadata": {},
   "outputs": [],
   "source": []
  },
  {
   "cell_type": "code",
   "execution_count": null,
   "id": "af18ce83",
   "metadata": {},
   "outputs": [],
   "source": []
  },
  {
   "cell_type": "code",
   "execution_count": null,
   "id": "be083e8c",
   "metadata": {},
   "outputs": [],
   "source": []
  },
  {
   "cell_type": "markdown",
   "id": "f7136eae",
   "metadata": {},
   "source": [
    "### For loop\n",
    "\n",
    "A **for loop** is used to iterate over a sequence (list, tuple, string).\n",
    "\n",
    "It executes a block of code for each item in the sequence.\n",
    "\n",
    "##### for loop syntax\n",
    "\n",
    "for item in sequence **:**\n",
    "\n",
    "\n",
    "    # code block"
   ]
  },
  {
   "cell_type": "markdown",
   "id": "00659727",
   "metadata": {},
   "source": [
    "#Initialize the sequence\n",
    "for  item in sequence:\n",
    "    #code to execute\n"
   ]
  },
  {
   "cell_type": "code",
   "execution_count": 10,
   "id": "645226fe",
   "metadata": {},
   "outputs": [
    {
     "name": "stdout",
     "output_type": "stream",
     "text": [
      "apple\n",
      "banana\n",
      "cherry\n"
     ]
    }
   ],
   "source": [
    "#fruits is a variable that contains a list of fruits\n",
    "\n",
    "fruits = [\"apple\", \"banana\", \"cherry\"]\n",
    "for fruit in fruits:\n",
    "    print(fruit)"
   ]
  },
  {
   "cell_type": "code",
   "execution_count": 14,
   "id": "094bf720",
   "metadata": {},
   "outputs": [
    {
     "name": "stdout",
     "output_type": "stream",
     "text": [
      "We have a two\n",
      "We have a two\n",
      "We have a two\n",
      "We have a two\n",
      "We have a two\n"
     ]
    }
   ],
   "source": [
    "#Checking for the 2s in list\n",
    "numbers = [1, 2, 3, 4, 5, 7, 8, 2, 3, 2, 2, 2]\n",
    "for i in numbers:\n",
    "    if i == 2:\n",
    "        print(\"We have a two\")\n",
    "    "
   ]
  },
  {
   "cell_type": "code",
   "execution_count": null,
   "id": "9f1bd254",
   "metadata": {},
   "outputs": [],
   "source": []
  },
  {
   "cell_type": "code",
   "execution_count": null,
   "id": "fbcbbc7d",
   "metadata": {},
   "outputs": [],
   "source": []
  },
  {
   "cell_type": "code",
   "execution_count": null,
   "id": "3841fd01",
   "metadata": {},
   "outputs": [],
   "source": []
  },
  {
   "cell_type": "code",
   "execution_count": null,
   "id": "6c154a1f",
   "metadata": {},
   "outputs": [],
   "source": []
  },
  {
   "cell_type": "code",
   "execution_count": null,
   "id": "e3910254",
   "metadata": {},
   "outputs": [],
   "source": []
  },
  {
   "cell_type": "code",
   "execution_count": null,
   "id": "42477228",
   "metadata": {},
   "outputs": [],
   "source": []
  },
  {
   "cell_type": "code",
   "execution_count": null,
   "id": "1bc71f04",
   "metadata": {},
   "outputs": [],
   "source": []
  },
  {
   "cell_type": "markdown",
   "id": "9081f4b1",
   "metadata": {},
   "source": [
    "## Loop Control Statements:\n",
    "\n",
    "\n",
    "\n",
    "#### Break and Continue statements\n",
    "The **break** statement is used to exit the loop prematurely. It terminates the loop entirely and resumes execution at the next statement after the loop.\n",
    "\n",
    "The **continue** statement is used to skip the remaining code in the current iteration of the loop and move to the next iteration."
   ]
  },
  {
   "cell_type": "code",
   "execution_count": null,
   "id": "50c7b306",
   "metadata": {},
   "outputs": [],
   "source": [
    "#Break statement\n",
    "numbers = [1, 2, 3, 4, 5]\n",
    "for number in numbers:\n",
    "    if number == 3:\n",
    "        break\n",
    "    print(number)"
   ]
  },
  {
   "cell_type": "code",
   "execution_count": null,
   "id": "e02414ba",
   "metadata": {},
   "outputs": [],
   "source": []
  },
  {
   "cell_type": "code",
   "execution_count": null,
   "id": "389dfa61",
   "metadata": {},
   "outputs": [],
   "source": [
    "#Continue statement\n",
    "numbers = [1, 2, 3, 4, 5]\n",
    "for number in numbers:\n",
    "    if number == 3:\n",
    "        continue\n",
    "    print(number)"
   ]
  },
  {
   "cell_type": "code",
   "execution_count": null,
   "id": "08c63741",
   "metadata": {},
   "outputs": [],
   "source": []
  },
  {
   "cell_type": "code",
   "execution_count": null,
   "id": "fe6afaf7",
   "metadata": {},
   "outputs": [],
   "source": []
  },
  {
   "cell_type": "code",
   "execution_count": null,
   "id": "40f68c78",
   "metadata": {},
   "outputs": [],
   "source": []
  },
  {
   "cell_type": "code",
   "execution_count": null,
   "id": "2c7b5a6c",
   "metadata": {},
   "outputs": [],
   "source": []
  }
 ],
 "metadata": {
  "kernelspec": {
   "display_name": "Python 3 (ipykernel)",
   "language": "python",
   "name": "python3"
  },
  "language_info": {
   "codemirror_mode": {
    "name": "ipython",
    "version": 3
   },
   "file_extension": ".py",
   "mimetype": "text/x-python",
   "name": "python",
   "nbconvert_exporter": "python",
   "pygments_lexer": "ipython3",
   "version": "3.10.9"
  }
 },
 "nbformat": 4,
 "nbformat_minor": 5
}
