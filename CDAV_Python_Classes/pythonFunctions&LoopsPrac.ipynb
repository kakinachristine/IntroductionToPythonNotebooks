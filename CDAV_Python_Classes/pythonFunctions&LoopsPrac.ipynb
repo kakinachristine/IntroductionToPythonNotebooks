{
 "cells": [
  {
   "cell_type": "markdown",
   "id": "f2ccfbd4",
   "metadata": {},
   "source": [
    "# Function Questions"
   ]
  },
  {
   "cell_type": "code",
   "execution_count": null,
   "id": "4ac91255",
   "metadata": {},
   "outputs": [],
   "source": []
  },
  {
   "cell_type": "code",
   "execution_count": null,
   "id": "2cf627c9",
   "metadata": {},
   "outputs": [],
   "source": []
  },
  {
   "cell_type": "markdown",
   "id": "00548cab",
   "metadata": {},
   "source": [
    "## Write a simple function to print a message:"
   ]
  },
  {
   "cell_type": "code",
   "execution_count": 3,
   "id": "1ddd791d",
   "metadata": {},
   "outputs": [
    {
     "name": "stdout",
     "output_type": "stream",
     "text": [
      "Please enter a message you would wish to print The weekend is here \n",
      "The weekend is here \n"
     ]
    }
   ],
   "source": [
    "#Define user input\n",
    "n = input(\"Please enter a message you would wish to print \")\n",
    "\n",
    "#Define function\n",
    "def message(n):\n",
    "    print(n)\n",
    "    \n",
    "message(n)\n"
   ]
  },
  {
   "cell_type": "code",
   "execution_count": null,
   "id": "3a33e7d8",
   "metadata": {},
   "outputs": [],
   "source": []
  },
  {
   "cell_type": "code",
   "execution_count": null,
   "id": "8e33f5f9",
   "metadata": {},
   "outputs": [],
   "source": []
  },
  {
   "cell_type": "markdown",
   "id": "1b023548",
   "metadata": {},
   "source": [
    "## Write a simple function to add two numbers"
   ]
  },
  {
   "cell_type": "code",
   "execution_count": 6,
   "id": "94f6f984",
   "metadata": {},
   "outputs": [
    {
     "name": "stdout",
     "output_type": "stream",
     "text": [
      "Please enter first number 200\n",
      "Please enter second number 300\n",
      "The sum of the nnumbers is  500.0\n"
     ]
    }
   ],
   "source": [
    "#define function\n",
    "def add_numbers(num1,num2):\n",
    "    add = num1 + num2\n",
    "    print(\"The sum of the nnumbers is \", add)\n",
    "    \n",
    "    \n",
    "#Define variables\n",
    "a = float(input(\"Please enter first number \"))\n",
    "b = float(input(\"Please enter second number \"))\n",
    "\n",
    "#Call the function\n",
    "add_numbers(a,b)"
   ]
  },
  {
   "cell_type": "code",
   "execution_count": null,
   "id": "057a3a2e",
   "metadata": {},
   "outputs": [],
   "source": []
  },
  {
   "cell_type": "code",
   "execution_count": null,
   "id": "fa9e21ba",
   "metadata": {},
   "outputs": [],
   "source": []
  },
  {
   "cell_type": "markdown",
   "id": "4de51361",
   "metadata": {},
   "source": [
    "## Write a function that prompts a user to enter two numbers and it calculates the sum, difference, product and quotient."
   ]
  },
  {
   "cell_type": "raw",
   "id": "3813cb2e",
   "metadata": {},
   "source": [
    "def function_name(parameters):\n",
    "  # block of code\n",
    "  return\n",
    "function_name(parameters)\n",
    "\n",
    "Functions:\n",
    "in-built functions \n",
    "user defined functions\n",
    "lambda functions\n"
   ]
  },
  {
   "cell_type": "code",
   "execution_count": 6,
   "id": "42635554",
   "metadata": {},
   "outputs": [
    {
     "data": {
      "text/plain": [
       "500"
      ]
     },
     "execution_count": 6,
     "metadata": {},
     "output_type": "execute_result"
    }
   ],
   "source": []
  },
  {
   "cell_type": "code",
   "execution_count": null,
   "id": "7f1a6eea",
   "metadata": {},
   "outputs": [],
   "source": []
  },
  {
   "cell_type": "code",
   "execution_count": 4,
   "id": "a4eb5040",
   "metadata": {},
   "outputs": [],
   "source": [
    "#Calculator function\n",
    " \n",
    "def calculator(userNum1,userNum2):\n",
    "    \n",
    "    #Calculation\n",
    "    addition = userNum1 + userNum2\n",
    "    subtraction = userNum1 - userNum2\n",
    "    multiplication = userNum1 * userNum2\n",
    "    division = userNum1 / userNum2\n",
    "    \n",
    "    #Output\n",
    "    print(\"The sum is: \",addition)\n",
    "    print(\"The difference is: \",subtraction)\n",
    "    print(\"The product is: \",multiplication)\n",
    "    print(\"The quotient is: \",division)\n",
    "\n"
   ]
  },
  {
   "cell_type": "code",
   "execution_count": 8,
   "id": "557e27ae",
   "metadata": {},
   "outputs": [
    {
     "name": "stdout",
     "output_type": "stream",
     "text": [
      "Please enter you first number: 300\n",
      "Please enter you second number: 500\n",
      "The sum is:  800\n",
      "The difference is:  -200\n",
      "The product is:  150000\n",
      "The quotient is:  0.6\n"
     ]
    }
   ],
   "source": [
    "#User inputs\n",
    "userInput1 =int(input(\"Please enter you first number: \"))\n",
    "userInput2 =int(input(\"Please enter you second number: \"))\n",
    "\n",
    "#Call the function\n",
    "calculator(userInput1,userInput2)"
   ]
  },
  {
   "cell_type": "markdown",
   "id": "63d9a539",
   "metadata": {},
   "source": [
    "## Write a Python function to find the maximum of three numbers"
   ]
  },
  {
   "cell_type": "code",
   "execution_count": 1,
   "id": "d822dbc1",
   "metadata": {},
   "outputs": [
    {
     "name": "stdout",
     "output_type": "stream",
     "text": [
      "Please enter your first number: 20\n",
      "Please enter your second number: 39\n",
      "Please enter your third number: 50\n"
     ]
    },
    {
     "data": {
      "text/plain": [
       "50"
      ]
     },
     "execution_count": 1,
     "metadata": {},
     "output_type": "execute_result"
    }
   ],
   "source": [
    "\n",
    "#Define the function\n",
    "def maximum_number(num1,num2,num3):\n",
    "    \n",
    "    #Using max()in-built function\n",
    "    larger = max(num1,num2,num3)\n",
    "    return larger\n",
    "\n",
    "\n",
    "#Defining user inputs\n",
    "userNum1 = int(input(\"Please enter your first number: \"))\n",
    "userNum2 = int(input(\"Please enter your second number: \"))\n",
    "userNum3 = int(input(\"Please enter your third number: \"))\n",
    "\n",
    "\n",
    "#Call the function\n",
    "maximum_number(userNum1,userNum2,userNum3)\n",
    "\n",
    "\n",
    "\n"
   ]
  },
  {
   "cell_type": "code",
   "execution_count": null,
   "id": "0d035581",
   "metadata": {},
   "outputs": [],
   "source": []
  },
  {
   "cell_type": "code",
   "execution_count": 6,
   "id": "2fd1af61",
   "metadata": {},
   "outputs": [
    {
     "name": "stdout",
     "output_type": "stream",
     "text": [
      "50\n",
      "That is the sum\n",
      "That is the sum\n",
      "That is the sum\n",
      "That is the sum\n"
     ]
    }
   ],
   "source": [
    "a = 20\n",
    "b = 30\n",
    "\n",
    "def sum(c,d):\n",
    "    addition = c+d\n",
    "    print(addition)\n",
    "    print(\"That is the sum\")\n",
    "    print(\"That is the sum\")\n",
    "    print(\"That is the sum\")\n",
    "    print(\"That is the sum\")\n",
    "    \n",
    "sum(a,b)"
   ]
  },
  {
   "cell_type": "code",
   "execution_count": 7,
   "id": "add49033",
   "metadata": {},
   "outputs": [
    {
     "data": {
      "text/plain": [
       "50"
      ]
     },
     "execution_count": 7,
     "metadata": {},
     "output_type": "execute_result"
    }
   ],
   "source": [
    "a = 20\n",
    "b = 30\n",
    "\n",
    "def sum(c,d):\n",
    "    addition = c+d\n",
    "    return addition\n",
    "    print(\"That is the sum\")\n",
    "    \n",
    "sum(a,b)"
   ]
  },
  {
   "cell_type": "code",
   "execution_count": null,
   "id": "a714c3e6",
   "metadata": {},
   "outputs": [],
   "source": []
  },
  {
   "cell_type": "code",
   "execution_count": null,
   "id": "c39869c0",
   "metadata": {},
   "outputs": [],
   "source": []
  },
  {
   "cell_type": "code",
   "execution_count": null,
   "id": "3ce4197b",
   "metadata": {},
   "outputs": [],
   "source": []
  },
  {
   "cell_type": "code",
   "execution_count": null,
   "id": "66bb49bd",
   "metadata": {},
   "outputs": [],
   "source": []
  },
  {
   "cell_type": "code",
   "execution_count": null,
   "id": "b236fa5a",
   "metadata": {},
   "outputs": [],
   "source": []
  },
  {
   "cell_type": "code",
   "execution_count": null,
   "id": "44025bd1",
   "metadata": {},
   "outputs": [],
   "source": []
  },
  {
   "cell_type": "code",
   "execution_count": null,
   "id": "c5ac02d1",
   "metadata": {},
   "outputs": [],
   "source": []
  },
  {
   "cell_type": "code",
   "execution_count": null,
   "id": "91e3fd06",
   "metadata": {},
   "outputs": [],
   "source": []
  },
  {
   "cell_type": "markdown",
   "id": "b0c8d8c2",
   "metadata": {},
   "source": [
    "# Loop questions"
   ]
  },
  {
   "cell_type": "code",
   "execution_count": null,
   "id": "2eab94aa",
   "metadata": {},
   "outputs": [],
   "source": []
  },
  {
   "cell_type": "code",
   "execution_count": null,
   "id": "d820e747",
   "metadata": {},
   "outputs": [],
   "source": []
  },
  {
   "cell_type": "markdown",
   "id": "28208000",
   "metadata": {},
   "source": [
    "## Write a python program that prompts the user to enter an integer. Using loops write a program that iterates through each number from 1 to the integer input by the user and print all the even numbers."
   ]
  },
  {
   "cell_type": "code",
   "execution_count": 7,
   "id": "b9a17f13",
   "metadata": {},
   "outputs": [
    {
     "name": "stdout",
     "output_type": "stream",
     "text": [
      "Please enter an integer: 20\n",
      "2  is an even number.\n",
      "4  is an even number.\n",
      "6  is an even number.\n",
      "8  is an even number.\n",
      "10  is an even number.\n",
      "12  is an even number.\n",
      "14  is an even number.\n",
      "16  is an even number.\n",
      "18  is an even number.\n",
      "20  is an even number.\n"
     ]
    }
   ],
   "source": [
    "#Print even numbers from a user input\n",
    "#Define user variables\n",
    "\n",
    "userNumber = int(input(\"Please enter an integer: \"))\n",
    "\n",
    "#Using a while loop\n",
    "evenNumber = 1\n",
    "\n",
    "while evenNumber<= userNumber:\n",
    "    if evenNumber %2 == 0:\n",
    "        print(evenNumber,\" is an even number.\")\n",
    "        \n",
    "    evenNumber+=1\n",
    "    "
   ]
  },
  {
   "cell_type": "code",
   "execution_count": null,
   "id": "196030eb",
   "metadata": {},
   "outputs": [],
   "source": []
  },
  {
   "cell_type": "code",
   "execution_count": null,
   "id": "82c03a4c",
   "metadata": {},
   "outputs": [],
   "source": []
  },
  {
   "cell_type": "code",
   "execution_count": null,
   "id": "57a8b7cd",
   "metadata": {},
   "outputs": [],
   "source": []
  },
  {
   "cell_type": "code",
   "execution_count": null,
   "id": "b8407467",
   "metadata": {},
   "outputs": [],
   "source": []
  },
  {
   "cell_type": "markdown",
   "id": "757aa5c3",
   "metadata": {},
   "source": [
    "## Write a program that prompts the user to enter an integer n. Using loops, generate and display the multiplication table for numbers from 1 to 5 ."
   ]
  },
  {
   "cell_type": "code",
   "execution_count": 9,
   "id": "8f0b33b2",
   "metadata": {},
   "outputs": [
    {
     "name": "stdout",
     "output_type": "stream",
     "text": [
      "Please enter a number30\n",
      "The multiplication table for  30  is:\n",
      "30 x 1 = 30\n",
      "30 x 2 = 60\n",
      "30 x 3 = 90\n",
      "30 x 4 = 120\n",
      "30 x 5 = 150\n"
     ]
    }
   ],
   "source": [
    "#Define user input\n",
    "n =int(input(\"Please enter a number\"))\n",
    "\n",
    "print(\"The multiplication table for \",n,\" is:\" )\n",
    "\n",
    "#for loop\n",
    "\n",
    "for number in range(1,6):\n",
    "    #Calculation\n",
    "    multiplication = n * number\n",
    "    print(n, \"x\", number,\"=\", multiplication)\n",
    "\n",
    "\n",
    "\n"
   ]
  },
  {
   "cell_type": "code",
   "execution_count": null,
   "id": "2b4fee5c",
   "metadata": {},
   "outputs": [],
   "source": []
  },
  {
   "cell_type": "code",
   "execution_count": null,
   "id": "a7ae1d0f",
   "metadata": {},
   "outputs": [],
   "source": []
  },
  {
   "cell_type": "code",
   "execution_count": null,
   "id": "d942e7c9",
   "metadata": {},
   "outputs": [],
   "source": []
  },
  {
   "cell_type": "code",
   "execution_count": null,
   "id": "7ac6bfae",
   "metadata": {},
   "outputs": [],
   "source": []
  }
 ],
 "metadata": {
  "kernelspec": {
   "display_name": "Python 3 (ipykernel)",
   "language": "python",
   "name": "python3"
  },
  "language_info": {
   "codemirror_mode": {
    "name": "ipython",
    "version": 3
   },
   "file_extension": ".py",
   "mimetype": "text/x-python",
   "name": "python",
   "nbconvert_exporter": "python",
   "pygments_lexer": "ipython3",
   "version": "3.10.9"
  }
 },
 "nbformat": 4,
 "nbformat_minor": 5
}
