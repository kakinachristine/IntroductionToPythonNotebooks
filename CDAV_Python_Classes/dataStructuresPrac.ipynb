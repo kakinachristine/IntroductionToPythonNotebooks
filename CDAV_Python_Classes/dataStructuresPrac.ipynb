{
 "cells": [
  {
   "cell_type": "markdown",
   "id": "6ac9ec4f",
   "metadata": {},
   "source": [
    "# Data Stuructures Short Notes\n",
    "**Data structures** - these are a way of organizing data for easier manipulation.\n",
    "\n",
    "##### Types of Data structures in python\n",
    "- Lists\n",
    "- Tuples\n",
    "- Dictionaries\n",
    "- Sets"
   ]
  },
  {
   "cell_type": "code",
   "execution_count": null,
   "id": "6f1fa3f6",
   "metadata": {},
   "outputs": [],
   "source": []
  },
  {
   "cell_type": "markdown",
   "id": "4278544b",
   "metadata": {},
   "source": [
    "### Lists:\n",
    "- Lists  are mutable (you can make changes to the items in the lists) and ordered (The items in a list are indexed, indexing starts from zero)\n",
    "\n",
    "##### Using Python, create a list of  all the months in a year .\n"
   ]
  },
  {
   "cell_type": "raw",
   "id": "4de31e7f",
   "metadata": {},
   "source": [
    "# Ways of creating lists:\n",
    "- using the list() inbuilt function\n",
    "- using the square brackets"
   ]
  },
  {
   "cell_type": "code",
   "execution_count": 32,
   "id": "4caf1460",
   "metadata": {},
   "outputs": [
    {
     "name": "stdout",
     "output_type": "stream",
     "text": [
      "['jan', 'feb', 'mar', 'apr', 'may', 'jun', 'jul', 'aug', 'sep', 'oct', 'nov', 'dec']\n"
     ]
    },
    {
     "data": {
      "text/plain": [
       "list"
      ]
     },
     "execution_count": 32,
     "metadata": {},
     "output_type": "execute_result"
    }
   ],
   "source": [
    "months = [\"jan\",\"feb\",\"mar\",\"apr\",\"may\",\"jun\",\"jul\",\"aug\",\"sep\",\"oct\",\"nov\",\"dec\"]\n",
    "\n",
    "print(months)\n",
    "type(months)"
   ]
  },
  {
   "cell_type": "code",
   "execution_count": 2,
   "id": "18454732",
   "metadata": {},
   "outputs": [
    {
     "data": {
      "text/plain": [
       "list"
      ]
     },
     "execution_count": 2,
     "metadata": {},
     "output_type": "execute_result"
    }
   ],
   "source": [
    "month = [\"jan\",\"feb\",\"mar\",\"apr\",\"may\",\"jun\",\"jul\",\"aug\",\"sep\",\"oct\",\"nov\",\"dec\"]\n",
    "months1 = list(month)\n",
    "\n",
    "type(months1)"
   ]
  },
  {
   "cell_type": "code",
   "execution_count": null,
   "id": "8b0f1545",
   "metadata": {},
   "outputs": [],
   "source": []
  },
  {
   "cell_type": "code",
   "execution_count": null,
   "id": "fc3b17ec",
   "metadata": {},
   "outputs": [],
   "source": []
  },
  {
   "cell_type": "code",
   "execution_count": null,
   "id": "865aa7dc",
   "metadata": {},
   "outputs": [],
   "source": []
  },
  {
   "cell_type": "raw",
   "id": "3a9c501c",
   "metadata": {},
   "source": [
    "#Ways of accessing items in a list.\n",
    "- You use square brackets and indices\n",
    "\n"
   ]
  },
  {
   "cell_type": "code",
   "execution_count": 5,
   "id": "a95e2bba",
   "metadata": {},
   "outputs": [
    {
     "data": {
      "text/plain": [
       "'dec'"
      ]
     },
     "execution_count": 5,
     "metadata": {},
     "output_type": "execute_result"
    }
   ],
   "source": [
    "months = [\"jan\",\"feb\",\"mar\",\"apr\",\"may\",\"jun\",\"jul\",\"aug\",\"sep\",\"oct\",\"nov\",\"dec\"]\n",
    "\n",
    "months[-1]"
   ]
  },
  {
   "cell_type": "raw",
   "id": "aacbd49a",
   "metadata": {},
   "source": [
    "#If you want to check if an item is a list you use \"in\""
   ]
  },
  {
   "cell_type": "code",
   "execution_count": 6,
   "id": "6c97466b",
   "metadata": {},
   "outputs": [
    {
     "data": {
      "text/plain": [
       "True"
      ]
     },
     "execution_count": 6,
     "metadata": {},
     "output_type": "execute_result"
    }
   ],
   "source": [
    "\"jan\" in months"
   ]
  },
  {
   "cell_type": "code",
   "execution_count": 7,
   "id": "23e8eb30",
   "metadata": {},
   "outputs": [
    {
     "data": {
      "text/plain": [
       "True"
      ]
     },
     "execution_count": 7,
     "metadata": {},
     "output_type": "execute_result"
    }
   ],
   "source": [
    "\"may\" in months"
   ]
  },
  {
   "cell_type": "code",
   "execution_count": 8,
   "id": "eae0b9b1",
   "metadata": {},
   "outputs": [
    {
     "data": {
      "text/plain": [
       "False"
      ]
     },
     "execution_count": 8,
     "metadata": {},
     "output_type": "execute_result"
    }
   ],
   "source": [
    "\"May\" in months"
   ]
  },
  {
   "cell_type": "code",
   "execution_count": null,
   "id": "8a473f4d",
   "metadata": {},
   "outputs": [],
   "source": []
  },
  {
   "cell_type": "code",
   "execution_count": null,
   "id": "9a212e5f",
   "metadata": {},
   "outputs": [],
   "source": []
  },
  {
   "cell_type": "code",
   "execution_count": null,
   "id": "6cc93469",
   "metadata": {},
   "outputs": [],
   "source": []
  },
  {
   "cell_type": "raw",
   "id": "5a6510c6",
   "metadata": {},
   "source": [
    "#Traversing:\n",
    "- you use for loops.\n",
    "- one can also do calculations or have expressions other than print in the loop"
   ]
  },
  {
   "cell_type": "code",
   "execution_count": 11,
   "id": "caccf77d",
   "metadata": {},
   "outputs": [
    {
     "name": "stdout",
     "output_type": "stream",
     "text": [
      "jan\n",
      "feb\n",
      "mar\n",
      "apr\n",
      "may\n",
      "jun\n",
      "jul\n",
      "aug\n",
      "sep\n",
      "oct\n",
      "nov\n",
      "dec\n"
     ]
    }
   ],
   "source": [
    "months = [\"jan\",\"feb\",\"mar\",\"apr\",\"may\",\"jun\",\"jul\",\"aug\",\"sep\",\"oct\",\"nov\",\"dec\"]\n",
    "\n",
    "for month in months:\n",
    "    \n",
    "    print (month)\n"
   ]
  },
  {
   "cell_type": "code",
   "execution_count": 12,
   "id": "135fa06a",
   "metadata": {},
   "outputs": [
    {
     "name": "stdout",
     "output_type": "stream",
     "text": [
      "1\n",
      "3\n",
      "5\n",
      "7\n",
      "9\n"
     ]
    }
   ],
   "source": [
    "numbers = [1,2,3,4,5,6,7,8,9,10]\n",
    "for number in numbers:\n",
    "    if number %2 != 0:\n",
    "        print(number)\n"
   ]
  },
  {
   "cell_type": "code",
   "execution_count": null,
   "id": "762858c6",
   "metadata": {},
   "outputs": [],
   "source": []
  },
  {
   "cell_type": "code",
   "execution_count": null,
   "id": "e3b0276d",
   "metadata": {},
   "outputs": [],
   "source": []
  },
  {
   "cell_type": "code",
   "execution_count": null,
   "id": "5c8ba98e",
   "metadata": {},
   "outputs": [],
   "source": []
  },
  {
   "cell_type": "code",
   "execution_count": null,
   "id": "2cc248c8",
   "metadata": {},
   "outputs": [],
   "source": []
  },
  {
   "cell_type": "markdown",
   "id": "d319327a",
   "metadata": {},
   "source": [
    "#### Create a list  and append  all odd numbers from one to 20. "
   ]
  },
  {
   "cell_type": "code",
   "execution_count": 13,
   "id": "dd23f1e7",
   "metadata": {},
   "outputs": [
    {
     "data": {
      "text/plain": [
       "[1, 3, 5, 7, 9, 11, 13, 15, 17, 19]"
      ]
     },
     "execution_count": 13,
     "metadata": {},
     "output_type": "execute_result"
    }
   ],
   "source": [
    "numbers = [1,2,3,4,5,6,7,8,9,10,11,12,13,14,15,16,17,18,19,20]\n",
    "\n",
    "#Have an empty list that we are to append to\n",
    "odd_numbers =[]\n",
    "\n",
    "for number in numbers:\n",
    "    if number %2 != 0:\n",
    "        odd_numbers.append(number)\n",
    "        \n",
    "odd_numbers"
   ]
  },
  {
   "cell_type": "code",
   "execution_count": null,
   "id": "b5a258e2",
   "metadata": {},
   "outputs": [],
   "source": []
  },
  {
   "cell_type": "raw",
   "id": "ba1d68e0",
   "metadata": {},
   "source": [
    "#You can use range() and  len()inbuilt functions\n",
    "\n",
    "for i in range(len(list))\n",
    "#Range() starts from zero and excludes the last\n",
    "#Len() prints the  total number of items in a list which is 'n' and with indices the last item is n-1.\n"
   ]
  },
  {
   "cell_type": "code",
   "execution_count": 14,
   "id": "b584f4f2",
   "metadata": {},
   "outputs": [
    {
     "data": {
      "text/plain": [
       "[1, 3, 5, 7, 9, 11, 13, 15, 17, 19]"
      ]
     },
     "execution_count": 14,
     "metadata": {},
     "output_type": "execute_result"
    }
   ],
   "source": [
    "numbers = [1,2,3,4,5,6,7,8,9,10,11,12,13,14,15,16,17,18,19,20]\n",
    "#Have an empty list that we are to append to\n",
    "odd_numbers =[]\n",
    "\n",
    "for number in range(len(numbers)):\n",
    "    if number %2 != 0:\n",
    "        odd_numbers.append(number)\n",
    "        \n",
    "odd_numbers"
   ]
  },
  {
   "cell_type": "code",
   "execution_count": 15,
   "id": "137f2eaa",
   "metadata": {},
   "outputs": [
    {
     "data": {
      "text/plain": [
       "[1, 3, 5, 7, 9, 11, 13, 15, 17, 19]"
      ]
     },
     "execution_count": 15,
     "metadata": {},
     "output_type": "execute_result"
    }
   ],
   "source": [
    "numbers = [1,2,3,4,5,6,7,8,9,10,11,12,13,14,15,16,17,18,19,20]\n",
    "#Have an empty list that we are to append to\n",
    "odd_numbers =[]\n",
    "\n",
    "for number in range(21):\n",
    "    if number %2 != 0:\n",
    "        odd_numbers.append(number)\n",
    "        \n",
    "odd_numbers"
   ]
  },
  {
   "cell_type": "markdown",
   "id": "958ff579",
   "metadata": {},
   "source": [
    "## Operations in lists"
   ]
  },
  {
   "cell_type": "markdown",
   "id": "02a9ca77",
   "metadata": {},
   "source": [
    "##### Create two lists of the months and dates from one to 10"
   ]
  },
  {
   "cell_type": "raw",
   "id": "41d7b6e4",
   "metadata": {},
   "source": [
    "+ this concatenates \n",
    "* this repeats"
   ]
  },
  {
   "cell_type": "code",
   "execution_count": 16,
   "id": "82173b91",
   "metadata": {},
   "outputs": [
    {
     "data": {
      "text/plain": [
       "12"
      ]
     },
     "execution_count": 16,
     "metadata": {},
     "output_type": "execute_result"
    }
   ],
   "source": [
    "months = [\"jan\",\"feb\",\"mar\",\"apr\",\"may\",\"jun\",\"jul\",\"aug\",\"sep\",\"oct\",\"nov\",\"dec\"]\n",
    "len(months)"
   ]
  },
  {
   "cell_type": "code",
   "execution_count": 17,
   "id": "af365cfc",
   "metadata": {},
   "outputs": [
    {
     "data": {
      "text/plain": [
       "10"
      ]
     },
     "execution_count": 17,
     "metadata": {},
     "output_type": "execute_result"
    }
   ],
   "source": [
    "dates = [1,2,3,4,5,6,7,8,9,10]\n",
    "len (dates)"
   ]
  },
  {
   "cell_type": "code",
   "execution_count": 18,
   "id": "7d176185",
   "metadata": {},
   "outputs": [
    {
     "name": "stdout",
     "output_type": "stream",
     "text": [
      "[1, 2, 3, 4, 5, 6, 7, 8, 9, 10, 'jan', 'feb', 'mar', 'apr', 'may', 'jun', 'jul', 'aug', 'sep', 'oct', 'nov', 'dec']\n"
     ]
    }
   ],
   "source": [
    "calender = dates + months\n",
    "print (calender)"
   ]
  },
  {
   "cell_type": "code",
   "execution_count": 19,
   "id": "8b7ac757",
   "metadata": {},
   "outputs": [
    {
     "data": {
      "text/plain": [
       "list"
      ]
     },
     "execution_count": 19,
     "metadata": {},
     "output_type": "execute_result"
    }
   ],
   "source": [
    "type(calender)"
   ]
  },
  {
   "cell_type": "code",
   "execution_count": 22,
   "id": "0aa98c12",
   "metadata": {},
   "outputs": [
    {
     "name": "stdout",
     "output_type": "stream",
     "text": [
      "[1, 2, 3, 4, 5, 6, 7, 8, 9, 10, 1, 2, 3, 4, 5, 6, 7, 8, 9, 10, 1, 2, 3, 4, 5, 6, 7, 8, 9, 10]\n"
     ]
    },
    {
     "data": {
      "text/plain": [
       "30"
      ]
     },
     "execution_count": 22,
     "metadata": {},
     "output_type": "execute_result"
    }
   ],
   "source": [
    "dates = [1,2,3,4,5,6,7,8,9,10]\n",
    "dates1 = dates*3\n",
    "print (dates1)\n",
    "len (dates1)"
   ]
  },
  {
   "cell_type": "code",
   "execution_count": null,
   "id": "726d5645",
   "metadata": {},
   "outputs": [],
   "source": []
  },
  {
   "cell_type": "code",
   "execution_count": null,
   "id": "ad0f6304",
   "metadata": {},
   "outputs": [],
   "source": []
  },
  {
   "cell_type": "code",
   "execution_count": null,
   "id": "75b52237",
   "metadata": {},
   "outputs": [],
   "source": []
  },
  {
   "cell_type": "raw",
   "id": "37083814",
   "metadata": {},
   "source": [
    "#Slicing \n",
    "Slicing is done using square brackets and enter the items you would like to slice using their indices.\n",
    "Slicing includes the first index and excludes the last."
   ]
  },
  {
   "cell_type": "code",
   "execution_count": 30,
   "id": "5500bce9",
   "metadata": {},
   "outputs": [],
   "source": [
    "months = [\"jan\",\"feb\",\"mar\",\"apr\",\"may\",\"jun\",\"jul\",\"aug\",\"sep\",\"oct\",\"nov\",\"dec\"]"
   ]
  },
  {
   "cell_type": "code",
   "execution_count": 31,
   "id": "fb397497",
   "metadata": {},
   "outputs": [
    {
     "data": {
      "text/plain": [
       "6"
      ]
     },
     "execution_count": 31,
     "metadata": {},
     "output_type": "execute_result"
    }
   ],
   "source": [
    "months.index(\"jul\")"
   ]
  },
  {
   "cell_type": "code",
   "execution_count": 32,
   "id": "7abc2768",
   "metadata": {},
   "outputs": [
    {
     "data": {
      "text/plain": [
       "'dec'"
      ]
     },
     "execution_count": 32,
     "metadata": {},
     "output_type": "execute_result"
    }
   ],
   "source": [
    "month[0:7]"
   ]
  },
  {
   "cell_type": "markdown",
   "id": "2fa1dbfa",
   "metadata": {},
   "source": [
    "### List Methods"
   ]
  },
  {
   "cell_type": "raw",
   "id": "aa622e0a",
   "metadata": {},
   "source": [
    "Most common:"
   ]
  },
  {
   "cell_type": "code",
   "execution_count": 33,
   "id": "e4b7dde7",
   "metadata": {},
   "outputs": [
    {
     "name": "stdout",
     "output_type": "stream",
     "text": [
      "[4, 3, 2, 1]\n"
     ]
    }
   ],
   "source": [
    "# reverse() - writes the items in reverse\n",
    "list = [1,2,3,4]\n",
    "list.reverse()\n",
    "print(list)"
   ]
  },
  {
   "cell_type": "code",
   "execution_count": 36,
   "id": "7ab6f2b2",
   "metadata": {},
   "outputs": [
    {
     "data": {
      "text/plain": [
       "[1, 2, 3, 4, 10]"
      ]
     },
     "execution_count": 36,
     "metadata": {},
     "output_type": "execute_result"
    }
   ],
   "source": [
    "# append() - this adds SINGLE items to a list.\n",
    "# If you try appending a list to a list it adds the list as a single item\n",
    "list1 = [1,2,3,4]\n",
    "list_number = 10\n",
    "list2 = [5,6,7,8,9]\n",
    "\n",
    "list1.append(list_number)\n",
    "list1\n"
   ]
  },
  {
   "cell_type": "code",
   "execution_count": 3,
   "id": "c94effc9",
   "metadata": {},
   "outputs": [
    {
     "data": {
      "text/plain": [
       "4"
      ]
     },
     "execution_count": 3,
     "metadata": {},
     "output_type": "execute_result"
    }
   ],
   "source": [
    "list1 = [1,2,3,4]\n",
    "len(list1)\n"
   ]
  },
  {
   "cell_type": "code",
   "execution_count": 3,
   "id": "fa8cf99e",
   "metadata": {},
   "outputs": [
    {
     "data": {
      "text/plain": [
       "[1, 2, 3, 4, [5, 6, 7, 8, 9]]"
      ]
     },
     "execution_count": 3,
     "metadata": {},
     "output_type": "execute_result"
    }
   ],
   "source": [
    "list1 = [1,2,3,4]\n",
    "list3 = [5,6,7,8,9]\n",
    "list1.append(list3)\n",
    "\n",
    "list1\n"
   ]
  },
  {
   "cell_type": "code",
   "execution_count": 6,
   "id": "632d78b5",
   "metadata": {},
   "outputs": [
    {
     "data": {
      "text/plain": [
       "6"
      ]
     },
     "execution_count": 6,
     "metadata": {},
     "output_type": "execute_result"
    }
   ],
   "source": [
    "len(list1)"
   ]
  },
  {
   "cell_type": "code",
   "execution_count": null,
   "id": "388540a3",
   "metadata": {},
   "outputs": [],
   "source": []
  },
  {
   "cell_type": "code",
   "execution_count": 1,
   "id": "2f1ba7b1",
   "metadata": {},
   "outputs": [
    {
     "data": {
      "text/plain": [
       "[1, 2, 3, 4, 5, 6, 7, 8, 9]"
      ]
     },
     "execution_count": 1,
     "metadata": {},
     "output_type": "execute_result"
    }
   ],
   "source": [
    "# extends() - this adds items to a list individually.\n",
    "# If you try extending a list on a list it adds every item in the list as a single item\n",
    "list1 = [1,2,3,4]\n",
    "list3 = [5,6,7,8,9]\n",
    "\n",
    "list1.extend(list3)\n",
    "\n",
    "list1\n"
   ]
  },
  {
   "cell_type": "code",
   "execution_count": 2,
   "id": "17aa7959",
   "metadata": {},
   "outputs": [
    {
     "data": {
      "text/plain": [
       "9"
      ]
     },
     "execution_count": 2,
     "metadata": {},
     "output_type": "execute_result"
    }
   ],
   "source": [
    "len(list1)"
   ]
  },
  {
   "cell_type": "code",
   "execution_count": null,
   "id": "60e0998a",
   "metadata": {},
   "outputs": [],
   "source": [
    "# index() - this checks the index of an item. It has a single argument.\n",
    "\n"
   ]
  },
  {
   "cell_type": "code",
   "execution_count": 4,
   "id": "51731e50",
   "metadata": {},
   "outputs": [
    {
     "data": {
      "text/plain": [
       "[5, 6, 34, 7, 8, 9]"
      ]
     },
     "execution_count": 4,
     "metadata": {},
     "output_type": "execute_result"
    }
   ],
   "source": [
    "# insert() - used to add an item to the list and allows you to specify the place you would like to\n",
    "# place the item using indices. \n",
    "# It takes two arguments: insert(index,\"item\")\n",
    "\n",
    "\n",
    "list3 = [5,6,7,8,9]\n",
    "list3.insert(2,34)\n",
    "list3"
   ]
  },
  {
   "cell_type": "code",
   "execution_count": 5,
   "id": "8f029772",
   "metadata": {},
   "outputs": [
    {
     "data": {
      "text/plain": [
       "8"
      ]
     },
     "execution_count": 5,
     "metadata": {},
     "output_type": "execute_result"
    }
   ],
   "source": [
    "# count()- counts the number an item has been used in a list.\n",
    "\n",
    "list3 = [5,6,7,8,9,9,9,9,9,9,9,9]\n",
    "list3.count(9)"
   ]
  },
  {
   "cell_type": "code",
   "execution_count": 4,
   "id": "63cf59ea",
   "metadata": {},
   "outputs": [
    {
     "data": {
      "text/plain": [
       "[-1, 5, 6, 7, 8, 9, 9, 9, 9, 9, 9, 9, 9, 12, 20, 34, 50]"
      ]
     },
     "execution_count": 4,
     "metadata": {},
     "output_type": "execute_result"
    }
   ],
   "source": [
    "#sort()- re-arranges your items in order.\n",
    "list3 = [5,6,7,8,9,9,9,9,9,9,9,9,34, 20,50,12,-1]\n",
    "\n",
    "list3.sort()\n",
    "list3"
   ]
  },
  {
   "cell_type": "code",
   "execution_count": null,
   "id": "2ec6f5ad",
   "metadata": {},
   "outputs": [],
   "source": []
  },
  {
   "cell_type": "raw",
   "id": "cafd4678",
   "metadata": {},
   "source": [
    "#List Comprehension\n",
    "- This an easier way of writing a loop and appending the outputs to a list.\n",
    "- The original way makes the code slower as the interpreter works on each loop to append.\n",
    "- To make the operation a bit faster their is an easier way to do this:\n",
    "      [i for i in range(50)if i%2==0]"
   ]
  },
  {
   "cell_type": "code",
   "execution_count": null,
   "id": "8b3478fc",
   "metadata": {},
   "outputs": [],
   "source": []
  },
  {
   "cell_type": "markdown",
   "id": "2240c22b",
   "metadata": {},
   "source": [
    "### Using python, write a function using loops to append even numbers to range(50) to a list."
   ]
  },
  {
   "cell_type": "code",
   "execution_count": 5,
   "id": "3ed491c2",
   "metadata": {},
   "outputs": [
    {
     "data": {
      "text/plain": [
       "[0,\n",
       " 2,\n",
       " 4,\n",
       " 6,\n",
       " 8,\n",
       " 10,\n",
       " 12,\n",
       " 14,\n",
       " 16,\n",
       " 18,\n",
       " 20,\n",
       " 22,\n",
       " 24,\n",
       " 26,\n",
       " 28,\n",
       " 30,\n",
       " 32,\n",
       " 34,\n",
       " 36,\n",
       " 38,\n",
       " 40,\n",
       " 42,\n",
       " 44,\n",
       " 46,\n",
       " 48,\n",
       " 50]"
      ]
     },
     "execution_count": 5,
     "metadata": {},
     "output_type": "execute_result"
    }
   ],
   "source": [
    "#To see how long it takes for calculation we will the time import.\n",
    "#original way:\n",
    "\n",
    "even= []\n",
    "for number in range(51):\n",
    "    if number%2==0:\n",
    "        even.append(number)\n",
    "even"
   ]
  },
  {
   "cell_type": "code",
   "execution_count": 12,
   "id": "7808d4db",
   "metadata": {},
   "outputs": [
    {
     "data": {
      "text/plain": [
       "[0,\n",
       " 2,\n",
       " 4,\n",
       " 6,\n",
       " 8,\n",
       " 10,\n",
       " 12,\n",
       " 14,\n",
       " 16,\n",
       " 18,\n",
       " 20,\n",
       " 22,\n",
       " 24,\n",
       " 26,\n",
       " 28,\n",
       " 30,\n",
       " 32,\n",
       " 34,\n",
       " 36,\n",
       " 38,\n",
       " 40,\n",
       " 42,\n",
       " 44,\n",
       " 46,\n",
       " 48]"
      ]
     },
     "execution_count": 12,
     "metadata": {},
     "output_type": "execute_result"
    }
   ],
   "source": [
    "#using list comprehension:\n",
    "\n",
    "even = [i for i in range(50)if i%2 ==0]\n",
    "even\n"
   ]
  },
  {
   "cell_type": "code",
   "execution_count": null,
   "id": "8b725144",
   "metadata": {},
   "outputs": [],
   "source": []
  },
  {
   "cell_type": "markdown",
   "id": "7167e204",
   "metadata": {},
   "source": [
    "# Tuples:\n",
    "\n",
    "- Tuples are ordered and immutable(we cannot make changes to the code)\n"
   ]
  },
  {
   "cell_type": "code",
   "execution_count": null,
   "id": "47d0e1ab",
   "metadata": {},
   "outputs": [],
   "source": []
  },
  {
   "cell_type": "markdown",
   "id": "33db3c08",
   "metadata": {},
   "source": [
    "##### Using Python, create a tuple of  all the months in a year ."
   ]
  },
  {
   "cell_type": "raw",
   "id": "f17677f3",
   "metadata": {},
   "source": [
    "#Creating a tuple \n",
    "- using parentheses  and commas. Its not a must to use parentheses.\n",
    "- use the tuple () function.\n",
    "\n",
    "#Check type of data structure using type() function."
   ]
  },
  {
   "cell_type": "code",
   "execution_count": 7,
   "id": "46db087b",
   "metadata": {},
   "outputs": [
    {
     "data": {
      "text/plain": [
       "tuple"
      ]
     },
     "execution_count": 7,
     "metadata": {},
     "output_type": "execute_result"
    }
   ],
   "source": [
    "months = [\"jan\",\"feb\",\"mar\",\"apr\",\"may\",\"jun\",\"jul\",\"aug\",\"sep\",\"oct\",\"nov\",\"dec\"]\n",
    "months_tuple = tuple(months)\n",
    "type(months_tuple)"
   ]
  },
  {
   "cell_type": "code",
   "execution_count": 6,
   "id": "a900575d",
   "metadata": {},
   "outputs": [
    {
     "data": {
      "text/plain": [
       "tuple"
      ]
     },
     "execution_count": 6,
     "metadata": {},
     "output_type": "execute_result"
    }
   ],
   "source": [
    "months = (\"jan\",\"feb\",\"mar\",\"apr\",\"may\",\"jun\",\"jul\",\"aug\",\"sep\",\"oct\",\"nov\",\"dec\")\n",
    "type(months)"
   ]
  },
  {
   "cell_type": "code",
   "execution_count": 8,
   "id": "4bbb6d71",
   "metadata": {},
   "outputs": [
    {
     "data": {
      "text/plain": [
       "tuple"
      ]
     },
     "execution_count": 8,
     "metadata": {},
     "output_type": "execute_result"
    }
   ],
   "source": [
    "months = \"jan\",\"feb\",\"mar\",\"apr\",\"may\",\"jun\",\"jul\",\"aug\",\"sep\",\"oct\",\"nov\",\"dec\"\n",
    "type(months)"
   ]
  },
  {
   "cell_type": "code",
   "execution_count": null,
   "id": "c0f0c179",
   "metadata": {},
   "outputs": [],
   "source": []
  },
  {
   "cell_type": "code",
   "execution_count": null,
   "id": "04734921",
   "metadata": {},
   "outputs": [],
   "source": []
  },
  {
   "cell_type": "code",
   "execution_count": null,
   "id": "9f261691",
   "metadata": {},
   "outputs": [],
   "source": []
  },
  {
   "cell_type": "code",
   "execution_count": null,
   "id": "7ef8ca23",
   "metadata": {},
   "outputs": [],
   "source": []
  },
  {
   "cell_type": "code",
   "execution_count": null,
   "id": "ac84cd48",
   "metadata": {},
   "outputs": [],
   "source": []
  },
  {
   "cell_type": "code",
   "execution_count": 9,
   "id": "a2446a67",
   "metadata": {},
   "outputs": [
    {
     "data": {
      "text/plain": [
       "12"
      ]
     },
     "execution_count": 9,
     "metadata": {},
     "output_type": "execute_result"
    }
   ],
   "source": [
    "#Check out the number of items used in the tuple using the len()function.\n",
    "\n",
    "months = (\"jan\",\"feb\",\"mar\",\"apr\",\"may\",\"jun\",\"jul\",\"aug\",\"sep\",\"oct\",\"nov\",\"dec\")\n",
    "len(months)"
   ]
  },
  {
   "cell_type": "code",
   "execution_count": 15,
   "id": "ed5fd5d6",
   "metadata": {},
   "outputs": [
    {
     "data": {
      "text/plain": [
       "('jul', 'aug', 'sep', 'oct', 'nov', 'dec')"
      ]
     },
     "execution_count": 15,
     "metadata": {},
     "output_type": "execute_result"
    }
   ],
   "source": [
    "#Slicing the tuple using indices.\n",
    "\n",
    "months[6:13]"
   ]
  },
  {
   "cell_type": "markdown",
   "id": "3f8e28e0",
   "metadata": {},
   "source": [
    "### Tuple Assignment"
   ]
  },
  {
   "cell_type": "raw",
   "id": "529b4560",
   "metadata": {},
   "source": [
    "Tuples allow us to assign values to items.\n",
    "\n",
    "student, interest, food = \"Geraldine\",\"Read\",\"Potatoes\""
   ]
  },
  {
   "cell_type": "markdown",
   "id": "d938f058",
   "metadata": {},
   "source": [
    "###### Assign students 5 python units to go read and present to a class."
   ]
  },
  {
   "cell_type": "code",
   "execution_count": 16,
   "id": "8e297e58",
   "metadata": {},
   "outputs": [],
   "source": [
    "John, James, Mary, Maria, Yusuf = \"Conditional statements\", \"Loops\", \"Variables\",\"Oparations\",\"Errors\""
   ]
  },
  {
   "cell_type": "code",
   "execution_count": 17,
   "id": "3cf42432",
   "metadata": {},
   "outputs": [
    {
     "name": "stdout",
     "output_type": "stream",
     "text": [
      "Oparations\n"
     ]
    }
   ],
   "source": [
    "print(Maria)"
   ]
  },
  {
   "cell_type": "code",
   "execution_count": 18,
   "id": "69d2a327",
   "metadata": {},
   "outputs": [
    {
     "name": "stdout",
     "output_type": "stream",
     "text": [
      "Errors\n"
     ]
    }
   ],
   "source": [
    "print(Yusuf)"
   ]
  },
  {
   "cell_type": "code",
   "execution_count": null,
   "id": "3ca8fcfe",
   "metadata": {},
   "outputs": [],
   "source": []
  },
  {
   "cell_type": "markdown",
   "id": "fa5a48c3",
   "metadata": {},
   "source": [
    "### Tuple Methods"
   ]
  },
  {
   "cell_type": "raw",
   "id": "30c914a4",
   "metadata": {},
   "source": [
    "-Tuples are immutable hence we only have two methods."
   ]
  },
  {
   "cell_type": "code",
   "execution_count": null,
   "id": "f6dfe62e",
   "metadata": {},
   "outputs": [],
   "source": [
    "# count() - counts the number an item has been used in a tuple. Has one argument.\n",
    "\n"
   ]
  },
  {
   "cell_type": "code",
   "execution_count": null,
   "id": "cdd627b4",
   "metadata": {},
   "outputs": [],
   "source": [
    "#index() - Returns the index of an item/ element. Has two arguments\n",
    "\n"
   ]
  },
  {
   "cell_type": "code",
   "execution_count": null,
   "id": "10454b4a",
   "metadata": {},
   "outputs": [],
   "source": []
  },
  {
   "cell_type": "markdown",
   "id": "aee5aaeb",
   "metadata": {},
   "source": [
    "# Dictionaries:\n",
    "- They are lists but a bit more general.\n",
    "- They use keys: values."
   ]
  },
  {
   "cell_type": "raw",
   "id": "4a9a3cb3",
   "metadata": {},
   "source": [
    "#Creating a dictionary\n",
    "-Using curly brackets {}\n",
    "-Using the dict() function"
   ]
  },
  {
   "cell_type": "markdown",
   "id": "3576f35f",
   "metadata": {},
   "source": [
    "######  Create a dictionary of 5 students that  assigns each student 5 python units to cover."
   ]
  },
  {
   "cell_type": "code",
   "execution_count": 21,
   "id": "97b2ad48",
   "metadata": {},
   "outputs": [
    {
     "name": "stdout",
     "output_type": "stream",
     "text": [
      "{'John': 'Conditional statements', 'James': 'Loops', 'Mary': 'Variables', 'Maria': 'Oparations', 'Yusuf': 'Errors'}\n"
     ]
    }
   ],
   "source": [
    "\n",
    "\n",
    "students = {\"John\":\"Conditional statements\",\n",
    "           \"James\":\"Loops\",\n",
    "           \"Mary\":\"Variables\",\n",
    "           \"Maria\":\"Oparations\",\n",
    "           \"Yusuf\":\"Errors\"}\n",
    "print(students)"
   ]
  },
  {
   "cell_type": "raw",
   "id": "38366393",
   "metadata": {},
   "source": [
    "#Accessing a value.\n",
    "-Access a value using its key. Hence keys should be unique.\n",
    "-Using 'in'. Use the key also."
   ]
  },
  {
   "cell_type": "code",
   "execution_count": 22,
   "id": "90215ae1",
   "metadata": {},
   "outputs": [
    {
     "data": {
      "text/plain": [
       "'Conditional statements'"
      ]
     },
     "execution_count": 22,
     "metadata": {},
     "output_type": "execute_result"
    }
   ],
   "source": [
    "students[\"John\"]"
   ]
  },
  {
   "cell_type": "code",
   "execution_count": 23,
   "id": "f8a96bac",
   "metadata": {},
   "outputs": [
    {
     "data": {
      "text/plain": [
       "'Oparations'"
      ]
     },
     "execution_count": 23,
     "metadata": {},
     "output_type": "execute_result"
    }
   ],
   "source": [
    "students[\"Maria\"]"
   ]
  },
  {
   "cell_type": "code",
   "execution_count": 24,
   "id": "98258630",
   "metadata": {},
   "outputs": [
    {
     "data": {
      "text/plain": [
       "True"
      ]
     },
     "execution_count": 24,
     "metadata": {},
     "output_type": "execute_result"
    }
   ],
   "source": [
    "\"Maria\" in students"
   ]
  },
  {
   "cell_type": "code",
   "execution_count": 25,
   "id": "f4bd49dd",
   "metadata": {},
   "outputs": [
    {
     "data": {
      "text/plain": [
       "False"
      ]
     },
     "execution_count": 25,
     "metadata": {},
     "output_type": "execute_result"
    }
   ],
   "source": [
    "\"Joseph\" in students\n"
   ]
  },
  {
   "cell_type": "code",
   "execution_count": null,
   "id": "42f57def",
   "metadata": {},
   "outputs": [],
   "source": []
  },
  {
   "cell_type": "raw",
   "id": "08c878ef",
   "metadata": {},
   "source": [
    "# Add an entry to the dictionary:\n",
    "-use dict['key'] = 'value'"
   ]
  },
  {
   "cell_type": "code",
   "execution_count": 26,
   "id": "58356284",
   "metadata": {},
   "outputs": [
    {
     "name": "stdout",
     "output_type": "stream",
     "text": [
      "{'John': 'Conditional statements', 'James': 'Loops', 'Mary': 'Variables', 'Maria': 'Oparations', 'Yusuf': 'Errors', 'Joseph': 'Python basics'}\n"
     ]
    }
   ],
   "source": [
    "students[\"Joseph\"] =\"Python basics\"\n",
    "print(students)"
   ]
  },
  {
   "cell_type": "raw",
   "id": "4b8ebd88",
   "metadata": {},
   "source": [
    "#Delete an item:\n",
    "-use the del to delete an item:\n",
    "    del dict[\"key\"]"
   ]
  },
  {
   "cell_type": "code",
   "execution_count": 27,
   "id": "17bfa845",
   "metadata": {},
   "outputs": [
    {
     "name": "stdout",
     "output_type": "stream",
     "text": [
      "{'John': 'Conditional statements', 'James': 'Loops', 'Mary': 'Variables', 'Maria': 'Oparations', 'Yusuf': 'Errors'}\n"
     ]
    }
   ],
   "source": [
    "del students[\"Joseph\"]\n",
    "print (students)"
   ]
  },
  {
   "cell_type": "raw",
   "id": "ed4b7482",
   "metadata": {},
   "source": [
    "# use clear() - to clear a dictionary.\n",
    "# keys() - to check the keys in your dictionary.\n",
    "# values() - to check the values in your dictionary.\n"
   ]
  },
  {
   "cell_type": "code",
   "execution_count": null,
   "id": "9b4da820",
   "metadata": {},
   "outputs": [],
   "source": []
  },
  {
   "cell_type": "markdown",
   "id": "9d9c5ff5",
   "metadata": {},
   "source": [
    "## Dictionary Methods"
   ]
  },
  {
   "cell_type": "code",
   "execution_count": 28,
   "id": "14d780cb",
   "metadata": {},
   "outputs": [
    {
     "data": {
      "text/plain": [
       "dict_items([('John', 'Conditional statements'), ('James', 'Loops'), ('Mary', 'Variables'), ('Maria', 'Oparations'), ('Yusuf', 'Errors')])"
      ]
     },
     "execution_count": 28,
     "metadata": {},
     "output_type": "execute_result"
    }
   ],
   "source": [
    "# items() - checks the dictionary items.\n",
    "students.items()"
   ]
  },
  {
   "cell_type": "code",
   "execution_count": null,
   "id": "897afd4d",
   "metadata": {},
   "outputs": [],
   "source": [
    "# pop() - removes and returns an element.\n",
    "# update() - adds content to the dictionary, etc."
   ]
  },
  {
   "cell_type": "code",
   "execution_count": 37,
   "id": "bca74721",
   "metadata": {},
   "outputs": [
    {
     "name": "stdout",
     "output_type": "stream",
     "text": [
      "{'John': 'Conditional statements', 'James': 'Loops', 'Mary': 'Variables', 'Maria': 'Oparations', 'Yusuf': 'Errors', 'Joseph': 'Condition'}\n"
     ]
    }
   ],
   "source": [
    "new_student = {\"Joseph\":\"Condition\"}\n",
    "students.update(new_student)\n",
    "print(students)"
   ]
  },
  {
   "cell_type": "markdown",
   "id": "ce44df31",
   "metadata": {},
   "source": [
    "## SETS\n",
    "- They are the same as the ,mathematical sets (Venn diagram - two circles)\n",
    "- They are unordered, iterable, mutable and no duplicate items/elements. \n",
    "- Used to build sequence of unique items"
   ]
  },
  {
   "cell_type": "raw",
   "id": "548270b6",
   "metadata": {},
   "source": [
    "# Creating sets.\n",
    "- Create using {} \n",
    "numbers1 = {2,4,6,8,10,10,10}\n",
    "\n",
    "-You can use the set() function.\n",
    "numbers2 = [2,4,6,8,10,10,10]\n",
    "number = set(numbers2)\n",
    "number"
   ]
  },
  {
   "cell_type": "markdown",
   "id": "310d16b5",
   "metadata": {},
   "source": [
    "**UNION**\n",
    "\n",
    "- Used to get items that are  in both sets.\n",
    "- use union() or |"
   ]
  },
  {
   "cell_type": "markdown",
   "id": "a8efdcb0",
   "metadata": {},
   "source": [
    "## Using the following two sets do all the set operation:\n",
    " \n",
    "    setA = {1,2,3,4,8,9,10}\n",
    "    setB = {2,6,7,9,11,4,12,13,10}"
   ]
  },
  {
   "cell_type": "code",
   "execution_count": 38,
   "id": "f712531d",
   "metadata": {},
   "outputs": [
    {
     "data": {
      "text/plain": [
       "{1, 2, 3, 4, 6, 7, 8, 9, 10, 11, 12, 13}"
      ]
     },
     "execution_count": 38,
     "metadata": {},
     "output_type": "execute_result"
    }
   ],
   "source": [
    "setA = {1,2,3,4,8,9,10}\n",
    "setB = {2,6,7,9,11,4,12,13,10}\n",
    "#Union\n",
    "setA | setB\n"
   ]
  },
  {
   "cell_type": "code",
   "execution_count": 39,
   "id": "5b9e05df",
   "metadata": {},
   "outputs": [
    {
     "data": {
      "text/plain": [
       "{1, 2, 3, 4, 6, 7, 8, 9, 10, 11, 12, 13}"
      ]
     },
     "execution_count": 39,
     "metadata": {},
     "output_type": "execute_result"
    }
   ],
   "source": [
    "setA.union(setB)"
   ]
  },
  {
   "cell_type": "code",
   "execution_count": null,
   "id": "c92d235e",
   "metadata": {},
   "outputs": [],
   "source": []
  },
  {
   "cell_type": "code",
   "execution_count": null,
   "id": "ee82307f",
   "metadata": {},
   "outputs": [],
   "source": []
  },
  {
   "cell_type": "code",
   "execution_count": null,
   "id": "a146ec2e",
   "metadata": {},
   "outputs": [],
   "source": []
  },
  {
   "cell_type": "markdown",
   "id": "90529f05",
   "metadata": {},
   "source": [
    "**INTERSECTION**\n",
    "\n",
    "- Used to get ONLY COMMON items in both sets.\n",
    "- use intersection() or &"
   ]
  },
  {
   "cell_type": "code",
   "execution_count": 40,
   "id": "b25efad3",
   "metadata": {},
   "outputs": [
    {
     "data": {
      "text/plain": [
       "{2, 4, 9, 10}"
      ]
     },
     "execution_count": 40,
     "metadata": {},
     "output_type": "execute_result"
    }
   ],
   "source": [
    "setA & setB"
   ]
  },
  {
   "cell_type": "code",
   "execution_count": 41,
   "id": "9569b45d",
   "metadata": {},
   "outputs": [
    {
     "data": {
      "text/plain": [
       "{2, 4, 9, 10}"
      ]
     },
     "execution_count": 41,
     "metadata": {},
     "output_type": "execute_result"
    }
   ],
   "source": [
    "setA.intersection(setB)"
   ]
  },
  {
   "cell_type": "code",
   "execution_count": null,
   "id": "cd7e598d",
   "metadata": {},
   "outputs": [],
   "source": []
  },
  {
   "cell_type": "markdown",
   "id": "fabf10d1",
   "metadata": {},
   "source": [
    "**SYMMETRIC DIFFERENCE**\n",
    "\n",
    "- Used to get the the items that are NOT COMMON in both sets.(Opposite of intersection)\n",
    "- use symmetric_difference() or ^"
   ]
  },
  {
   "cell_type": "code",
   "execution_count": 42,
   "id": "e749fe11",
   "metadata": {},
   "outputs": [
    {
     "data": {
      "text/plain": [
       "{1, 3, 6, 7, 8, 11, 12, 13}"
      ]
     },
     "execution_count": 42,
     "metadata": {},
     "output_type": "execute_result"
    }
   ],
   "source": [
    "setA ^ setB\n"
   ]
  },
  {
   "cell_type": "code",
   "execution_count": 43,
   "id": "8d957c43",
   "metadata": {},
   "outputs": [
    {
     "data": {
      "text/plain": [
       "{1, 3, 6, 7, 8, 11, 12, 13}"
      ]
     },
     "execution_count": 43,
     "metadata": {},
     "output_type": "execute_result"
    }
   ],
   "source": [
    "setA.symmetric_difference(setB)"
   ]
  },
  {
   "cell_type": "markdown",
   "id": "66387de8",
   "metadata": {},
   "source": [
    "**DIFFERENCE**\n",
    "\n",
    "- a-b returns a set with all items in a that are not in b.\n",
    "-  uses '-'"
   ]
  },
  {
   "cell_type": "code",
   "execution_count": 44,
   "id": "ac18abee",
   "metadata": {},
   "outputs": [
    {
     "data": {
      "text/plain": [
       "{1, 3, 8}"
      ]
     },
     "execution_count": 44,
     "metadata": {},
     "output_type": "execute_result"
    }
   ],
   "source": [
    "setA -setB"
   ]
  },
  {
   "cell_type": "code",
   "execution_count": 45,
   "id": "1af64bd1",
   "metadata": {},
   "outputs": [
    {
     "data": {
      "text/plain": [
       "{6, 7, 11, 12, 13}"
      ]
     },
     "execution_count": 45,
     "metadata": {},
     "output_type": "execute_result"
    }
   ],
   "source": [
    "setB -setA"
   ]
  },
  {
   "cell_type": "code",
   "execution_count": null,
   "id": "d4d08ddd",
   "metadata": {},
   "outputs": [],
   "source": []
  },
  {
   "cell_type": "code",
   "execution_count": null,
   "id": "6a8b7453",
   "metadata": {},
   "outputs": [],
   "source": []
  },
  {
   "cell_type": "markdown",
   "id": "8a992650",
   "metadata": {},
   "source": [
    "## Set Example"
   ]
  },
  {
   "cell_type": "markdown",
   "id": "ee502e0f",
   "metadata": {},
   "source": [
    "#### Using the sets below find:\n",
    "- a | b (a union b)\n",
    "- a & b (a intersection b)\n",
    "- a ^ b ( a symmetric difference b)\n",
    "- b - a ( b difference a)\n",
    "\n",
    "##### you can also use the keyword set to create a Python set\n",
    "a = set([1, 2, 3, 4])\n",
    "\n",
    "\n",
    "b = set([3, 4, 5, 6]) \n",
    "\n"
   ]
  },
  {
   "cell_type": "code",
   "execution_count": null,
   "id": "351ccf00",
   "metadata": {},
   "outputs": [],
   "source": []
  }
 ],
 "metadata": {
  "kernelspec": {
   "display_name": "Python 3 (ipykernel)",
   "language": "python",
   "name": "python3"
  },
  "language_info": {
   "codemirror_mode": {
    "name": "ipython",
    "version": 3
   },
   "file_extension": ".py",
   "mimetype": "text/x-python",
   "name": "python",
   "nbconvert_exporter": "python",
   "pygments_lexer": "ipython3",
   "version": "3.10.9"
  }
 },
 "nbformat": 4,
 "nbformat_minor": 5
}
