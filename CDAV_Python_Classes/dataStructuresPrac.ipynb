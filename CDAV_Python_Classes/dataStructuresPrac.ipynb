{
 "cells": [
  {
   "cell_type": "markdown",
   "id": "8a992650",
   "metadata": {},
   "source": [
    "## SETS"
   ]
  },
  {
   "cell_type": "markdown",
   "id": "ee502e0f",
   "metadata": {},
   "source": [
    "#### Using the sets below find:\n",
    "- a | b (a union b)\n",
    "- a & b (a intersection b)\n",
    "- a ^ b ( a symmetric difference b)\n",
    "- b - a ( b difference a)\n",
    "\n",
    "##### you can also use the keyword set to create a Python set\n",
    "a = set([1, 2, 3, 4])\n",
    "\n",
    "\n",
    "b = set([3, 4, 5, 6]) \n",
    "\n"
   ]
  },
  {
   "cell_type": "code",
   "execution_count": null,
   "id": "351ccf00",
   "metadata": {},
   "outputs": [],
   "source": []
  }
 ],
 "metadata": {
  "kernelspec": {
   "display_name": "Python 3 (ipykernel)",
   "language": "python",
   "name": "python3"
  },
  "language_info": {
   "codemirror_mode": {
    "name": "ipython",
    "version": 3
   },
   "file_extension": ".py",
   "mimetype": "text/x-python",
   "name": "python",
   "nbconvert_exporter": "python",
   "pygments_lexer": "ipython3",
   "version": "3.10.9"
  }
 },
 "nbformat": 4,
 "nbformat_minor": 5
}
