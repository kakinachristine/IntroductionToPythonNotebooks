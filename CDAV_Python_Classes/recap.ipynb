{
 "cells": [
  {
   "cell_type": "raw",
   "id": "9299ba80",
   "metadata": {},
   "source": [
    "# DOC STRINGS:\n",
    "-They appear just after a function.\n",
    "-Three triple quotes"
   ]
  },
  {
   "cell_type": "code",
   "execution_count": 5,
   "id": "1793f18c",
   "metadata": {},
   "outputs": [
    {
     "data": {
      "text/plain": [
       "50"
      ]
     },
     "execution_count": 5,
     "metadata": {},
     "output_type": "execute_result"
    }
   ],
   "source": [
    "#Define a variables\n",
    "a = 20\n",
    "b = 30\n",
    "c = 50\n",
    "\n",
    "def addition(c,d):\n",
    "    \n",
    "#     \"\"\" This function is calculating the sum of two numbers\"\"\"\n",
    "    return c+d\n",
    "\n",
    "addition(a,b)\n"
   ]
  },
  {
   "cell_type": "code",
   "execution_count": null,
   "id": "fc816a1e",
   "metadata": {},
   "outputs": [],
   "source": []
  },
  {
   "cell_type": "code",
   "execution_count": null,
   "id": "ff4ed5f8",
   "metadata": {},
   "outputs": [],
   "source": []
  },
  {
   "cell_type": "code",
   "execution_count": null,
   "id": "d87f80e4",
   "metadata": {},
   "outputs": [],
   "source": []
  },
  {
   "cell_type": "markdown",
   "id": "873488a8",
   "metadata": {},
   "source": [
    "## Tuple Assignment"
   ]
  },
  {
   "cell_type": "raw",
   "id": "af13aa62",
   "metadata": {},
   "source": [
    " a to be assigned the   B's value\n",
    " b to have a's value\n"
   ]
  },
  {
   "cell_type": "code",
   "execution_count": 9,
   "id": "e4093956",
   "metadata": {},
   "outputs": [
    {
     "name": "stdout",
     "output_type": "stream",
     "text": [
      "50\n"
     ]
    }
   ],
   "source": [
    "a = 30 \n",
    "b = 50\n",
    "\n",
    "#Store a in a temporary variable temp\n",
    "temp = a\n",
    "\n",
    "a = b\n",
    "print (a)\n",
    "\n"
   ]
  },
  {
   "cell_type": "code",
   "execution_count": 10,
   "id": "f098c5fa",
   "metadata": {},
   "outputs": [
    {
     "name": "stdout",
     "output_type": "stream",
     "text": [
      "30\n"
     ]
    }
   ],
   "source": [
    "b = temp\n",
    "print (b)\n"
   ]
  },
  {
   "cell_type": "code",
   "execution_count": 11,
   "id": "21332211",
   "metadata": {},
   "outputs": [
    {
     "name": "stdout",
     "output_type": "stream",
     "text": [
      "50\n"
     ]
    }
   ],
   "source": [
    "a = 30 \n",
    "b = 50\n",
    "a,b = b,a\n",
    "print (a)"
   ]
  },
  {
   "cell_type": "code",
   "execution_count": 12,
   "id": "f1f36ab5",
   "metadata": {},
   "outputs": [
    {
     "name": "stdout",
     "output_type": "stream",
     "text": [
      "30\n"
     ]
    }
   ],
   "source": [
    "print(b)"
   ]
  },
  {
   "cell_type": "code",
   "execution_count": 13,
   "id": "69a4c8db",
   "metadata": {},
   "outputs": [
    {
     "name": "stdout",
     "output_type": "stream",
     "text": [
      "Christine\n"
     ]
    }
   ],
   "source": [
    "name, uni, course = \"Christine\",\"Strathmore\", \"CDAV\"\n",
    "\n",
    "print(name)"
   ]
  },
  {
   "cell_type": "code",
   "execution_count": null,
   "id": "66b343a0",
   "metadata": {},
   "outputs": [],
   "source": []
  },
  {
   "cell_type": "markdown",
   "id": "55f449ad",
   "metadata": {},
   "source": [
    "## Use pop() in dictionary"
   ]
  },
  {
   "cell_type": "code",
   "execution_count": 14,
   "id": "0b2a8382",
   "metadata": {},
   "outputs": [
    {
     "name": "stdout",
     "output_type": "stream",
     "text": [
      "Strathmore\n"
     ]
    }
   ],
   "source": [
    "student = { \"name\":\"Christine\",\n",
    "          \"Uni\":\"Strathmore\",\n",
    "          \"Course\":\" CDAV\"}\n",
    "\n",
    "student_uni = student.pop(\"Uni\")\n",
    "print(student_uni)\n"
   ]
  },
  {
   "cell_type": "code",
   "execution_count": 15,
   "id": "44be7ae5",
   "metadata": {},
   "outputs": [
    {
     "data": {
      "text/plain": [
       "{'name': 'Christine', 'Course': ' CDAV'}"
      ]
     },
     "execution_count": 15,
     "metadata": {},
     "output_type": "execute_result"
    }
   ],
   "source": [
    "student"
   ]
  },
  {
   "cell_type": "code",
   "execution_count": null,
   "id": "d897c0ae",
   "metadata": {},
   "outputs": [],
   "source": []
  },
  {
   "cell_type": "code",
   "execution_count": null,
   "id": "03d47051",
   "metadata": {},
   "outputs": [],
   "source": []
  },
  {
   "cell_type": "markdown",
   "id": "1c06e38e",
   "metadata": {},
   "source": [
    "# Conditional statements"
   ]
  },
  {
   "cell_type": "raw",
   "id": "24c6798a",
   "metadata": {},
   "source": [
    "# Help in decision making\n",
    "#if statement- only runs if the expression is true\n",
    "if expression:\n",
    "    #Block of code\n"
   ]
  },
  {
   "cell_type": "raw",
   "id": "83eacac5",
   "metadata": {},
   "source": [
    "#if else statement- If expression only runs if true, when false prints the block of code in else. \n",
    "if expression:\n",
    "    #Block of code\n",
    "else:\n",
    "    #Block of code"
   ]
  },
  {
   "cell_type": "raw",
   "id": "aa9534ea",
   "metadata": {},
   "source": [
    "#elif statement- executes if expression is true. \n",
    "- used when you have multiple dicisions to make\n",
    "\n",
    "if expression:\n",
    "    #Block of code\n",
    "elif expression:\n",
    "    #Block of code\n",
    "elif expression:\n",
    "    #Block of code\n",
    "    .\n",
    "    .\n",
    "    .\n",
    "elif expression:\n",
    "    #Block of code\n",
    "elif expression:\n",
    "    #Block of code\n",
    "elif expression:\n",
    "    #Block of code\n",
    "else:\n",
    "    #Block of code"
   ]
  },
  {
   "cell_type": "code",
   "execution_count": null,
   "id": "855ee8e6",
   "metadata": {},
   "outputs": [],
   "source": []
  },
  {
   "cell_type": "markdown",
   "id": "d02b6cd9",
   "metadata": {},
   "source": [
    "### Write a program that asks the user to enter a number and determines whether it is positive, negative, or zero."
   ]
  },
  {
   "cell_type": "code",
   "execution_count": 18,
   "id": "72b82b28",
   "metadata": {},
   "outputs": [
    {
     "name": "stdout",
     "output_type": "stream",
     "text": [
      "Please enter a number: -15\n",
      "-15  is negative\n"
     ]
    }
   ],
   "source": [
    "#Define user input\n",
    "user_number = int(input(\"Please enter a number: \"))\n",
    "\n",
    "#If statement\n",
    "if user_number < 0:\n",
    "    print(user_number, \" is negative\")\n",
    "    \n",
    "elif user_number > 0:\n",
    "    print(user_number, \" is positive\")\n",
    "    \n",
    "else:\n",
    "    print(user_number,\" is zero\")\n"
   ]
  },
  {
   "cell_type": "code",
   "execution_count": null,
   "id": "40f9b6aa",
   "metadata": {},
   "outputs": [],
   "source": []
  },
  {
   "cell_type": "code",
   "execution_count": null,
   "id": "8f015468",
   "metadata": {},
   "outputs": [],
   "source": []
  },
  {
   "cell_type": "code",
   "execution_count": null,
   "id": "f361649a",
   "metadata": {},
   "outputs": [],
   "source": []
  },
  {
   "cell_type": "code",
   "execution_count": null,
   "id": "ab123ca8",
   "metadata": {},
   "outputs": [],
   "source": []
  },
  {
   "cell_type": "code",
   "execution_count": null,
   "id": "f6a42133",
   "metadata": {},
   "outputs": [],
   "source": []
  },
  {
   "cell_type": "markdown",
   "id": "fdf194cf",
   "metadata": {},
   "source": [
    "## Write a program that asks the user to enter three numbers and determines whether their product is positive or negative"
   ]
  },
  {
   "cell_type": "code",
   "execution_count": null,
   "id": "1f551b95",
   "metadata": {},
   "outputs": [],
   "source": []
  },
  {
   "cell_type": "code",
   "execution_count": null,
   "id": "9ae505cc",
   "metadata": {},
   "outputs": [],
   "source": []
  },
  {
   "cell_type": "code",
   "execution_count": null,
   "id": "1d615c7d",
   "metadata": {},
   "outputs": [],
   "source": []
  },
  {
   "cell_type": "code",
   "execution_count": null,
   "id": "a9fa10ed",
   "metadata": {},
   "outputs": [],
   "source": []
  },
  {
   "cell_type": "code",
   "execution_count": null,
   "id": "ba7b6149",
   "metadata": {},
   "outputs": [],
   "source": []
  },
  {
   "cell_type": "code",
   "execution_count": null,
   "id": "2deef7f9",
   "metadata": {},
   "outputs": [],
   "source": []
  },
  {
   "cell_type": "code",
   "execution_count": null,
   "id": "19f19e35",
   "metadata": {},
   "outputs": [],
   "source": []
  },
  {
   "cell_type": "code",
   "execution_count": null,
   "id": "d290955d",
   "metadata": {},
   "outputs": [],
   "source": []
  },
  {
   "cell_type": "code",
   "execution_count": null,
   "id": "eb50938e",
   "metadata": {},
   "outputs": [],
   "source": []
  },
  {
   "cell_type": "code",
   "execution_count": null,
   "id": "17c1fbb0",
   "metadata": {},
   "outputs": [],
   "source": []
  },
  {
   "cell_type": "code",
   "execution_count": null,
   "id": "71731f67",
   "metadata": {},
   "outputs": [],
   "source": []
  },
  {
   "cell_type": "markdown",
   "id": "f7c2ff99",
   "metadata": {},
   "source": [
    "## Write a program that prompts the user to enter a number and determines its sign. Print \"Positive\" if the number is greater than 0, \"Negative\" if it is less than 0, and \"Zero\" if the number is equal to 0"
   ]
  },
  {
   "cell_type": "code",
   "execution_count": null,
   "id": "f28377f2",
   "metadata": {},
   "outputs": [],
   "source": []
  },
  {
   "cell_type": "code",
   "execution_count": null,
   "id": "006a8e76",
   "metadata": {},
   "outputs": [],
   "source": []
  },
  {
   "cell_type": "code",
   "execution_count": null,
   "id": "bef73a25",
   "metadata": {},
   "outputs": [],
   "source": []
  },
  {
   "cell_type": "code",
   "execution_count": null,
   "id": "7babca47",
   "metadata": {},
   "outputs": [],
   "source": []
  },
  {
   "cell_type": "code",
   "execution_count": null,
   "id": "d84dedbf",
   "metadata": {},
   "outputs": [],
   "source": []
  },
  {
   "cell_type": "code",
   "execution_count": null,
   "id": "4a4ca9c6",
   "metadata": {},
   "outputs": [],
   "source": []
  },
  {
   "cell_type": "code",
   "execution_count": null,
   "id": "3e5abc7e",
   "metadata": {},
   "outputs": [],
   "source": []
  },
  {
   "cell_type": "code",
   "execution_count": null,
   "id": "096427b1",
   "metadata": {},
   "outputs": [],
   "source": []
  },
  {
   "cell_type": "markdown",
   "id": "b7cea6fa",
   "metadata": {},
   "source": [
    "## Write a program that prompts the user to enter a number and determines whether the number is divisible by 3. Print \"Divisible\" if it is divisible by 3, and \"Not divisible\" otherwise"
   ]
  },
  {
   "cell_type": "code",
   "execution_count": null,
   "id": "478bb268",
   "metadata": {},
   "outputs": [],
   "source": []
  },
  {
   "cell_type": "code",
   "execution_count": null,
   "id": "5d2750d0",
   "metadata": {},
   "outputs": [],
   "source": []
  },
  {
   "cell_type": "code",
   "execution_count": null,
   "id": "ab7f74ac",
   "metadata": {},
   "outputs": [],
   "source": []
  },
  {
   "cell_type": "code",
   "execution_count": null,
   "id": "3e3d4f54",
   "metadata": {},
   "outputs": [],
   "source": []
  },
  {
   "cell_type": "code",
   "execution_count": null,
   "id": "f836ec66",
   "metadata": {},
   "outputs": [],
   "source": []
  },
  {
   "cell_type": "code",
   "execution_count": null,
   "id": "39fe2f53",
   "metadata": {},
   "outputs": [],
   "source": []
  },
  {
   "cell_type": "code",
   "execution_count": null,
   "id": "69a87b97",
   "metadata": {},
   "outputs": [],
   "source": []
  },
  {
   "cell_type": "code",
   "execution_count": null,
   "id": "f5332b4d",
   "metadata": {},
   "outputs": [],
   "source": []
  },
  {
   "cell_type": "markdown",
   "id": "e87ff061",
   "metadata": {},
   "source": [
    "# LOOPS"
   ]
  },
  {
   "cell_type": "raw",
   "id": "36ca3976",
   "metadata": {},
   "source": [
    "#While loop\n",
    "\n",
    "#Initiate the loop\n",
    "while expression:\n",
    "    #Block of code"
   ]
  },
  {
   "cell_type": "raw",
   "id": "a020c9ef",
   "metadata": {},
   "source": [
    "\n",
    "#for loop\n",
    "#The sequence\n",
    "for i in sequence_var_name:\n",
    "    #Block of code"
   ]
  },
  {
   "cell_type": "code",
   "execution_count": null,
   "id": "19e5efef",
   "metadata": {},
   "outputs": [],
   "source": []
  },
  {
   "cell_type": "markdown",
   "id": "cd775466",
   "metadata": {},
   "source": [
    "## Write a program that uses a while loop to count down from 10 to 1. Print each number on a new line."
   ]
  },
  {
   "cell_type": "code",
   "execution_count": 20,
   "id": "fc462d66",
   "metadata": {},
   "outputs": [
    {
     "name": "stdout",
     "output_type": "stream",
     "text": [
      "10\n",
      "9\n",
      "8\n",
      "7\n",
      "6\n",
      "5\n",
      "4\n",
      "3\n",
      "2\n",
      "1\n",
      "thats the count down\n"
     ]
    }
   ],
   "source": [
    "#Initiate the loop\n",
    "count = 10\n",
    "\n",
    "#While loop\n",
    "while count >= 1:\n",
    "    print(count)\n",
    "    \n",
    "    #decrease by one\n",
    "    count -= 1\n",
    "\n",
    "    \n",
    "print(\"thats the count down\")\n"
   ]
  },
  {
   "cell_type": "code",
   "execution_count": null,
   "id": "4f83a31d",
   "metadata": {},
   "outputs": [],
   "source": []
  },
  {
   "cell_type": "markdown",
   "id": "45a9db41",
   "metadata": {},
   "source": [
    "## Write a program that asks the user to enter a password. Use a while loop to keep prompting the user until they enter the correct password. Once the correct password is entered, print a success message."
   ]
  },
  {
   "cell_type": "code",
   "execution_count": null,
   "id": "9e960b92",
   "metadata": {},
   "outputs": [],
   "source": []
  },
  {
   "cell_type": "code",
   "execution_count": null,
   "id": "07f3df08",
   "metadata": {},
   "outputs": [],
   "source": []
  },
  {
   "cell_type": "code",
   "execution_count": null,
   "id": "1ae31d09",
   "metadata": {},
   "outputs": [],
   "source": []
  },
  {
   "cell_type": "code",
   "execution_count": null,
   "id": "5e97641f",
   "metadata": {},
   "outputs": [],
   "source": []
  },
  {
   "cell_type": "code",
   "execution_count": null,
   "id": "5acc62b4",
   "metadata": {},
   "outputs": [],
   "source": []
  },
  {
   "cell_type": "code",
   "execution_count": null,
   "id": "56d57a51",
   "metadata": {},
   "outputs": [],
   "source": []
  },
  {
   "cell_type": "code",
   "execution_count": null,
   "id": "e92185b3",
   "metadata": {},
   "outputs": [],
   "source": []
  },
  {
   "cell_type": "code",
   "execution_count": null,
   "id": "46bb3394",
   "metadata": {},
   "outputs": [],
   "source": []
  },
  {
   "cell_type": "markdown",
   "id": "d0caf6fc",
   "metadata": {},
   "source": [
    "## Write a program that uses a for loop to print the even numbers from 1 to 20.\n"
   ]
  },
  {
   "cell_type": "code",
   "execution_count": null,
   "id": "eedde1a8",
   "metadata": {},
   "outputs": [],
   "source": []
  },
  {
   "cell_type": "code",
   "execution_count": null,
   "id": "8b05db6b",
   "metadata": {},
   "outputs": [],
   "source": []
  },
  {
   "cell_type": "code",
   "execution_count": null,
   "id": "f360b20a",
   "metadata": {},
   "outputs": [],
   "source": []
  },
  {
   "cell_type": "markdown",
   "id": "370ab56c",
   "metadata": {},
   "source": [
    "## Write a program that uses a for loop to print the numbers from 1 to 10."
   ]
  },
  {
   "cell_type": "code",
   "execution_count": 21,
   "id": "1090575b",
   "metadata": {},
   "outputs": [
    {
     "name": "stdout",
     "output_type": "stream",
     "text": [
      "1\n",
      "2\n",
      "3\n",
      "4\n",
      "5\n",
      "6\n",
      "7\n",
      "8\n",
      "9\n",
      "10\n"
     ]
    }
   ],
   "source": [
    "lists = [1,2,3,4,5,6,7,8,9,10]\n",
    "for list in lists:\n",
    "    print(list)\n"
   ]
  },
  {
   "cell_type": "code",
   "execution_count": null,
   "id": "30d59b73",
   "metadata": {},
   "outputs": [],
   "source": []
  },
  {
   "cell_type": "code",
   "execution_count": null,
   "id": "8959783f",
   "metadata": {},
   "outputs": [],
   "source": []
  },
  {
   "cell_type": "code",
   "execution_count": null,
   "id": "d83aeb17",
   "metadata": {},
   "outputs": [],
   "source": []
  },
  {
   "cell_type": "markdown",
   "id": "5b8c7bb3",
   "metadata": {},
   "source": [
    "# FUNCTIONS"
   ]
  },
  {
   "cell_type": "raw",
   "id": "6627cee1",
   "metadata": {},
   "source": [
    "\n",
    "#User defined functions\n",
    "\n",
    "def function_name(parameters/arguments):\n",
    "    #Block of code\n",
    "    \n",
    "#Call your function\n",
    "function_name(parameters/arguments)"
   ]
  },
  {
   "cell_type": "markdown",
   "id": "e11bc90c",
   "metadata": {},
   "source": [
    "## Write a function called calculate_area that takes the radius of a circle as a parameter and returns its area"
   ]
  },
  {
   "cell_type": "code",
   "execution_count": 22,
   "id": "947e9b72",
   "metadata": {},
   "outputs": [
    {
     "name": "stdout",
     "output_type": "stream",
     "text": [
      "the area is: 154.0\n"
     ]
    }
   ],
   "source": [
    "\n",
    "#Defining the function\n",
    "def calculate_area(radius):\n",
    "    area = 22/7*radius*radius\n",
    "    print(\"the area is:\", area)\n",
    "    \n",
    "#Call the function\n",
    "calculate_area(7)"
   ]
  },
  {
   "cell_type": "code",
   "execution_count": 23,
   "id": "e4a0e5d9",
   "metadata": {},
   "outputs": [
    {
     "name": "stdout",
     "output_type": "stream",
     "text": [
      "the area is: 616.0\n"
     ]
    }
   ],
   "source": [
    "calculate_area(14)"
   ]
  },
  {
   "cell_type": "code",
   "execution_count": null,
   "id": "1b6e809c",
   "metadata": {},
   "outputs": [],
   "source": []
  },
  {
   "cell_type": "code",
   "execution_count": null,
   "id": "a2cb50ae",
   "metadata": {},
   "outputs": [],
   "source": []
  },
  {
   "cell_type": "code",
   "execution_count": null,
   "id": "2622aa38",
   "metadata": {},
   "outputs": [],
   "source": []
  },
  {
   "cell_type": "markdown",
   "id": "933d6e3c",
   "metadata": {},
   "source": [
    "## Write a function called calculate_average that takes a list of numbers as input and returns the average of those numbers"
   ]
  },
  {
   "cell_type": "code",
   "execution_count": null,
   "id": "172d027f",
   "metadata": {},
   "outputs": [],
   "source": []
  },
  {
   "cell_type": "code",
   "execution_count": null,
   "id": "4c1dbc78",
   "metadata": {},
   "outputs": [],
   "source": []
  },
  {
   "cell_type": "code",
   "execution_count": null,
   "id": "0693c9b3",
   "metadata": {},
   "outputs": [],
   "source": []
  },
  {
   "cell_type": "markdown",
   "id": "a1286fac",
   "metadata": {},
   "source": [
    "## Write a function called power that takes two numbers, base and exponent, as input and returns the result of base raised to the power of exponent"
   ]
  },
  {
   "cell_type": "code",
   "execution_count": null,
   "id": "921e20b1",
   "metadata": {},
   "outputs": [],
   "source": []
  },
  {
   "cell_type": "code",
   "execution_count": null,
   "id": "9d05ae33",
   "metadata": {},
   "outputs": [],
   "source": []
  },
  {
   "cell_type": "code",
   "execution_count": null,
   "id": "407b1fd9",
   "metadata": {},
   "outputs": [],
   "source": []
  },
  {
   "cell_type": "code",
   "execution_count": null,
   "id": "a75f2f3f",
   "metadata": {},
   "outputs": [],
   "source": []
  },
  {
   "cell_type": "code",
   "execution_count": null,
   "id": "3cc92340",
   "metadata": {},
   "outputs": [],
   "source": []
  },
  {
   "cell_type": "code",
   "execution_count": null,
   "id": "eb01fdaa",
   "metadata": {},
   "outputs": [],
   "source": []
  },
  {
   "cell_type": "code",
   "execution_count": null,
   "id": "2862f7c4",
   "metadata": {},
   "outputs": [],
   "source": []
  },
  {
   "cell_type": "code",
   "execution_count": null,
   "id": "7a6522c6",
   "metadata": {},
   "outputs": [],
   "source": []
  },
  {
   "cell_type": "code",
   "execution_count": null,
   "id": "bf468a3f",
   "metadata": {},
   "outputs": [],
   "source": []
  }
 ],
 "metadata": {
  "kernelspec": {
   "display_name": "Python 3 (ipykernel)",
   "language": "python",
   "name": "python3"
  },
  "language_info": {
   "codemirror_mode": {
    "name": "ipython",
    "version": 3
   },
   "file_extension": ".py",
   "mimetype": "text/x-python",
   "name": "python",
   "nbconvert_exporter": "python",
   "pygments_lexer": "ipython3",
   "version": "3.10.9"
  }
 },
 "nbformat": 4,
 "nbformat_minor": 5
}
