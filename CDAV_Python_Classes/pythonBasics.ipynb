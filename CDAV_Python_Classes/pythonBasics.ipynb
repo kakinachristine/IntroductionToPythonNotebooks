{
 "cells": [
  {
   "cell_type": "markdown",
   "id": "3dcd4413",
   "metadata": {},
   "source": [
    "## Introduction to Python.\n",
    "We look at the essential building blocks to Python\n",
    "\n",
    "\n",
    "## Python basics.\n",
    "\n",
    "### Variables and Data types\n",
    "\n",
    "### Values:\n",
    "A value is one of the basic things a program works with, like a letter or a number The values we have seen so far are 1, 2, and 'Hello, World!'.\n",
    "\n",
    "\n"
   ]
  },
  {
   "cell_type": "code",
   "execution_count": null,
   "id": "3fe5b374",
   "metadata": {},
   "outputs": [],
   "source": [
    "# 10,2+4 and Hello World are values\n",
    "print(10)\n",
    "print(2+4)\n",
    "print('Hello World')"
   ]
  },
  {
   "cell_type": "code",
   "execution_count": 26,
   "id": "7c91736a",
   "metadata": {},
   "outputs": [
    {
     "name": "stdout",
     "output_type": "stream",
     "text": [
      "10\n",
      "Hello World\n",
      "Hello World\n"
     ]
    }
   ],
   "source": [
    "print (10)\n",
    "print('Hello World')\n",
    "print(\"Hello World\")"
   ]
  },
  {
   "cell_type": "code",
   "execution_count": null,
   "id": "fb94a48e",
   "metadata": {},
   "outputs": [],
   "source": []
  },
  {
   "cell_type": "code",
   "execution_count": null,
   "id": "831ec50b",
   "metadata": {},
   "outputs": [],
   "source": []
  },
  {
   "cell_type": "markdown",
   "id": "54d78afd",
   "metadata": {},
   "source": [
    "### Variables:\n",
    "A **variable** is a name that refers to a value.\n",
    "\n",
    "Variables are also containers in which values are stored to be later used.\n",
    "\n",
    "The equal (=) sign is used to assign a value to a variable\n",
    "\n",
    "Let's assign the value \"Hello World\" to greetings:\n",
    "\n",
    "greetings = \"Hello\""
   ]
  },
  {
   "cell_type": "code",
   "execution_count": 5,
   "id": "ebb56670",
   "metadata": {},
   "outputs": [],
   "source": [
    "greetings = \"Hello\"\n",
    "print(greetings)"
   ]
  },
  {
   "cell_type": "code",
   "execution_count": 30,
   "id": "22e74067",
   "metadata": {},
   "outputs": [
    {
     "name": "stdout",
     "output_type": "stream",
     "text": [
      "Kakina\n"
     ]
    }
   ],
   "source": [
    "name = \"Kakina\"\n",
    "print(name)"
   ]
  },
  {
   "cell_type": "markdown",
   "id": "d95cd11b",
   "metadata": {},
   "source": [
    "### Variable naming rules:\n",
    "There are rules that govern naming of variable. Variables can contain both letters and numbers, but they have to begin with a letter. It is legal to use uppercase letters, but it is a good idea to begin variable names with a lowercase letter\n",
    "\n",
    "-A variable name can contain letters (both uppercase and lowercase), digits, and underscores (_).\n",
    "\n",
    "-It must start with a letter or an underscore. It cannot start with a digit.\n",
    "\n",
    "-Variable names are case-sensitive, so \"myVar\" and \"myvar\" are considered different variables.\n",
    "\n",
    "-You cannot use reserved python words as a variable name.\n",
    "\n",
    "-It should be one word, no spacing. Any linking should be done using underscore.\n",
    "\n",
    "-Do not use certain characters e.g #,@,,,-,+,(),/,\\\n",
    "\n",
    "-Do not share names, this will reassign the variable."
   ]
  },
  {
   "cell_type": "code",
   "execution_count": 32,
   "id": "398a2d38",
   "metadata": {},
   "outputs": [
    {
     "name": "stdout",
     "output_type": "stream",
     "text": [
      "Kakina\n",
      "Christine\n",
      "Cici\n"
     ]
    }
   ],
   "source": [
    "#Case sensitive\n",
    "name = \"Kakina\"\n",
    "NAME =\"Christine\"\n",
    "Name = \"Cici\"\n",
    "print(name)\n",
    "print (NAME)\n",
    "print (Name)"
   ]
  },
  {
   "cell_type": "code",
   "execution_count": 36,
   "id": "c6551ac9",
   "metadata": {},
   "outputs": [
    {
     "name": "stdout",
     "output_type": "stream",
     "text": [
      "My name is Abraham\n",
      " UON \n"
     ]
    }
   ],
   "source": [
    "school =\" Strathmore \"\n",
    "\n",
    "school = \" UON \"\n",
    "Abraham = \"My name is Abraham\"\n",
    "print(Abraham)\n",
    "print(school)"
   ]
  },
  {
   "cell_type": "code",
   "execution_count": null,
   "id": "04f7a54c",
   "metadata": {},
   "outputs": [],
   "source": [
    "#Starting with digits\n",
    "1firstname = \"Christine\"\n",
    "second_name = \"Kakina\"\n",
    "\n",
    "print(first_name, second_name)"
   ]
  },
  {
   "cell_type": "code",
   "execution_count": 6,
   "id": "d65e759a",
   "metadata": {},
   "outputs": [],
   "source": [
    "#Case sensitive\n",
    "myVar = 10\n",
    "myvar =20\n",
    "print(myVar)\n",
    "print(myvar)"
   ]
  },
  {
   "cell_type": "code",
   "execution_count": 37,
   "id": "9e87da3a",
   "metadata": {},
   "outputs": [
    {
     "ename": "TypeError",
     "evalue": "'int' object is not callable",
     "output_type": "error",
     "traceback": [
      "\u001b[1;31m---------------------------------------------------------------------------\u001b[0m",
      "\u001b[1;31mTypeError\u001b[0m                                 Traceback (most recent call last)",
      "Cell \u001b[1;32mIn[37], line 3\u001b[0m\n\u001b[0;32m      1\u001b[0m \u001b[38;5;66;03m#Reserved words\u001b[39;00m\n\u001b[0;32m      2\u001b[0m \u001b[38;5;28mprint\u001b[39m \u001b[38;5;241m=\u001b[39m \u001b[38;5;241m10\u001b[39m\n\u001b[1;32m----> 3\u001b[0m \u001b[38;5;28;43mprint\u001b[39;49m\u001b[43m(\u001b[49m\u001b[38;5;28;43mprint\u001b[39;49m\u001b[43m)\u001b[49m\n",
      "\u001b[1;31mTypeError\u001b[0m: 'int' object is not callable"
     ]
    }
   ],
   "source": [
    "#Reserved words\n",
    "print = 10\n",
    "print(print)"
   ]
  },
  {
   "cell_type": "code",
   "execution_count": 1,
   "id": "cd0d5747",
   "metadata": {},
   "outputs": [
    {
     "name": "stdout",
     "output_type": "stream",
     "text": [
      "10\n"
     ]
    }
   ],
   "source": [
    "#Reserved words\n",
    "number1 = 10\n",
    "print(number1)"
   ]
  },
  {
   "cell_type": "code",
   "execution_count": 5,
   "id": "14c45dd9",
   "metadata": {},
   "outputs": [
    {
     "name": "stdout",
     "output_type": "stream",
     "text": [
      "Sandra\n",
      "Maria\n"
     ]
    }
   ],
   "source": [
    "#Using underscore to link two words\n",
    "userName_one= \"Sandra\"\n",
    "userName2_two = 'Maria'\n",
    "print(userName_one)\n",
    "print(userName2_two)"
   ]
  },
  {
   "cell_type": "code",
   "execution_count": 9,
   "id": "5a49ec6e",
   "metadata": {},
   "outputs": [
    {
     "name": "stdout",
     "output_type": "stream",
     "text": [
      "('Maria', 'Sandra')\n"
     ]
    }
   ],
   "source": [
    "userName_one = \"Maria\"\n",
    "userName_one = \"Sandra\"\n",
    "print(userName_one)"
   ]
  },
  {
   "cell_type": "markdown",
   "id": "7c28a2a5",
   "metadata": {},
   "source": [
    "### Data types:\n",
    "Values are of different **types**: 10 is an **Integer**, and 'Hello, World!' is a **string**,\n",
    "so-called because it contains a “string” of letters. You (and the interpreter) can identify\n",
    "strings because they are enclosed in quotation marks(Either double or single).\n",
    "\n",
    "If you are not sure what type a value has, the interpreter can tell you.\n",
    "Run this on your notebook\n",
    "\n",
    "1.***type('Hello, World!')***\n",
    "\n",
    "2.***type(17)***"
   ]
  },
  {
   "cell_type": "code",
   "execution_count": 11,
   "id": "d4953e66",
   "metadata": {},
   "outputs": [
    {
     "data": {
      "text/plain": [
       "str"
      ]
     },
     "execution_count": 11,
     "metadata": {},
     "output_type": "execute_result"
    }
   ],
   "source": [
    "#Strings \n",
    "#type() to check a value's data type\n",
    "type('Hello, World!')"
   ]
  },
  {
   "cell_type": "code",
   "execution_count": 12,
   "id": "2c85706f",
   "metadata": {},
   "outputs": [
    {
     "data": {
      "text/plain": [
       "int"
      ]
     },
     "execution_count": 12,
     "metadata": {},
     "output_type": "execute_result"
    }
   ],
   "source": [
    "#Integers\n",
    "type(10000)"
   ]
  },
  {
   "cell_type": "code",
   "execution_count": 14,
   "id": "5b427c23",
   "metadata": {},
   "outputs": [
    {
     "data": {
      "text/plain": [
       "float"
      ]
     },
     "execution_count": 14,
     "metadata": {},
     "output_type": "execute_result"
    }
   ],
   "source": [
    "#Floats\n",
    "type(17.6543212678923456789098765432134567890)"
   ]
  },
  {
   "cell_type": "code",
   "execution_count": 15,
   "id": "bee1a51b",
   "metadata": {},
   "outputs": [
    {
     "data": {
      "text/plain": [
       "bool"
      ]
     },
     "execution_count": 15,
     "metadata": {},
     "output_type": "execute_result"
    }
   ],
   "source": [
    "#Boolean\n",
    "type(False)"
   ]
  },
  {
   "cell_type": "markdown",
   "id": "d7598610",
   "metadata": {},
   "source": [
    "### Data types:\n",
    "\n",
    "**numbers:**\n",
    "\n",
    "int: Represents integer values, such as 5 or -10.\n",
    "float: Represents floating-point numbers with decimal values, such as 3.14 or -2.5.\n",
    "\n",
    "**sequences:**\n",
    "\n",
    "str: Represents a sequence of characters enclosed in single quotes ('') or double quotes (\"\"). Strings are used for representing text data.\n",
    "list: Represents an ordered collection of items enclosed in square brackets ([]). Lists can contain elements of different types and are mutable, allowing for modification of elements.\n",
    "\n",
    "**booleans:**\n",
    "\n",
    "bool: Represents a boolean value that can be either True or False. Booleans are used for logical operations and conditional statements."
   ]
  },
  {
   "cell_type": "code",
   "execution_count": 1,
   "id": "94719f88",
   "metadata": {},
   "outputs": [
    {
     "name": "stdout",
     "output_type": "stream",
     "text": [
      "False\n",
      "True\n",
      "False\n"
     ]
    }
   ],
   "source": [
    "# Boolean variables\n",
    "is_sunny = True\n",
    "is_raining = False\n",
    "\n",
    "# Logical operations\n",
    "print(is_sunny and is_raining)  # Logical AND\n",
    "print(is_sunny or is_raining)   # Logical OR\n",
    "print(not is_sunny)             # Logical NOT"
   ]
  },
  {
   "cell_type": "code",
   "execution_count": null,
   "id": "956657f4",
   "metadata": {},
   "outputs": [],
   "source": [
    "#T AND T = T\n",
    "#F OR F = F\n",
    "#NOT REVERSES"
   ]
  },
  {
   "cell_type": "code",
   "execution_count": 16,
   "id": "a1dbfc8b",
   "metadata": {},
   "outputs": [
    {
     "name": "stdout",
     "output_type": "stream",
     "text": [
      "True\n"
     ]
    }
   ],
   "source": [
    "is_sunny = True\n",
    "is_raining = True\n",
    "print(is_sunny and is_raining)"
   ]
  },
  {
   "cell_type": "code",
   "execution_count": 17,
   "id": "45c33bf9",
   "metadata": {},
   "outputs": [
    {
     "name": "stdout",
     "output_type": "stream",
     "text": [
      "False\n"
     ]
    }
   ],
   "source": [
    "is_sunny = False\n",
    "is_raining = False\n",
    "print(is_sunny or is_raining)"
   ]
  },
  {
   "cell_type": "code",
   "execution_count": 21,
   "id": "0511283b",
   "metadata": {},
   "outputs": [
    {
     "name": "stdout",
     "output_type": "stream",
     "text": [
      "True\n"
     ]
    }
   ],
   "source": [
    "is_sunny = False\n",
    "is_raining = True\n",
    "print(is_sunny or is_raining)"
   ]
  },
  {
   "cell_type": "code",
   "execution_count": null,
   "id": "d75402a2",
   "metadata": {},
   "outputs": [],
   "source": []
  },
  {
   "cell_type": "markdown",
   "id": "624ff9a8",
   "metadata": {},
   "source": [
    "## Operators and operands\n",
    "Operators are special symbols that represent computations like addition and multiplication.\n",
    "The values the operator is applied to are called **operands**.\n",
    "\n",
    "Mathematical Operators - BODMAS\n",
    "\n",
    "B - Brackets - ()\n",
    "E - Exponent - **\n",
    "D - Division - /\n",
    "M - Multiplication - * \n",
    "A - Addition - +\n",
    "S - Subtraction = -\n",
    "\n",
    "Comaprison Operators \n",
    "\n",
    "equal to  ==\n",
    "less than < \n",
    "greater than >\n",
    "less than or equal to <=\n",
    "greater than or equal to >=\n",
    "\n",
    "Logical Operators \n",
    "- or (Returns false when all case are false ,else  true)\n",
    "- and (Returns True when all case are True ,else  false)\n",
    "- not (It is used to reverse the truth value of a boolean expression)"
   ]
  },
  {
   "cell_type": "code",
   "execution_count": 18,
   "id": "b433a0df",
   "metadata": {},
   "outputs": [
    {
     "name": "stdout",
     "output_type": "stream",
     "text": [
      "70\n"
     ]
    }
   ],
   "source": [
    "a = 30\n",
    "b = 40 \n",
    "print(a+b)"
   ]
  },
  {
   "cell_type": "code",
   "execution_count": 22,
   "id": "3cc9d203",
   "metadata": {},
   "outputs": [
    {
     "name": "stdout",
     "output_type": "stream",
     "text": [
      "-10\n"
     ]
    }
   ],
   "source": [
    "a = 30\n",
    "b = 40 \n",
    "print(a-b)"
   ]
  },
  {
   "cell_type": "code",
   "execution_count": 23,
   "id": "aee3a3df",
   "metadata": {},
   "outputs": [
    {
     "name": "stdout",
     "output_type": "stream",
     "text": [
      "1200\n"
     ]
    }
   ],
   "source": [
    "a = 30\n",
    "b = 40 \n",
    "print(a*b)"
   ]
  },
  {
   "cell_type": "code",
   "execution_count": 25,
   "id": "05b32e62",
   "metadata": {},
   "outputs": [
    {
     "name": "stdout",
     "output_type": "stream",
     "text": [
      "0.75\n"
     ]
    },
    {
     "data": {
      "text/plain": [
       "float"
      ]
     },
     "execution_count": 25,
     "metadata": {},
     "output_type": "execute_result"
    }
   ],
   "source": [
    "a = 30\n",
    "b = 40 \n",
    "div = a/b\n",
    "print(div)\n",
    "type(div)"
   ]
  },
  {
   "cell_type": "code",
   "execution_count": null,
   "id": "be95939d",
   "metadata": {},
   "outputs": [],
   "source": []
  },
  {
   "cell_type": "code",
   "execution_count": null,
   "id": "a998e8a1",
   "metadata": {},
   "outputs": [],
   "source": []
  },
  {
   "cell_type": "code",
   "execution_count": null,
   "id": "120cd6ac",
   "metadata": {},
   "outputs": [],
   "source": []
  },
  {
   "cell_type": "code",
   "execution_count": null,
   "id": "8295e807",
   "metadata": {},
   "outputs": [],
   "source": []
  },
  {
   "cell_type": "code",
   "execution_count": null,
   "id": "aec5575e",
   "metadata": {},
   "outputs": [],
   "source": [
    "#Returns false only when both cases are false, else true\n",
    "1 == 1 or 1 == \"1\"\n",
    "\n",
    "#Returns the opposite boolean value\n",
    "not 1 == \"1\""
   ]
  },
  {
   "cell_type": "markdown",
   "id": "a2d3d8a7",
   "metadata": {},
   "source": [
    "### Write a python code that calculates the mean grade of a student taking three subjects "
   ]
  },
  {
   "cell_type": "code",
   "execution_count": 26,
   "id": "fb7d98a2",
   "metadata": {},
   "outputs": [
    {
     "name": "stdout",
     "output_type": "stream",
     "text": [
      "60.0\n"
     ]
    }
   ],
   "source": [
    "#Define variables\n",
    "mathematics = 20\n",
    "English = 90\n",
    "Swahili = 70 \n",
    "\n",
    "#Add sujects\n",
    "add_subjects = mathematics + English + Swahili\n",
    "\n",
    "#calculate the mean\n",
    "mean = add_subjects/3\n",
    "print(mean)"
   ]
  },
  {
   "cell_type": "code",
   "execution_count": 27,
   "id": "32d2f8d4",
   "metadata": {},
   "outputs": [
    {
     "name": "stdout",
     "output_type": "stream",
     "text": [
      "60.0\n"
     ]
    }
   ],
   "source": [
    "#another way\n",
    "mean = (mathematics + English + Swahili) / 3\n",
    "print(mean)"
   ]
  },
  {
   "cell_type": "markdown",
   "id": "b8f37934",
   "metadata": {},
   "source": [
    "## Expressions and statements\n",
    "An **expression** is a combination of values, variables, and operators. A value all by itself\n",
    "is considered an expression, and so is a variable, so the following are all legal expressions\n",
    "(assuming that the variable x has been assigned a value):\n",
    "- 17\n",
    "- x = 17\n",
    "- x + 17\n",
    "\n",
    "A **statement** is a unit of code that the Python interpreter can execute. We have seen two\n",
    "kinds of statement: print and assignment."
   ]
  },
  {
   "cell_type": "code",
   "execution_count": 28,
   "id": "b8239f8e",
   "metadata": {},
   "outputs": [
    {
     "data": {
      "text/plain": [
       "34"
      ]
     },
     "execution_count": 28,
     "metadata": {},
     "output_type": "execute_result"
    }
   ],
   "source": [
    "17\n",
    "\n",
    "x = 17\n",
    "\n",
    "x + 17"
   ]
  },
  {
   "cell_type": "code",
   "execution_count": null,
   "id": "f6ffbfc5",
   "metadata": {},
   "outputs": [],
   "source": []
  },
  {
   "cell_type": "code",
   "execution_count": null,
   "id": "f64eae8d",
   "metadata": {},
   "outputs": [],
   "source": []
  },
  {
   "cell_type": "markdown",
   "id": "f1cc728b",
   "metadata": {},
   "source": [
    "### Using Python as a calculator \n",
    "#### Numbers\n",
    "The interpreter acts as a simple calculator: you can type an expression at it and it will write the\n",
    "value. Expression syntax is straightforward: the operators +, -, * and / work just like in most\n",
    "other languages. \n",
    "\n",
    "For example:\n",
    "\n",
    "\n",
    "-addition +\n",
    "\n",
    "-subtratction -\n",
    "\n",
    "-multiplication *\n",
    "\n",
    "-division / (returns a decimal point) , // floor division - returns a whole number\n",
    "\n",
    "-modulus % (returns the remainder)\n",
    "\n",
    "-power ** "
   ]
  },
  {
   "cell_type": "code",
   "execution_count": 29,
   "id": "811f4274",
   "metadata": {},
   "outputs": [
    {
     "data": {
      "text/plain": [
       "25"
      ]
     },
     "execution_count": 29,
     "metadata": {},
     "output_type": "execute_result"
    }
   ],
   "source": [
    "5**2 # 5 to the power of 2 or 5^2\n"
   ]
  },
  {
   "cell_type": "code",
   "execution_count": 30,
   "id": "df557949",
   "metadata": {},
   "outputs": [
    {
     "data": {
      "text/plain": [
       "7"
      ]
     },
     "execution_count": 30,
     "metadata": {},
     "output_type": "execute_result"
    }
   ],
   "source": [
    "# ^ symbol is used for bit operations\n",
    "5^2"
   ]
  },
  {
   "cell_type": "code",
   "execution_count": 31,
   "id": "f6c873f2",
   "metadata": {},
   "outputs": [
    {
     "data": {
      "text/plain": [
       "5"
      ]
     },
     "execution_count": 31,
     "metadata": {},
     "output_type": "execute_result"
    }
   ],
   "source": [
    "10 // 2"
   ]
  },
  {
   "cell_type": "code",
   "execution_count": 33,
   "id": "32ad5c03",
   "metadata": {},
   "outputs": [
    {
     "data": {
      "text/plain": [
       "1.6666666666666667"
      ]
     },
     "execution_count": 33,
     "metadata": {},
     "output_type": "execute_result"
    }
   ],
   "source": [
    "5/3"
   ]
  },
  {
   "cell_type": "code",
   "execution_count": 34,
   "id": "d298cabf",
   "metadata": {},
   "outputs": [
    {
     "data": {
      "text/plain": [
       "1"
      ]
     },
     "execution_count": 34,
     "metadata": {},
     "output_type": "execute_result"
    }
   ],
   "source": [
    "5//3"
   ]
  },
  {
   "cell_type": "code",
   "execution_count": 35,
   "id": "0801156a",
   "metadata": {},
   "outputs": [
    {
     "data": {
      "text/plain": [
       "2.3333333333333335"
      ]
     },
     "execution_count": 35,
     "metadata": {},
     "output_type": "execute_result"
    }
   ],
   "source": [
    "7/3"
   ]
  },
  {
   "cell_type": "code",
   "execution_count": null,
   "id": "ee1ef456",
   "metadata": {},
   "outputs": [],
   "source": []
  },
  {
   "cell_type": "code",
   "execution_count": 36,
   "id": "98d40c8a",
   "metadata": {},
   "outputs": [
    {
     "data": {
      "text/plain": [
       "2"
      ]
     },
     "execution_count": 36,
     "metadata": {},
     "output_type": "execute_result"
    }
   ],
   "source": [
    "7//3"
   ]
  },
  {
   "cell_type": "code",
   "execution_count": 37,
   "id": "d416412b",
   "metadata": {},
   "outputs": [
    {
     "data": {
      "text/plain": [
       "1"
      ]
     },
     "execution_count": 37,
     "metadata": {},
     "output_type": "execute_result"
    }
   ],
   "source": [
    "7 % 3"
   ]
  },
  {
   "cell_type": "code",
   "execution_count": 38,
   "id": "666486e8",
   "metadata": {},
   "outputs": [
    {
     "data": {
      "text/plain": [
       "6"
      ]
     },
     "execution_count": 38,
     "metadata": {},
     "output_type": "execute_result"
    }
   ],
   "source": [
    "20 % 7"
   ]
  },
  {
   "cell_type": "code",
   "execution_count": null,
   "id": "ac4aa408",
   "metadata": {},
   "outputs": [],
   "source": []
  },
  {
   "cell_type": "code",
   "execution_count": null,
   "id": "a8bf147d",
   "metadata": {},
   "outputs": [],
   "source": []
  },
  {
   "cell_type": "markdown",
   "id": "6363934c",
   "metadata": {},
   "source": [
    "### Importing modules in Python\n",
    " \n",
    "A module can be conisdered to be the same as a code library or a file containing a set of functions you want to include in your application.\n",
    "Some of the most common built in python modules include **pandas, numpy, matplotlib, seaborn** etc.\n",
    "To use a module you can import it to your code using the import statement.\n",
    "The following ways can be used to import modules.\n",
    "-  import module as m (renaming the module) - **import math as m**\n",
    "-  import module (directly without renaming) - **import math**\n",
    "-  from module import* (import all methods and variables in a module in a way you don't have to reference the module name) - **from math import***\n",
    "-  from module import specific function (imports only a specific function in the module) **from math import pi**"
   ]
  },
  {
   "cell_type": "code",
   "execution_count": 7,
   "id": "d4269953",
   "metadata": {},
   "outputs": [],
   "source": [
    "import pandas as pd\n",
    "import numpy as np\n"
   ]
  },
  {
   "cell_type": "code",
   "execution_count": 39,
   "id": "257b134c",
   "metadata": {},
   "outputs": [
    {
     "data": {
      "text/plain": [
       "3.141592653589793"
      ]
     },
     "execution_count": 39,
     "metadata": {},
     "output_type": "execute_result"
    }
   ],
   "source": [
    "import math as m\n",
    "m.pi"
   ]
  },
  {
   "cell_type": "code",
   "execution_count": 40,
   "id": "5a757ec6",
   "metadata": {},
   "outputs": [
    {
     "data": {
      "text/plain": [
       "3.141592653589793"
      ]
     },
     "execution_count": 40,
     "metadata": {},
     "output_type": "execute_result"
    }
   ],
   "source": [
    "import math\n",
    "math.pi"
   ]
  },
  {
   "cell_type": "code",
   "execution_count": 41,
   "id": "583480d3",
   "metadata": {},
   "outputs": [
    {
     "data": {
      "text/plain": [
       "3.141592653589793"
      ]
     },
     "execution_count": 41,
     "metadata": {},
     "output_type": "execute_result"
    }
   ],
   "source": [
    "from math import*\n",
    "pi"
   ]
  },
  {
   "cell_type": "code",
   "execution_count": 5,
   "id": "4b777918",
   "metadata": {},
   "outputs": [
    {
     "name": "stdout",
     "output_type": "stream",
     "text": [
      "Help on built-in module math:\n",
      "\n",
      "NAME\n",
      "    math\n",
      "\n",
      "DESCRIPTION\n",
      "    This module provides access to the mathematical functions\n",
      "    defined by the C standard.\n",
      "\n",
      "FUNCTIONS\n",
      "    acos(x, /)\n",
      "        Return the arc cosine (measured in radians) of x.\n",
      "        \n",
      "        The result is between 0 and pi.\n",
      "    \n",
      "    acosh(x, /)\n",
      "        Return the inverse hyperbolic cosine of x.\n",
      "    \n",
      "    asin(x, /)\n",
      "        Return the arc sine (measured in radians) of x.\n",
      "        \n",
      "        The result is between -pi/2 and pi/2.\n",
      "    \n",
      "    asinh(x, /)\n",
      "        Return the inverse hyperbolic sine of x.\n",
      "    \n",
      "    atan(x, /)\n",
      "        Return the arc tangent (measured in radians) of x.\n",
      "        \n",
      "        The result is between -pi/2 and pi/2.\n",
      "    \n",
      "    atan2(y, x, /)\n",
      "        Return the arc tangent (measured in radians) of y/x.\n",
      "        \n",
      "        Unlike atan(y/x), the signs of both x and y are considered.\n",
      "    \n",
      "    atanh(x, /)\n",
      "        Return the inverse hyperbolic tangent of x.\n",
      "    \n",
      "    ceil(x, /)\n",
      "        Return the ceiling of x as an Integral.\n",
      "        \n",
      "        This is the smallest integer >= x.\n",
      "    \n",
      "    comb(n, k, /)\n",
      "        Number of ways to choose k items from n items without repetition and without order.\n",
      "        \n",
      "        Evaluates to n! / (k! * (n - k)!) when k <= n and evaluates\n",
      "        to zero when k > n.\n",
      "        \n",
      "        Also called the binomial coefficient because it is equivalent\n",
      "        to the coefficient of k-th term in polynomial expansion of the\n",
      "        expression (1 + x)**n.\n",
      "        \n",
      "        Raises TypeError if either of the arguments are not integers.\n",
      "        Raises ValueError if either of the arguments are negative.\n",
      "    \n",
      "    copysign(x, y, /)\n",
      "        Return a float with the magnitude (absolute value) of x but the sign of y.\n",
      "        \n",
      "        On platforms that support signed zeros, copysign(1.0, -0.0)\n",
      "        returns -1.0.\n",
      "    \n",
      "    cos(x, /)\n",
      "        Return the cosine of x (measured in radians).\n",
      "    \n",
      "    cosh(x, /)\n",
      "        Return the hyperbolic cosine of x.\n",
      "    \n",
      "    degrees(x, /)\n",
      "        Convert angle x from radians to degrees.\n",
      "    \n",
      "    dist(p, q, /)\n",
      "        Return the Euclidean distance between two points p and q.\n",
      "        \n",
      "        The points should be specified as sequences (or iterables) of\n",
      "        coordinates.  Both inputs must have the same dimension.\n",
      "        \n",
      "        Roughly equivalent to:\n",
      "            sqrt(sum((px - qx) ** 2.0 for px, qx in zip(p, q)))\n",
      "    \n",
      "    erf(x, /)\n",
      "        Error function at x.\n",
      "    \n",
      "    erfc(x, /)\n",
      "        Complementary error function at x.\n",
      "    \n",
      "    exp(x, /)\n",
      "        Return e raised to the power of x.\n",
      "    \n",
      "    expm1(x, /)\n",
      "        Return exp(x)-1.\n",
      "        \n",
      "        This function avoids the loss of precision involved in the direct evaluation of exp(x)-1 for small x.\n",
      "    \n",
      "    fabs(x, /)\n",
      "        Return the absolute value of the float x.\n",
      "    \n",
      "    factorial(x, /)\n",
      "        Find x!.\n",
      "        \n",
      "        Raise a ValueError if x is negative or non-integral.\n",
      "    \n",
      "    floor(x, /)\n",
      "        Return the floor of x as an Integral.\n",
      "        \n",
      "        This is the largest integer <= x.\n",
      "    \n",
      "    fmod(x, y, /)\n",
      "        Return fmod(x, y), according to platform C.\n",
      "        \n",
      "        x % y may differ.\n",
      "    \n",
      "    frexp(x, /)\n",
      "        Return the mantissa and exponent of x, as pair (m, e).\n",
      "        \n",
      "        m is a float and e is an int, such that x = m * 2.**e.\n",
      "        If x is 0, m and e are both 0.  Else 0.5 <= abs(m) < 1.0.\n",
      "    \n",
      "    fsum(seq, /)\n",
      "        Return an accurate floating point sum of values in the iterable seq.\n",
      "        \n",
      "        Assumes IEEE-754 floating point arithmetic.\n",
      "    \n",
      "    gamma(x, /)\n",
      "        Gamma function at x.\n",
      "    \n",
      "    gcd(*integers)\n",
      "        Greatest Common Divisor.\n",
      "    \n",
      "    hypot(...)\n",
      "        hypot(*coordinates) -> value\n",
      "        \n",
      "        Multidimensional Euclidean distance from the origin to a point.\n",
      "        \n",
      "        Roughly equivalent to:\n",
      "            sqrt(sum(x**2 for x in coordinates))\n",
      "        \n",
      "        For a two dimensional point (x, y), gives the hypotenuse\n",
      "        using the Pythagorean theorem:  sqrt(x*x + y*y).\n",
      "        \n",
      "        For example, the hypotenuse of a 3/4/5 right triangle is:\n",
      "        \n",
      "            >>> hypot(3.0, 4.0)\n",
      "            5.0\n",
      "    \n",
      "    isclose(a, b, *, rel_tol=1e-09, abs_tol=0.0)\n",
      "        Determine whether two floating point numbers are close in value.\n",
      "        \n",
      "          rel_tol\n",
      "            maximum difference for being considered \"close\", relative to the\n",
      "            magnitude of the input values\n",
      "          abs_tol\n",
      "            maximum difference for being considered \"close\", regardless of the\n",
      "            magnitude of the input values\n",
      "        \n",
      "        Return True if a is close in value to b, and False otherwise.\n",
      "        \n",
      "        For the values to be considered close, the difference between them\n",
      "        must be smaller than at least one of the tolerances.\n",
      "        \n",
      "        -inf, inf and NaN behave similarly to the IEEE 754 Standard.  That\n",
      "        is, NaN is not close to anything, even itself.  inf and -inf are\n",
      "        only close to themselves.\n",
      "    \n",
      "    isfinite(x, /)\n",
      "        Return True if x is neither an infinity nor a NaN, and False otherwise.\n",
      "    \n",
      "    isinf(x, /)\n",
      "        Return True if x is a positive or negative infinity, and False otherwise.\n",
      "    \n",
      "    isnan(x, /)\n",
      "        Return True if x is a NaN (not a number), and False otherwise.\n",
      "    \n",
      "    isqrt(n, /)\n",
      "        Return the integer part of the square root of the input.\n",
      "    \n",
      "    lcm(*integers)\n",
      "        Least Common Multiple.\n",
      "    \n",
      "    ldexp(x, i, /)\n",
      "        Return x * (2**i).\n",
      "        \n",
      "        This is essentially the inverse of frexp().\n",
      "    \n",
      "    lgamma(x, /)\n",
      "        Natural logarithm of absolute value of Gamma function at x.\n",
      "    \n",
      "    log(...)\n",
      "        log(x, [base=math.e])\n",
      "        Return the logarithm of x to the given base.\n",
      "        \n",
      "        If the base not specified, returns the natural logarithm (base e) of x.\n",
      "    \n",
      "    log10(x, /)\n",
      "        Return the base 10 logarithm of x.\n",
      "    \n",
      "    log1p(x, /)\n",
      "        Return the natural logarithm of 1+x (base e).\n",
      "        \n",
      "        The result is computed in a way which is accurate for x near zero.\n",
      "    \n",
      "    log2(x, /)\n",
      "        Return the base 2 logarithm of x.\n",
      "    \n",
      "    modf(x, /)\n",
      "        Return the fractional and integer parts of x.\n",
      "        \n",
      "        Both results carry the sign of x and are floats.\n",
      "    \n",
      "    nextafter(x, y, /)\n",
      "        Return the next floating-point value after x towards y.\n",
      "    \n",
      "    perm(n, k=None, /)\n",
      "        Number of ways to choose k items from n items without repetition and with order.\n",
      "        \n",
      "        Evaluates to n! / (n - k)! when k <= n and evaluates\n",
      "        to zero when k > n.\n",
      "        \n",
      "        If k is not specified or is None, then k defaults to n\n",
      "        and the function returns n!.\n",
      "        \n",
      "        Raises TypeError if either of the arguments are not integers.\n",
      "        Raises ValueError if either of the arguments are negative.\n",
      "    \n",
      "    pow(x, y, /)\n",
      "        Return x**y (x to the power of y).\n",
      "    \n",
      "    prod(iterable, /, *, start=1)\n",
      "        Calculate the product of all the elements in the input iterable.\n",
      "        \n",
      "        The default start value for the product is 1.\n",
      "        \n",
      "        When the iterable is empty, return the start value.  This function is\n",
      "        intended specifically for use with numeric values and may reject\n",
      "        non-numeric types.\n",
      "    \n",
      "    radians(x, /)\n",
      "        Convert angle x from degrees to radians.\n",
      "    \n",
      "    remainder(x, y, /)\n",
      "        Difference between x and the closest integer multiple of y.\n",
      "        \n",
      "        Return x - n*y where n*y is the closest integer multiple of y.\n",
      "        In the case where x is exactly halfway between two multiples of\n",
      "        y, the nearest even value of n is used. The result is always exact.\n",
      "    \n",
      "    sin(x, /)\n",
      "        Return the sine of x (measured in radians).\n",
      "    \n",
      "    sinh(x, /)\n",
      "        Return the hyperbolic sine of x.\n",
      "    \n",
      "    sqrt(x, /)\n",
      "        Return the square root of x.\n",
      "    \n",
      "    tan(x, /)\n",
      "        Return the tangent of x (measured in radians).\n",
      "    \n",
      "    tanh(x, /)\n",
      "        Return the hyperbolic tangent of x.\n",
      "    \n",
      "    trunc(x, /)\n",
      "        Truncates the Real x to the nearest Integral toward 0.\n",
      "        \n",
      "        Uses the __trunc__ magic method.\n",
      "    \n",
      "    ulp(x, /)\n",
      "        Return the value of the least significant bit of the float x.\n",
      "\n",
      "DATA\n",
      "    e = 2.718281828459045\n",
      "    inf = inf\n",
      "    nan = nan\n",
      "    pi = 3.141592653589793\n",
      "    tau = 6.283185307179586\n",
      "\n",
      "FILE\n",
      "    (built-in)\n",
      "\n",
      "\n"
     ]
    }
   ],
   "source": [
    "import math as m\n",
    "help(m)"
   ]
  },
  {
   "cell_type": "code",
   "execution_count": 8,
   "id": "113b1640",
   "metadata": {},
   "outputs": [],
   "source": [
    "import pandas \n",
    "help (pandas)"
   ]
  },
  {
   "cell_type": "code",
   "execution_count": 9,
   "id": "68c61dea",
   "metadata": {},
   "outputs": [
    {
     "data": {
      "text/plain": [
       "3.141592653589793"
      ]
     },
     "execution_count": 9,
     "metadata": {},
     "output_type": "execute_result"
    }
   ],
   "source": [
    "m.pi #gives the pi value"
   ]
  },
  {
   "cell_type": "code",
   "execution_count": 10,
   "id": "481221d8",
   "metadata": {},
   "outputs": [
    {
     "data": {
      "text/plain": [
       "7.0"
      ]
     },
     "execution_count": 10,
     "metadata": {},
     "output_type": "execute_result"
    }
   ],
   "source": [
    "m.sqrt(49) #does square root of a number"
   ]
  },
  {
   "cell_type": "code",
   "execution_count": 11,
   "id": "1c6ac147",
   "metadata": {},
   "outputs": [
    {
     "data": {
      "text/plain": [
       "25.0"
      ]
     },
     "execution_count": 11,
     "metadata": {},
     "output_type": "execute_result"
    }
   ],
   "source": [
    "m.pow(5,2) # does the power of a number ie 5 power 2"
   ]
  },
  {
   "cell_type": "code",
   "execution_count": 12,
   "id": "d816fc1e",
   "metadata": {},
   "outputs": [
    {
     "data": {
      "text/plain": [
       "6"
      ]
     },
     "execution_count": 12,
     "metadata": {},
     "output_type": "execute_result"
    }
   ],
   "source": [
    "m.ceil(5.89) #Rounds a number up to its nearest integer"
   ]
  },
  {
   "cell_type": "code",
   "execution_count": 13,
   "id": "64af0fbb",
   "metadata": {},
   "outputs": [
    {
     "data": {
      "text/plain": [
       "5"
      ]
     },
     "execution_count": 13,
     "metadata": {},
     "output_type": "execute_result"
    }
   ],
   "source": [
    "m.floor(5.89) #Rounds a number down to its nearest integer"
   ]
  },
  {
   "cell_type": "code",
   "execution_count": 14,
   "id": "b15a5eaa",
   "metadata": {},
   "outputs": [
    {
     "data": {
      "text/plain": [
       "4"
      ]
     },
     "execution_count": 14,
     "metadata": {},
     "output_type": "execute_result"
    }
   ],
   "source": [
    "import math\n",
    "math.log(10) # gets the log value \n",
    "math.sqrt(25)\n",
    "math.floor(4.5)"
   ]
  },
  {
   "cell_type": "code",
   "execution_count": null,
   "id": "8889d495",
   "metadata": {},
   "outputs": [],
   "source": []
  },
  {
   "cell_type": "markdown",
   "id": "99a87793",
   "metadata": {},
   "source": [
    "## Type Conversion \n",
    "Python defines type conversion functions to directly convert one data type to another"
   ]
  },
  {
   "cell_type": "code",
   "execution_count": 15,
   "id": "b023eabf",
   "metadata": {},
   "outputs": [
    {
     "data": {
      "text/plain": [
       "float"
      ]
     },
     "execution_count": 15,
     "metadata": {},
     "output_type": "execute_result"
    }
   ],
   "source": [
    "#Change from float to integer\n",
    "c = 4.8902467599\n",
    "#check its type before\n",
    "type(c)\n"
   ]
  },
  {
   "cell_type": "code",
   "execution_count": 20,
   "id": "96425186",
   "metadata": {},
   "outputs": [
    {
     "data": {
      "text/plain": [
       "int"
      ]
     },
     "execution_count": 20,
     "metadata": {},
     "output_type": "execute_result"
    }
   ],
   "source": [
    "b = int(c)\n",
    "\n",
    "#check its type after\n",
    "type(b)"
   ]
  },
  {
   "cell_type": "code",
   "execution_count": 19,
   "id": "e92694a9",
   "metadata": {},
   "outputs": [
    {
     "data": {
      "text/plain": [
       "float"
      ]
     },
     "execution_count": 19,
     "metadata": {},
     "output_type": "execute_result"
    }
   ],
   "source": [
    "# Change it back\n",
    "d = float(b)\n",
    "\n",
    "#check its type after\n",
    "type(d)"
   ]
  },
  {
   "cell_type": "markdown",
   "id": "418f9708",
   "metadata": {},
   "source": [
    "## Comments \n",
    "As programs get bigger and more complicated, they get more difficult to read. Formal\n",
    "languages are dense, and it is often difficult to look at a piece of code and figure out what\n",
    "it is doing, or why.\n",
    "\n",
    "For this reason, it is a good idea to add notes to your programs to explain in natural language\n",
    "what the program is doing. These notes are called **comments**, and they start with\n",
    "the # symbol\n",
    "\n",
    "\n",
    "#A customer's initial deposit amount is $400.\n",
    "\n",
    "Calculate the total amount after applying a 5% interest rate for one year."
   ]
  },
  {
   "cell_type": "code",
   "execution_count": 22,
   "id": "c0632eb1",
   "metadata": {},
   "outputs": [
    {
     "name": "stdout",
     "output_type": "stream",
     "text": [
      "420.0\n"
     ]
    }
   ],
   "source": [
    "# Define variables\n",
    "userDeposit = 400\n",
    "rate= 0.05\n",
    "\n",
    "# Calculate Interest\n",
    "interest = userDeposit * rate\n",
    "\n",
    "# Calculate total amount after interest\n",
    "TotalAmount = interest + userDeposit\n",
    "print(TotalAmount)"
   ]
  },
  {
   "cell_type": "code",
   "execution_count": null,
   "id": "080e8609",
   "metadata": {},
   "outputs": [],
   "source": []
  },
  {
   "cell_type": "code",
   "execution_count": null,
   "id": "5766890d",
   "metadata": {},
   "outputs": [],
   "source": []
  },
  {
   "cell_type": "code",
   "execution_count": null,
   "id": "d8a5eaec",
   "metadata": {},
   "outputs": [],
   "source": []
  },
  {
   "cell_type": "code",
   "execution_count": null,
   "id": "6aff6f98",
   "metadata": {},
   "outputs": [],
   "source": []
  },
  {
   "cell_type": "code",
   "execution_count": null,
   "id": "60ff7657",
   "metadata": {},
   "outputs": [],
   "source": []
  },
  {
   "cell_type": "code",
   "execution_count": null,
   "id": "3567bdb1",
   "metadata": {},
   "outputs": [],
   "source": []
  },
  {
   "cell_type": "code",
   "execution_count": null,
   "id": "dbe5383c",
   "metadata": {},
   "outputs": [],
   "source": [
    "# Initial deposit amount\n",
    "initial_deposit = 400\n",
    "\n",
    "# Interest rate (converted to decimal form)\n",
    "interest_rate = 0.05\n",
    "\n",
    "# Calculate the interest amount\n",
    "interest_amount = initial_deposit * interest_rate\n",
    "\n",
    "# Calculate the total amount after one year\n",
    "total_amount = initial_deposit + interest_amount\n",
    "\n",
    "# Print the result\n",
    "print(\"Total amount after one year:\", total_amount)"
   ]
  },
  {
   "cell_type": "code",
   "execution_count": null,
   "id": "bdef06af",
   "metadata": {},
   "outputs": [],
   "source": []
  },
  {
   "cell_type": "markdown",
   "id": "f1a9875e",
   "metadata": {},
   "source": [
    "### Docstrings \n",
    "Python docstrings are written as triple-quoted strings (\"\"\" \"\"\") and are typically placed immediately after the definition of the code element they document. They can span multiple lines \n",
    "\n",
    "Docstrings in Python have several purposes:\n",
    "\n",
    "> 1. Documentation: They serve as a reference for developers, providing information about the purpose, inputs, outputs, and any important details or considerations related to the code element.\n",
    "\n",
    "> 2. Readability: Docstrings enhance code readability by making it easier for others (and yourself) to understand the code's intended usage and functionality.\n",
    "\n",
    "> 3. Help and Documentation Generation: Python's built-in help() function and documentation generation tools like Sphinx can extract and format docstrings to generate helpful documentation.\n",
    "\n",
    "> 4. Interactive Help: Integrated development environments (IDEs) and interactive Python shells can display docstrings when developers query help on a specific code element.\n",
    "\n",
    "#### Example below\n",
    "\n",
    "def add_numbers(a, b):\n",
    "\n",
    "    \"\"\"\n",
    "    Adds two numbers and returns the result.\n",
    "\n",
    "    Parameters:\n",
    "    a (int): The first number.\n",
    "    b (int): The second number.\n",
    "\n",
    "    Returns:\n",
    "    int: The sum of the two numbers.\n",
    "    \"\"\"\n",
    "    return a + b"
   ]
  },
  {
   "cell_type": "code",
   "execution_count": 23,
   "id": "d38f7813",
   "metadata": {},
   "outputs": [],
   "source": [
    "def add_numbers(a, b):\n",
    "    \"\"\"\n",
    "    Adds two numbers and returns the result.\n",
    "\n",
    "    Parameters:\n",
    "    a (int): The first number.\n",
    "    b (int): The second number.\n",
    "\n",
    "    Returns:\n",
    "    int: The sum of the two numbers.\n",
    "    \"\"\"\n",
    "    return a + b"
   ]
  },
  {
   "cell_type": "code",
   "execution_count": 24,
   "id": "53b49881",
   "metadata": {},
   "outputs": [
    {
     "data": {
      "text/plain": [
       "333"
      ]
     },
     "execution_count": 24,
     "metadata": {},
     "output_type": "execute_result"
    }
   ],
   "source": [
    "add_numbers(100,233)"
   ]
  },
  {
   "cell_type": "code",
   "execution_count": 26,
   "id": "084fa472",
   "metadata": {},
   "outputs": [
    {
     "data": {
      "text/plain": [
       "350"
      ]
     },
     "execution_count": 26,
     "metadata": {},
     "output_type": "execute_result"
    }
   ],
   "source": [
    "add_numbers(300,50)"
   ]
  },
  {
   "cell_type": "code",
   "execution_count": 25,
   "id": "4a07e853",
   "metadata": {},
   "outputs": [
    {
     "name": "stdout",
     "output_type": "stream",
     "text": [
      "Help on function add_numbers in module __main__:\n",
      "\n",
      "add_numbers(a, b)\n",
      "    Adds two numbers and returns the result.\n",
      "    \n",
      "    Parameters:\n",
      "    a (int): The first number.\n",
      "    b (int): The second number.\n",
      "    \n",
      "    Returns:\n",
      "    int: The sum of the two numbers.\n",
      "\n"
     ]
    }
   ],
   "source": [
    "help(add_numbers)"
   ]
  },
  {
   "cell_type": "code",
   "execution_count": null,
   "id": "b4bc20fb",
   "metadata": {},
   "outputs": [],
   "source": []
  },
  {
   "cell_type": "markdown",
   "id": "61030fd0",
   "metadata": {},
   "source": [
    "## String methods\n",
    "Strings are a sequence of characters\n",
    "\n",
    "You cannot perform mathematical operations on strings, even if they look like numbers e.g '2'-'1'\n",
    "\n",
    "They can be enclosed in single quotes (&#39;...&#39;) or double quotes (&quot;...&quot;).\n",
    "\n",
    "string Methods .upper() .lower() len() .replace()"
   ]
  },
  {
   "cell_type": "code",
   "execution_count": 27,
   "id": "cdefbabf",
   "metadata": {},
   "outputs": [
    {
     "data": {
      "text/plain": [
       "str"
      ]
     },
     "execution_count": 27,
     "metadata": {},
     "output_type": "execute_result"
    }
   ],
   "source": [
    "b = \"Python\"\n",
    "type(b)"
   ]
  },
  {
   "cell_type": "code",
   "execution_count": 29,
   "id": "b56addbf",
   "metadata": {},
   "outputs": [
    {
     "data": {
      "text/plain": [
       "'PYTHON'"
      ]
     },
     "execution_count": 29,
     "metadata": {},
     "output_type": "execute_result"
    }
   ],
   "source": [
    "b.upper()"
   ]
  },
  {
   "cell_type": "code",
   "execution_count": 30,
   "id": "82cd15e9",
   "metadata": {},
   "outputs": [
    {
     "data": {
      "text/plain": [
       "'python'"
      ]
     },
     "execution_count": 30,
     "metadata": {},
     "output_type": "execute_result"
    }
   ],
   "source": [
    "b.lower()"
   ]
  },
  {
   "cell_type": "code",
   "execution_count": 32,
   "id": "13e3fd69",
   "metadata": {},
   "outputs": [
    {
     "data": {
      "text/plain": [
       "6"
      ]
     },
     "execution_count": 32,
     "metadata": {},
     "output_type": "execute_result"
    }
   ],
   "source": [
    "len(b)"
   ]
  },
  {
   "cell_type": "code",
   "execution_count": 33,
   "id": "29953f35",
   "metadata": {},
   "outputs": [
    {
     "data": {
      "text/plain": [
       "'Pithon'"
      ]
     },
     "execution_count": 33,
     "metadata": {},
     "output_type": "execute_result"
    }
   ],
   "source": [
    "b.replace(\"y\",\"i\")"
   ]
  },
  {
   "cell_type": "code",
   "execution_count": null,
   "id": "28ea406d",
   "metadata": {},
   "outputs": [],
   "source": []
  },
  {
   "cell_type": "code",
   "execution_count": null,
   "id": "2a633491",
   "metadata": {},
   "outputs": [],
   "source": []
  },
  {
   "cell_type": "code",
   "execution_count": 28,
   "id": "463482dc",
   "metadata": {},
   "outputs": [
    {
     "data": {
      "text/plain": [
       "'STRATHMORE'"
      ]
     },
     "execution_count": 28,
     "metadata": {},
     "output_type": "execute_result"
    }
   ],
   "source": [
    "string2 = 'strathmore'\n",
    "string2.upper()"
   ]
  },
  {
   "cell_type": "code",
   "execution_count": null,
   "id": "cb01d26b",
   "metadata": {},
   "outputs": [],
   "source": [
    "string2.lower()"
   ]
  },
  {
   "cell_type": "code",
   "execution_count": null,
   "id": "e04438a0",
   "metadata": {},
   "outputs": [],
   "source": [
    "len(string2)"
   ]
  },
  {
   "cell_type": "code",
   "execution_count": null,
   "id": "d983bcc5",
   "metadata": {},
   "outputs": [],
   "source": [
    "string2.replace('t', 'c')"
   ]
  },
  {
   "cell_type": "code",
   "execution_count": null,
   "id": "65a27daf",
   "metadata": {},
   "outputs": [],
   "source": [
    "var = 'banana'\n",
    "var.replace('a', \"o\")"
   ]
  },
  {
   "cell_type": "code",
   "execution_count": null,
   "id": "9e5cf709",
   "metadata": {},
   "outputs": [],
   "source": []
  },
  {
   "cell_type": "markdown",
   "id": "ad979788",
   "metadata": {},
   "source": [
    "## Special Characters \n",
    "###   \\t -tab space \n",
    "###  \\n - new line"
   ]
  },
  {
   "cell_type": "code",
   "execution_count": 34,
   "id": "956df5d8",
   "metadata": {},
   "outputs": [
    {
     "name": "stdout",
     "output_type": "stream",
     "text": [
      "Today is Tuesday. It is very hot\n"
     ]
    }
   ],
   "source": [
    "print(\"Today is Tuesday. It is very hot\")"
   ]
  },
  {
   "cell_type": "code",
   "execution_count": 35,
   "id": "c4f2deb9",
   "metadata": {},
   "outputs": [
    {
     "name": "stdout",
     "output_type": "stream",
     "text": [
      "Today is Tuesday \n",
      " It is very hot\n"
     ]
    }
   ],
   "source": [
    "#new line\n",
    "print(\"Today is Tuesday \\n It is very hot\")"
   ]
  },
  {
   "cell_type": "code",
   "execution_count": 36,
   "id": "74af5556",
   "metadata": {},
   "outputs": [
    {
     "name": "stdout",
     "output_type": "stream",
     "text": [
      "Today is Tuesday\t It is very hot\n"
     ]
    }
   ],
   "source": [
    "#Space\n",
    "print(\"Today is Tuesday\\t It is very hot\")"
   ]
  },
  {
   "cell_type": "code",
   "execution_count": null,
   "id": "730d4fd3",
   "metadata": {},
   "outputs": [],
   "source": []
  },
  {
   "cell_type": "code",
   "execution_count": null,
   "id": "577cb7a0",
   "metadata": {},
   "outputs": [],
   "source": []
  },
  {
   "cell_type": "code",
   "execution_count": null,
   "id": "d05f3f89",
   "metadata": {},
   "outputs": [],
   "source": []
  },
  {
   "cell_type": "code",
   "execution_count": null,
   "id": "6626cfac",
   "metadata": {},
   "outputs": [],
   "source": []
  },
  {
   "cell_type": "code",
   "execution_count": null,
   "id": "10294b95",
   "metadata": {},
   "outputs": [],
   "source": []
  },
  {
   "cell_type": "code",
   "execution_count": null,
   "id": "7c63fa8d",
   "metadata": {},
   "outputs": [],
   "source": []
  },
  {
   "cell_type": "code",
   "execution_count": null,
   "id": "aaa320e6",
   "metadata": {},
   "outputs": [],
   "source": []
  },
  {
   "cell_type": "code",
   "execution_count": null,
   "id": "ba5761d8",
   "metadata": {},
   "outputs": [],
   "source": []
  },
  {
   "cell_type": "code",
   "execution_count": null,
   "id": "a85c600e",
   "metadata": {},
   "outputs": [],
   "source": []
  },
  {
   "cell_type": "code",
   "execution_count": null,
   "id": "30471465",
   "metadata": {},
   "outputs": [],
   "source": []
  },
  {
   "cell_type": "code",
   "execution_count": null,
   "id": "68208396",
   "metadata": {},
   "outputs": [],
   "source": []
  },
  {
   "cell_type": "markdown",
   "id": "7ba9eda8",
   "metadata": {},
   "source": [
    "### Combining strings\n",
    "You can either use commas or  Concatenation ( ** this can only be done on strings and not any other data type) or f strings \n"
   ]
  },
  {
   "cell_type": "code",
   "execution_count": 19,
   "id": "8f886b1d",
   "metadata": {},
   "outputs": [
    {
     "name": "stdout",
     "output_type": "stream",
     "text": [
      "Christine CDAV\n"
     ]
    }
   ],
   "source": [
    "#Define variables\n",
    "name = \"Christine\"\n",
    "Unit = \"CDAV\"\n",
    "\n",
    "### Using Commas\n",
    "print(name, Unit)"
   ]
  },
  {
   "cell_type": "code",
   "execution_count": null,
   "id": "a61503b1",
   "metadata": {},
   "outputs": [],
   "source": [
    "print('My name is ',name, 'I am taking ', Unit)"
   ]
  },
  {
   "cell_type": "code",
   "execution_count": null,
   "id": "df3c48b1",
   "metadata": {},
   "outputs": [],
   "source": []
  },
  {
   "cell_type": "code",
   "execution_count": 4,
   "id": "dc9ed989",
   "metadata": {},
   "outputs": [
    {
     "name": "stdout",
     "output_type": "stream",
     "text": [
      "My name is Christine Kakina and I work as a  secretary at Safaricom . Find me in the Second Floor.\n"
     ]
    }
   ],
   "source": [
    "#Combining strings using commas\n",
    "position = \"secretary\"\n",
    "floor = \"Second\"\n",
    "companyName = \"Safaricom\"\n",
    "\n",
    "print (\"My name is Christine Kakina and I work as a \",position,\"at\",companyName,\". Find me in the\",floor,\"Floor.\")"
   ]
  },
  {
   "cell_type": "code",
   "execution_count": null,
   "id": "0016f30a",
   "metadata": {},
   "outputs": [],
   "source": []
  },
  {
   "cell_type": "code",
   "execution_count": 10,
   "id": "5b4f1a73",
   "metadata": {},
   "outputs": [
    {
     "name": "stdout",
     "output_type": "stream",
     "text": [
      "My name is Christine Kakina and I work as a secretary at Safaricom. Find me in theSecond Floor.\n"
     ]
    }
   ],
   "source": [
    "#Combining strings using concatination\n",
    "print (\"My name is Christine Kakina and I work as a \"+ position+ \" at \" +companyName+\". Find me in the\"+floor+\" Floor.\")\n"
   ]
  },
  {
   "cell_type": "code",
   "execution_count": 11,
   "id": "3053fded",
   "metadata": {},
   "outputs": [
    {
     "name": "stdout",
     "output_type": "stream",
     "text": [
      " My name is Christine Kakina and I work as a secretary at Safaricom.Find me in the Second floor. \n"
     ]
    }
   ],
   "source": [
    "\n",
    "#Combining strings using f strings\n",
    "print ( f\" My name is Christine Kakina and I work as a {position} at {companyName}. Find me in the {floor} floor. \")\n"
   ]
  },
  {
   "cell_type": "code",
   "execution_count": 22,
   "id": "6cfed773",
   "metadata": {},
   "outputs": [
    {
     "name": "stdout",
     "output_type": "stream",
     "text": [
      "Christine CDAV \n"
     ]
    }
   ],
   "source": [
    "#Concatination\n",
    "print(name+ \" \"+Unit+ \" \" )"
   ]
  },
  {
   "cell_type": "code",
   "execution_count": null,
   "id": "10bfba2e",
   "metadata": {},
   "outputs": [],
   "source": [
    "### Using f strings \n",
    "print(f\"{name} {Unit}\")"
   ]
  },
  {
   "cell_type": "code",
   "execution_count": null,
   "id": "d27714e2",
   "metadata": {},
   "outputs": [],
   "source": [
    "print(f\"My name is {name} I am taking {Unit}\")"
   ]
  },
  {
   "cell_type": "markdown",
   "id": "ec0cf474",
   "metadata": {},
   "source": [
    "## Print your Fave book + the author of that book and rating of the book using the string combination methods mentioned"
   ]
  },
  {
   "cell_type": "code",
   "execution_count": 15,
   "id": "0c897c63",
   "metadata": {},
   "outputs": [
    {
     "name": "stdout",
     "output_type": "stream",
     "text": [
      "My favourite book is Little red riding hood  by  Mermaid it has a rating of  4.5\n"
     ]
    }
   ],
   "source": [
    "book = \"Little red riding hood\"\n",
    "Author = \"Mermaid\"\n",
    "rating = \"4.5\"\n",
    "print(\"My favourite book is\", book, \" by \", Author,\"it has a rating of \", rating)"
   ]
  },
  {
   "cell_type": "code",
   "execution_count": 16,
   "id": "5d335743",
   "metadata": {},
   "outputs": [
    {
     "name": "stdout",
     "output_type": "stream",
     "text": [
      "My favourite book isLittle red riding hood by Mermaidit has a rating of 4.5\n"
     ]
    }
   ],
   "source": [
    "#Concatinations cannot be used in float variables\n",
    "print(\"My favourite book is\"+ book+ \" by \"+ Author+\"it has a rating of \"+ rating)"
   ]
  },
  {
   "cell_type": "markdown",
   "id": "56530c64",
   "metadata": {},
   "source": [
    "## String Manipulation\n",
    "### SLICING - INCLUDES THE FIRST EXCLUDES THE LAST"
   ]
  },
  {
   "cell_type": "markdown",
   "id": "a9ea5940",
   "metadata": {},
   "source": [
    "#Indexing\n",
    "W A T E R M E L O N \n",
    "\n",
    "0 1 2 3 4 5 6 7 8 9\n",
    "\n",
    "W A T E R M E L O N\n",
    "\n",
    "-10  -9  -8  -7  -6  -5  -4  -3 -2  -1"
   ]
  },
  {
   "cell_type": "code",
   "execution_count": null,
   "id": "7c7acf87",
   "metadata": {},
   "outputs": [],
   "source": []
  },
  {
   "cell_type": "code",
   "execution_count": 18,
   "id": "1f566959",
   "metadata": {},
   "outputs": [],
   "source": [
    "fruit = \"Watermelon\""
   ]
  },
  {
   "cell_type": "code",
   "execution_count": 19,
   "id": "7bbef476",
   "metadata": {},
   "outputs": [
    {
     "data": {
      "text/plain": [
       "'Water'"
      ]
     },
     "execution_count": 19,
     "metadata": {},
     "output_type": "execute_result"
    }
   ],
   "source": [
    "fruit[0:5]"
   ]
  },
  {
   "cell_type": "code",
   "execution_count": 20,
   "id": "7aed76e0",
   "metadata": {},
   "outputs": [
    {
     "data": {
      "text/plain": [
       "'melon'"
      ]
     },
     "execution_count": 20,
     "metadata": {},
     "output_type": "execute_result"
    }
   ],
   "source": [
    "fruit[5:10]"
   ]
  },
  {
   "cell_type": "code",
   "execution_count": null,
   "id": "48bd7f29",
   "metadata": {},
   "outputs": [],
   "source": []
  },
  {
   "cell_type": "markdown",
   "id": "16231f24",
   "metadata": {},
   "source": [
    "String Slicing - In addition to indexing, slicing is also supported. While indexing is used to obtain individual\n",
    "characters, slicing allows you to obtain substring:\n",
    "\n",
    "A point to note is that when it comes to slicing and selcting ranges of strings, Python **Includes the first and Excludes the last.**"
   ]
  },
  {
   "cell_type": "code",
   "execution_count": null,
   "id": "aab293a4",
   "metadata": {},
   "outputs": [],
   "source": []
  },
  {
   "cell_type": "code",
   "execution_count": null,
   "id": "ea22dc3e",
   "metadata": {},
   "outputs": [],
   "source": []
  },
  {
   "cell_type": "markdown",
   "id": "48d48163",
   "metadata": {},
   "source": [
    "# User Input \n",
    "\n",
    "Python has an input function which lets you ask a user for some text input. You call this function to tell the program to stop and wait for the user to key in the data. \n",
    "\n",
    "In  python3, you have the inbuilt function **input()**. The program will resume once the user presses the ENTER or RETURN key\n",
    "\n",
    "**input()** function is used to receive input from a user\n",
    "\n",
    "**print()** is the output function that displays an output to a user."
   ]
  },
  {
   "cell_type": "code",
   "execution_count": null,
   "id": "3eacad16",
   "metadata": {},
   "outputs": [],
   "source": []
  },
  {
   "cell_type": "code",
   "execution_count": 21,
   "id": "36cf42f2",
   "metadata": {},
   "outputs": [
    {
     "name": "stdout",
     "output_type": "stream",
     "text": [
      "How old are you?40\n"
     ]
    }
   ],
   "source": [
    "age = input(\"How old are you?\")\n"
   ]
  },
  {
   "cell_type": "code",
   "execution_count": 22,
   "id": "c8cc175a",
   "metadata": {},
   "outputs": [
    {
     "name": "stdout",
     "output_type": "stream",
     "text": [
      "40\n"
     ]
    }
   ],
   "source": [
    "\n",
    "print(age)"
   ]
  },
  {
   "cell_type": "code",
   "execution_count": null,
   "id": "199dbcf9",
   "metadata": {},
   "outputs": [],
   "source": []
  },
  {
   "cell_type": "markdown",
   "id": "6ba9e2c2",
   "metadata": {},
   "source": [
    "## Use the inbuilt function input() to get user input on the following questions:\n",
    "## 1. What is your name?\n",
    "## 2. How old are you?\n",
    "## 3. Where do you stay?\n",
    "## Combine the three statements using any string combination methods and print out the result"
   ]
  },
  {
   "cell_type": "code",
   "execution_count": 25,
   "id": "e292f2d6",
   "metadata": {},
   "outputs": [
    {
     "name": "stdout",
     "output_type": "stream",
     "text": [
      "Please enter your name Christine\n",
      "Please share your age 30\n",
      "Where do you stay syoki\n",
      "My name is  Christine  I am  30  years old and I live in  syoki\n"
     ]
    }
   ],
   "source": [
    "#Define user inputs\n",
    "userName = input(\"Please enter your name \" )\n",
    "userAge = input(\"Please share your age \" )\n",
    "userLocation = input(\"Where do you stay \" )\n",
    "\n",
    "print (\"My name is \" ,userName,\" I am \",userAge, \" years old and I live in \", userLocation)"
   ]
  },
  {
   "cell_type": "code",
   "execution_count": null,
   "id": "9ce60742",
   "metadata": {},
   "outputs": [],
   "source": []
  },
  {
   "cell_type": "code",
   "execution_count": null,
   "id": "549ef404",
   "metadata": {},
   "outputs": [],
   "source": []
  },
  {
   "cell_type": "code",
   "execution_count": null,
   "id": "5fb18ac5",
   "metadata": {},
   "outputs": [],
   "source": []
  },
  {
   "cell_type": "code",
   "execution_count": null,
   "id": "c5a4aef8",
   "metadata": {},
   "outputs": [],
   "source": []
  },
  {
   "cell_type": "code",
   "execution_count": null,
   "id": "b5d24864",
   "metadata": {},
   "outputs": [],
   "source": []
  },
  {
   "cell_type": "code",
   "execution_count": null,
   "id": "25fe6f0e",
   "metadata": {},
   "outputs": [],
   "source": []
  }
 ],
 "metadata": {
  "kernelspec": {
   "display_name": "Python 3 (ipykernel)",
   "language": "python",
   "name": "python3"
  },
  "language_info": {
   "codemirror_mode": {
    "name": "ipython",
    "version": 3
   },
   "file_extension": ".py",
   "mimetype": "text/x-python",
   "name": "python",
   "nbconvert_exporter": "python",
   "pygments_lexer": "ipython3",
   "version": "3.10.9"
  }
 },
 "nbformat": 4,
 "nbformat_minor": 5
}
