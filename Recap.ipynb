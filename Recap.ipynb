{
 "metadata": {
  "language_info": {
   "name": ""
  },
  "kernelspec": {
   "name": ""
  }
 },
 "nbformat_minor": 4,
 "nbformat": 4,
 "cells": [
  {
   "cell_type": "markdown",
   "source": [
    "\n",
    "### while looops\n",
    "a while loop excecutes a set of statements as long as the condition passed is true.\n",
    "\n",
    "### syntax\n",
    "#initial statement\n",
    "while #expression\n",
    "    #statements\n",
    "\n",
    "\n",
    "i = 1\n",
    "while i < 6:\n",
    "  print(i)\n",
    "  i += 1\n",
    "it means print i as long as i is less than 6"
   ],
   "metadata": {
    "pycharm": {
     "name": "#%% md\n"
    }
   }
  },
  {
   "cell_type": "code",
   "source": [
    "i = 1\n",
    "while i< 6:\n",
    "    print(i)\n",
    "    i+=1\n"
   ],
   "metadata": {
    "pycharm": {
     "name": "#%%\n"
    }
   },
   "execution_count": 26,
   "outputs": [
    {
     "name": "stdout",
     "output_type": "stream",
     "text": [
      "1\n",
      "2\n",
      "3\n",
      "4\n",
      "5\n"
     ]
    }
   ]
  },
  {
   "cell_type": "markdown",
   "source": [
    "### For loops\n",
    "A for loop iterates over a sequence( lists, tuples,dictionaries,sets,strings)\n",
    "\n",
    "### syntax\n",
    "#initial statement\n",
    "for # in #\n",
    "    #statements\n",
    "\n",
    "\n",
    "fruits = [\"apple\", \"banana\", \"cherry\"]\n",
    "\n",
    "for x in fruits:\n",
    "  print(x)\n",
    "  \n",
    "fruits = [\"apple\", \"banana\", \"cherry\"]\n",
    "for x in fruits:\n",
    "  print(x)\n",
    "  if x == \"banana\":\n",
    "    break\n"
   ],
   "metadata": {
    "pycharm": {
     "name": "#%% md\n"
    }
   }
  },
  {
   "cell_type": "code",
   "execution_count": 81,
   "outputs": [
    {
     "name": "stdout",
     "output_type": "stream",
     "text": [
      "Peter\n",
      "John\n"
     ]
    }
   ],
   "source": [
    "\n",
    "pupils = [\"Peter\",\"John\",\"James\",\"Mary\",\"Mary\"]\n",
    "for x in pupils:\n",
    "    print(x)\n",
    "    if x == \"John\":\n",
    "        break\n",
    "\n"
   ],
   "metadata": {
    "collapsed": false,
    "pycharm": {
     "name": "#%%\n"
    }
   }
  },
  {
   "cell_type": "code",
   "execution_count": 7,
   "outputs": [],
   "source": [],
   "metadata": {
    "collapsed": false,
    "pycharm": {
     "name": "#%%\n"
    }
   }
  },
  {
   "cell_type": "code",
   "execution_count": null,
   "outputs": [],
   "source": [],
   "metadata": {
    "collapsed": false,
    "pycharm": {
     "name": "#%%\n"
    }
   }
  },
  {
   "cell_type": "code",
   "execution_count": null,
   "outputs": [],
   "source": [],
   "metadata": {
    "collapsed": false,
    "pycharm": {
     "name": "#%%\n"
    }
   }
  },
  {
   "cell_type": "markdown",
   "source": [
    "### Data Structures\n",
    "Unordered means that the items in a set do not have a defined order.\n",
    "dupication\n",
    "changeable\n",
    "List is a collection which is ordered and changeable. Allows duplicate members.\n",
    "Tuple is a collection which is ordered and unchangeable. Allows duplicate members.\n",
    "Set is a collection which is unordered, unchangeable*, and unindexed. No duplicate members.\n",
    "Dictionary is a collection which is ordered** and changeable. No duplicate members.\n",
    "\n"
   ],
   "metadata": {
    "pycharm": {
     "name": "#%% md\n"
    }
   }
  },
  {
   "cell_type": "code",
   "execution_count": 33,
   "outputs": [
    {
     "name": "stdout",
     "output_type": "stream",
     "text": [
      "['apple', 'banana', 'cherry']\n",
      "<class 'list'>\n"
     ]
    }
   ],
   "source": [
    "##LISTS\n",
    "##lists- they help in storing  items in one single variable for use\n",
    "##allow duplicates\n",
    "\n",
    "\n",
    "##create a list of fruits\n",
    "thislist = [\"apple\", \"banana\", \"cherry\"]\n",
    "print(thislist)\n",
    "print(type(thislist))\n"
   ],
   "metadata": {
    "collapsed": false,
    "pycharm": {
     "name": "#%%\n"
    }
   }
  },
  {
   "cell_type": "code",
   "execution_count": 42,
   "outputs": [
    {
     "name": "stdout",
     "output_type": "stream",
     "text": [
      "['Peter', 'John', 'James', 'Mary', 'Mary']\n",
      "John\n",
      "5\n",
      "Mary\n",
      "<class 'str'>\n"
     ]
    }
   ],
   "source": [
    "#create a list of pupils in class\n",
    "pupils = [\"Peter\",\"John\",\"James\",\"Mary\",\"Mary\"]\n",
    "print(pupils)\n",
    "print(pupils[1])\n",
    "\n",
    "print(len(pupils))\n",
    "\n",
    "#print(type(pupils))\n",
    "print(pupils[3])\n",
    "print(type(pupils[3]))\n"
   ],
   "metadata": {
    "collapsed": false,
    "pycharm": {
     "name": "#%%\n"
    }
   }
  },
  {
   "cell_type": "code",
   "execution_count": 13,
   "outputs": [
    {
     "name": "stdout",
     "output_type": "stream",
     "text": [
      "('apple', 'banana', 'cherry')\n",
      "('apple', 'banana', 'cherry', 'apple', 'cherry')\n",
      "3\n"
     ]
    }
   ],
   "source": [
    "##Tuples\n",
    "##Tuples- Its a list, but it is a list that is ordered and unchangeable and allow duplicate items\n",
    "\n",
    "thistuple = (\"apple\", \"banana\", \"cherry\")\n",
    "print(thistuple)\n",
    "\n",
    "##Allow duplicates\n",
    "thistuple = (\"apple\", \"banana\", \"cherry\", \"apple\", \"cherry\")\n",
    "print(thistuple)\n",
    "\n",
    "##for length\n",
    "thistuple = (\"apple\", \"banana\", \"cherry\")\n",
    "print(len(thistuple))"
   ],
   "metadata": {
    "collapsed": false,
    "pycharm": {
     "name": "#%%\n"
    }
   }
  },
  {
   "cell_type": "code",
   "execution_count": 50,
   "outputs": [
    {
     "name": "stdout",
     "output_type": "stream",
     "text": [
      "('Peter', 'John', 'James', 'Mary', 'Mary')\n",
      "James\n"
     ]
    }
   ],
   "source": [
    "pupilTuple2 = (\"Peter\",\"John\",\"James\",\"Mary\",\"Mary\")\n",
    "print(pupilTuple2)\n",
    "#accessing item\n",
    "print(pupilTuple1[2])"
   ],
   "metadata": {
    "collapsed": false,
    "pycharm": {
     "name": "#%%\n"
    }
   }
  },
  {
   "cell_type": "code",
   "execution_count": 14,
   "outputs": [
    {
     "name": "stdout",
     "output_type": "stream",
     "text": [
      "{'cherry', 'apple', 'banana'}\n",
      "{'cherry', 'apple', 'banana', 'orange'}\n",
      "{'cherry', 'apple'}\n"
     ]
    }
   ],
   "source": [
    "##SETS\n",
    "\n",
    "## Set- a collection which is unordered, unchangeable, and unindexed.\n",
    "#create a set\n",
    "thisset = {\"apple\", \"banana\", \"cherry\"}\n",
    "print(thisset)\n",
    "\n",
    "##add item:\n",
    "thisset = {\"apple\", \"banana\", \"cherry\"}\n",
    "\n",
    "thisset.add(\"orange\")\n",
    "\n",
    "print(thisset)\n",
    "\n",
    "##adding a set\n",
    "\n",
    "##remove item\n",
    "thisset = {\"apple\", \"banana\", \"cherry\"}\n",
    "\n",
    "thisset.remove(\"banana\")\n",
    "\n",
    "print(thisset)"
   ],
   "metadata": {
    "collapsed": false,
    "pycharm": {
     "name": "#%%\n"
    }
   }
  },
  {
   "cell_type": "code",
   "execution_count": 1,
   "outputs": [
    {
     "name": "stdout",
     "output_type": "stream",
     "text": [
      "{'Peter', 'Mary', 'James', 'John'}\n",
      "<class 'set'>\n",
      "{'Book'}\n",
      "{'Peter', 'Mary', 'Book', 'James', 'John'}\n",
      "{'Peter', 'Mary', 'James', 'John'}\n"
     ]
    }
   ],
   "source": [
    "pupilSets = {\"Peter\",\"John\",\"James\",\"Mary\",\"Mary\"}\n",
    "print(pupilSets)\n",
    "print(type(pupilSets))\n",
    "\n",
    "\n",
    "#merging two sets\n",
    "pupilSets2 = {\"Book\"}\n",
    "union_set = pupilSets.union(pupilSets2)\n",
    "print(union_set)\n",
    "print(pupilSets)\n"
   ],
   "metadata": {
    "collapsed": false,
    "pycharm": {
     "name": "#%%\n"
    }
   }
  },
  {
   "cell_type": "code",
   "execution_count": 16,
   "outputs": [
    {
     "name": "stdout",
     "output_type": "stream",
     "text": [
      "{'brand': 'Ford', 'model': 'Mustang', 'year': 1964}\n",
      "Ford\n"
     ]
    }
   ],
   "source": [
    "\n",
    "##Dictionaries are used to store data values in key:value pairs.\n",
    "thisdict = {\n",
    "  \"brand\": \"Ford\",\n",
    "  \"model\": \"Mustang\",\n",
    "  \"year\": 1964\n",
    "}\n",
    "print(thisdict)\n",
    " ##accessing dectionary\n",
    "print(thisdict[\"brand\"])"
   ],
   "metadata": {
    "collapsed": false,
    "pycharm": {
     "name": "#%%\n"
    }
   }
  },
  {
   "cell_type": "code",
   "execution_count": 67,
   "outputs": [
    {
     "name": "stdout",
     "output_type": "stream",
     "text": [
      "Data Analyst\n"
     ]
    }
   ],
   "source": [
    "Christine= {\n",
    "    \"Job\" : \"Data Analyst\",\n",
    "    \"Position\": \"Intern\"\n",
    "}\n",
    "\n",
    "print(Christine[\"Job\"])"
   ],
   "metadata": {
    "collapsed": false,
    "pycharm": {
     "name": "#%%\n"
    }
   }
  },
  {
   "cell_type": "markdown",
   "source": [
    "### Exception handling\n",
    "The try block lets you test a block of code for errors.\n",
    "\n",
    "The except block lets you handle the error.\n",
    "\n",
    "The finally block lets you execute code, regardless of the result of the try- and except blocks"
   ],
   "metadata": {
    "pycharm": {
     "name": "#%% md\n"
    }
   }
  },
  {
   "cell_type": "code",
   "source": [
    "# To handle multiple exceptions you can have multiple except blocks\n",
    "try:\n",
    "    numerator = int(input(\"Enter a numerator:\"))\n",
    "    denominator = int(input(\"Enter a denominator:\"))\n",
    "\n",
    "    print(numerator/denominator)\n",
    "    print(name)\n",
    "\n",
    "except ZeroDivisionError:\n",
    "    print(\"Denominator cannot be zero. Please insert another number\")\n",
    "\n",
    "except ValueError:\n",
    "    print(\"Please input an integer value only\")\n",
    "\n",
    "except NameError:\n",
    "    print(\"Name is not defined\")\n",
    "\n",
    "\n",
    "print(\"Program ends\")"
   ],
   "metadata": {
    "pycharm": {
     "name": "#%%\n"
    }
   },
   "execution_count": null,
   "outputs": []
  },
  {
   "cell_type": "markdown",
   "source": [
    "\n",
    "Using a loops and conditional statements, write a program that prompts the user to enter a\n",
    "positive integer and then prints all the odd numbers from 1 to that number."
   ],
   "metadata": {
    "collapsed": false,
    "pycharm": {
     "name": "#%% md\n"
    }
   }
  },
  {
   "cell_type": "code",
   "execution_count": 86,
   "outputs": [
    {
     "name": "stdout",
     "output_type": "stream",
     "text": [
      "The odd number are\n",
      "1\n",
      "3\n",
      "5\n",
      "7\n",
      "9\n",
      "11\n",
      "13\n",
      "15\n",
      "17\n",
      "19\n"
     ]
    }
   ],
   "source": [
    "def odd_numbers():\n",
    "    num = int(input(\"Please enter a positive integer:  \"))\n",
    "    print(\"The odd number are\" )\n",
    "    for c  in range(1, num+1,2):\n",
    "            print(c)\n",
    "\n",
    "odd_numbers()"
   ],
   "metadata": {
    "collapsed": false,
    "pycharm": {
     "name": "#%%\n"
    }
   }
  },
  {
   "cell_type": "code",
   "execution_count": 85,
   "outputs": [
    {
     "name": "stdout",
     "output_type": "stream",
     "text": [
      "The odd number are\n",
      "1\n",
      "3\n",
      "5\n",
      "7\n",
      "9\n",
      "11\n",
      "13\n",
      "15\n",
      "17\n",
      "19\n",
      "21\n",
      "23\n",
      "25\n",
      "27\n",
      "29\n"
     ]
    }
   ],
   "source": [
    "def odd_numbers():\n",
    "    num = int(input(\"Please enter a positive integer:  \"))\n",
    "    print(\"The odd number are\" )\n",
    "    for c  in range(1, num+1):\n",
    "        if c % 2 == 1:\n",
    "            print(c)\n",
    "\n",
    "odd_numbers()"
   ],
   "metadata": {
    "collapsed": false,
    "pycharm": {
     "name": "#%%\n"
    }
   }
  },
  {
   "cell_type": "code",
   "execution_count": null,
   "outputs": [],
   "source": [],
   "metadata": {
    "collapsed": false,
    "pycharm": {
     "name": "#%%\n"
    }
   }
  },
  {
   "cell_type": "code",
   "execution_count": null,
   "outputs": [],
   "source": [],
   "metadata": {
    "collapsed": false,
    "pycharm": {
     "name": "#%%\n"
    }
   }
  },
  {
   "cell_type": "markdown",
   "source": [
    "Create a password of your liking and write a python program that prompts a user to enter a\n",
    "password. Create a function that will check whether the password is correct or not. When the password\n",
    "is correct, it should display a success message and when the password is wrong, it should display\n",
    "an error message.\n"
   ],
   "metadata": {
    "collapsed": false,
    "pycharm": {
     "name": "#%% md\n"
    }
   }
  },
  {
   "cell_type": "code",
   "execution_count": 7,
   "outputs": [
    {
     "name": "stdout",
     "output_type": "stream",
     "text": [
      "Success\n"
     ]
    }
   ],
   "source": [
    "password = \"input\"\n",
    "user_password = input(\"Please enter the password: \")\n",
    "\n",
    "if user_password == password:\n",
    "    print(\"Success\")\n",
    "else:\n",
    "    print(\"Error: Incorrect password\")\n"
   ],
   "metadata": {
    "collapsed": false,
    "pycharm": {
     "name": "#%%\n"
    }
   }
  },
  {
   "cell_type": "code",
   "execution_count": null,
   "outputs": [],
   "source": [],
   "metadata": {
    "collapsed": false,
    "pycharm": {
     "name": "#%%\n"
    }
   }
  }
 ]
}