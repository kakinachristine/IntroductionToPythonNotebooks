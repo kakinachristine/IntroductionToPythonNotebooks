{
 "cells": [
  {
   "cell_type": "markdown",
   "id": "58f459d7",
   "metadata": {
    "pycharm": {
     "name": "#%% md\n"
    }
   },
   "source": [
    "# Functions \n",
    "Video Explanation: https://www.youtube.com/watch?v=wbsIEhDM_-0\n",
    "\n",
    "## Function Calls\n",
    "In the context of programming, a function is a named sequence of statements that performs a computation. When you define a function, you specify the name and the sequence of statements. Later, you can “call” the function by name\n",
    "\n",
    "\n",
    "\n",
    "#### syntax\n",
    "def name-function():\n",
    "\n",
    "    statement\n",
    "    return \n",
    "    \n",
    "name-function()\n",
    "\n",
    "\n",
    "You use functions in programming to bundle a set of instructions that you want to use repeatedly or that, because of their complexity, are better self-contained in a sub program and called when needed. Basically a function is piece of code written to carry out a specified task. \n",
    "\n",
    "#### There are three types of functions in python:-\n",
    "- **Built-in functions**: The Python interpreter has a number of functions and types built into it that are always available. For example: input(), int(), float(), len(), min(), max(). Check this link: https://docs.python.org/3/library/functions.html\n",
    "- **User-Defined Functions (UDFs)**: Functions the user creates to help them out.\n",
    "- **Anonymous functions**: also called lamda functions because  they are not declared with standard def keyword\n",
    "\n",
    "Advantages of Using functions:\n",
    " - allow division of work, work is divided into smaller manageable modules\n",
    " - avoid code replication\n",
    " - easy debug\n",
    " - reusability \n",
    " "
   ]
  },
  {
   "cell_type": "code",
   "execution_count": 24,
   "id": "d9a421ce",
   "metadata": {
    "pycharm": {
     "name": "#%%\n"
    }
   },
   "outputs": [],
   "source": [
    "def greet(): # defining a function\n",
    "    print (\"Hello\") #function statement\n",
    "    print (\"How are you?\")"
   ]
  },
  {
   "cell_type": "code",
   "execution_count": 25,
   "id": "b0c36a69",
   "metadata": {
    "pycharm": {
     "name": "#%%\n"
    }
   },
   "outputs": [
    {
     "name": "stdout",
     "output_type": "stream",
     "text": [
      "Hello\n",
      "How are you?\n"
     ]
    }
   ],
   "source": [
    "greet()"
   ]
  },
  {
   "cell_type": "code",
   "execution_count": 26,
   "id": "3cd04e54",
   "metadata": {
    "scrolled": false,
    "pycharm": {
     "name": "#%%\n"
    }
   },
   "outputs": [
    {
     "name": "stdout",
     "output_type": "stream",
     "text": [
      "Hello\n",
      "How are you?\n",
      "Hello\n",
      "How are you?\n",
      "Hello\n",
      "How are you?\n",
      "Hello\n",
      "How are you?\n",
      "Hello\n",
      "How are you?\n",
      "Hello\n",
      "How are you?\n"
     ]
    }
   ],
   "source": [
    "# You can call a function multiple times\n",
    "greet()\n",
    "greet()\n",
    "greet()\n",
    "greet()\n",
    "greet()\n",
    "greet()"
   ]
  },
  {
   "cell_type": "code",
   "execution_count": 27,
   "id": "537f94d3",
   "metadata": {
    "pycharm": {
     "name": "#%%\n"
    }
   },
   "outputs": [
    {
     "name": "stdout",
     "output_type": "stream",
     "text": [
      " What is your name?\n"
     ]
    }
   ],
   "source": [
    "# To use a function, you have to define it before calling it\n",
    "\n",
    "your_name()\n",
    "\n",
    "def your_name():\n",
    "    print (\"What is your name?\")"
   ]
  },
  {
   "cell_type": "code",
   "execution_count": 4,
   "id": "55754ddd",
   "metadata": {
    "pycharm": {
     "name": "#%%\n"
    }
   },
   "outputs": [
    {
     "name": "stdout",
     "output_type": "stream",
     "text": [
      " What is your name?\n"
     ]
    }
   ],
   "source": [
    "def your_name():\n",
    "    print(\" What is your name?\")\n",
    "    \n",
    "your_name()"
   ]
  },
  {
   "cell_type": "code",
   "execution_count": 31,
   "id": "c782c0d0",
   "metadata": {
    "pycharm": {
     "name": "#%%\n"
    }
   },
   "outputs": [
    {
     "name": "stdout",
     "output_type": "stream",
     "text": [
      "Hello James\n"
     ]
    }
   ],
   "source": [
    "# You can also pass arguments to a function call\n",
    "def greetings (name): #the argument is transferred to a variable name\n",
    "    print(\"Hello\", name)\n",
    "    \n",
    "greetings(\"James\")"
   ]
  },
  {
   "cell_type": "markdown",
   "source": [],
   "metadata": {
    "collapsed": false,
    "pycharm": {
     "name": "#%% md\n"
    }
   }
  },
  {
   "cell_type": "code",
   "execution_count": 39,
   "id": "64fa8c29",
   "metadata": {
    "pycharm": {
     "name": "#%%\n"
    }
   },
   "outputs": [
    {
     "name": "stdout",
     "output_type": "stream",
     "text": [
      "Welcome to class, student\n"
     ]
    }
   ],
   "source": [
    "def student (student):\n",
    "    print(\"Welcome to class,\", student)\n",
    "\n",
    "\n",
    "student(\"student\")"
   ]
  },
  {
   "cell_type": "code",
   "execution_count": 1,
   "id": "4e255364",
   "metadata": {
    "pycharm": {
     "name": "#%%\n"
    }
   },
   "outputs": [
    {
     "name": "stdout",
     "output_type": "stream",
     "text": [
      "The sum of the numbers is:  25\n"
     ]
    }
   ],
   "source": [
    "# While working with functions you can also pass multiple arguments\n",
    "def add_numbers(x,y,z):\n",
    "    result = x + y +z # statement of execution\n",
    "    print(\"The sum of the numbers is: \",result)\n",
    "    \n",
    "x= 6\n",
    "y= 9\n",
    "z = 10\n",
    "\n",
    "add_numbers(x,y,z)"
   ]
  },
  {
   "cell_type": "code",
   "execution_count": 4,
   "id": "11ef86bb",
   "metadata": {
    "scrolled": true,
    "pycharm": {
     "name": "#%%\n"
    }
   },
   "outputs": [
    {
     "ename": "TypeError",
     "evalue": "add_numbers() missing 1 required positional argument: 'z'",
     "output_type": "error",
     "traceback": [
      "\u001B[1;31m---------------------------------------------------------------------------\u001B[0m",
      "\u001B[1;31mTypeError\u001B[0m                                 Traceback (most recent call last)",
      "\u001B[1;32m<ipython-input-4-c390d1d71961>\u001B[0m in \u001B[0;36m<module>\u001B[1;34m\u001B[0m\n\u001B[1;32m----> 1\u001B[1;33m \u001B[0madd_numbers\u001B[0m\u001B[1;33m(\u001B[0m\u001B[1;36m2\u001B[0m\u001B[1;33m,\u001B[0m\u001B[1;36m2\u001B[0m\u001B[1;33m)\u001B[0m\u001B[1;33m\u001B[0m\u001B[1;33m\u001B[0m\u001B[0m\n\u001B[0m",
      "\u001B[1;31mTypeError\u001B[0m: add_numbers() missing 1 required positional argument: 'z'"
     ]
    }
   ],
   "source": [
    "add_numbers(2,2)"
   ]
  },
  {
   "cell_type": "code",
   "execution_count": 9,
   "id": "4fc785f3",
   "metadata": {
    "pycharm": {
     "name": "#%%\n"
    }
   },
   "outputs": [],
   "source": [
    "def sum_numbers(*numbers):\n",
    "    total = 0\n",
    "    for num in numbers:\n",
    "        total += num\n",
    "    return total\n"
   ]
  },
  {
   "cell_type": "code",
   "execution_count": 10,
   "id": "bced4fc8",
   "metadata": {
    "pycharm": {
     "name": "#%%\n"
    }
   },
   "outputs": [
    {
     "data": {
      "text/plain": [
       "16"
      ]
     },
     "execution_count": 10,
     "metadata": {},
     "output_type": "execute_result"
    }
   ],
   "source": [
    "sum_numbers(10,6)"
   ]
  },
  {
   "cell_type": "code",
   "execution_count": 41,
   "id": "aa9c2578",
   "metadata": {
    "pycharm": {
     "name": "#%%\n"
    }
   },
   "outputs": [
    {
     "data": {
      "text/plain": [
       "15"
      ]
     },
     "execution_count": 41,
     "metadata": {},
     "output_type": "execute_result"
    }
   ],
   "source": [
    "# To print out results of a function you can use a return statement\n",
    "def add_numbers(x,y):\n",
    "    #result = x + y # statment of execution\n",
    "    return x + y\n",
    "    \n",
    "x= 6\n",
    "y= 9\n",
    "\n",
    "add_numbers(x,y)"
   ]
  },
  {
   "cell_type": "markdown",
   "id": "8bfc8e11",
   "metadata": {
    "pycharm": {
     "name": "#%% md\n"
    }
   },
   "source": [
    "A return statement is used to end the execution of the function call and “returns” the result (value of the expression following the return keyword) to the caller. The statements after the return statements are not executed\n",
    "\n",
    "**Note**: Return statement can not be used outside the function.\n",
    "\n",
    "Printing and returning are completely different concepts.\n",
    "\n",
    "*print* is a function you call. Calling print will immediately make your program write out text for you to see. Use print when you want to show a value to a human.\n",
    "\n",
    "*return* is a keyword. When a return statement is reached, Python will stop the execution of the current function, sending a value out to where the function was called. Use return when you want to send a value from one point in your code to another.\n",
    "\n",
    "When a function uses *print* the function will display the output on the screen, but it does not actually return a value that can be stored or used elsewhere in your program. This can be useful for debugging or for displaying information to the user.\n",
    "\n",
    "On the other hand, *return* sends a value back to the caller of the function, and the value can then be stored or used in another part of the program. When a function encounters a return statement, it immediately terminates and returns the specified value.\n",
    "\n",
    "Using return changes the flow of the program. Using print does not."
   ]
  },
  {
   "cell_type": "code",
   "execution_count": 40,
   "id": "32c22390",
   "metadata": {
    "pycharm": {
     "name": "#%%\n"
    }
   },
   "outputs": [
    {
     "name": "stdout",
     "output_type": "stream",
     "text": [
      "Hello\n"
     ]
    }
   ],
   "source": [
    "# When the return statement is encountered the function terminates and goes back to the function call\n",
    "def greet(): # defining a function\n",
    "    print (\"Hello\") #function statement\n",
    "    return \n",
    "    print (\"How are you?\")\n",
    "    \n",
    "greet() #calling a function"
   ]
  },
  {
   "cell_type": "code",
   "execution_count": 43,
   "id": "0beb0b3e",
   "metadata": {
    "pycharm": {
     "name": "#%%\n"
    }
   },
   "outputs": [],
   "source": [
    "def evenOrOdd(n): # function definition with one parameter\n",
    "    if n % 2 == 0:\n",
    "        print(\"Number is even\")\n",
    "    else:\n",
    "        print(\"Number is odd\")"
   ]
  },
  {
   "cell_type": "code",
   "execution_count": 44,
   "id": "19cc84fa",
   "metadata": {
    "pycharm": {
     "name": "#%%\n"
    }
   },
   "outputs": [
    {
     "name": "stdout",
     "output_type": "stream",
     "text": [
      "Number is odd\n"
     ]
    }
   ],
   "source": [
    "evenOrOdd(5)"
   ]
  },
  {
   "cell_type": "code",
   "execution_count": 45,
   "id": "6936aead",
   "metadata": {
    "pycharm": {
     "name": "#%%\n"
    }
   },
   "outputs": [
    {
     "name": "stdout",
     "output_type": "stream",
     "text": [
      "Number is even\n"
     ]
    }
   ],
   "source": [
    "evenOrOdd(6)"
   ]
  },
  {
   "cell_type": "code",
   "execution_count": 46,
   "id": "36638e77",
   "metadata": {
    "pycharm": {
     "name": "#%%\n"
    }
   },
   "outputs": [
    {
     "name": "stdout",
     "output_type": "stream",
     "text": [
      "Enter a number: 8\n",
      "Number is even\n"
     ]
    }
   ],
   "source": [
    "def evenOrOdd(n):\n",
    "    if n % 2 == 0:\n",
    "        print(\"Number is even\")\n",
    "    else:\n",
    "        print(\"Number is odd\")\n",
    "        \n",
    "n = int(input(\"Enter a number: \"))\n",
    "\n",
    "evenOrOdd(n)"
   ]
  },
  {
   "cell_type": "markdown",
   "id": "f4bf656a",
   "metadata": {
    "pycharm": {
     "name": "#%% md\n"
    }
   },
   "source": [
    "#### User-Defined Functions\n",
    "How to define a function\n",
    "The four steps to defining a function in Python are the following:\n",
    "1. Use the keyword def to declare the function and follow this up with the function name.\n",
    "2. Add arguments to the function: they should be within the parentheses of the function.\n",
    "End your line with a colon.\n",
    "3. Add statements that the functions should execute.\n",
    "4. End your function with a return statement if the function should output something.\n",
    "Without the return statement, your function will return an object None.\n",
    "\n",
    "The Python **return** statement is a special statement that you can use inside a function or method to send the function’s result back to the caller. A return statement consists of the return keyword followed by an optional return value.\n",
    "\n",
    "You can omit the return value of a function and use a bare return without a return value. You can also omit the entire return statement. In both cases, the return value will be None.\n",
    "\n"
   ]
  },
  {
   "cell_type": "code",
   "execution_count": 47,
   "id": "52d1ac3e",
   "metadata": {
    "pycharm": {
     "name": "#%%\n"
    }
   },
   "outputs": [
    {
     "data": {
      "text/plain": [
       "6"
      ]
     },
     "execution_count": 47,
     "metadata": {},
     "output_type": "execute_result"
    }
   ],
   "source": [
    "# Simple function that performs a calculation\n",
    "def  summation(a,b):\n",
    "    return a+b\n",
    "\n",
    "summation(2,4)"
   ]
  },
  {
   "cell_type": "code",
   "execution_count": 48,
   "id": "67d7bc49",
   "metadata": {
    "pycharm": {
     "name": "#%%\n"
    }
   },
   "outputs": [
    {
     "name": "stdout",
     "output_type": "stream",
     "text": [
      "a: 8\n",
      "b: 10\n"
     ]
    },
    {
     "data": {
      "text/plain": [
       "18"
      ]
     },
     "execution_count": 48,
     "metadata": {},
     "output_type": "execute_result"
    }
   ],
   "source": [
    "a = int(input('a: '))\n",
    "b= int(input('b: '))\n",
    "\n",
    "def calculation(a,b):\n",
    "    return a + b\n",
    "    \n",
    "\n",
    "calculation(a,b)"
   ]
  },
  {
   "cell_type": "markdown",
   "id": "649adaea",
   "metadata": {
    "pycharm": {
     "name": "#%% md\n"
    }
   },
   "source": [
    "#### Global vs Local Variable \n",
    "In general, variables that are defined inside a function body have a local scope, and those defined\n",
    "outside have a global scope. That means that local variables are defined within a function block\n",
    "and can only be accessed inside that function, while global variables can be accessed by all\n",
    "functions that might be in your script"
   ]
  },
  {
   "cell_type": "code",
   "execution_count": 11,
   "id": "9c807c72",
   "metadata": {
    "pycharm": {
     "name": "#%%\n"
    }
   },
   "outputs": [],
   "source": [
    "#Global Variable\n",
    "studentName = \"John\""
   ]
  },
  {
   "cell_type": "code",
   "execution_count": 12,
   "id": "a856f113",
   "metadata": {
    "scrolled": true,
    "pycharm": {
     "name": "#%%\n"
    }
   },
   "outputs": [
    {
     "name": "stdout",
     "output_type": "stream",
     "text": [
      "This is inside a function: John\n"
     ]
    }
   ],
   "source": [
    "def printStudent():\n",
    "    print(\"This is inside a function:\", studentName)\n",
    "    \n",
    "printStudent()"
   ]
  },
  {
   "cell_type": "code",
   "execution_count": 52,
   "id": "90f69fd4",
   "metadata": {
    "scrolled": true,
    "pycharm": {
     "name": "#%%\n"
    }
   },
   "outputs": [
    {
     "name": "stdout",
     "output_type": "stream",
     "text": [
      "This is inside a function: John\n"
     ]
    }
   ],
   "source": [
    "print(\"This is inside a function:\", studentName)"
   ]
  },
  {
   "cell_type": "code",
   "execution_count": 18,
   "id": "af2933ea",
   "metadata": {
    "pycharm": {
     "name": "#%%\n"
    }
   },
   "outputs": [
    {
     "name": "stdout",
     "output_type": "stream",
     "text": [
      "This is inside a function: 2\n",
      "Kijabe\n"
     ]
    }
   ],
   "source": [
    "#Local variable\n",
    "def studentHome():\n",
    "    location = \"Kijabe\"\n",
    "    print(\"This is inside a function:\", location)\n",
    "    \n",
    "studentHome()\n"
   ]
  },
  {
   "cell_type": "code",
   "execution_count": 14,
   "id": "795b2f79",
   "metadata": {
    "pycharm": {
     "name": "#%%\n"
    }
   },
   "outputs": [
    {
     "ename": "NameError",
     "evalue": "name 'location' is not defined",
     "output_type": "error",
     "traceback": [
      "\u001B[1;31m---------------------------------------------------------------------------\u001B[0m",
      "\u001B[1;31mNameError\u001B[0m                                 Traceback (most recent call last)",
      "\u001B[1;32m<ipython-input-14-27c50ebef1ad>\u001B[0m in \u001B[0;36m<module>\u001B[1;34m\u001B[0m\n\u001B[1;32m----> 1\u001B[1;33m \u001B[0mprint\u001B[0m\u001B[1;33m(\u001B[0m\u001B[1;34m\"This is inside a function:\"\u001B[0m\u001B[1;33m,\u001B[0m \u001B[0mlocation\u001B[0m\u001B[1;33m)\u001B[0m\u001B[1;33m\u001B[0m\u001B[1;33m\u001B[0m\u001B[0m\n\u001B[0m",
      "\u001B[1;31mNameError\u001B[0m: name 'location' is not defined"
     ]
    }
   ],
   "source": [
    "print(\"This is inside a function:\", location)"
   ]
  },
  {
   "cell_type": "code",
   "execution_count": 55,
   "id": "c2712b4b",
   "metadata": {
    "pycharm": {
     "name": "#%%\n"
    }
   },
   "outputs": [
    {
     "name": "stdout",
     "output_type": "stream",
     "text": [
      "Inside - Your name is: Chakaya\n",
      "Outside - Your name is: Chakaya\n"
     ]
    }
   ],
   "source": [
    "name = \"Chakaya\"\n",
    "\n",
    "def show():\n",
    "    print(\"Inside - Your name is:\", name)\n",
    "    \n",
    "show()\n",
    "\n",
    "print(\"Outside - Your name is:\", name)"
   ]
  },
  {
   "cell_type": "code",
   "execution_count": 56,
   "id": "6d2e40c9",
   "metadata": {
    "pycharm": {
     "name": "#%%\n"
    }
   },
   "outputs": [
    {
     "name": "stdout",
     "output_type": "stream",
     "text": [
      "Inside - Your name is: kb\n"
     ]
    },
    {
     "ename": "NameError",
     "evalue": "name 'jina' is not defined",
     "output_type": "error",
     "traceback": [
      "\u001B[1;31m---------------------------------------------------------------------------\u001B[0m",
      "\u001B[1;31mNameError\u001B[0m                                 Traceback (most recent call last)",
      "\u001B[1;32m<ipython-input-56-1f2280dc2b61>\u001B[0m in \u001B[0;36m<module>\u001B[1;34m\u001B[0m\n\u001B[0;32m      4\u001B[0m \u001B[0mshow\u001B[0m\u001B[1;33m(\u001B[0m\u001B[1;33m)\u001B[0m\u001B[1;33m\u001B[0m\u001B[1;33m\u001B[0m\u001B[0m\n\u001B[0;32m      5\u001B[0m \u001B[1;33m\u001B[0m\u001B[0m\n\u001B[1;32m----> 6\u001B[1;33m \u001B[0mprint\u001B[0m\u001B[1;33m(\u001B[0m\u001B[1;34m\"Outside - Your name is:\"\u001B[0m\u001B[1;33m,\u001B[0m \u001B[0mjina\u001B[0m\u001B[1;33m)\u001B[0m\u001B[1;33m\u001B[0m\u001B[1;33m\u001B[0m\u001B[0m\n\u001B[0m",
      "\u001B[1;31mNameError\u001B[0m: name 'jina' is not defined"
     ]
    }
   ],
   "source": [
    "def show():\n",
    "    jina = \"kb\"\n",
    "    print(\"Inside - Your name is:\", jina)\n",
    "show()\n",
    "\n",
    "print(\"Outside - Your name is:\", jina)"
   ]
  },
  {
   "cell_type": "markdown",
   "id": "8130f90e",
   "metadata": {
    "pycharm": {
     "name": "#%% md\n"
    }
   },
   "source": [
    "#### Lambda Functions in Python\n",
    "Anonymous functions(anonymous because they are defined without a name) are also called lambda functions in Python because instead of declaring\n",
    "them with the standard def keyword, you use the lambda keyword.\n",
    "\n",
    "In the code below, x is the argument and, x * 2 is the expression or instance that gets evaluated and returned.\n",
    "\n",
    "\n",
    "    - defined using keyword 'lambda'\n",
    "    - return an expression and not a value\n",
    "    - one-line function\n",
    "    - take many number of arguments\n",
    "    - cannot access a global variable \n",
    "    - since functions are objects, they can be assigned to a variable. \n",
    "\n",
    "syntax: lambda arguments : expression\n",
    "    "
   ]
  },
  {
   "cell_type": "code",
   "execution_count": 60,
   "id": "23881ca6",
   "metadata": {
    "pycharm": {
     "name": "#%%\n"
    }
   },
   "outputs": [
    {
     "data": {
      "text/plain": [
       "20"
      ]
     },
     "execution_count": 60,
     "metadata": {},
     "output_type": "execute_result"
    }
   ],
   "source": [
    "# For example the single line function below can be written as a lambda function\n",
    "\n",
    "def double(n):\n",
    "    return n*2\n",
    "\n",
    "double(10)"
   ]
  },
  {
   "cell_type": "code",
   "execution_count": 57,
   "id": "77c10c1b",
   "metadata": {
    "pycharm": {
     "name": "#%%\n"
    }
   },
   "outputs": [
    {
     "data": {
      "text/plain": [
       "20"
      ]
     },
     "execution_count": 57,
     "metadata": {},
     "output_type": "execute_result"
    }
   ],
   "source": [
    "double = lambda n: n*2 # n in this case is the function parameter while n*2 is the return value\n",
    "\n",
    "double(10)"
   ]
  },
  {
   "cell_type": "code",
   "execution_count": 58,
   "id": "7be16933",
   "metadata": {
    "pycharm": {
     "name": "#%%\n"
    }
   },
   "outputs": [
    {
     "data": {
      "text/plain": [
       "20"
      ]
     },
     "execution_count": 58,
     "metadata": {},
     "output_type": "execute_result"
    }
   ],
   "source": [
    "#You can pass multiple parameters/arguments while using lambda functions just like the normal functions\n",
    "#But they can only have one expression\n",
    "multiply = lambda x,y : x*y\n",
    "\n",
    "multiply(10,2)"
   ]
  },
  {
   "cell_type": "code",
   "execution_count": 59,
   "id": "bdadd482",
   "metadata": {
    "pycharm": {
     "name": "#%%\n"
    }
   },
   "outputs": [
    {
     "data": {
      "text/plain": [
       "5"
      ]
     },
     "execution_count": 59,
     "metadata": {},
     "output_type": "execute_result"
    }
   ],
   "source": [
    "larger = lambda a,b : a if a>b else b\n",
    "\n",
    "larger(5,3)"
   ]
  },
  {
   "cell_type": "code",
   "execution_count": 60,
   "id": "d8ccbd6a",
   "metadata": {
    "pycharm": {
     "name": "#%%\n"
    }
   },
   "outputs": [
    {
     "data": {
      "text/plain": [
       "49"
      ]
     },
     "execution_count": 60,
     "metadata": {},
     "output_type": "execute_result"
    }
   ],
   "source": [
    "sq = lambda x : x**2\n",
    "\n",
    "sq(7)"
   ]
  },
  {
   "cell_type": "markdown",
   "id": "9ffc8ca5",
   "metadata": {
    "pycharm": {
     "name": "#%% md\n"
    }
   },
   "source": [
    "## Write a simple function to print a message:"
   ]
  },
  {
   "cell_type": "code",
   "execution_count": 1,
   "id": "9bbf33eb",
   "metadata": {
    "pycharm": {
     "name": "#%%\n"
    }
   },
   "outputs": [],
   "source": [
    "def print_message():\n",
    "    print(\"Hello, World!\")\n"
   ]
  },
  {
   "cell_type": "code",
   "execution_count": 2,
   "id": "a93001d0",
   "metadata": {
    "pycharm": {
     "name": "#%%\n"
    }
   },
   "outputs": [
    {
     "name": "stdout",
     "output_type": "stream",
     "text": [
      "Hello, World!\n"
     ]
    }
   ],
   "source": [
    "print_message()"
   ]
  },
  {
   "cell_type": "markdown",
   "id": "74d40ad9",
   "metadata": {
    "pycharm": {
     "name": "#%% md\n"
    }
   },
   "source": [
    "## Write a simple function to add two numbers"
   ]
  },
  {
   "cell_type": "code",
   "execution_count": 3,
   "id": "1c44e837",
   "metadata": {
    "pycharm": {
     "name": "#%%\n"
    }
   },
   "outputs": [],
   "source": [
    "def add_numbers(x, y):\n",
    "    return x + y\n"
   ]
  },
  {
   "cell_type": "code",
   "execution_count": 4,
   "id": "ae27fa94",
   "metadata": {
    "pycharm": {
     "name": "#%%\n"
    }
   },
   "outputs": [
    {
     "data": {
      "text/plain": [
       "12"
      ]
     },
     "execution_count": 4,
     "metadata": {},
     "output_type": "execute_result"
    }
   ],
   "source": [
    "add_numbers(5,7)"
   ]
  },
  {
   "cell_type": "markdown",
   "id": "eac4d788",
   "metadata": {
    "pycharm": {
     "name": "#%% md\n"
    }
   },
   "source": [
    "## Write a Python function to find the maximum of three numbers"
   ]
  },
  {
   "cell_type": "code",
   "execution_count": 6,
   "id": "86d91bd9",
   "metadata": {
    "pycharm": {
     "name": "#%%\n"
    }
   },
   "outputs": [],
   "source": [
    "def find_maximum(num1, num2, num3):\n",
    "    if num1 >= num2 and num1 >= num3:\n",
    "        return num1\n",
    "    elif num2 >= num1 and num2 >= num3:\n",
    "        return num2\n",
    "    else:\n",
    "        return num3\n"
   ]
  },
  {
   "cell_type": "code",
   "execution_count": 7,
   "id": "101fb850",
   "metadata": {
    "pycharm": {
     "name": "#%%\n"
    }
   },
   "outputs": [
    {
     "data": {
      "text/plain": [
       "10"
      ]
     },
     "execution_count": 7,
     "metadata": {},
     "output_type": "execute_result"
    }
   ],
   "source": [
    "find_maximum(3,10,9)"
   ]
  },
  {
   "cell_type": "markdown",
   "id": "9ee224e6",
   "metadata": {
    "pycharm": {
     "name": "#%% md\n"
    }
   },
   "source": [
    "## Write a Python program to reverse a string."
   ]
  },
  {
   "cell_type": "code",
   "execution_count": 8,
   "id": "f5c93432",
   "metadata": {
    "pycharm": {
     "name": "#%%\n"
    }
   },
   "outputs": [],
   "source": [
    "def reverse_string(string):\n",
    "    return string[::-1]\n"
   ]
  },
  {
   "cell_type": "code",
   "execution_count": 9,
   "id": "a9c8de27",
   "metadata": {
    "pycharm": {
     "name": "#%%\n"
    }
   },
   "outputs": [
    {
     "data": {
      "text/plain": [
       "'olleH'"
      ]
     },
     "execution_count": 9,
     "metadata": {},
     "output_type": "execute_result"
    }
   ],
   "source": [
    "reverse_string(\"Hello\")"
   ]
  },
  {
   "cell_type": "code",
   "execution_count": null,
   "id": "4ee05cd7",
   "metadata": {
    "pycharm": {
     "name": "#%%\n"
    }
   },
   "outputs": [],
   "source": []
  }
 ],
 "metadata": {
  "kernelspec": {
   "display_name": "Python 3 (ipykernel)",
   "language": "python",
   "name": "python3"
  },
  "language_info": {
   "codemirror_mode": {
    "name": "ipython",
    "version": 3
   },
   "file_extension": ".py",
   "mimetype": "text/x-python",
   "name": "python",
   "nbconvert_exporter": "python",
   "pygments_lexer": "ipython3",
   "version": "3.7.6"
  }
 },
 "nbformat": 4,
 "nbformat_minor": 5
}